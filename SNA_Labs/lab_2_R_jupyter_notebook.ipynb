{
 "cells": [
  {
   "cell_type": "markdown",
   "metadata": {},
   "source": [
    "## LAB 2"
   ]
  },
  {
   "cell_type": "markdown",
   "metadata": {},
   "source": [
    "*This R script is partially based on the 'LAB 4: Centrality' from  \n",
    "the Social Network Analysis course at Stanford University\n",
    "(available at: https://sna.stanford.edu/lab.php?l=4)*"
   ]
  },
  {
   "cell_type": "markdown",
   "metadata": {},
   "source": [
    "The objective of this lab is to introduce graph centrality \n",
    "measures, to examine how they are interrelated, and to learn \n",
    "how to interpret their meaning"
   ]
  },
  {
   "cell_type": "markdown",
   "metadata": {},
   "source": [
    "### 1. SET UP THE WORKSPACE"
   ]
  },
  {
   "cell_type": "markdown",
   "metadata": {},
   "source": [
    "Install and load the required libraries"
   ]
  },
  {
   "cell_type": "code",
   "execution_count": 2,
   "metadata": {},
   "outputs": [],
   "source": [
    "# install.packages('igraph')\n",
    "library(igraph)"
   ]
  },
  {
   "cell_type": "code",
   "execution_count": 4,
   "metadata": {},
   "outputs": [],
   "source": [
    "# install.packages('ggplot2')\n",
    "library(ggplot2)"
   ]
  },
  {
   "cell_type": "code",
   "execution_count": 6,
   "metadata": {},
   "outputs": [],
   "source": [
    "#install.packages('viridis')\n",
    "library(viridis)"
   ]
  },
  {
   "cell_type": "markdown",
   "metadata": {},
   "source": [
    "Note: a package providing access to professionally created\n",
    "colour palettes: https://github.com/sjmgarnier/viridis"
   ]
  },
  {
   "cell_type": "code",
   "execution_count": 8,
   "metadata": {},
   "outputs": [],
   "source": [
    "#install.packages('tidyr')\n",
    "library(tidyr)"
   ]
  },
  {
   "cell_type": "markdown",
   "metadata": {},
   "source": [
    "Note: we will need tidyr for some tasks \n",
    "associated with manipulating data frames"
   ]
  },
  {
   "cell_type": "code",
   "execution_count": 10,
   "metadata": {},
   "outputs": [],
   "source": [
    "# install.packages('magrittr')\n",
    "library(magrittr)"
   ]
  },
  {
   "cell_type": "markdown",
   "metadata": {},
   "source": [
    "another new package that allows us to write a sequence of \n",
    "functions to be applied as a pipeline (using the 'pipe' notation: %>%).\n",
    "This makes the code more readable"
   ]
  },
  {
   "cell_type": "markdown",
   "metadata": {},
   "source": [
    "Load the data, that is, the networks we created in Lab 1"
   ]
  },
  {
   "cell_type": "markdown",
   "metadata": {},
   "source": [
    "Set the data directory with respect to the current \n",
    "working directory"
   ]
  },
  {
   "cell_type": "code",
   "execution_count": 11,
   "metadata": {},
   "outputs": [
    {
     "data": {
      "text/html": [
       "'C:/Users/Korisnik/Desktop/social network analysis RDN/SNA 2020/SNA2020-main/SNA_Labs'"
      ],
      "text/latex": [
       "'C:/Users/Korisnik/Desktop/social network analysis RDN/SNA 2020/SNA2020-main/SNA\\_Labs'"
      ],
      "text/markdown": [
       "'C:/Users/Korisnik/Desktop/social network analysis RDN/SNA 2020/SNA2020-main/SNA_Labs'"
      ],
      "text/plain": [
       "[1] \"C:/Users/Korisnik/Desktop/social network analysis RDN/SNA 2020/SNA2020-main/SNA_Labs\""
      ]
     },
     "metadata": {},
     "output_type": "display_data"
    }
   ],
   "source": [
    "getwd()\n",
    "#data_dir = \"SNA_Labs/output/lab1/\"\n",
    "data_dir = \"output/lab1/\" #as this notebook is already in the SNA_Labs folder"
   ]
  },
  {
   "cell_type": "code",
   "execution_count": 12,
   "metadata": {},
   "outputs": [
    {
     "name": "stdout",
     "output_type": "stream",
     "text": [
      "IGRAPH d21e7ed DN-- 21 190 -- \n",
      "+ attr: AGE (v/n), TENURE (v/n), LEVEL (v/n), DEPT (v/n), name (v/n)\n"
     ]
    }
   ],
   "source": [
    "krack_advice <- readRDS(paste0(data_dir, \"krack_advice.RData\"))\n",
    "summary(krack_advice)"
   ]
  },
  {
   "cell_type": "code",
   "execution_count": 13,
   "metadata": {},
   "outputs": [
    {
     "name": "stdout",
     "output_type": "stream",
     "text": [
      "IGRAPH d26c906 DN-- 21 102 -- \n",
      "+ attr: AGE (v/n), TENURE (v/n), LEVEL (v/n), DEPT (v/n), name (v/n)\n"
     ]
    }
   ],
   "source": [
    "krack_friendship <- readRDS(paste0(data_dir, \"krack_friendship.RData\"))\n",
    "summary(krack_friendship)"
   ]
  },
  {
   "cell_type": "code",
   "execution_count": 14,
   "metadata": {},
   "outputs": [
    {
     "name": "stdout",
     "output_type": "stream",
     "text": [
      "IGRAPH d27c3d1 DN-- 21 20 -- \n",
      "+ attr: AGE (v/n), TENURE (v/n), LEVEL (v/n), DEPT (v/n), name (v/n)\n"
     ]
    }
   ],
   "source": [
    "krack_reports_to <- readRDS(paste0(data_dir, \"krack_reports_to.RData\"))\n",
    "summary(krack_reports_to)"
   ]
  },
  {
   "cell_type": "markdown",
   "metadata": {},
   "source": [
    "### 2. NODE-LEVEL STATISTICS: CENTRALITY MEASURES"
   ]
  },
  {
   "cell_type": "markdown",
   "metadata": {},
   "source": [
    "#### 2.1 Degree centrality"
   ]
  },
  {
   "cell_type": "markdown",
   "metadata": {},
   "source": [
    "Compute in-degree and out-degree for each node, \n",
    "first in the advice network"
   ]
  },
  {
   "cell_type": "code",
   "execution_count": 15,
   "metadata": {},
   "outputs": [],
   "source": [
    "?degree"
   ]
  },
  {
   "cell_type": "code",
   "execution_count": 16,
   "metadata": {},
   "outputs": [
    {
     "data": {
      "text/html": [
       "<dl class=dl-horizontal>\n",
       "\t<dt>1</dt>\n",
       "\t\t<dd>13</dd>\n",
       "\t<dt>2</dt>\n",
       "\t\t<dd>18</dd>\n",
       "\t<dt>3</dt>\n",
       "\t\t<dd>5</dd>\n",
       "\t<dt>4</dt>\n",
       "\t\t<dd>8</dd>\n",
       "\t<dt>5</dt>\n",
       "\t\t<dd>5</dd>\n",
       "\t<dt>6</dt>\n",
       "\t\t<dd>10</dd>\n",
       "\t<dt>7</dt>\n",
       "\t\t<dd>13</dd>\n",
       "\t<dt>8</dt>\n",
       "\t\t<dd>10</dd>\n",
       "\t<dt>9</dt>\n",
       "\t\t<dd>4</dd>\n",
       "\t<dt>10</dt>\n",
       "\t\t<dd>9</dd>\n",
       "\t<dt>11</dt>\n",
       "\t\t<dd>11</dd>\n",
       "\t<dt>12</dt>\n",
       "\t\t<dd>7</dd>\n",
       "\t<dt>13</dt>\n",
       "\t\t<dd>4</dd>\n",
       "\t<dt>14</dt>\n",
       "\t\t<dd>10</dd>\n",
       "\t<dt>15</dt>\n",
       "\t\t<dd>4</dd>\n",
       "\t<dt>16</dt>\n",
       "\t\t<dd>8</dd>\n",
       "\t<dt>17</dt>\n",
       "\t\t<dd>9</dd>\n",
       "\t<dt>18</dt>\n",
       "\t\t<dd>15</dd>\n",
       "\t<dt>19</dt>\n",
       "\t\t<dd>4</dd>\n",
       "\t<dt>20</dt>\n",
       "\t\t<dd>8</dd>\n",
       "\t<dt>21</dt>\n",
       "\t\t<dd>15</dd>\n",
       "</dl>\n"
      ],
      "text/latex": [
       "\\begin{description*}\n",
       "\\item[1] 13\n",
       "\\item[2] 18\n",
       "\\item[3] 5\n",
       "\\item[4] 8\n",
       "\\item[5] 5\n",
       "\\item[6] 10\n",
       "\\item[7] 13\n",
       "\\item[8] 10\n",
       "\\item[9] 4\n",
       "\\item[10] 9\n",
       "\\item[11] 11\n",
       "\\item[12] 7\n",
       "\\item[13] 4\n",
       "\\item[14] 10\n",
       "\\item[15] 4\n",
       "\\item[16] 8\n",
       "\\item[17] 9\n",
       "\\item[18] 15\n",
       "\\item[19] 4\n",
       "\\item[20] 8\n",
       "\\item[21] 15\n",
       "\\end{description*}\n"
      ],
      "text/markdown": [
       "1\n",
       ":   132\n",
       ":   183\n",
       ":   54\n",
       ":   85\n",
       ":   56\n",
       ":   107\n",
       ":   138\n",
       ":   109\n",
       ":   410\n",
       ":   911\n",
       ":   1112\n",
       ":   713\n",
       ":   414\n",
       ":   1015\n",
       ":   416\n",
       ":   817\n",
       ":   918\n",
       ":   1519\n",
       ":   420\n",
       ":   821\n",
       ":   15\n",
       "\n"
      ],
      "text/plain": [
       " 1  2  3  4  5  6  7  8  9 10 11 12 13 14 15 16 17 18 19 20 21 \n",
       "13 18  5  8  5 10 13 10  4  9 11  7  4 10  4  8  9 15  4  8 15 "
      ]
     },
     "metadata": {},
     "output_type": "display_data"
    },
    {
     "data": {
      "text/plain": [
       "advice_deg_in\n",
       " 4  5  7  8  9 10 11 13 15 18 \n",
       " 4  2  1  3  2  3  1  2  2  1 "
      ]
     },
     "metadata": {},
     "output_type": "display_data"
    }
   ],
   "source": [
    "advice_deg_in <- degree(krack_advice, mode=\"in\") \n",
    "advice_deg_in\n",
    "table(advice_deg_in)"
   ]
  },
  {
   "cell_type": "markdown",
   "metadata": {},
   "source": [
    "Note: \n",
    "whenever you want to compare a metric across networks (of different sizes),\n",
    "that metric should be normalised (by setting normalized = TRUE), to account\n",
    "for the difference in the network sizes."
   ]
  },
  {
   "cell_type": "code",
   "execution_count": 17,
   "metadata": {},
   "outputs": [
    {
     "data": {
      "text/html": [
       "<dl class=dl-horizontal>\n",
       "\t<dt>1</dt>\n",
       "\t\t<dd>6</dd>\n",
       "\t<dt>2</dt>\n",
       "\t\t<dd>3</dd>\n",
       "\t<dt>3</dt>\n",
       "\t\t<dd>15</dd>\n",
       "\t<dt>4</dt>\n",
       "\t\t<dd>12</dd>\n",
       "\t<dt>5</dt>\n",
       "\t\t<dd>15</dd>\n",
       "\t<dt>6</dt>\n",
       "\t\t<dd>1</dd>\n",
       "\t<dt>7</dt>\n",
       "\t\t<dd>8</dd>\n",
       "\t<dt>8</dt>\n",
       "\t\t<dd>8</dd>\n",
       "\t<dt>9</dt>\n",
       "\t\t<dd>13</dd>\n",
       "\t<dt>10</dt>\n",
       "\t\t<dd>14</dd>\n",
       "\t<dt>11</dt>\n",
       "\t\t<dd>3</dd>\n",
       "\t<dt>12</dt>\n",
       "\t\t<dd>2</dd>\n",
       "\t<dt>13</dt>\n",
       "\t\t<dd>6</dd>\n",
       "\t<dt>14</dt>\n",
       "\t\t<dd>4</dd>\n",
       "\t<dt>15</dt>\n",
       "\t\t<dd>20</dd>\n",
       "\t<dt>16</dt>\n",
       "\t\t<dd>4</dd>\n",
       "\t<dt>17</dt>\n",
       "\t\t<dd>5</dd>\n",
       "\t<dt>18</dt>\n",
       "\t\t<dd>17</dd>\n",
       "\t<dt>19</dt>\n",
       "\t\t<dd>11</dd>\n",
       "\t<dt>20</dt>\n",
       "\t\t<dd>12</dd>\n",
       "\t<dt>21</dt>\n",
       "\t\t<dd>11</dd>\n",
       "</dl>\n"
      ],
      "text/latex": [
       "\\begin{description*}\n",
       "\\item[1] 6\n",
       "\\item[2] 3\n",
       "\\item[3] 15\n",
       "\\item[4] 12\n",
       "\\item[5] 15\n",
       "\\item[6] 1\n",
       "\\item[7] 8\n",
       "\\item[8] 8\n",
       "\\item[9] 13\n",
       "\\item[10] 14\n",
       "\\item[11] 3\n",
       "\\item[12] 2\n",
       "\\item[13] 6\n",
       "\\item[14] 4\n",
       "\\item[15] 20\n",
       "\\item[16] 4\n",
       "\\item[17] 5\n",
       "\\item[18] 17\n",
       "\\item[19] 11\n",
       "\\item[20] 12\n",
       "\\item[21] 11\n",
       "\\end{description*}\n"
      ],
      "text/markdown": [
       "1\n",
       ":   62\n",
       ":   33\n",
       ":   154\n",
       ":   125\n",
       ":   156\n",
       ":   17\n",
       ":   88\n",
       ":   89\n",
       ":   1310\n",
       ":   1411\n",
       ":   312\n",
       ":   213\n",
       ":   614\n",
       ":   415\n",
       ":   2016\n",
       ":   417\n",
       ":   518\n",
       ":   1719\n",
       ":   1120\n",
       ":   1221\n",
       ":   11\n",
       "\n"
      ],
      "text/plain": [
       " 1  2  3  4  5  6  7  8  9 10 11 12 13 14 15 16 17 18 19 20 21 \n",
       " 6  3 15 12 15  1  8  8 13 14  3  2  6  4 20  4  5 17 11 12 11 "
      ]
     },
     "metadata": {},
     "output_type": "display_data"
    },
    {
     "data": {
      "text/plain": [
       "advice_deg_out\n",
       " 1  2  3  4  5  6  8 11 12 13 14 15 17 20 \n",
       " 1  1  2  2  1  2  2  2  2  1  1  2  1  1 "
      ]
     },
     "metadata": {},
     "output_type": "display_data"
    }
   ],
   "source": [
    "advice_deg_out <- degree(krack_advice, mode=\"out\") \n",
    "advice_deg_out\n",
    "table(advice_deg_out)"
   ]
  },
  {
   "cell_type": "markdown",
   "metadata": {},
   "source": [
    "To better appreciate the computed values, we will visualise them"
   ]
  },
  {
   "cell_type": "markdown",
   "metadata": {},
   "source": [
    "First, create a data frame that integrates the computed \n",
    "in and out degree measures for all the nodes"
   ]
  },
  {
   "cell_type": "code",
   "execution_count": 18,
   "metadata": {
    "scrolled": true
   },
   "outputs": [
    {
     "data": {
      "text/html": [
       "<table>\n",
       "<thead><tr><th scope=col>node_id</th><th scope=col>in_degree</th><th scope=col>out_degree</th></tr></thead>\n",
       "<tbody>\n",
       "\t<tr><td>1 </td><td>13</td><td> 6</td></tr>\n",
       "\t<tr><td>2 </td><td>18</td><td> 3</td></tr>\n",
       "\t<tr><td>3 </td><td> 5</td><td>15</td></tr>\n",
       "\t<tr><td>4 </td><td> 8</td><td>12</td></tr>\n",
       "\t<tr><td>5 </td><td> 5</td><td>15</td></tr>\n",
       "\t<tr><td>6 </td><td>10</td><td> 1</td></tr>\n",
       "</tbody>\n",
       "</table>\n"
      ],
      "text/latex": [
       "\\begin{tabular}{r|lll}\n",
       " node\\_id & in\\_degree & out\\_degree\\\\\n",
       "\\hline\n",
       "\t 1  & 13 &  6\\\\\n",
       "\t 2  & 18 &  3\\\\\n",
       "\t 3  &  5 & 15\\\\\n",
       "\t 4  &  8 & 12\\\\\n",
       "\t 5  &  5 & 15\\\\\n",
       "\t 6  & 10 &  1\\\\\n",
       "\\end{tabular}\n"
      ],
      "text/markdown": [
       "\n",
       "| node_id | in_degree | out_degree |\n",
       "|---|---|---|\n",
       "| 1  | 13 |  6 |\n",
       "| 2  | 18 |  3 |\n",
       "| 3  |  5 | 15 |\n",
       "| 4  |  8 | 12 |\n",
       "| 5  |  5 | 15 |\n",
       "| 6  | 10 |  1 |\n",
       "\n"
      ],
      "text/plain": [
       "  node_id in_degree out_degree\n",
       "1 1       13         6        \n",
       "2 2       18         3        \n",
       "3 3        5        15        \n",
       "4 4        8        12        \n",
       "5 5        5        15        \n",
       "6 6       10         1        "
      ]
     },
     "metadata": {},
     "output_type": "display_data"
    }
   ],
   "source": [
    "deg_advice_df <- data.frame(node_id=V(krack_advice)$name, \n",
    "                            in_degree=advice_deg_in,\n",
    "                            out_degree=advice_deg_out)\n",
    "head(deg_advice_df)"
   ]
  },
  {
   "cell_type": "markdown",
   "metadata": {},
   "source": [
    "Then, transform the data frame from wide to long format suitable\n",
    "for plotting; to that end, we'll use the pivot_longer() f. from \n",
    "the tidyr package"
   ]
  },
  {
   "cell_type": "code",
   "execution_count": 19,
   "metadata": {},
   "outputs": [],
   "source": [
    "?pivot_longer"
   ]
  },
  {
   "cell_type": "code",
   "execution_count": 20,
   "metadata": {},
   "outputs": [
    {
     "data": {
      "text/html": [
       "<table>\n",
       "<thead><tr><th scope=col>node_id</th><th scope=col>degree_type</th><th scope=col>degree_value</th></tr></thead>\n",
       "<tbody>\n",
       "\t<tr><td>1         </td><td>in_degree </td><td>13        </td></tr>\n",
       "\t<tr><td>1         </td><td>out_degree</td><td> 6        </td></tr>\n",
       "\t<tr><td>2         </td><td>in_degree </td><td>18        </td></tr>\n",
       "\t<tr><td>2         </td><td>out_degree</td><td> 3        </td></tr>\n",
       "\t<tr><td>3         </td><td>in_degree </td><td> 5        </td></tr>\n",
       "\t<tr><td>3         </td><td>out_degree</td><td>15        </td></tr>\n",
       "</tbody>\n",
       "</table>\n"
      ],
      "text/latex": [
       "\\begin{tabular}{r|lll}\n",
       " node\\_id & degree\\_type & degree\\_value\\\\\n",
       "\\hline\n",
       "\t 1            & in\\_degree  & 13          \\\\\n",
       "\t 1            & out\\_degree &  6          \\\\\n",
       "\t 2            & in\\_degree  & 18          \\\\\n",
       "\t 2            & out\\_degree &  3          \\\\\n",
       "\t 3            & in\\_degree  &  5          \\\\\n",
       "\t 3            & out\\_degree & 15          \\\\\n",
       "\\end{tabular}\n"
      ],
      "text/markdown": [
       "\n",
       "| node_id | degree_type | degree_value |\n",
       "|---|---|---|\n",
       "| 1          | in_degree  | 13         |\n",
       "| 1          | out_degree |  6         |\n",
       "| 2          | in_degree  | 18         |\n",
       "| 2          | out_degree |  3         |\n",
       "| 3          | in_degree  |  5         |\n",
       "| 3          | out_degree | 15         |\n",
       "\n"
      ],
      "text/plain": [
       "  node_id degree_type degree_value\n",
       "1 1       in_degree   13          \n",
       "2 1       out_degree   6          \n",
       "3 2       in_degree   18          \n",
       "4 2       out_degree   3          \n",
       "5 3       in_degree    5          \n",
       "6 3       out_degree  15          "
      ]
     },
     "metadata": {},
     "output_type": "display_data"
    },
    {
     "data": {
      "text/html": [
       "<table>\n",
       "<thead><tr><th scope=col>node_id</th><th scope=col>degree_type</th><th scope=col>degree_value</th></tr></thead>\n",
       "<tbody>\n",
       "\t<tr><td>19        </td><td>in_degree </td><td> 4        </td></tr>\n",
       "\t<tr><td>19        </td><td>out_degree</td><td>11        </td></tr>\n",
       "\t<tr><td>20        </td><td>in_degree </td><td> 8        </td></tr>\n",
       "\t<tr><td>20        </td><td>out_degree</td><td>12        </td></tr>\n",
       "\t<tr><td>21        </td><td>in_degree </td><td>15        </td></tr>\n",
       "\t<tr><td>21        </td><td>out_degree</td><td>11        </td></tr>\n",
       "</tbody>\n",
       "</table>\n"
      ],
      "text/latex": [
       "\\begin{tabular}{r|lll}\n",
       " node\\_id & degree\\_type & degree\\_value\\\\\n",
       "\\hline\n",
       "\t 19           & in\\_degree  &  4          \\\\\n",
       "\t 19           & out\\_degree & 11          \\\\\n",
       "\t 20           & in\\_degree  &  8          \\\\\n",
       "\t 20           & out\\_degree & 12          \\\\\n",
       "\t 21           & in\\_degree  & 15          \\\\\n",
       "\t 21           & out\\_degree & 11          \\\\\n",
       "\\end{tabular}\n"
      ],
      "text/markdown": [
       "\n",
       "| node_id | degree_type | degree_value |\n",
       "|---|---|---|\n",
       "| 19         | in_degree  |  4         |\n",
       "| 19         | out_degree | 11         |\n",
       "| 20         | in_degree  |  8         |\n",
       "| 20         | out_degree | 12         |\n",
       "| 21         | in_degree  | 15         |\n",
       "| 21         | out_degree | 11         |\n",
       "\n"
      ],
      "text/plain": [
       "  node_id degree_type degree_value\n",
       "1 19      in_degree    4          \n",
       "2 19      out_degree  11          \n",
       "3 20      in_degree    8          \n",
       "4 20      out_degree  12          \n",
       "5 21      in_degree   15          \n",
       "6 21      out_degree  11          "
      ]
     },
     "metadata": {},
     "output_type": "display_data"
    }
   ],
   "source": [
    "deg_advice_df_long <- pivot_longer(data = deg_advice_df, \n",
    "                                 cols = in_degree:out_degree,\n",
    "                                 names_to = 'degree_type', \n",
    "                                 names_ptypes = list(degree_type = factor()),\n",
    "                                 values_to = 'degree_value')\n",
    "head(deg_advice_df_long)\n",
    "tail(deg_advice_df_long)"
   ]
  },
  {
   "cell_type": "markdown",
   "metadata": {},
   "source": [
    "Finally, create a bar plot to visualise actors' degree values "
   ]
  },
  {
   "cell_type": "code",
   "execution_count": 21,
   "metadata": {},
   "outputs": [
    {
     "data": {
      "image/png": "[encoded data removed]",
      "text/plain": [
       "plot without title"
      ]
     },
     "metadata": {},
     "output_type": "display_data"
    }
   ],
   "source": [
    "ggplot(data = deg_advice_df_long, \n",
    "       mapping = aes(x=node_id, y=degree_value, fill=degree_type)) +\n",
    "  geom_col(position = position_dodge()) +\n",
    "  labs(x = \"Node ID\", y = \"In- and Out-Degrees\") +\n",
    "  scale_fill_viridis(name = \"Degree type\",\n",
    "                     labels = c(\"In-degree\", \"Out-degree\"),\n",
    "                     discrete = TRUE) +\n",
    "  scale_x_continuous(breaks = seq(0,21,1)) +\n",
    "  theme_minimal()"
   ]
  },
  {
   "cell_type": "markdown",
   "metadata": {},
   "source": [
    "To examine degree distribution, we'll use a histogram"
   ]
  },
  {
   "cell_type": "code",
   "execution_count": 22,
   "metadata": {},
   "outputs": [],
   "source": [
    "max_degree <- max(deg_advice_df_long$degree_value)\n",
    "min_degree <- min(deg_advice_df_long$degree_value)"
   ]
  },
  {
   "cell_type": "code",
   "execution_count": 23,
   "metadata": {
    "scrolled": false
   },
   "outputs": [
    {
     "data": {
      "image/png": "[encoded data removed]",
      "text/plain": [
       "plot without title"
      ]
     },
     "metadata": {},
     "output_type": "display_data"
    }
   ],
   "source": [
    "ggplot(data = deg_advice_df_long, \n",
    "       mapping = aes(x = degree_value, fill = degree_type)) +\n",
    "  geom_histogram(binwidth = 2, \n",
    "                 position = position_identity(), \n",
    "                 alpha=0.75) +\n",
    "  labs(x = \"Degree value\", title = \"Degree distribution for the Advice network\") +\n",
    "  scale_fill_viridis(name = \"Degree type\",\n",
    "                     labels = c(\"In-degree\", \"Out-degree\"),\n",
    "                     discrete = TRUE) +\n",
    "  scale_x_continuous(breaks = seq(min_degree,max_degree,2)) +\n",
    "  scale_y_continuous(breaks = seq(0,6)) +\n",
    "  theme_minimal()"
   ]
  },
  {
   "cell_type": "markdown",
   "metadata": {},
   "source": [
    "Another way to visualise and interpret the computed metrics is to plot a\n",
    "network as a graph and scale nodes' size and color based on the computed\n",
    "in- and out-degree values. \n",
    "So, let's plot the advice network as a graph with in-degree determining the \n",
    "node color and out-degree represented through the node size."
   ]
  },
  {
   "cell_type": "markdown",
   "metadata": {},
   "source": [
    "To create a color palette based on the computed in-degree values, we will use \n",
    "the attr_based_color_gradient() function from the SNA_custom_functions R script"
   ]
  },
  {
   "cell_type": "code",
   "execution_count": 24,
   "metadata": {},
   "outputs": [],
   "source": [
    "#source('SNA_Labs/SNA_custom_functions.R')\n",
    "source('SNA_custom_functions.R') #as this notebook is already in the SNA_Labs folder"
   ]
  },
  {
   "cell_type": "markdown",
   "metadata": {},
   "source": [
    "The function creates a gradient color vector with as many color gradients as \n",
    "there are different values in the given attribute "
   ]
  },
  {
   "cell_type": "code",
   "execution_count": 26,
   "metadata": {},
   "outputs": [
    {
     "data": {
      "text/html": [
       "<ol class=list-inline>\n",
       "\t<li>'#A7567A'</li>\n",
       "\t<li>'#8305A7'</li>\n",
       "\t<li>'#F0F921'</li>\n",
       "\t<li>'#D7C23E'</li>\n",
       "\t<li>'#F0F921'</li>\n",
       "\t<li>'#BF8C5C'</li>\n",
       "\t<li>'#A7567A'</li>\n",
       "\t<li>'#BF8C5C'</li>\n",
       "\t<li>'#F0F921'</li>\n",
       "\t<li>'#CBA74D'</li>\n",
       "\t<li>'#BF8C5C'</li>\n",
       "\t<li>'#D7C23E'</li>\n",
       "\t<li>'#F0F921'</li>\n",
       "\t<li>'#BF8C5C'</li>\n",
       "\t<li>'#F0F921'</li>\n",
       "\t<li>'#D7C23E'</li>\n",
       "\t<li>'#CBA74D'</li>\n",
       "\t<li>'#9B3B89'</li>\n",
       "\t<li>'#F0F921'</li>\n",
       "\t<li>'#D7C23E'</li>\n",
       "\t<li>'#9B3B89'</li>\n",
       "</ol>\n"
      ],
      "text/latex": [
       "\\begin{enumerate*}\n",
       "\\item '\\#A7567A'\n",
       "\\item '\\#8305A7'\n",
       "\\item '\\#F0F921'\n",
       "\\item '\\#D7C23E'\n",
       "\\item '\\#F0F921'\n",
       "\\item '\\#BF8C5C'\n",
       "\\item '\\#A7567A'\n",
       "\\item '\\#BF8C5C'\n",
       "\\item '\\#F0F921'\n",
       "\\item '\\#CBA74D'\n",
       "\\item '\\#BF8C5C'\n",
       "\\item '\\#D7C23E'\n",
       "\\item '\\#F0F921'\n",
       "\\item '\\#BF8C5C'\n",
       "\\item '\\#F0F921'\n",
       "\\item '\\#D7C23E'\n",
       "\\item '\\#CBA74D'\n",
       "\\item '\\#9B3B89'\n",
       "\\item '\\#F0F921'\n",
       "\\item '\\#D7C23E'\n",
       "\\item '\\#9B3B89'\n",
       "\\end{enumerate*}\n"
      ],
      "text/markdown": [
       "1. '#A7567A'\n",
       "2. '#8305A7'\n",
       "3. '#F0F921'\n",
       "4. '#D7C23E'\n",
       "5. '#F0F921'\n",
       "6. '#BF8C5C'\n",
       "7. '#A7567A'\n",
       "8. '#BF8C5C'\n",
       "9. '#F0F921'\n",
       "10. '#CBA74D'\n",
       "11. '#BF8C5C'\n",
       "12. '#D7C23E'\n",
       "13. '#F0F921'\n",
       "14. '#BF8C5C'\n",
       "15. '#F0F921'\n",
       "16. '#D7C23E'\n",
       "17. '#CBA74D'\n",
       "18. '#9B3B89'\n",
       "19. '#F0F921'\n",
       "20. '#D7C23E'\n",
       "21. '#9B3B89'\n",
       "\n",
       "\n"
      ],
      "text/plain": [
       " [1] \"#A7567A\" \"#8305A7\" \"#F0F921\" \"#D7C23E\" \"#F0F921\" \"#BF8C5C\" \"#A7567A\"\n",
       " [8] \"#BF8C5C\" \"#F0F921\" \"#CBA74D\" \"#BF8C5C\" \"#D7C23E\" \"#F0F921\" \"#BF8C5C\"\n",
       "[15] \"#F0F921\" \"#D7C23E\" \"#CBA74D\" \"#9B3B89\" \"#F0F921\" \"#D7C23E\" \"#9B3B89\""
      ]
     },
     "metadata": {},
     "output_type": "display_data"
    }
   ],
   "source": [
    "viridis_pal_ends = c('#F0F921FF', '#8305A7FF')\n",
    "in_degree_colors = attr_based_color_gradient(g_attr = deg_advice_df$in_degree,\n",
    "                                             pal_end_points = viridis_pal_ends)\n",
    "in_degree_colors"
   ]
  },
  {
   "cell_type": "markdown",
   "metadata": {},
   "source": [
    "Note: \n",
    "to select colors using the viridis and similar colour blind safe pallets, \n",
    "consult this post:\n",
    "https://www.thinkingondata.com/something-about-viridis-library/\n",
    "or use this R Colors cheatsheet:\n",
    "https://www.nceas.ucsb.edu/~frazier/RSpatialGuides/colorPaletteCheatsheet.pdf "
   ]
  },
  {
   "cell_type": "markdown",
   "metadata": {},
   "source": [
    "Now, we can make a graph plot as we did in Lab 1"
   ]
  },
  {
   "cell_type": "code",
   "execution_count": 27,
   "metadata": {},
   "outputs": [
    {
     "data": {
      "image/png": "[encoded data removed]",
      "text/plain": [
       "Plot with title \"Advice network\""
      ]
     },
     "metadata": {},
     "output_type": "display_data"
    }
   ],
   "source": [
    "plot(krack_advice, \n",
    "     layout=layout_with_kk(krack_advice), \n",
    "     vertex.color = in_degree_colors, \n",
    "     vertex.size = deg_advice_df$out_degree * 1.5,\n",
    "     vertex.label.cex\t= deg_advice_df$out_degree * 0.15,\n",
    "     edge.arrow.size = 0.3,\n",
    "     main=\"Advice network\",\n",
    "     sub=\"Node color denotes in-degree (lighter color smaller value),\\n size denotes out-degree\")"
   ]
  },
  {
   "cell_type": "markdown",
   "metadata": {},
   "source": [
    "##### TASK 1:\n",
    "\n",
    "Compute in-degree and out-degree for the nodes in the other two networks \n",
    "(friendship and reports-to) and visualise the computed values (as done above).\n",
    "Also, create visualizations for the degree distribution for those two networks. \n",
    "Compare the degree distribution of the three networks: advice, friendship and \n",
    "reports-to. Note down your observations.\n"
   ]
  },
  {
   "cell_type": "markdown",
   "metadata": {},
   "source": [
    "#### 2.2 Closeness centrality "
   ]
  },
  {
   "cell_type": "markdown",
   "metadata": {},
   "source": [
    "We'll start with an undirected network, as it is somewhat easier to deal with\n",
    "when it comes to the closeness centrality.\n",
    "Let's consider the friendship network and transform it into an undirected network.\n",
    "But before doing so, we'll add strength attribute (equal to 1) to each edge, so that\n",
    "after the transformation into undirected network we can differentiate between \n",
    "reciprocal ties (their strength will be 2) and one-way ties (strength will remain 1)"
   ]
  },
  {
   "cell_type": "code",
   "execution_count": 28,
   "metadata": {},
   "outputs": [
    {
     "name": "stdout",
     "output_type": "stream",
     "text": [
      "IGRAPH d26c906 DN-- 21 102 -- \n",
      "+ attr: AGE (v/n), TENURE (v/n), LEVEL (v/n), DEPT (v/n), name (v/n),\n",
      "| strength (e/n)\n"
     ]
    }
   ],
   "source": [
    "E(krack_friendship)$strength <- 1\n",
    "summary(krack_friendship)\n",
    "krack_friendship_undirect <- as.undirected(krack_friendship, \n",
    "                                           mode = \"collapse\",\n",
    "                                           edge.attr.comb = list(strength='sum'))"
   ]
  },
  {
   "cell_type": "markdown",
   "metadata": {},
   "source": [
    "Note that we are summing edge weights - see the documentation for attribute combination\n",
    "for more options"
   ]
  },
  {
   "cell_type": "code",
   "execution_count": 29,
   "metadata": {},
   "outputs": [
    {
     "name": "stdout",
     "output_type": "stream",
     "text": [
      "IGRAPH 1faf8cb UN-- 21 79 -- \n",
      "+ attr: AGE (v/n), TENURE (v/n), LEVEL (v/n), DEPT (v/n), name (v/n),\n",
      "| strength (e/n)\n"
     ]
    },
    {
     "data": {
      "text/plain": [
       "\n",
       " 1  2 \n",
       "56 23 "
      ]
     },
     "metadata": {},
     "output_type": "display_data"
    }
   ],
   "source": [
    "summary(krack_friendship_undirect)\n",
    "table(E(krack_friendship_undirect)$strength)"
   ]
  },
  {
   "cell_type": "markdown",
   "metadata": {},
   "source": [
    "Before computing closeness, let's check if the network is connected.\n",
    "A network is connected if there is a path between any pair of nodes\n",
    "in the network."
   ]
  },
  {
   "cell_type": "code",
   "execution_count": 30,
   "metadata": {
    "scrolled": true
   },
   "outputs": [
    {
     "data": {
      "text/html": [
       "TRUE"
      ],
      "text/latex": [
       "TRUE"
      ],
      "text/markdown": [
       "TRUE"
      ],
      "text/plain": [
       "[1] TRUE"
      ]
     },
     "metadata": {},
     "output_type": "display_data"
    }
   ],
   "source": [
    "is_connected(krack_friendship_undirect)"
   ]
  },
  {
   "cell_type": "code",
   "execution_count": 31,
   "metadata": {},
   "outputs": [],
   "source": [
    "?closeness"
   ]
  },
  {
   "cell_type": "code",
   "execution_count": 32,
   "metadata": {},
   "outputs": [
    {
     "data": {
      "text/plain": [
       "   Min. 1st Qu.  Median    Mean 3rd Qu.    Max. \n",
       "0.02439 0.02857 0.02941 0.03089 0.03226 0.04545 "
      ]
     },
     "metadata": {},
     "output_type": "display_data"
    }
   ],
   "source": [
    "closeness_friend_undirect <- closeness(krack_friendship_undirect)\n",
    "summary(closeness_friend_undirect)"
   ]
  },
  {
   "cell_type": "markdown",
   "metadata": {},
   "source": [
    "We can also include edge attributes (weights) in the calculation of closeness.\n",
    "It is important to note that edge \"weights are used for calculating weighted \n",
    "shortest paths, so they are interpreted as distances\".\n",
    "In our case higher edge weights mean stronger relations, that is, lower distance. \n",
    "So, to appropriately calculate weighted closeness, we should to take \n",
    "reciprocal value of the 'strength' attribute:"
   ]
  },
  {
   "cell_type": "code",
   "execution_count": 33,
   "metadata": {},
   "outputs": [
    {
     "data": {
      "text/plain": [
       "   Min. 1st Qu.  Median    Mean 3rd Qu.    Max. \n",
       "0.02857 0.03279 0.04000 0.03817 0.04255 0.05714 "
      ]
     },
     "metadata": {},
     "output_type": "display_data"
    }
   ],
   "source": [
    "cl_weighted_friend_undirect <- closeness(krack_friendship_undirect, \n",
    "                                         weights = 1/E(krack_friendship_undirect)$strength)\n",
    "summary(cl_weighted_friend_undirect)"
   ]
  },
  {
   "cell_type": "markdown",
   "metadata": {},
   "source": [
    "To better appreciate the computed metrics, let's visualise them.\n",
    "In particular, let's plot a graph with closeness determining the node color \n",
    "and degree represented through the node size.\n",
    "First, create color palettes"
   ]
  },
  {
   "cell_type": "code",
   "execution_count": 34,
   "metadata": {},
   "outputs": [],
   "source": [
    "closeness_colors = attr_based_color_gradient(g_attr = closeness_friend_undirect, \n",
    "                                             pal_end_points = viridis_pal_ends)\n",
    "cl_weighted_colors = attr_based_color_gradient(g_attr = cl_weighted_friend_undirect, \n",
    "                                             pal_end_points = viridis_pal_ends)"
   ]
  },
  {
   "cell_type": "code",
   "execution_count": 35,
   "metadata": {},
   "outputs": [
    {
     "data": {
      "image/png": "[encoded data removed]",
      "text/plain": [
       "Plot with title \"Uniderected friendship network\""
      ]
     },
     "metadata": {},
     "output_type": "display_data"
    }
   ],
   "source": [
    "# Now, make a plot\n",
    "plot(krack_friendship_undirect, \n",
    "     layout=layout_nicely(krack_friendship_undirect), \n",
    "     vertex.color = closeness_colors, #cl_weighted_colors,\n",
    "     vertex.size = 1.5 * degree(krack_friendship_undirect),\n",
    "     vertex.label.cex\t= 0.15 * degree(krack_friendship_undirect),\n",
    "     main=\"Uniderected friendship network\",\n",
    "     sub=\"Node colour denotes closeness (lighter colour, lower closeness),\\n size denotes degree\")"
   ]
  },
  {
   "cell_type": "markdown",
   "metadata": {},
   "source": [
    "Now, we move (go back) to directed network and compute in-closeness and \n",
    "out-closeness centrality.\n",
    "You can think of in-closeness centrality as the average number of steps \n",
    "one would have to make to get TO a given node FROM all other reachable\n",
    "nodes in the network. Out-closeness centrality, not surprisingly, \n",
    "measures the same thing with the directionality reversed: the average\n",
    "number of steps FROM the given node TO any other reachable node in the \n",
    "network."
   ]
  },
  {
   "cell_type": "markdown",
   "metadata": {},
   "source": [
    "First, check if the network is connected.\n",
    "Note: in directed networks, we need to differentiate between two modes\n",
    "of connectedness: 'weak' and 'strong'. The 'weak' form does not consider\n",
    "edge direction, whereas the 'strong' mode does consider the direction of\n",
    "edges "
   ]
  },
  {
   "cell_type": "code",
   "execution_count": 36,
   "metadata": {},
   "outputs": [
    {
     "data": {
      "text/html": [
       "FALSE"
      ],
      "text/latex": [
       "FALSE"
      ],
      "text/markdown": [
       "FALSE"
      ],
      "text/plain": [
       "[1] FALSE"
      ]
     },
     "metadata": {},
     "output_type": "display_data"
    }
   ],
   "source": [
    "is.connected(krack_friendship, mode='strong')"
   ]
  },
  {
   "cell_type": "markdown",
   "metadata": {},
   "source": [
    "not connected -> cannot compute true closeness values\n",
    "We will find the giant component (= the largest connected component in the graph)\n",
    "and compute closeness on this (sub)graph "
   ]
  },
  {
   "cell_type": "code",
   "execution_count": 37,
   "metadata": {},
   "outputs": [
    {
     "name": "stdout",
     "output_type": "stream",
     "text": [
      "List of 3\n",
      " $ membership: Named num [1:21] 1 1 1 1 1 1 3 1 2 1 ...\n",
      "  ..- attr(*, \"names\")= chr [1:21] \"1\" \"2\" \"3\" \"4\" ...\n",
      " $ csize     : num [1:3] 19 1 1\n",
      " $ no        : int 3\n"
     ]
    },
    {
     "data": {
      "text/html": [
       "<dl class=dl-horizontal>\n",
       "\t<dt>1</dt>\n",
       "\t\t<dd>1</dd>\n",
       "\t<dt>2</dt>\n",
       "\t\t<dd>1</dd>\n",
       "\t<dt>3</dt>\n",
       "\t\t<dd>1</dd>\n",
       "\t<dt>4</dt>\n",
       "\t\t<dd>1</dd>\n",
       "\t<dt>5</dt>\n",
       "\t\t<dd>1</dd>\n",
       "\t<dt>6</dt>\n",
       "\t\t<dd>1</dd>\n",
       "\t<dt>7</dt>\n",
       "\t\t<dd>3</dd>\n",
       "\t<dt>8</dt>\n",
       "\t\t<dd>1</dd>\n",
       "\t<dt>9</dt>\n",
       "\t\t<dd>2</dd>\n",
       "\t<dt>10</dt>\n",
       "\t\t<dd>1</dd>\n",
       "\t<dt>11</dt>\n",
       "\t\t<dd>1</dd>\n",
       "\t<dt>12</dt>\n",
       "\t\t<dd>1</dd>\n",
       "\t<dt>13</dt>\n",
       "\t\t<dd>1</dd>\n",
       "\t<dt>14</dt>\n",
       "\t\t<dd>1</dd>\n",
       "\t<dt>15</dt>\n",
       "\t\t<dd>1</dd>\n",
       "\t<dt>16</dt>\n",
       "\t\t<dd>1</dd>\n",
       "\t<dt>17</dt>\n",
       "\t\t<dd>1</dd>\n",
       "\t<dt>18</dt>\n",
       "\t\t<dd>1</dd>\n",
       "\t<dt>19</dt>\n",
       "\t\t<dd>1</dd>\n",
       "\t<dt>20</dt>\n",
       "\t\t<dd>1</dd>\n",
       "\t<dt>21</dt>\n",
       "\t\t<dd>1</dd>\n",
       "</dl>\n"
      ],
      "text/latex": [
       "\\begin{description*}\n",
       "\\item[1] 1\n",
       "\\item[2] 1\n",
       "\\item[3] 1\n",
       "\\item[4] 1\n",
       "\\item[5] 1\n",
       "\\item[6] 1\n",
       "\\item[7] 3\n",
       "\\item[8] 1\n",
       "\\item[9] 2\n",
       "\\item[10] 1\n",
       "\\item[11] 1\n",
       "\\item[12] 1\n",
       "\\item[13] 1\n",
       "\\item[14] 1\n",
       "\\item[15] 1\n",
       "\\item[16] 1\n",
       "\\item[17] 1\n",
       "\\item[18] 1\n",
       "\\item[19] 1\n",
       "\\item[20] 1\n",
       "\\item[21] 1\n",
       "\\end{description*}\n"
      ],
      "text/markdown": [
       "1\n",
       ":   12\n",
       ":   13\n",
       ":   14\n",
       ":   15\n",
       ":   16\n",
       ":   17\n",
       ":   38\n",
       ":   19\n",
       ":   210\n",
       ":   111\n",
       ":   112\n",
       ":   113\n",
       ":   114\n",
       ":   115\n",
       ":   116\n",
       ":   117\n",
       ":   118\n",
       ":   119\n",
       ":   120\n",
       ":   121\n",
       ":   1\n",
       "\n"
      ],
      "text/plain": [
       " 1  2  3  4  5  6  7  8  9 10 11 12 13 14 15 16 17 18 19 20 21 \n",
       " 1  1  1  1  1  1  3  1  2  1  1  1  1  1  1  1  1  1  1  1  1 "
      ]
     },
     "metadata": {},
     "output_type": "display_data"
    }
   ],
   "source": [
    "fr_components <- components(krack_friendship, mode = 'strong')\n",
    "str(fr_components)\n",
    "fr_components$membership"
   ]
  },
  {
   "cell_type": "markdown",
   "metadata": {},
   "source": [
    "Observe components (and their members) by plotting the graph "
   ]
  },
  {
   "cell_type": "code",
   "execution_count": 38,
   "metadata": {},
   "outputs": [
    {
     "data": {
      "image/png": "[encoded data removed]",
      "text/plain": [
       "Plot with title \"\""
      ]
     },
     "metadata": {},
     "output_type": "display_data"
    }
   ],
   "source": [
    "plot(krack_friendship, \n",
    "     layout=layout_nicely(krack_friendship), \n",
    "     vertex.color = fr_components$membership,\n",
    "     edge.arrow.size = 0.3,\n",
    "     palette=viridis(n=3, direction = -1))"
   ]
  },
  {
   "cell_type": "markdown",
   "metadata": {},
   "source": [
    "two nodes outside the giant component; get ids of those nodes"
   ]
  },
  {
   "cell_type": "code",
   "execution_count": 39,
   "metadata": {},
   "outputs": [],
   "source": [
    "not_in_gc <- which(fr_components$membership != 1)"
   ]
  },
  {
   "cell_type": "markdown",
   "metadata": {},
   "source": [
    "create the giant component by removing these two nodes"
   ]
  },
  {
   "cell_type": "code",
   "execution_count": 40,
   "metadata": {},
   "outputs": [
    {
     "name": "stdout",
     "output_type": "stream",
     "text": [
      "IGRAPH 288d572 DN-- 19 93 -- \n",
      "+ attr: AGE (v/n), TENURE (v/n), LEVEL (v/n), DEPT (v/n), name (v/n),\n",
      "| strength (e/n)\n"
     ]
    },
    {
     "data": {
      "text/html": [
       "TRUE"
      ],
      "text/latex": [
       "TRUE"
      ],
      "text/markdown": [
       "TRUE"
      ],
      "text/plain": [
       "[1] TRUE"
      ]
     },
     "metadata": {},
     "output_type": "display_data"
    }
   ],
   "source": [
    "friendship_gc <- delete.vertices(krack_friendship, not_in_gc)\n",
    "summary(friendship_gc)\n",
    "is.connected(friendship_gc, mode='strong')"
   ]
  },
  {
   "cell_type": "markdown",
   "metadata": {},
   "source": [
    "Now that we have a connected friendship (sub)graph, we can compute in- and\n",
    "out-closeness"
   ]
  },
  {
   "cell_type": "code",
   "execution_count": 41,
   "metadata": {},
   "outputs": [
    {
     "name": "stdout",
     "output_type": "stream",
     "text": [
      "'data.frame':\t19 obs. of  3 variables:\n",
      " $ node_id: int  1 2 3 4 5 6 8 10 11 12 ...\n",
      " $ in_cl  : num  0.0357 0.037 0.0263 0.0294 0.027 ...\n",
      " $ out_cl : num  0.0238 0.0227 0.0227 0.0323 0.0333 ...\n"
     ]
    }
   ],
   "source": [
    "friendship_closeness = data.frame(node_id=V(friendship_gc)$name,\n",
    "                                  in_cl=closeness(friendship_gc, mode = 'in'),\n",
    "                                  out_cl=closeness(friendship_gc, mode = 'out'))\n",
    "str(friendship_closeness)"
   ]
  },
  {
   "cell_type": "markdown",
   "metadata": {},
   "source": [
    "Let's visualise these measures using node and label size to represent in-closeness,\n",
    "and node color to represent out-closeness"
   ]
  },
  {
   "cell_type": "code",
   "execution_count": 42,
   "metadata": {},
   "outputs": [
    {
     "data": {
      "image/png": "[encoded data removed]",
      "text/plain": [
       "Plot with title \"Giant component of the Friendship network\""
      ]
     },
     "metadata": {},
     "output_type": "display_data"
    }
   ],
   "source": [
    "out_closeness_colors = attr_based_color_gradient(friendship_closeness$out_cl, \n",
    "                                                 viridis_pal_ends)\n",
    "plot(friendship_gc, \n",
    "     layout=layout_nicely(friendship_gc), \n",
    "     vertex.color=out_closeness_colors, \n",
    "     vertex.size=friendship_closeness$in_cl*700, # in-closeness is multiplied by 700 since in-closeness values are very small \n",
    "     vertex.label.cex=friendship_closeness$in_cl*50, \n",
    "     edge.arrow.size=.30,\n",
    "     main=\"Giant component of the Friendship network\",\n",
    "     sub=\"Node color denotes out-closeness (lighter colour, smaller values),\\n size denotes in-closeness\")"
   ]
  },
  {
   "cell_type": "markdown",
   "metadata": {},
   "source": [
    "It seems that those with high in-closeness have low to moderate out-closeness and vice versa;\n",
    "We will check that later by computing correlations of centrality measures."
   ]
  },
  {
   "cell_type": "markdown",
   "metadata": {},
   "source": [
    "##### TASK 2:  \n",
    "\n",
    "Do the same kinds of computations and visualizations for the advice network\n",
    "and compare them to the results obtained for the friendship network. \n",
    "Note down your observations.\n"
   ]
  },
  {
   "cell_type": "markdown",
   "metadata": {},
   "source": [
    "#### 2.3 Betweenness centrality"
   ]
  },
  {
   "cell_type": "markdown",
   "metadata": {},
   "source": [
    "Betweenness centrality measures the number of shortest paths \n",
    "between node pairs that go through a specific vertex."
   ]
  },
  {
   "cell_type": "code",
   "execution_count": 43,
   "metadata": {},
   "outputs": [],
   "source": [
    "?betweenness"
   ]
  },
  {
   "cell_type": "code",
   "execution_count": 44,
   "metadata": {},
   "outputs": [
    {
     "data": {
      "text/plain": [
       "   Min. 1st Qu.  Median    Mean 3rd Qu.    Max. \n",
       "  0.000   0.700   5.583  19.952  29.067 134.433 "
      ]
     },
     "metadata": {},
     "output_type": "display_data"
    },
    {
     "data": {
      "text/html": [
       "<dl class=dl-horizontal>\n",
       "\t<dt>90%</dt>\n",
       "\t\t<dd>33.9166666666667</dd>\n",
       "\t<dt>92.5%</dt>\n",
       "\t\t<dd>46.1833333333333</dd>\n",
       "\t<dt>95%</dt>\n",
       "\t\t<dd>58.45</dd>\n",
       "\t<dt>97.5%</dt>\n",
       "\t\t<dd>96.4416666666667</dd>\n",
       "\t<dt>100%</dt>\n",
       "\t\t<dd>134.433333333333</dd>\n",
       "</dl>\n"
      ],
      "text/latex": [
       "\\begin{description*}\n",
       "\\item[90\\textbackslash{}\\%] 33.9166666666667\n",
       "\\item[92.5\\textbackslash{}\\%] 46.1833333333333\n",
       "\\item[95\\textbackslash{}\\%] 58.45\n",
       "\\item[97.5\\textbackslash{}\\%] 96.4416666666667\n",
       "\\item[100\\textbackslash{}\\%] 134.433333333333\n",
       "\\end{description*}\n"
      ],
      "text/markdown": [
       "90%\n",
       ":   33.916666666666792.5%\n",
       ":   46.183333333333395%\n",
       ":   58.4597.5%\n",
       ":   96.4416666666667100%\n",
       ":   134.433333333333\n",
       "\n"
      ],
      "text/plain": [
       "      90%     92.5%       95%     97.5%      100% \n",
       " 33.91667  46.18333  58.45000  96.44167 134.43333 "
      ]
     },
     "metadata": {},
     "output_type": "display_data"
    }
   ],
   "source": [
    "summary(betweenness(krack_friendship))\n",
    "quantile(betweenness(krack_friendship), probs = seq(0.9,1,0.025))"
   ]
  },
  {
   "cell_type": "markdown",
   "metadata": {},
   "source": [
    "Compute betweenness for all the networks and store them in a data frame"
   ]
  },
  {
   "cell_type": "code",
   "execution_count": 45,
   "metadata": {},
   "outputs": [
    {
     "data": {
      "text/html": [
       "<table>\n",
       "<thead><tr><th scope=col>node_id</th><th scope=col>advice</th><th scope=col>friendship</th><th scope=col>reports_to</th></tr></thead>\n",
       "<tbody>\n",
       "\t<tr><td> 1        </td><td>13.7468254</td><td> 29.066667</td><td>0         </td></tr>\n",
       "\t<tr><td> 2        </td><td> 5.9357143</td><td> 33.483333</td><td>3         </td></tr>\n",
       "\t<tr><td> 3        </td><td> 6.6047619</td><td>  1.900000</td><td>0         </td></tr>\n",
       "\t<tr><td> 4        </td><td>13.7087302</td><td> 31.666667</td><td>0         </td></tr>\n",
       "\t<tr><td> 5        </td><td> 5.0785714</td><td> 17.416667</td><td>0         </td></tr>\n",
       "\t<tr><td> 6        </td><td> 0.0000000</td><td>  3.733333</td><td>0         </td></tr>\n",
       "\t<tr><td> 7        </td><td>27.6246032</td><td>  0.000000</td><td>0         </td></tr>\n",
       "\t<tr><td> 8        </td><td> 3.9746032</td><td>  0.500000</td><td>0         </td></tr>\n",
       "\t<tr><td> 9        </td><td> 3.9539683</td><td>  0.000000</td><td>0         </td></tr>\n",
       "\t<tr><td>10        </td><td>18.2968254</td><td>  0.000000</td><td>0         </td></tr>\n",
       "\t<tr><td>11        </td><td> 1.1984127</td><td> 58.450000</td><td>0         </td></tr>\n",
       "\t<tr><td>12        </td><td> 0.2539683</td><td> 19.658333</td><td>0         </td></tr>\n",
       "\t<tr><td>13        </td><td> 0.8928571</td><td>  0.000000</td><td>0         </td></tr>\n",
       "\t<tr><td>14        </td><td> 0.5888889</td><td>  5.583333</td><td>7         </td></tr>\n",
       "\t<tr><td>15        </td><td> 6.1325397</td><td> 22.566667</td><td>0         </td></tr>\n",
       "\t<tr><td>16        </td><td> 0.7000000</td><td>  1.000000</td><td>0         </td></tr>\n",
       "\t<tr><td>17        </td><td> 2.5317460</td><td>134.433333</td><td>0         </td></tr>\n",
       "\t<tr><td>18        </td><td>88.9166667</td><td>  0.700000</td><td>2         </td></tr>\n",
       "\t<tr><td>19        </td><td> 0.7539683</td><td> 21.883333</td><td>0         </td></tr>\n",
       "\t<tr><td>20        </td><td> 7.9793651</td><td>  3.041667</td><td>0         </td></tr>\n",
       "\t<tr><td>21        </td><td>60.1269841</td><td> 33.916667</td><td>4         </td></tr>\n",
       "</tbody>\n",
       "</table>\n"
      ],
      "text/latex": [
       "\\begin{tabular}{r|llll}\n",
       " node\\_id & advice & friendship & reports\\_to\\\\\n",
       "\\hline\n",
       "\t  1         & 13.7468254 &  29.066667 & 0         \\\\\n",
       "\t  2         &  5.9357143 &  33.483333 & 3         \\\\\n",
       "\t  3         &  6.6047619 &   1.900000 & 0         \\\\\n",
       "\t  4         & 13.7087302 &  31.666667 & 0         \\\\\n",
       "\t  5         &  5.0785714 &  17.416667 & 0         \\\\\n",
       "\t  6         &  0.0000000 &   3.733333 & 0         \\\\\n",
       "\t  7         & 27.6246032 &   0.000000 & 0         \\\\\n",
       "\t  8         &  3.9746032 &   0.500000 & 0         \\\\\n",
       "\t  9         &  3.9539683 &   0.000000 & 0         \\\\\n",
       "\t 10         & 18.2968254 &   0.000000 & 0         \\\\\n",
       "\t 11         &  1.1984127 &  58.450000 & 0         \\\\\n",
       "\t 12         &  0.2539683 &  19.658333 & 0         \\\\\n",
       "\t 13         &  0.8928571 &   0.000000 & 0         \\\\\n",
       "\t 14         &  0.5888889 &   5.583333 & 7         \\\\\n",
       "\t 15         &  6.1325397 &  22.566667 & 0         \\\\\n",
       "\t 16         &  0.7000000 &   1.000000 & 0         \\\\\n",
       "\t 17         &  2.5317460 & 134.433333 & 0         \\\\\n",
       "\t 18         & 88.9166667 &   0.700000 & 2         \\\\\n",
       "\t 19         &  0.7539683 &  21.883333 & 0         \\\\\n",
       "\t 20         &  7.9793651 &   3.041667 & 0         \\\\\n",
       "\t 21         & 60.1269841 &  33.916667 & 4         \\\\\n",
       "\\end{tabular}\n"
      ],
      "text/markdown": [
       "\n",
       "| node_id | advice | friendship | reports_to |\n",
       "|---|---|---|---|\n",
       "|  1         | 13.7468254 |  29.066667 | 0          |\n",
       "|  2         |  5.9357143 |  33.483333 | 3          |\n",
       "|  3         |  6.6047619 |   1.900000 | 0          |\n",
       "|  4         | 13.7087302 |  31.666667 | 0          |\n",
       "|  5         |  5.0785714 |  17.416667 | 0          |\n",
       "|  6         |  0.0000000 |   3.733333 | 0          |\n",
       "|  7         | 27.6246032 |   0.000000 | 0          |\n",
       "|  8         |  3.9746032 |   0.500000 | 0          |\n",
       "|  9         |  3.9539683 |   0.000000 | 0          |\n",
       "| 10         | 18.2968254 |   0.000000 | 0          |\n",
       "| 11         |  1.1984127 |  58.450000 | 0          |\n",
       "| 12         |  0.2539683 |  19.658333 | 0          |\n",
       "| 13         |  0.8928571 |   0.000000 | 0          |\n",
       "| 14         |  0.5888889 |   5.583333 | 7          |\n",
       "| 15         |  6.1325397 |  22.566667 | 0          |\n",
       "| 16         |  0.7000000 |   1.000000 | 0          |\n",
       "| 17         |  2.5317460 | 134.433333 | 0          |\n",
       "| 18         | 88.9166667 |   0.700000 | 2          |\n",
       "| 19         |  0.7539683 |  21.883333 | 0          |\n",
       "| 20         |  7.9793651 |   3.041667 | 0          |\n",
       "| 21         | 60.1269841 |  33.916667 | 4          |\n",
       "\n"
      ],
      "text/plain": [
       "   node_id advice     friendship reports_to\n",
       "1   1      13.7468254  29.066667 0         \n",
       "2   2       5.9357143  33.483333 3         \n",
       "3   3       6.6047619   1.900000 0         \n",
       "4   4      13.7087302  31.666667 0         \n",
       "5   5       5.0785714  17.416667 0         \n",
       "6   6       0.0000000   3.733333 0         \n",
       "7   7      27.6246032   0.000000 0         \n",
       "8   8       3.9746032   0.500000 0         \n",
       "9   9       3.9539683   0.000000 0         \n",
       "10 10      18.2968254   0.000000 0         \n",
       "11 11       1.1984127  58.450000 0         \n",
       "12 12       0.2539683  19.658333 0         \n",
       "13 13       0.8928571   0.000000 0         \n",
       "14 14       0.5888889   5.583333 7         \n",
       "15 15       6.1325397  22.566667 0         \n",
       "16 16       0.7000000   1.000000 0         \n",
       "17 17       2.5317460 134.433333 0         \n",
       "18 18      88.9166667   0.700000 2         \n",
       "19 19       0.7539683  21.883333 0         \n",
       "20 20       7.9793651   3.041667 0         \n",
       "21 21      60.1269841  33.916667 4         "
      ]
     },
     "metadata": {},
     "output_type": "display_data"
    }
   ],
   "source": [
    "krack_betweenness_df <- data.frame(node_id=V(krack_advice)$name,\n",
    "                                  advice=betweenness(krack_advice),\n",
    "                                  friendship=betweenness(krack_friendship),\n",
    "                                  reports_to=betweenness(krack_reports_to))\n",
    "krack_betweenness_df"
   ]
  },
  {
   "cell_type": "markdown",
   "metadata": {},
   "source": [
    "Identify the node with the highest betweenness in the advice network:"
   ]
  },
  {
   "cell_type": "code",
   "execution_count": 46,
   "metadata": {},
   "outputs": [
    {
     "data": {
      "text/html": [
       "88.9166666666667"
      ],
      "text/latex": [
       "88.9166666666667"
      ],
      "text/markdown": [
       "88.9166666666667"
      ],
      "text/plain": [
       "[1] 88.91667"
      ]
     },
     "metadata": {},
     "output_type": "display_data"
    },
    {
     "data": {
      "text/html": [
       "18"
      ],
      "text/latex": [
       "18"
      ],
      "text/markdown": [
       "18"
      ],
      "text/plain": [
       "[1] 18"
      ]
     },
     "metadata": {},
     "output_type": "display_data"
    }
   ],
   "source": [
    "max(krack_betweenness_df$advice)\n",
    "which(krack_betweenness_df$advice == max(krack_betweenness_df$advice))"
   ]
  },
  {
   "cell_type": "markdown",
   "metadata": {},
   "source": [
    "Identify nodes with the highest betweenness in each network:"
   ]
  },
  {
   "cell_type": "code",
   "execution_count": 47,
   "metadata": {},
   "outputs": [
    {
     "data": {
      "text/html": [
       "<dl class=dl-horizontal>\n",
       "\t<dt>advice</dt>\n",
       "\t\t<dd>18</dd>\n",
       "\t<dt>friendship</dt>\n",
       "\t\t<dd>17</dd>\n",
       "\t<dt>reports_to</dt>\n",
       "\t\t<dd>14</dd>\n",
       "</dl>\n"
      ],
      "text/latex": [
       "\\begin{description*}\n",
       "\\item[advice] 18\n",
       "\\item[friendship] 17\n",
       "\\item[reports\\textbackslash{}\\_to] 14\n",
       "\\end{description*}\n"
      ],
      "text/markdown": [
       "advice\n",
       ":   18friendship\n",
       ":   17reports_to\n",
       ":   14\n",
       "\n"
      ],
      "text/plain": [
       "    advice friendship reports_to \n",
       "        18         17         14 "
      ]
     },
     "metadata": {},
     "output_type": "display_data"
    }
   ],
   "source": [
    "apply(krack_betweenness_df[,-1], 2, function(x) which(x==max(x)))"
   ]
  },
  {
   "cell_type": "markdown",
   "metadata": {},
   "source": [
    "Interestingly, no overlap across the networks"
   ]
  },
  {
   "cell_type": "markdown",
   "metadata": {},
   "source": [
    "Let's visualise betwennees across the networks"
   ]
  },
  {
   "cell_type": "markdown",
   "metadata": {},
   "source": [
    "First, transform the data frame from wide to long format"
   ]
  },
  {
   "cell_type": "code",
   "execution_count": 48,
   "metadata": {},
   "outputs": [
    {
     "data": {
      "text/html": [
       "<table>\n",
       "<thead><tr><th scope=col>node_id</th><th scope=col>tie_type</th><th scope=col>betweenness</th></tr></thead>\n",
       "<tbody>\n",
       "\t<tr><td>1         </td><td>advice    </td><td>13.746825 </td></tr>\n",
       "\t<tr><td>1         </td><td>friendship</td><td>29.066667 </td></tr>\n",
       "\t<tr><td>1         </td><td>reports_to</td><td> 0.000000 </td></tr>\n",
       "\t<tr><td>2         </td><td>advice    </td><td> 5.935714 </td></tr>\n",
       "\t<tr><td>2         </td><td>friendship</td><td>33.483333 </td></tr>\n",
       "\t<tr><td>2         </td><td>reports_to</td><td> 3.000000 </td></tr>\n",
       "</tbody>\n",
       "</table>\n"
      ],
      "text/latex": [
       "\\begin{tabular}{r|lll}\n",
       " node\\_id & tie\\_type & betweenness\\\\\n",
       "\\hline\n",
       "\t 1          & advice     & 13.746825 \\\\\n",
       "\t 1          & friendship & 29.066667 \\\\\n",
       "\t 1            & reports\\_to &  0.000000   \\\\\n",
       "\t 2          & advice     &  5.935714 \\\\\n",
       "\t 2          & friendship & 33.483333 \\\\\n",
       "\t 2            & reports\\_to &  3.000000   \\\\\n",
       "\\end{tabular}\n"
      ],
      "text/markdown": [
       "\n",
       "| node_id | tie_type | betweenness |\n",
       "|---|---|---|\n",
       "| 1          | advice     | 13.746825  |\n",
       "| 1          | friendship | 29.066667  |\n",
       "| 1          | reports_to |  0.000000  |\n",
       "| 2          | advice     |  5.935714  |\n",
       "| 2          | friendship | 33.483333  |\n",
       "| 2          | reports_to |  3.000000  |\n",
       "\n"
      ],
      "text/plain": [
       "  node_id tie_type   betweenness\n",
       "1 1       advice     13.746825  \n",
       "2 1       friendship 29.066667  \n",
       "3 1       reports_to  0.000000  \n",
       "4 2       advice      5.935714  \n",
       "5 2       friendship 33.483333  \n",
       "6 2       reports_to  3.000000  "
      ]
     },
     "metadata": {},
     "output_type": "display_data"
    }
   ],
   "source": [
    "krack_betweenness_long <- pivot_longer(data = krack_betweenness_df,\n",
    "                                       cols = 2:4,\n",
    "                                       names_to = \"tie_type\",\n",
    "                                       names_ptypes = list(tie_type=factor()),\n",
    "                                       values_to = \"betweenness\")\n",
    "head(krack_betweenness_long)"
   ]
  },
  {
   "cell_type": "markdown",
   "metadata": {},
   "source": [
    "Then, make a bar plot showing for each actor their betweenness value in each \n",
    "of the 3 networks"
   ]
  },
  {
   "cell_type": "code",
   "execution_count": 49,
   "metadata": {},
   "outputs": [
    {
     "data": {
      "image/png": "[encoded data removed]",
      "text/plain": [
       "plot without title"
      ]
     },
     "metadata": {},
     "output_type": "display_data"
    }
   ],
   "source": [
    "ggplot(data = krack_betweenness_long,\n",
    "       mapping = aes(x = node_id, y = betweenness, fill = tie_type)) +\n",
    "  geom_col(position = position_dodge()) +\n",
    "  labs(x = \"Node ID\", y = \"Betweenness\") +\n",
    "  scale_fill_viridis(name = \"Tie type\", discrete = TRUE) +\n",
    "  scale_x_continuous(breaks = 1:21) +\n",
    "  theme_minimal() + \n",
    "  coord_flip()"
   ]
  },
  {
   "cell_type": "markdown",
   "metadata": {},
   "source": [
    "We can also examine the distribution of betweenness values across the 3 networks"
   ]
  },
  {
   "cell_type": "code",
   "execution_count": 50,
   "metadata": {},
   "outputs": [
    {
     "data": {
      "image/png": "[encoded data removed]",
      "text/plain": [
       "plot without title"
      ]
     },
     "metadata": {},
     "output_type": "display_data"
    }
   ],
   "source": [
    "ggplot(data = krack_betweenness_long,\n",
    "       mapping = aes(x = betweenness, fill = tie_type)) +\n",
    "  #    mapping = aes(x = log(betweenness + 1), fill = tie_type)) + # log based scalling for more meaningful visualisation \n",
    "  # geom_histogram(position = position_identity(), binwidth = 10) +\n",
    "  geom_density() + # density function offers a better insight (compared to histogram) into the distribution\n",
    "  scale_fill_viridis(name=\"Tie type\", discrete = TRUE, alpha=0.55) +\n",
    "  labs(x = \"Betweenness\", title = \"Distribution of betweenness centrality across the 3 networks\") +\n",
    "  theme_minimal()"
   ]
  },
  {
   "cell_type": "markdown",
   "metadata": {},
   "source": [
    "##### TASK 3:  \n",
    "\n",
    "Visualize the three networks (advice, friendship, and reports-to) by\n",
    "plotting them as graphs where the node color represents betweenness \n",
    "whereas the node size represents in-degree (try also in-closeness). \n"
   ]
  },
  {
   "cell_type": "markdown",
   "metadata": {},
   "source": [
    "#### 2.4 Eigen vector centrality"
   ]
  },
  {
   "cell_type": "markdown",
   "metadata": {},
   "source": [
    "Eigen vector centrality gives higher scores to nodes the more they \n",
    "are connected to other highly connected nodes. It reflects the notion\n",
    "that it is not important how many connections one has, but how important\n",
    "one's connections are. Hence, it is often interpreted as a measure of \n",
    "a node's network importance."
   ]
  },
  {
   "cell_type": "code",
   "execution_count": 51,
   "metadata": {},
   "outputs": [],
   "source": [
    "?eigen_centrality"
   ]
  },
  {
   "cell_type": "markdown",
   "metadata": {},
   "source": [
    "Let's compute Eigenvector centrality for the friendship network"
   ]
  },
  {
   "cell_type": "code",
   "execution_count": 52,
   "metadata": {},
   "outputs": [
    {
     "name": "stdout",
     "output_type": "stream",
     "text": [
      "List of 3\n",
      " $ vector : Named num [1:21] 0.922 1 0.379 0.639 0.396 ...\n",
      "  ..- attr(*, \"names\")= chr [1:21] \"1\" \"2\" \"3\" \"4\" ...\n",
      " $ value  : num 5.05\n",
      " $ options:List of 20\n",
      "  ..$ bmat   : chr \"I\"\n",
      "  ..$ n      : int 21\n",
      "  ..$ which  : chr \"LR\"\n",
      "  ..$ nev    : int 1\n",
      "  ..$ tol    : num 0\n",
      "  ..$ ncv    : int 0\n",
      "  ..$ ldv    : int 0\n",
      "  ..$ ishift : int 1\n",
      "  ..$ maxiter: int 1000\n",
      "  ..$ nb     : int 1\n",
      "  ..$ mode   : int 1\n",
      "  ..$ start  : int 1\n",
      "  ..$ sigma  : num 0\n",
      "  ..$ sigmai : num 0\n",
      "  ..$ info   : int 0\n",
      "  ..$ iter   : int 4\n",
      "  ..$ nconv  : int 1\n",
      "  ..$ numop  : int 25\n",
      "  ..$ numopb : int 0\n",
      "  ..$ numreo : int 24\n"
     ]
    }
   ],
   "source": [
    "eigen_friend <- eigen_centrality(krack_friendship, directed = TRUE)\n",
    "str(eigen_friend)"
   ]
  },
  {
   "cell_type": "markdown",
   "metadata": {},
   "source": [
    "Note that we are only interested in the $vector element of the object\n",
    "returned by the eigen_centrality() function"
   ]
  },
  {
   "cell_type": "code",
   "execution_count": 53,
   "metadata": {},
   "outputs": [
    {
     "data": {
      "text/plain": [
       "   Min. 1st Qu.  Median    Mean 3rd Qu.    Max. \n",
       "0.08185 0.36802 0.42541 0.45716 0.58343 1.00000 "
      ]
     },
     "metadata": {},
     "output_type": "display_data"
    }
   ],
   "source": [
    "eigen_friend <- eigen_friend$vector\n",
    "summary(eigen_friend)"
   ]
  },
  {
   "cell_type": "markdown",
   "metadata": {},
   "source": [
    "We can also compute weighted Eigenvector centrality.\n",
    "We will compute this measure on undirected friendship network since\n",
    "it is a weighted network (the directed one does not have weights).\n",
    "Note that in this case, weights are interpreted as the reflection of the \n",
    "connection strength: \"higher weights spread the centrality better\"\n",
    "This is fully suitable for the friendship network."
   ]
  },
  {
   "cell_type": "code",
   "execution_count": 54,
   "metadata": {},
   "outputs": [
    {
     "data": {
      "text/plain": [
       "   Min. 1st Qu.  Median    Mean 3rd Qu.    Max. \n",
       " 0.1434  0.3157  0.3939  0.4717  0.6329  1.0000 "
      ]
     },
     "metadata": {},
     "output_type": "display_data"
    }
   ],
   "source": [
    "w_eigen_friend <- eigen_centrality(krack_friendship_undirect, \n",
    "                                    weights = E(krack_friendship_undirect)$strength)\n",
    "w_eigen_friend <- w_eigen_friend$vector\n",
    "summary(w_eigen_friend)"
   ]
  },
  {
   "cell_type": "markdown",
   "metadata": {},
   "source": [
    "Plot the friendship graph with eigenvector centrality represented \n",
    "through the nodes' color, and degree centrality through the nodes' size"
   ]
  },
  {
   "cell_type": "code",
   "execution_count": 55,
   "metadata": {},
   "outputs": [],
   "source": [
    "eigen_col = attr_based_color_gradient(eigen_friend, viridis_pal_ends)"
   ]
  },
  {
   "cell_type": "code",
   "execution_count": 56,
   "metadata": {},
   "outputs": [
    {
     "data": {
      "image/png": "[encoded data removed]",
      "text/plain": [
       "Plot with title \"Friendship network\""
      ]
     },
     "metadata": {},
     "output_type": "display_data"
    }
   ],
   "source": [
    "plot(krack_friendship, \n",
    "     layout=layout_with_kk(krack_friendship), \n",
    "     vertex.color=eigen_col, \n",
    "     vertex.size=degree(krack_friendship) * 1.5,\n",
    "     vertex.label.cex=degree(krack_friendship) * 0.115,\n",
    "     edge.arrow.size=0.3,\n",
    "     main=\"Friendship network\",\n",
    "     sub=\"Node colour denotes eigenvector centrality,\\n size reflects degree\")"
   ]
  },
  {
   "cell_type": "markdown",
   "metadata": {},
   "source": [
    "Note that actors with the highest number of connections (that is, highest degree)\n",
    "are not at the same time the most important according to Eigen vector centrality "
   ]
  },
  {
   "cell_type": "markdown",
   "metadata": {},
   "source": [
    "##### TASK 4:  \n",
    "\n",
    "Do the same kinds of computations and visualizations for the other two networks \n",
    "(advice and reports-to) and compare them to the results obtained for the \n",
    "friendship network. Note down your observations."
   ]
  },
  {
   "cell_type": "markdown",
   "metadata": {},
   "source": [
    "#### 2.5 Summary of centrality metrics"
   ]
  },
  {
   "cell_type": "markdown",
   "metadata": {},
   "source": [
    "We'll use the friendship network as an example to compare and contrast all \n",
    "examined centrality measures on one network.\n",
    "To that end, we'll first construct a data frame with the vertices as rows \n",
    "and the centrality scores as columns:"
   ]
  },
  {
   "cell_type": "code",
   "execution_count": 57,
   "metadata": {},
   "outputs": [],
   "source": [
    "friendship_centrality_all <- data.frame(node_id=V(krack_friendship)$name,\n",
    "                                        in_degree=degree(krack_friendship, mode = 'in'),\n",
    "                                        out_degree=degree(krack_friendship, mode = 'out'),\n",
    "                                        betweenness=krack_betweenness_df$friendship,\n",
    "                                        eigen=eigen_friend)"
   ]
  },
  {
   "cell_type": "code",
   "execution_count": 58,
   "metadata": {},
   "outputs": [
    {
     "data": {
      "text/html": [
       "<table>\n",
       "<thead><tr><th scope=col>node_id</th><th scope=col>in_degree</th><th scope=col>out_degree</th><th scope=col>betweenness</th><th scope=col>eigen</th></tr></thead>\n",
       "<tbody>\n",
       "\t<tr><td>1        </td><td> 8       </td><td>5        </td><td>29.066667</td><td>0.9219555</td></tr>\n",
       "\t<tr><td>2        </td><td>10       </td><td>3        </td><td>33.483333</td><td>1.0000000</td></tr>\n",
       "\t<tr><td>3        </td><td> 5       </td><td>2        </td><td> 1.900000</td><td>0.3793978</td></tr>\n",
       "\t<tr><td>4        </td><td> 5       </td><td>6        </td><td>31.666667</td><td>0.6390703</td></tr>\n",
       "\t<tr><td>5        </td><td> 6       </td><td>7        </td><td>17.416667</td><td>0.3956037</td></tr>\n",
       "\t<tr><td>6        </td><td> 2       </td><td>6        </td><td> 3.733333</td><td>0.1901061</td></tr>\n",
       "</tbody>\n",
       "</table>\n"
      ],
      "text/latex": [
       "\\begin{tabular}{r|lllll}\n",
       " node\\_id & in\\_degree & out\\_degree & betweenness & eigen\\\\\n",
       "\\hline\n",
       "\t 1         &  8        & 5         & 29.066667 & 0.9219555\\\\\n",
       "\t 2         & 10        & 3         & 33.483333 & 1.0000000\\\\\n",
       "\t 3         &  5        & 2         &  1.900000 & 0.3793978\\\\\n",
       "\t 4         &  5        & 6         & 31.666667 & 0.6390703\\\\\n",
       "\t 5         &  6        & 7         & 17.416667 & 0.3956037\\\\\n",
       "\t 6         &  2        & 6         &  3.733333 & 0.1901061\\\\\n",
       "\\end{tabular}\n"
      ],
      "text/markdown": [
       "\n",
       "| node_id | in_degree | out_degree | betweenness | eigen |\n",
       "|---|---|---|---|---|\n",
       "| 1         |  8        | 5         | 29.066667 | 0.9219555 |\n",
       "| 2         | 10        | 3         | 33.483333 | 1.0000000 |\n",
       "| 3         |  5        | 2         |  1.900000 | 0.3793978 |\n",
       "| 4         |  5        | 6         | 31.666667 | 0.6390703 |\n",
       "| 5         |  6        | 7         | 17.416667 | 0.3956037 |\n",
       "| 6         |  2        | 6         |  3.733333 | 0.1901061 |\n",
       "\n"
      ],
      "text/plain": [
       "  node_id in_degree out_degree betweenness eigen    \n",
       "1 1        8        5          29.066667   0.9219555\n",
       "2 2       10        3          33.483333   1.0000000\n",
       "3 3        5        2           1.900000   0.3793978\n",
       "4 4        5        6          31.666667   0.6390703\n",
       "5 5        6        7          17.416667   0.3956037\n",
       "6 6        2        6           3.733333   0.1901061"
      ]
     },
     "metadata": {},
     "output_type": "display_data"
    }
   ],
   "source": [
    "#View(friendship_centrality_all) #'View()' not yet supported in the Jupyter R kernel\n",
    "head(friendship_centrality_all)"
   ]
  },
  {
   "cell_type": "markdown",
   "metadata": {},
   "source": [
    "Recall that to compute in- and out-closeness we had to remove a few vertices,\n",
    "so, we need to add these scores in a separate step, using the merge() function\n",
    "which allows for merging two data frames based on the given \"key\""
   ]
  },
  {
   "cell_type": "code",
   "execution_count": 59,
   "metadata": {},
   "outputs": [],
   "source": [
    "?merge"
   ]
  },
  {
   "cell_type": "code",
   "execution_count": 60,
   "metadata": {},
   "outputs": [
    {
     "name": "stdout",
     "output_type": "stream",
     "text": [
      "'data.frame':\t21 obs. of  7 variables:\n",
      " $ node_id    : int  1 2 3 4 5 6 7 8 9 10 ...\n",
      " $ in_degree  : num  8 10 5 5 6 2 3 5 6 1 ...\n",
      " $ out_degree : num  5 3 2 6 7 6 0 1 0 7 ...\n",
      " $ betweenness: num  29.1 33.5 1.9 31.7 17.4 ...\n",
      " $ eigen      : num  0.922 1 0.379 0.639 0.396 ...\n",
      " $ in_cl      : num  0.0357 0.037 0.0263 0.0294 0.027 ...\n",
      " $ out_cl     : num  0.0238 0.0227 0.0227 0.0323 0.0333 ...\n"
     ]
    }
   ],
   "source": [
    "friendship_centrality_all <- merge(x = friendship_centrality_all, \n",
    "                                   y = friendship_closeness,\n",
    "                                   # by = 'node_id',\n",
    "                                   all.x = TRUE, all.y = TRUE)\n",
    "str(friendship_centrality_all)\n",
    "#View(friendship_centrality_all)"
   ]
  },
  {
   "cell_type": "markdown",
   "metadata": {},
   "source": [
    "Now we can sort the data frame to find the most central actors \n",
    "according to different centrality measures we have computed."
   ]
  },
  {
   "cell_type": "code",
   "execution_count": 61,
   "metadata": {},
   "outputs": [
    {
     "data": {
      "text/html": [
       "<table>\n",
       "<thead><tr><th></th><th scope=col>node_id</th><th scope=col>in_degree</th><th scope=col>out_degree</th><th scope=col>betweenness</th><th scope=col>eigen</th><th scope=col>in_cl</th><th scope=col>out_cl</th></tr></thead>\n",
       "<tbody>\n",
       "\t<tr><th scope=row>17</th><td>17        </td><td> 6        </td><td>18        </td><td>134.433333</td><td>0.59209877</td><td>0.02941176</td><td>0.05000000</td></tr>\n",
       "\t<tr><th scope=row>11</th><td>11        </td><td> 6        </td><td>13        </td><td> 58.450000</td><td>0.41336194</td><td>0.02702703</td><td>0.04166667</td></tr>\n",
       "\t<tr><th scope=row>21</th><td>21        </td><td> 5        </td><td> 4        </td><td> 33.916667</td><td>0.58343291</td><td>0.02857143</td><td>0.03030303</td></tr>\n",
       "\t<tr><th scope=row>2</th><td> 2        </td><td>10        </td><td> 3        </td><td> 33.483333</td><td>1.00000000</td><td>0.03703704</td><td>0.02272727</td></tr>\n",
       "\t<tr><th scope=row>4</th><td> 4        </td><td> 5        </td><td> 6        </td><td> 31.666667</td><td>0.63907026</td><td>0.02941176</td><td>0.03225806</td></tr>\n",
       "\t<tr><th scope=row>1</th><td> 1        </td><td> 8        </td><td> 5        </td><td> 29.066667</td><td>0.92195552</td><td>0.03571429</td><td>0.02380952</td></tr>\n",
       "\t<tr><th scope=row>15</th><td>15        </td><td> 4        </td><td> 8        </td><td> 22.566667</td><td>0.36801931</td><td>0.02500000</td><td>0.03333333</td></tr>\n",
       "\t<tr><th scope=row>19</th><td>19        </td><td> 5        </td><td> 9        </td><td> 21.883333</td><td>0.42540552</td><td>0.02631579</td><td>0.03571429</td></tr>\n",
       "\t<tr><th scope=row>12</th><td>12        </td><td> 8        </td><td> 4        </td><td> 19.658333</td><td>0.76877948</td><td>0.03333333</td><td>0.03030303</td></tr>\n",
       "\t<tr><th scope=row>5</th><td> 5        </td><td> 6        </td><td> 7        </td><td> 17.416667</td><td>0.39560373</td><td>0.02702703</td><td>0.03333333</td></tr>\n",
       "\t<tr><th scope=row>14</th><td>14        </td><td> 5        </td><td> 2        </td><td>  5.583333</td><td>0.42779019</td><td>0.02564103</td><td>0.02127660</td></tr>\n",
       "\t<tr><th scope=row>6</th><td> 6        </td><td> 2        </td><td> 6        </td><td>  3.733333</td><td>0.19010614</td><td>0.02222222</td><td>0.03030303</td></tr>\n",
       "\t<tr><th scope=row>20</th><td>20        </td><td> 3        </td><td> 2        </td><td>  3.041667</td><td>0.22468209</td><td>0.02380952</td><td>0.02564103</td></tr>\n",
       "\t<tr><th scope=row>3</th><td> 3        </td><td> 5        </td><td> 2        </td><td>  1.900000</td><td>0.37939782</td><td>0.02631579</td><td>0.02272727</td></tr>\n",
       "\t<tr><th scope=row>16</th><td>16        </td><td> 4        </td><td> 2        </td><td>  1.000000</td><td>0.44953816</td><td>0.02702703</td><td>0.01785714</td></tr>\n",
       "\t<tr><th scope=row>18</th><td>18        </td><td> 4        </td><td> 1        </td><td>  0.700000</td><td>0.43985882</td><td>0.02857143</td><td>0.01639344</td></tr>\n",
       "\t<tr><th scope=row>8</th><td> 8        </td><td> 5        </td><td> 1        </td><td>  0.500000</td><td>0.53138501</td><td>0.02941176</td><td>0.02083333</td></tr>\n",
       "\t<tr><th scope=row>7</th><td> 7        </td><td> 3        </td><td> 0        </td><td>  0.000000</td><td>0.23958251</td><td>        NA</td><td>        NA</td></tr>\n",
       "\t<tr><th scope=row>9</th><td> 9        </td><td> 6        </td><td> 0        </td><td>  0.000000</td><td>0.41113854</td><td>        NA</td><td>        NA</td></tr>\n",
       "\t<tr><th scope=row>10</th><td>10        </td><td> 1        </td><td> 7        </td><td>  0.000000</td><td>0.11723726</td><td>0.02000000</td><td>0.03030303</td></tr>\n",
       "\t<tr><th scope=row>13</th><td>13        </td><td> 1        </td><td> 2        </td><td>  0.000000</td><td>0.08184685</td><td>0.01851852</td><td>0.02631579</td></tr>\n",
       "</tbody>\n",
       "</table>\n"
      ],
      "text/latex": [
       "\\begin{tabular}{r|lllllll}\n",
       "  & node\\_id & in\\_degree & out\\_degree & betweenness & eigen & in\\_cl & out\\_cl\\\\\n",
       "\\hline\n",
       "\t17 & 17         &  6         & 18         & 134.433333 & 0.59209877 & 0.02941176 & 0.05000000\\\\\n",
       "\t11 & 11         &  6         & 13         &  58.450000 & 0.41336194 & 0.02702703 & 0.04166667\\\\\n",
       "\t21 & 21         &  5         &  4         &  33.916667 & 0.58343291 & 0.02857143 & 0.03030303\\\\\n",
       "\t2 &  2         & 10         &  3         &  33.483333 & 1.00000000 & 0.03703704 & 0.02272727\\\\\n",
       "\t4 &  4         &  5         &  6         &  31.666667 & 0.63907026 & 0.02941176 & 0.03225806\\\\\n",
       "\t1 &  1         &  8         &  5         &  29.066667 & 0.92195552 & 0.03571429 & 0.02380952\\\\\n",
       "\t15 & 15         &  4         &  8         &  22.566667 & 0.36801931 & 0.02500000 & 0.03333333\\\\\n",
       "\t19 & 19         &  5         &  9         &  21.883333 & 0.42540552 & 0.02631579 & 0.03571429\\\\\n",
       "\t12 & 12         &  8         &  4         &  19.658333 & 0.76877948 & 0.03333333 & 0.03030303\\\\\n",
       "\t5 &  5         &  6         &  7         &  17.416667 & 0.39560373 & 0.02702703 & 0.03333333\\\\\n",
       "\t14 & 14         &  5         &  2         &   5.583333 & 0.42779019 & 0.02564103 & 0.02127660\\\\\n",
       "\t6 &  6         &  2         &  6         &   3.733333 & 0.19010614 & 0.02222222 & 0.03030303\\\\\n",
       "\t20 & 20         &  3         &  2         &   3.041667 & 0.22468209 & 0.02380952 & 0.02564103\\\\\n",
       "\t3 &  3         &  5         &  2         &   1.900000 & 0.37939782 & 0.02631579 & 0.02272727\\\\\n",
       "\t16 & 16         &  4         &  2         &   1.000000 & 0.44953816 & 0.02702703 & 0.01785714\\\\\n",
       "\t18 & 18         &  4         &  1         &   0.700000 & 0.43985882 & 0.02857143 & 0.01639344\\\\\n",
       "\t8 &  8         &  5         &  1         &   0.500000 & 0.53138501 & 0.02941176 & 0.02083333\\\\\n",
       "\t7 &  7         &  3         &  0         &   0.000000 & 0.23958251 &         NA &         NA\\\\\n",
       "\t9 &  9         &  6         &  0         &   0.000000 & 0.41113854 &         NA &         NA\\\\\n",
       "\t10 & 10         &  1         &  7         &   0.000000 & 0.11723726 & 0.02000000 & 0.03030303\\\\\n",
       "\t13 & 13         &  1         &  2         &   0.000000 & 0.08184685 & 0.01851852 & 0.02631579\\\\\n",
       "\\end{tabular}\n"
      ],
      "text/markdown": [
       "\n",
       "| <!--/--> | node_id | in_degree | out_degree | betweenness | eigen | in_cl | out_cl |\n",
       "|---|---|---|---|---|---|---|---|\n",
       "| 17 | 17         |  6         | 18         | 134.433333 | 0.59209877 | 0.02941176 | 0.05000000 |\n",
       "| 11 | 11         |  6         | 13         |  58.450000 | 0.41336194 | 0.02702703 | 0.04166667 |\n",
       "| 21 | 21         |  5         |  4         |  33.916667 | 0.58343291 | 0.02857143 | 0.03030303 |\n",
       "| 2 |  2         | 10         |  3         |  33.483333 | 1.00000000 | 0.03703704 | 0.02272727 |\n",
       "| 4 |  4         |  5         |  6         |  31.666667 | 0.63907026 | 0.02941176 | 0.03225806 |\n",
       "| 1 |  1         |  8         |  5         |  29.066667 | 0.92195552 | 0.03571429 | 0.02380952 |\n",
       "| 15 | 15         |  4         |  8         |  22.566667 | 0.36801931 | 0.02500000 | 0.03333333 |\n",
       "| 19 | 19         |  5         |  9         |  21.883333 | 0.42540552 | 0.02631579 | 0.03571429 |\n",
       "| 12 | 12         |  8         |  4         |  19.658333 | 0.76877948 | 0.03333333 | 0.03030303 |\n",
       "| 5 |  5         |  6         |  7         |  17.416667 | 0.39560373 | 0.02702703 | 0.03333333 |\n",
       "| 14 | 14         |  5         |  2         |   5.583333 | 0.42779019 | 0.02564103 | 0.02127660 |\n",
       "| 6 |  6         |  2         |  6         |   3.733333 | 0.19010614 | 0.02222222 | 0.03030303 |\n",
       "| 20 | 20         |  3         |  2         |   3.041667 | 0.22468209 | 0.02380952 | 0.02564103 |\n",
       "| 3 |  3         |  5         |  2         |   1.900000 | 0.37939782 | 0.02631579 | 0.02272727 |\n",
       "| 16 | 16         |  4         |  2         |   1.000000 | 0.44953816 | 0.02702703 | 0.01785714 |\n",
       "| 18 | 18         |  4         |  1         |   0.700000 | 0.43985882 | 0.02857143 | 0.01639344 |\n",
       "| 8 |  8         |  5         |  1         |   0.500000 | 0.53138501 | 0.02941176 | 0.02083333 |\n",
       "| 7 |  7         |  3         |  0         |   0.000000 | 0.23958251 |         NA |         NA |\n",
       "| 9 |  9         |  6         |  0         |   0.000000 | 0.41113854 |         NA |         NA |\n",
       "| 10 | 10         |  1         |  7         |   0.000000 | 0.11723726 | 0.02000000 | 0.03030303 |\n",
       "| 13 | 13         |  1         |  2         |   0.000000 | 0.08184685 | 0.01851852 | 0.02631579 |\n",
       "\n"
      ],
      "text/plain": [
       "   node_id in_degree out_degree betweenness eigen      in_cl      out_cl    \n",
       "17 17       6        18         134.433333  0.59209877 0.02941176 0.05000000\n",
       "11 11       6        13          58.450000  0.41336194 0.02702703 0.04166667\n",
       "21 21       5         4          33.916667  0.58343291 0.02857143 0.03030303\n",
       "2   2      10         3          33.483333  1.00000000 0.03703704 0.02272727\n",
       "4   4       5         6          31.666667  0.63907026 0.02941176 0.03225806\n",
       "1   1       8         5          29.066667  0.92195552 0.03571429 0.02380952\n",
       "15 15       4         8          22.566667  0.36801931 0.02500000 0.03333333\n",
       "19 19       5         9          21.883333  0.42540552 0.02631579 0.03571429\n",
       "12 12       8         4          19.658333  0.76877948 0.03333333 0.03030303\n",
       "5   5       6         7          17.416667  0.39560373 0.02702703 0.03333333\n",
       "14 14       5         2           5.583333  0.42779019 0.02564103 0.02127660\n",
       "6   6       2         6           3.733333  0.19010614 0.02222222 0.03030303\n",
       "20 20       3         2           3.041667  0.22468209 0.02380952 0.02564103\n",
       "3   3       5         2           1.900000  0.37939782 0.02631579 0.02272727\n",
       "16 16       4         2           1.000000  0.44953816 0.02702703 0.01785714\n",
       "18 18       4         1           0.700000  0.43985882 0.02857143 0.01639344\n",
       "8   8       5         1           0.500000  0.53138501 0.02941176 0.02083333\n",
       "7   7       3         0           0.000000  0.23958251         NA         NA\n",
       "9   9       6         0           0.000000  0.41113854         NA         NA\n",
       "10 10       1         7           0.000000  0.11723726 0.02000000 0.03030303\n",
       "13 13       1         2           0.000000  0.08184685 0.01851852 0.02631579"
      ]
     },
     "metadata": {},
     "output_type": "display_data"
    }
   ],
   "source": [
    "# Sort by betwenness\n",
    "friendship_centrality_all[order(friendship_centrality_all$betweenness, decreasing = TRUE),]"
   ]
  },
  {
   "cell_type": "code",
   "execution_count": 62,
   "metadata": {},
   "outputs": [],
   "source": [
    "# # alternative way (requires dplyr package):\n",
    "# friendship_centrality_all %>% arrange(desc(betweenness)) %>% View()\n",
    "# # Note that betweenness seems to be correlated with out-degree and out-closeness"
   ]
  },
  {
   "cell_type": "code",
   "execution_count": 63,
   "metadata": {},
   "outputs": [
    {
     "data": {
      "text/html": [
       "<table>\n",
       "<thead><tr><th></th><th scope=col>node_id</th><th scope=col>in_degree</th><th scope=col>out_degree</th><th scope=col>betweenness</th><th scope=col>eigen</th><th scope=col>in_cl</th><th scope=col>out_cl</th></tr></thead>\n",
       "<tbody>\n",
       "\t<tr><th scope=row>2</th><td> 2        </td><td>10        </td><td> 3        </td><td> 33.483333</td><td>1.00000000</td><td>0.03703704</td><td>0.02272727</td></tr>\n",
       "\t<tr><th scope=row>1</th><td> 1        </td><td> 8        </td><td> 5        </td><td> 29.066667</td><td>0.92195552</td><td>0.03571429</td><td>0.02380952</td></tr>\n",
       "\t<tr><th scope=row>12</th><td>12        </td><td> 8        </td><td> 4        </td><td> 19.658333</td><td>0.76877948</td><td>0.03333333</td><td>0.03030303</td></tr>\n",
       "\t<tr><th scope=row>4</th><td> 4        </td><td> 5        </td><td> 6        </td><td> 31.666667</td><td>0.63907026</td><td>0.02941176</td><td>0.03225806</td></tr>\n",
       "\t<tr><th scope=row>17</th><td>17        </td><td> 6        </td><td>18        </td><td>134.433333</td><td>0.59209877</td><td>0.02941176</td><td>0.05000000</td></tr>\n",
       "\t<tr><th scope=row>21</th><td>21        </td><td> 5        </td><td> 4        </td><td> 33.916667</td><td>0.58343291</td><td>0.02857143</td><td>0.03030303</td></tr>\n",
       "\t<tr><th scope=row>8</th><td> 8        </td><td> 5        </td><td> 1        </td><td>  0.500000</td><td>0.53138501</td><td>0.02941176</td><td>0.02083333</td></tr>\n",
       "\t<tr><th scope=row>16</th><td>16        </td><td> 4        </td><td> 2        </td><td>  1.000000</td><td>0.44953816</td><td>0.02702703</td><td>0.01785714</td></tr>\n",
       "\t<tr><th scope=row>18</th><td>18        </td><td> 4        </td><td> 1        </td><td>  0.700000</td><td>0.43985882</td><td>0.02857143</td><td>0.01639344</td></tr>\n",
       "\t<tr><th scope=row>14</th><td>14        </td><td> 5        </td><td> 2        </td><td>  5.583333</td><td>0.42779019</td><td>0.02564103</td><td>0.02127660</td></tr>\n",
       "\t<tr><th scope=row>19</th><td>19        </td><td> 5        </td><td> 9        </td><td> 21.883333</td><td>0.42540552</td><td>0.02631579</td><td>0.03571429</td></tr>\n",
       "\t<tr><th scope=row>11</th><td>11        </td><td> 6        </td><td>13        </td><td> 58.450000</td><td>0.41336194</td><td>0.02702703</td><td>0.04166667</td></tr>\n",
       "\t<tr><th scope=row>9</th><td> 9        </td><td> 6        </td><td> 0        </td><td>  0.000000</td><td>0.41113854</td><td>        NA</td><td>        NA</td></tr>\n",
       "\t<tr><th scope=row>5</th><td> 5        </td><td> 6        </td><td> 7        </td><td> 17.416667</td><td>0.39560373</td><td>0.02702703</td><td>0.03333333</td></tr>\n",
       "\t<tr><th scope=row>3</th><td> 3        </td><td> 5        </td><td> 2        </td><td>  1.900000</td><td>0.37939782</td><td>0.02631579</td><td>0.02272727</td></tr>\n",
       "\t<tr><th scope=row>15</th><td>15        </td><td> 4        </td><td> 8        </td><td> 22.566667</td><td>0.36801931</td><td>0.02500000</td><td>0.03333333</td></tr>\n",
       "\t<tr><th scope=row>7</th><td> 7        </td><td> 3        </td><td> 0        </td><td>  0.000000</td><td>0.23958251</td><td>        NA</td><td>        NA</td></tr>\n",
       "\t<tr><th scope=row>20</th><td>20        </td><td> 3        </td><td> 2        </td><td>  3.041667</td><td>0.22468209</td><td>0.02380952</td><td>0.02564103</td></tr>\n",
       "\t<tr><th scope=row>6</th><td> 6        </td><td> 2        </td><td> 6        </td><td>  3.733333</td><td>0.19010614</td><td>0.02222222</td><td>0.03030303</td></tr>\n",
       "\t<tr><th scope=row>10</th><td>10        </td><td> 1        </td><td> 7        </td><td>  0.000000</td><td>0.11723726</td><td>0.02000000</td><td>0.03030303</td></tr>\n",
       "\t<tr><th scope=row>13</th><td>13        </td><td> 1        </td><td> 2        </td><td>  0.000000</td><td>0.08184685</td><td>0.01851852</td><td>0.02631579</td></tr>\n",
       "</tbody>\n",
       "</table>\n"
      ],
      "text/latex": [
       "\\begin{tabular}{r|lllllll}\n",
       "  & node\\_id & in\\_degree & out\\_degree & betweenness & eigen & in\\_cl & out\\_cl\\\\\n",
       "\\hline\n",
       "\t2 &  2         & 10         &  3         &  33.483333 & 1.00000000 & 0.03703704 & 0.02272727\\\\\n",
       "\t1 &  1         &  8         &  5         &  29.066667 & 0.92195552 & 0.03571429 & 0.02380952\\\\\n",
       "\t12 & 12         &  8         &  4         &  19.658333 & 0.76877948 & 0.03333333 & 0.03030303\\\\\n",
       "\t4 &  4         &  5         &  6         &  31.666667 & 0.63907026 & 0.02941176 & 0.03225806\\\\\n",
       "\t17 & 17         &  6         & 18         & 134.433333 & 0.59209877 & 0.02941176 & 0.05000000\\\\\n",
       "\t21 & 21         &  5         &  4         &  33.916667 & 0.58343291 & 0.02857143 & 0.03030303\\\\\n",
       "\t8 &  8         &  5         &  1         &   0.500000 & 0.53138501 & 0.02941176 & 0.02083333\\\\\n",
       "\t16 & 16         &  4         &  2         &   1.000000 & 0.44953816 & 0.02702703 & 0.01785714\\\\\n",
       "\t18 & 18         &  4         &  1         &   0.700000 & 0.43985882 & 0.02857143 & 0.01639344\\\\\n",
       "\t14 & 14         &  5         &  2         &   5.583333 & 0.42779019 & 0.02564103 & 0.02127660\\\\\n",
       "\t19 & 19         &  5         &  9         &  21.883333 & 0.42540552 & 0.02631579 & 0.03571429\\\\\n",
       "\t11 & 11         &  6         & 13         &  58.450000 & 0.41336194 & 0.02702703 & 0.04166667\\\\\n",
       "\t9 &  9         &  6         &  0         &   0.000000 & 0.41113854 &         NA &         NA\\\\\n",
       "\t5 &  5         &  6         &  7         &  17.416667 & 0.39560373 & 0.02702703 & 0.03333333\\\\\n",
       "\t3 &  3         &  5         &  2         &   1.900000 & 0.37939782 & 0.02631579 & 0.02272727\\\\\n",
       "\t15 & 15         &  4         &  8         &  22.566667 & 0.36801931 & 0.02500000 & 0.03333333\\\\\n",
       "\t7 &  7         &  3         &  0         &   0.000000 & 0.23958251 &         NA &         NA\\\\\n",
       "\t20 & 20         &  3         &  2         &   3.041667 & 0.22468209 & 0.02380952 & 0.02564103\\\\\n",
       "\t6 &  6         &  2         &  6         &   3.733333 & 0.19010614 & 0.02222222 & 0.03030303\\\\\n",
       "\t10 & 10         &  1         &  7         &   0.000000 & 0.11723726 & 0.02000000 & 0.03030303\\\\\n",
       "\t13 & 13         &  1         &  2         &   0.000000 & 0.08184685 & 0.01851852 & 0.02631579\\\\\n",
       "\\end{tabular}\n"
      ],
      "text/markdown": [
       "\n",
       "| <!--/--> | node_id | in_degree | out_degree | betweenness | eigen | in_cl | out_cl |\n",
       "|---|---|---|---|---|---|---|---|\n",
       "| 2 |  2         | 10         |  3         |  33.483333 | 1.00000000 | 0.03703704 | 0.02272727 |\n",
       "| 1 |  1         |  8         |  5         |  29.066667 | 0.92195552 | 0.03571429 | 0.02380952 |\n",
       "| 12 | 12         |  8         |  4         |  19.658333 | 0.76877948 | 0.03333333 | 0.03030303 |\n",
       "| 4 |  4         |  5         |  6         |  31.666667 | 0.63907026 | 0.02941176 | 0.03225806 |\n",
       "| 17 | 17         |  6         | 18         | 134.433333 | 0.59209877 | 0.02941176 | 0.05000000 |\n",
       "| 21 | 21         |  5         |  4         |  33.916667 | 0.58343291 | 0.02857143 | 0.03030303 |\n",
       "| 8 |  8         |  5         |  1         |   0.500000 | 0.53138501 | 0.02941176 | 0.02083333 |\n",
       "| 16 | 16         |  4         |  2         |   1.000000 | 0.44953816 | 0.02702703 | 0.01785714 |\n",
       "| 18 | 18         |  4         |  1         |   0.700000 | 0.43985882 | 0.02857143 | 0.01639344 |\n",
       "| 14 | 14         |  5         |  2         |   5.583333 | 0.42779019 | 0.02564103 | 0.02127660 |\n",
       "| 19 | 19         |  5         |  9         |  21.883333 | 0.42540552 | 0.02631579 | 0.03571429 |\n",
       "| 11 | 11         |  6         | 13         |  58.450000 | 0.41336194 | 0.02702703 | 0.04166667 |\n",
       "| 9 |  9         |  6         |  0         |   0.000000 | 0.41113854 |         NA |         NA |\n",
       "| 5 |  5         |  6         |  7         |  17.416667 | 0.39560373 | 0.02702703 | 0.03333333 |\n",
       "| 3 |  3         |  5         |  2         |   1.900000 | 0.37939782 | 0.02631579 | 0.02272727 |\n",
       "| 15 | 15         |  4         |  8         |  22.566667 | 0.36801931 | 0.02500000 | 0.03333333 |\n",
       "| 7 |  7         |  3         |  0         |   0.000000 | 0.23958251 |         NA |         NA |\n",
       "| 20 | 20         |  3         |  2         |   3.041667 | 0.22468209 | 0.02380952 | 0.02564103 |\n",
       "| 6 |  6         |  2         |  6         |   3.733333 | 0.19010614 | 0.02222222 | 0.03030303 |\n",
       "| 10 | 10         |  1         |  7         |   0.000000 | 0.11723726 | 0.02000000 | 0.03030303 |\n",
       "| 13 | 13         |  1         |  2         |   0.000000 | 0.08184685 | 0.01851852 | 0.02631579 |\n",
       "\n"
      ],
      "text/plain": [
       "   node_id in_degree out_degree betweenness eigen      in_cl      out_cl    \n",
       "2   2      10         3          33.483333  1.00000000 0.03703704 0.02272727\n",
       "1   1       8         5          29.066667  0.92195552 0.03571429 0.02380952\n",
       "12 12       8         4          19.658333  0.76877948 0.03333333 0.03030303\n",
       "4   4       5         6          31.666667  0.63907026 0.02941176 0.03225806\n",
       "17 17       6        18         134.433333  0.59209877 0.02941176 0.05000000\n",
       "21 21       5         4          33.916667  0.58343291 0.02857143 0.03030303\n",
       "8   8       5         1           0.500000  0.53138501 0.02941176 0.02083333\n",
       "16 16       4         2           1.000000  0.44953816 0.02702703 0.01785714\n",
       "18 18       4         1           0.700000  0.43985882 0.02857143 0.01639344\n",
       "14 14       5         2           5.583333  0.42779019 0.02564103 0.02127660\n",
       "19 19       5         9          21.883333  0.42540552 0.02631579 0.03571429\n",
       "11 11       6        13          58.450000  0.41336194 0.02702703 0.04166667\n",
       "9   9       6         0           0.000000  0.41113854         NA         NA\n",
       "5   5       6         7          17.416667  0.39560373 0.02702703 0.03333333\n",
       "3   3       5         2           1.900000  0.37939782 0.02631579 0.02272727\n",
       "15 15       4         8          22.566667  0.36801931 0.02500000 0.03333333\n",
       "7   7       3         0           0.000000  0.23958251         NA         NA\n",
       "20 20       3         2           3.041667  0.22468209 0.02380952 0.02564103\n",
       "6   6       2         6           3.733333  0.19010614 0.02222222 0.03030303\n",
       "10 10       1         7           0.000000  0.11723726 0.02000000 0.03030303\n",
       "13 13       1         2           0.000000  0.08184685 0.01851852 0.02631579"
      ]
     },
     "metadata": {},
     "output_type": "display_data"
    }
   ],
   "source": [
    "# Sort by eigenvector centrality\n",
    "friendship_centrality_all[order(friendship_centrality_all$eigen, decreasing = TRUE),]"
   ]
  },
  {
   "cell_type": "code",
   "execution_count": 64,
   "metadata": {},
   "outputs": [],
   "source": [
    "# # alternative way:\n",
    "# friendship_centrality_all %>% arrange(desc(eigen)) %>% View()\n",
    "# # Note that Eigenvector c. seems to be correlated with in-degree and in-closeness"
   ]
  },
  {
   "cell_type": "markdown",
   "metadata": {},
   "source": [
    "##### TASK 5: \n",
    "\n",
    "Try to interpret these results - how can we explain the observed correlations?\n",
    "Make the same computation and comparison for the advice network - do you observe\n",
    "the same relations between the metrics?"
   ]
  },
  {
   "cell_type": "markdown",
   "metadata": {},
   "source": [
    "### 3. CORRELATIONS BETWEEN CENTRALITY MEASURES"
   ]
  },
  {
   "cell_type": "markdown",
   "metadata": {},
   "source": [
    "Now we'll more thoroughly examine correlations between the centrality metrics \n",
    "to determine how closely these measures are interrelated.To that end, we'll \n",
    "use the data frame with centrality metrics for the friendship network."
   ]
  },
  {
   "cell_type": "markdown",
   "metadata": {},
   "source": [
    "We need to compute pairwise correlations, that is, to generate a table\n",
    "with correlation values for each centrality measures pair.\n",
    "To determine how to compute these correlations, we need to check if the \n",
    "assumption of normal distribution applies to our centrality measures:"
   ]
  },
  {
   "cell_type": "code",
   "execution_count": 65,
   "metadata": {},
   "outputs": [
    {
     "data": {
      "text/plain": [
       "$in_degree\n",
       "\n",
       "\tShapiro-Wilk normality test\n",
       "\n",
       "data:  newX[, i]\n",
       "W = 0.9531, p-value = 0.3892\n",
       "\n",
       "\n",
       "$out_degree\n",
       "\n",
       "\tShapiro-Wilk normality test\n",
       "\n",
       "data:  newX[, i]\n",
       "W = 0.86027, p-value = 0.006416\n",
       "\n",
       "\n",
       "$betweenness\n",
       "\n",
       "\tShapiro-Wilk normality test\n",
       "\n",
       "data:  newX[, i]\n",
       "W = 0.65581, p-value = 8.133e-06\n",
       "\n",
       "\n",
       "$eigen\n",
       "\n",
       "\tShapiro-Wilk normality test\n",
       "\n",
       "data:  newX[, i]\n",
       "W = 0.94305, p-value = 0.2503\n",
       "\n",
       "\n",
       "$in_cl\n",
       "\n",
       "\tShapiro-Wilk normality test\n",
       "\n",
       "data:  newX[, i]\n",
       "W = 0.96093, p-value = 0.5908\n",
       "\n",
       "\n",
       "$out_cl\n",
       "\n",
       "\tShapiro-Wilk normality test\n",
       "\n",
       "data:  newX[, i]\n",
       "W = 0.9436, p-value = 0.3058\n",
       "\n"
      ]
     },
     "metadata": {},
     "output_type": "display_data"
    },
    {
     "data": {
      "image/png": "[encoded data removed]",
      "text/plain": [
       "Plot with title \"Normal Q-Q Plot\""
      ]
     },
     "metadata": {},
     "output_type": "display_data"
    },
    {
     "data": {
      "image/png": "[encoded data removed]",
      "text/plain": [
       "Plot with title \"Normal Q-Q Plot\""
      ]
     },
     "metadata": {},
     "output_type": "display_data"
    },
    {
     "data": {
      "image/png": "[encoded data removed]",
      "text/plain": [
       "Plot with title \"Normal Q-Q Plot\""
      ]
     },
     "metadata": {},
     "output_type": "display_data"
    },
    {
     "data": {
      "image/png": "[encoded data removed]",
      "text/plain": [
       "Plot with title \"Normal Q-Q Plot\""
      ]
     },
     "metadata": {},
     "output_type": "display_data"
    },
    {
     "data": {
      "image/png": "[encoded data removed]",
      "text/plain": [
       "Plot with title \"Normal Q-Q Plot\""
      ]
     },
     "metadata": {},
     "output_type": "display_data"
    },
    {
     "data": {
      "text/html": [
       "<dl>\n",
       "\t<dt>$in_degree</dt>\n",
       "\t\t<dd><dl>\n",
       "\t<dt>$x</dt>\n",
       "\t\t<dd><ol class=list-inline>\n",
       "\t<li>1.17976111761186</li>\n",
       "\t<li>1.98075239664728</li>\n",
       "\t<li>-0.241040393886027</li>\n",
       "\t<li>-0.119648113039842</li>\n",
       "\t<li>0.497200570681554</li>\n",
       "\t<li>-1.17976111761186</li>\n",
       "\t<li>-0.967421566101701</li>\n",
       "\t<li>0</li>\n",
       "\t<li>0.637484160962377</li>\n",
       "\t<li>-1.98075239664728</li>\n",
       "\t<li>0.791638607743375</li>\n",
       "\t<li>1.46523379268552</li>\n",
       "\t<li>-1.46523379268552</li>\n",
       "\t<li>0.119648113039842</li>\n",
       "\t<li>-0.637484160962377</li>\n",
       "\t<li>-0.497200570681554</li>\n",
       "\t<li>0.967421566101701</li>\n",
       "\t<li>-0.36610635680057</li>\n",
       "\t<li>0.241040393886027</li>\n",
       "\t<li>-0.791638607743375</li>\n",
       "\t<li>0.36610635680057</li>\n",
       "</ol>\n",
       "</dd>\n",
       "\t<dt>$y</dt>\n",
       "\t\t<dd><ol class=list-inline>\n",
       "\t<li>8</li>\n",
       "\t<li>10</li>\n",
       "\t<li>5</li>\n",
       "\t<li>5</li>\n",
       "\t<li>6</li>\n",
       "\t<li>2</li>\n",
       "\t<li>3</li>\n",
       "\t<li>5</li>\n",
       "\t<li>6</li>\n",
       "\t<li>1</li>\n",
       "\t<li>6</li>\n",
       "\t<li>8</li>\n",
       "\t<li>1</li>\n",
       "\t<li>5</li>\n",
       "\t<li>4</li>\n",
       "\t<li>4</li>\n",
       "\t<li>6</li>\n",
       "\t<li>4</li>\n",
       "\t<li>5</li>\n",
       "\t<li>3</li>\n",
       "\t<li>5</li>\n",
       "</ol>\n",
       "</dd>\n",
       "</dl>\n",
       "</dd>\n",
       "\t<dt>$out_degree</dt>\n",
       "\t\t<dd><dl>\n",
       "\t<dt>$x</dt>\n",
       "\t\t<dd><ol class=list-inline>\n",
       "\t<li>0.241040393886027</li>\n",
       "\t<li>-0.119648113039842</li>\n",
       "\t<li>-0.791638607743375</li>\n",
       "\t<li>0.36610635680057</li>\n",
       "\t<li>0.637484160962377</li>\n",
       "\t<li>0.497200570681554</li>\n",
       "\t<li>-1.98075239664728</li>\n",
       "\t<li>-1.17976111761186</li>\n",
       "\t<li>-1.46523379268552</li>\n",
       "\t<li>0.791638607743375</li>\n",
       "\t<li>1.46523379268552</li>\n",
       "\t<li>0</li>\n",
       "\t<li>-0.637484160962377</li>\n",
       "\t<li>-0.497200570681554</li>\n",
       "\t<li>0.967421566101701</li>\n",
       "\t<li>-0.36610635680057</li>\n",
       "\t<li>1.98075239664728</li>\n",
       "\t<li>-0.967421566101701</li>\n",
       "\t<li>1.17976111761186</li>\n",
       "\t<li>-0.241040393886027</li>\n",
       "\t<li>0.119648113039842</li>\n",
       "</ol>\n",
       "</dd>\n",
       "\t<dt>$y</dt>\n",
       "\t\t<dd><ol class=list-inline>\n",
       "\t<li>5</li>\n",
       "\t<li>3</li>\n",
       "\t<li>2</li>\n",
       "\t<li>6</li>\n",
       "\t<li>7</li>\n",
       "\t<li>6</li>\n",
       "\t<li>0</li>\n",
       "\t<li>1</li>\n",
       "\t<li>0</li>\n",
       "\t<li>7</li>\n",
       "\t<li>13</li>\n",
       "\t<li>4</li>\n",
       "\t<li>2</li>\n",
       "\t<li>2</li>\n",
       "\t<li>8</li>\n",
       "\t<li>2</li>\n",
       "\t<li>18</li>\n",
       "\t<li>1</li>\n",
       "\t<li>9</li>\n",
       "\t<li>2</li>\n",
       "\t<li>4</li>\n",
       "</ol>\n",
       "</dd>\n",
       "</dl>\n",
       "</dd>\n",
       "\t<dt>$betweenness</dt>\n",
       "\t\t<dd><dl>\n",
       "\t<dt>$x</dt>\n",
       "\t\t<dd><ol class=list-inline>\n",
       "\t<li>0.637484160962377</li>\n",
       "\t<li>0.967421566101701</li>\n",
       "\t<li>-0.36610635680057</li>\n",
       "\t<li>0.791638607743375</li>\n",
       "\t<li>0.119648113039842</li>\n",
       "\t<li>-0.119648113039842</li>\n",
       "\t<li>-1.98075239664728</li>\n",
       "\t<li>-0.791638607743375</li>\n",
       "\t<li>-1.46523379268552</li>\n",
       "\t<li>-1.17976111761186</li>\n",
       "\t<li>1.46523379268552</li>\n",
       "\t<li>0.241040393886027</li>\n",
       "\t<li>-0.967421566101701</li>\n",
       "\t<li>0</li>\n",
       "\t<li>0.497200570681554</li>\n",
       "\t<li>-0.497200570681554</li>\n",
       "\t<li>1.98075239664728</li>\n",
       "\t<li>-0.637484160962377</li>\n",
       "\t<li>0.36610635680057</li>\n",
       "\t<li>-0.241040393886027</li>\n",
       "\t<li>1.17976111761186</li>\n",
       "</ol>\n",
       "</dd>\n",
       "\t<dt>$y</dt>\n",
       "\t\t<dd><ol class=list-inline>\n",
       "\t<li>29.0666666666667</li>\n",
       "\t<li>33.4833333333333</li>\n",
       "\t<li>1.9</li>\n",
       "\t<li>31.6666666666667</li>\n",
       "\t<li>17.4166666666667</li>\n",
       "\t<li>3.73333333333333</li>\n",
       "\t<li>0</li>\n",
       "\t<li>0.5</li>\n",
       "\t<li>0</li>\n",
       "\t<li>0</li>\n",
       "\t<li>58.45</li>\n",
       "\t<li>19.6583333333333</li>\n",
       "\t<li>0</li>\n",
       "\t<li>5.58333333333333</li>\n",
       "\t<li>22.5666666666667</li>\n",
       "\t<li>1</li>\n",
       "\t<li>134.433333333333</li>\n",
       "\t<li>0.7</li>\n",
       "\t<li>21.8833333333333</li>\n",
       "\t<li>3.04166666666667</li>\n",
       "\t<li>33.9166666666667</li>\n",
       "</ol>\n",
       "</dd>\n",
       "</dl>\n",
       "</dd>\n",
       "\t<dt>$eigen</dt>\n",
       "\t\t<dd><dl>\n",
       "\t<dt>$x</dt>\n",
       "\t\t<dd><ol class=list-inline>\n",
       "\t<li>1.46523379268552</li>\n",
       "\t<li>1.98075239664728</li>\n",
       "\t<li>-0.497200570681554</li>\n",
       "\t<li>0.967421566101701</li>\n",
       "\t<li>-0.36610635680057</li>\n",
       "\t<li>-1.17976111761186</li>\n",
       "\t<li>-0.791638607743375</li>\n",
       "\t<li>0.497200570681554</li>\n",
       "\t<li>-0.241040393886027</li>\n",
       "\t<li>-1.46523379268552</li>\n",
       "\t<li>-0.119648113039842</li>\n",
       "\t<li>1.17976111761186</li>\n",
       "\t<li>-1.98075239664728</li>\n",
       "\t<li>0.119648113039842</li>\n",
       "\t<li>-0.637484160962377</li>\n",
       "\t<li>0.36610635680057</li>\n",
       "\t<li>0.791638607743375</li>\n",
       "\t<li>0.241040393886027</li>\n",
       "\t<li>0</li>\n",
       "\t<li>-0.967421566101701</li>\n",
       "\t<li>0.637484160962377</li>\n",
       "</ol>\n",
       "</dd>\n",
       "\t<dt>$y</dt>\n",
       "\t\t<dd><ol class=list-inline>\n",
       "\t<li>0.921955519056587</li>\n",
       "\t<li>1</li>\n",
       "\t<li>0.379397820936892</li>\n",
       "\t<li>0.63907025592078</li>\n",
       "\t<li>0.395603732714476</li>\n",
       "\t<li>0.190106139228439</li>\n",
       "\t<li>0.239582506204918</li>\n",
       "\t<li>0.531385011631243</li>\n",
       "\t<li>0.411138542132591</li>\n",
       "\t<li>0.117237258200978</li>\n",
       "\t<li>0.413361941356811</li>\n",
       "\t<li>0.768779482226229</li>\n",
       "\t<li>0.0818468518260747</li>\n",
       "\t<li>0.427790189125849</li>\n",
       "\t<li>0.368019312337357</li>\n",
       "\t<li>0.449538159805168</li>\n",
       "\t<li>0.592098774333887</li>\n",
       "\t<li>0.439858816273138</li>\n",
       "\t<li>0.425405524973033</li>\n",
       "\t<li>0.224682088083356</li>\n",
       "\t<li>0.583432913911837</li>\n",
       "</ol>\n",
       "</dd>\n",
       "</dl>\n",
       "</dd>\n",
       "\t<dt>$in_cl</dt>\n",
       "\t\t<dd><dl>\n",
       "\t<dt>$x</dt>\n",
       "\t\t<dd><ol class=list-inline>\n",
       "\t<li>1.41218757890616</li>\n",
       "\t<li>1.93793151085283</li>\n",
       "\t<li>-0.406724251871364</li>\n",
       "\t<li>0.554922942702654</li>\n",
       "\t<li>-0.132312852276171</li>\n",
       "\t<li>-1.11895838106256</li>\n",
       "\t<li>&lt;NA&gt;</li>\n",
       "\t<li>0.716497500177991</li>\n",
       "\t<li>&lt;NA&gt;</li>\n",
       "\t<li>-1.41218757890616</li>\n",
       "\t<li>0</li>\n",
       "\t<li>1.11895838106256</li>\n",
       "\t<li>-1.93793151085283</li>\n",
       "\t<li>-0.554922942702654</li>\n",
       "\t<li>-0.716497500177991</li>\n",
       "\t<li>0.132312852276171</li>\n",
       "\t<li>0.899434907667234</li>\n",
       "\t<li>0.266994125404953</li>\n",
       "\t<li>-0.266994125404953</li>\n",
       "\t<li>-0.899434907667234</li>\n",
       "\t<li>0.406724251871364</li>\n",
       "</ol>\n",
       "</dd>\n",
       "\t<dt>$y</dt>\n",
       "\t\t<dd><ol class=list-inline>\n",
       "\t<li>0.0357142857142857</li>\n",
       "\t<li>0.037037037037037</li>\n",
       "\t<li>0.0263157894736842</li>\n",
       "\t<li>0.0294117647058824</li>\n",
       "\t<li>0.027027027027027</li>\n",
       "\t<li>0.0222222222222222</li>\n",
       "\t<li>&lt;NA&gt;</li>\n",
       "\t<li>0.0294117647058824</li>\n",
       "\t<li>&lt;NA&gt;</li>\n",
       "\t<li>0.02</li>\n",
       "\t<li>0.027027027027027</li>\n",
       "\t<li>0.0333333333333333</li>\n",
       "\t<li>0.0185185185185185</li>\n",
       "\t<li>0.0256410256410256</li>\n",
       "\t<li>0.025</li>\n",
       "\t<li>0.027027027027027</li>\n",
       "\t<li>0.0294117647058824</li>\n",
       "\t<li>0.0285714285714286</li>\n",
       "\t<li>0.0263157894736842</li>\n",
       "\t<li>0.0238095238095238</li>\n",
       "\t<li>0.0285714285714286</li>\n",
       "</ol>\n",
       "</dd>\n",
       "</dl>\n",
       "</dd>\n",
       "\t<dt>$out_cl</dt>\n",
       "\t\t<dd><dl>\n",
       "\t<dt>$x</dt>\n",
       "\t\t<dd><ol class=list-inline>\n",
       "\t<li>-0.406724251871364</li>\n",
       "\t<li>-0.716497500177991</li>\n",
       "\t<li>-0.554922942702654</li>\n",
       "\t<li>0.554922942702654</li>\n",
       "\t<li>0.716497500177991</li>\n",
       "\t<li>0</li>\n",
       "\t<li>&lt;NA&gt;</li>\n",
       "\t<li>-1.11895838106256</li>\n",
       "\t<li>&lt;NA&gt;</li>\n",
       "\t<li>0.132312852276171</li>\n",
       "\t<li>1.41218757890616</li>\n",
       "\t<li>0.266994125404953</li>\n",
       "\t<li>-0.132312852276171</li>\n",
       "\t<li>-0.899434907667234</li>\n",
       "\t<li>0.899434907667234</li>\n",
       "\t<li>-1.41218757890616</li>\n",
       "\t<li>1.93793151085283</li>\n",
       "\t<li>-1.93793151085283</li>\n",
       "\t<li>1.11895838106256</li>\n",
       "\t<li>-0.266994125404953</li>\n",
       "\t<li>0.406724251871364</li>\n",
       "</ol>\n",
       "</dd>\n",
       "\t<dt>$y</dt>\n",
       "\t\t<dd><ol class=list-inline>\n",
       "\t<li>0.0238095238095238</li>\n",
       "\t<li>0.0227272727272727</li>\n",
       "\t<li>0.0227272727272727</li>\n",
       "\t<li>0.032258064516129</li>\n",
       "\t<li>0.0333333333333333</li>\n",
       "\t<li>0.0303030303030303</li>\n",
       "\t<li>&lt;NA&gt;</li>\n",
       "\t<li>0.0208333333333333</li>\n",
       "\t<li>&lt;NA&gt;</li>\n",
       "\t<li>0.0303030303030303</li>\n",
       "\t<li>0.0416666666666667</li>\n",
       "\t<li>0.0303030303030303</li>\n",
       "\t<li>0.0263157894736842</li>\n",
       "\t<li>0.0212765957446809</li>\n",
       "\t<li>0.0333333333333333</li>\n",
       "\t<li>0.0178571428571429</li>\n",
       "\t<li>0.05</li>\n",
       "\t<li>0.0163934426229508</li>\n",
       "\t<li>0.0357142857142857</li>\n",
       "\t<li>0.0256410256410256</li>\n",
       "\t<li>0.0303030303030303</li>\n",
       "</ol>\n",
       "</dd>\n",
       "</dl>\n",
       "</dd>\n",
       "</dl>\n"
      ],
      "text/latex": [
       "\\begin{description}\n",
       "\\item[\\$in\\_degree] \\begin{description}\n",
       "\\item[\\$x] \\begin{enumerate*}\n",
       "\\item 1.17976111761186\n",
       "\\item 1.98075239664728\n",
       "\\item -0.241040393886027\n",
       "\\item -0.119648113039842\n",
       "\\item 0.497200570681554\n",
       "\\item -1.17976111761186\n",
       "\\item -0.967421566101701\n",
       "\\item 0\n",
       "\\item 0.637484160962377\n",
       "\\item -1.98075239664728\n",
       "\\item 0.791638607743375\n",
       "\\item 1.46523379268552\n",
       "\\item -1.46523379268552\n",
       "\\item 0.119648113039842\n",
       "\\item -0.637484160962377\n",
       "\\item -0.497200570681554\n",
       "\\item 0.967421566101701\n",
       "\\item -0.36610635680057\n",
       "\\item 0.241040393886027\n",
       "\\item -0.791638607743375\n",
       "\\item 0.36610635680057\n",
       "\\end{enumerate*}\n",
       "\n",
       "\\item[\\$y] \\begin{enumerate*}\n",
       "\\item 8\n",
       "\\item 10\n",
       "\\item 5\n",
       "\\item 5\n",
       "\\item 6\n",
       "\\item 2\n",
       "\\item 3\n",
       "\\item 5\n",
       "\\item 6\n",
       "\\item 1\n",
       "\\item 6\n",
       "\\item 8\n",
       "\\item 1\n",
       "\\item 5\n",
       "\\item 4\n",
       "\\item 4\n",
       "\\item 6\n",
       "\\item 4\n",
       "\\item 5\n",
       "\\item 3\n",
       "\\item 5\n",
       "\\end{enumerate*}\n",
       "\n",
       "\\end{description}\n",
       "\n",
       "\\item[\\$out\\_degree] \\begin{description}\n",
       "\\item[\\$x] \\begin{enumerate*}\n",
       "\\item 0.241040393886027\n",
       "\\item -0.119648113039842\n",
       "\\item -0.791638607743375\n",
       "\\item 0.36610635680057\n",
       "\\item 0.637484160962377\n",
       "\\item 0.497200570681554\n",
       "\\item -1.98075239664728\n",
       "\\item -1.17976111761186\n",
       "\\item -1.46523379268552\n",
       "\\item 0.791638607743375\n",
       "\\item 1.46523379268552\n",
       "\\item 0\n",
       "\\item -0.637484160962377\n",
       "\\item -0.497200570681554\n",
       "\\item 0.967421566101701\n",
       "\\item -0.36610635680057\n",
       "\\item 1.98075239664728\n",
       "\\item -0.967421566101701\n",
       "\\item 1.17976111761186\n",
       "\\item -0.241040393886027\n",
       "\\item 0.119648113039842\n",
       "\\end{enumerate*}\n",
       "\n",
       "\\item[\\$y] \\begin{enumerate*}\n",
       "\\item 5\n",
       "\\item 3\n",
       "\\item 2\n",
       "\\item 6\n",
       "\\item 7\n",
       "\\item 6\n",
       "\\item 0\n",
       "\\item 1\n",
       "\\item 0\n",
       "\\item 7\n",
       "\\item 13\n",
       "\\item 4\n",
       "\\item 2\n",
       "\\item 2\n",
       "\\item 8\n",
       "\\item 2\n",
       "\\item 18\n",
       "\\item 1\n",
       "\\item 9\n",
       "\\item 2\n",
       "\\item 4\n",
       "\\end{enumerate*}\n",
       "\n",
       "\\end{description}\n",
       "\n",
       "\\item[\\$betweenness] \\begin{description}\n",
       "\\item[\\$x] \\begin{enumerate*}\n",
       "\\item 0.637484160962377\n",
       "\\item 0.967421566101701\n",
       "\\item -0.36610635680057\n",
       "\\item 0.791638607743375\n",
       "\\item 0.119648113039842\n",
       "\\item -0.119648113039842\n",
       "\\item -1.98075239664728\n",
       "\\item -0.791638607743375\n",
       "\\item -1.46523379268552\n",
       "\\item -1.17976111761186\n",
       "\\item 1.46523379268552\n",
       "\\item 0.241040393886027\n",
       "\\item -0.967421566101701\n",
       "\\item 0\n",
       "\\item 0.497200570681554\n",
       "\\item -0.497200570681554\n",
       "\\item 1.98075239664728\n",
       "\\item -0.637484160962377\n",
       "\\item 0.36610635680057\n",
       "\\item -0.241040393886027\n",
       "\\item 1.17976111761186\n",
       "\\end{enumerate*}\n",
       "\n",
       "\\item[\\$y] \\begin{enumerate*}\n",
       "\\item 29.0666666666667\n",
       "\\item 33.4833333333333\n",
       "\\item 1.9\n",
       "\\item 31.6666666666667\n",
       "\\item 17.4166666666667\n",
       "\\item 3.73333333333333\n",
       "\\item 0\n",
       "\\item 0.5\n",
       "\\item 0\n",
       "\\item 0\n",
       "\\item 58.45\n",
       "\\item 19.6583333333333\n",
       "\\item 0\n",
       "\\item 5.58333333333333\n",
       "\\item 22.5666666666667\n",
       "\\item 1\n",
       "\\item 134.433333333333\n",
       "\\item 0.7\n",
       "\\item 21.8833333333333\n",
       "\\item 3.04166666666667\n",
       "\\item 33.9166666666667\n",
       "\\end{enumerate*}\n",
       "\n",
       "\\end{description}\n",
       "\n",
       "\\item[\\$eigen] \\begin{description}\n",
       "\\item[\\$x] \\begin{enumerate*}\n",
       "\\item 1.46523379268552\n",
       "\\item 1.98075239664728\n",
       "\\item -0.497200570681554\n",
       "\\item 0.967421566101701\n",
       "\\item -0.36610635680057\n",
       "\\item -1.17976111761186\n",
       "\\item -0.791638607743375\n",
       "\\item 0.497200570681554\n",
       "\\item -0.241040393886027\n",
       "\\item -1.46523379268552\n",
       "\\item -0.119648113039842\n",
       "\\item 1.17976111761186\n",
       "\\item -1.98075239664728\n",
       "\\item 0.119648113039842\n",
       "\\item -0.637484160962377\n",
       "\\item 0.36610635680057\n",
       "\\item 0.791638607743375\n",
       "\\item 0.241040393886027\n",
       "\\item 0\n",
       "\\item -0.967421566101701\n",
       "\\item 0.637484160962377\n",
       "\\end{enumerate*}\n",
       "\n",
       "\\item[\\$y] \\begin{enumerate*}\n",
       "\\item 0.921955519056587\n",
       "\\item 1\n",
       "\\item 0.379397820936892\n",
       "\\item 0.63907025592078\n",
       "\\item 0.395603732714476\n",
       "\\item 0.190106139228439\n",
       "\\item 0.239582506204918\n",
       "\\item 0.531385011631243\n",
       "\\item 0.411138542132591\n",
       "\\item 0.117237258200978\n",
       "\\item 0.413361941356811\n",
       "\\item 0.768779482226229\n",
       "\\item 0.0818468518260747\n",
       "\\item 0.427790189125849\n",
       "\\item 0.368019312337357\n",
       "\\item 0.449538159805168\n",
       "\\item 0.592098774333887\n",
       "\\item 0.439858816273138\n",
       "\\item 0.425405524973033\n",
       "\\item 0.224682088083356\n",
       "\\item 0.583432913911837\n",
       "\\end{enumerate*}\n",
       "\n",
       "\\end{description}\n",
       "\n",
       "\\item[\\$in\\_cl] \\begin{description}\n",
       "\\item[\\$x] \\begin{enumerate*}\n",
       "\\item 1.41218757890616\n",
       "\\item 1.93793151085283\n",
       "\\item -0.406724251871364\n",
       "\\item 0.554922942702654\n",
       "\\item -0.132312852276171\n",
       "\\item -1.11895838106256\n",
       "\\item <NA>\n",
       "\\item 0.716497500177991\n",
       "\\item <NA>\n",
       "\\item -1.41218757890616\n",
       "\\item 0\n",
       "\\item 1.11895838106256\n",
       "\\item -1.93793151085283\n",
       "\\item -0.554922942702654\n",
       "\\item -0.716497500177991\n",
       "\\item 0.132312852276171\n",
       "\\item 0.899434907667234\n",
       "\\item 0.266994125404953\n",
       "\\item -0.266994125404953\n",
       "\\item -0.899434907667234\n",
       "\\item 0.406724251871364\n",
       "\\end{enumerate*}\n",
       "\n",
       "\\item[\\$y] \\begin{enumerate*}\n",
       "\\item 0.0357142857142857\n",
       "\\item 0.037037037037037\n",
       "\\item 0.0263157894736842\n",
       "\\item 0.0294117647058824\n",
       "\\item 0.027027027027027\n",
       "\\item 0.0222222222222222\n",
       "\\item <NA>\n",
       "\\item 0.0294117647058824\n",
       "\\item <NA>\n",
       "\\item 0.02\n",
       "\\item 0.027027027027027\n",
       "\\item 0.0333333333333333\n",
       "\\item 0.0185185185185185\n",
       "\\item 0.0256410256410256\n",
       "\\item 0.025\n",
       "\\item 0.027027027027027\n",
       "\\item 0.0294117647058824\n",
       "\\item 0.0285714285714286\n",
       "\\item 0.0263157894736842\n",
       "\\item 0.0238095238095238\n",
       "\\item 0.0285714285714286\n",
       "\\end{enumerate*}\n",
       "\n",
       "\\end{description}\n",
       "\n",
       "\\item[\\$out\\_cl] \\begin{description}\n",
       "\\item[\\$x] \\begin{enumerate*}\n",
       "\\item -0.406724251871364\n",
       "\\item -0.716497500177991\n",
       "\\item -0.554922942702654\n",
       "\\item 0.554922942702654\n",
       "\\item 0.716497500177991\n",
       "\\item 0\n",
       "\\item <NA>\n",
       "\\item -1.11895838106256\n",
       "\\item <NA>\n",
       "\\item 0.132312852276171\n",
       "\\item 1.41218757890616\n",
       "\\item 0.266994125404953\n",
       "\\item -0.132312852276171\n",
       "\\item -0.899434907667234\n",
       "\\item 0.899434907667234\n",
       "\\item -1.41218757890616\n",
       "\\item 1.93793151085283\n",
       "\\item -1.93793151085283\n",
       "\\item 1.11895838106256\n",
       "\\item -0.266994125404953\n",
       "\\item 0.406724251871364\n",
       "\\end{enumerate*}\n",
       "\n",
       "\\item[\\$y] \\begin{enumerate*}\n",
       "\\item 0.0238095238095238\n",
       "\\item 0.0227272727272727\n",
       "\\item 0.0227272727272727\n",
       "\\item 0.032258064516129\n",
       "\\item 0.0333333333333333\n",
       "\\item 0.0303030303030303\n",
       "\\item <NA>\n",
       "\\item 0.0208333333333333\n",
       "\\item <NA>\n",
       "\\item 0.0303030303030303\n",
       "\\item 0.0416666666666667\n",
       "\\item 0.0303030303030303\n",
       "\\item 0.0263157894736842\n",
       "\\item 0.0212765957446809\n",
       "\\item 0.0333333333333333\n",
       "\\item 0.0178571428571429\n",
       "\\item 0.05\n",
       "\\item 0.0163934426229508\n",
       "\\item 0.0357142857142857\n",
       "\\item 0.0256410256410256\n",
       "\\item 0.0303030303030303\n",
       "\\end{enumerate*}\n",
       "\n",
       "\\end{description}\n",
       "\n",
       "\\end{description}\n"
      ],
      "text/markdown": [
       "$in_degree\n",
       ":   $x\n",
       ":   1. 1.17976111761186\n",
       "2. 1.98075239664728\n",
       "3. -0.241040393886027\n",
       "4. -0.119648113039842\n",
       "5. 0.497200570681554\n",
       "6. -1.17976111761186\n",
       "7. -0.967421566101701\n",
       "8. 0\n",
       "9. 0.637484160962377\n",
       "10. -1.98075239664728\n",
       "11. 0.791638607743375\n",
       "12. 1.46523379268552\n",
       "13. -1.46523379268552\n",
       "14. 0.119648113039842\n",
       "15. -0.637484160962377\n",
       "16. -0.497200570681554\n",
       "17. 0.967421566101701\n",
       "18. -0.36610635680057\n",
       "19. 0.241040393886027\n",
       "20. -0.791638607743375\n",
       "21. 0.36610635680057\n",
       "\n",
       "\n",
       "\n",
       "$y\n",
       ":   1. 8\n",
       "2. 10\n",
       "3. 5\n",
       "4. 5\n",
       "5. 6\n",
       "6. 2\n",
       "7. 3\n",
       "8. 5\n",
       "9. 6\n",
       "10. 1\n",
       "11. 6\n",
       "12. 8\n",
       "13. 1\n",
       "14. 5\n",
       "15. 4\n",
       "16. 4\n",
       "17. 6\n",
       "18. 4\n",
       "19. 5\n",
       "20. 3\n",
       "21. 5\n",
       "\n",
       "\n",
       "\n",
       "\n",
       "\n",
       "\n",
       "$out_degree\n",
       ":   $x\n",
       ":   1. 0.241040393886027\n",
       "2. -0.119648113039842\n",
       "3. -0.791638607743375\n",
       "4. 0.36610635680057\n",
       "5. 0.637484160962377\n",
       "6. 0.497200570681554\n",
       "7. -1.98075239664728\n",
       "8. -1.17976111761186\n",
       "9. -1.46523379268552\n",
       "10. 0.791638607743375\n",
       "11. 1.46523379268552\n",
       "12. 0\n",
       "13. -0.637484160962377\n",
       "14. -0.497200570681554\n",
       "15. 0.967421566101701\n",
       "16. -0.36610635680057\n",
       "17. 1.98075239664728\n",
       "18. -0.967421566101701\n",
       "19. 1.17976111761186\n",
       "20. -0.241040393886027\n",
       "21. 0.119648113039842\n",
       "\n",
       "\n",
       "\n",
       "$y\n",
       ":   1. 5\n",
       "2. 3\n",
       "3. 2\n",
       "4. 6\n",
       "5. 7\n",
       "6. 6\n",
       "7. 0\n",
       "8. 1\n",
       "9. 0\n",
       "10. 7\n",
       "11. 13\n",
       "12. 4\n",
       "13. 2\n",
       "14. 2\n",
       "15. 8\n",
       "16. 2\n",
       "17. 18\n",
       "18. 1\n",
       "19. 9\n",
       "20. 2\n",
       "21. 4\n",
       "\n",
       "\n",
       "\n",
       "\n",
       "\n",
       "\n",
       "$betweenness\n",
       ":   $x\n",
       ":   1. 0.637484160962377\n",
       "2. 0.967421566101701\n",
       "3. -0.36610635680057\n",
       "4. 0.791638607743375\n",
       "5. 0.119648113039842\n",
       "6. -0.119648113039842\n",
       "7. -1.98075239664728\n",
       "8. -0.791638607743375\n",
       "9. -1.46523379268552\n",
       "10. -1.17976111761186\n",
       "11. 1.46523379268552\n",
       "12. 0.241040393886027\n",
       "13. -0.967421566101701\n",
       "14. 0\n",
       "15. 0.497200570681554\n",
       "16. -0.497200570681554\n",
       "17. 1.98075239664728\n",
       "18. -0.637484160962377\n",
       "19. 0.36610635680057\n",
       "20. -0.241040393886027\n",
       "21. 1.17976111761186\n",
       "\n",
       "\n",
       "\n",
       "$y\n",
       ":   1. 29.0666666666667\n",
       "2. 33.4833333333333\n",
       "3. 1.9\n",
       "4. 31.6666666666667\n",
       "5. 17.4166666666667\n",
       "6. 3.73333333333333\n",
       "7. 0\n",
       "8. 0.5\n",
       "9. 0\n",
       "10. 0\n",
       "11. 58.45\n",
       "12. 19.6583333333333\n",
       "13. 0\n",
       "14. 5.58333333333333\n",
       "15. 22.5666666666667\n",
       "16. 1\n",
       "17. 134.433333333333\n",
       "18. 0.7\n",
       "19. 21.8833333333333\n",
       "20. 3.04166666666667\n",
       "21. 33.9166666666667\n",
       "\n",
       "\n",
       "\n",
       "\n",
       "\n",
       "\n",
       "$eigen\n",
       ":   $x\n",
       ":   1. 1.46523379268552\n",
       "2. 1.98075239664728\n",
       "3. -0.497200570681554\n",
       "4. 0.967421566101701\n",
       "5. -0.36610635680057\n",
       "6. -1.17976111761186\n",
       "7. -0.791638607743375\n",
       "8. 0.497200570681554\n",
       "9. -0.241040393886027\n",
       "10. -1.46523379268552\n",
       "11. -0.119648113039842\n",
       "12. 1.17976111761186\n",
       "13. -1.98075239664728\n",
       "14. 0.119648113039842\n",
       "15. -0.637484160962377\n",
       "16. 0.36610635680057\n",
       "17. 0.791638607743375\n",
       "18. 0.241040393886027\n",
       "19. 0\n",
       "20. -0.967421566101701\n",
       "21. 0.637484160962377\n",
       "\n",
       "\n",
       "\n",
       "$y\n",
       ":   1. 0.921955519056587\n",
       "2. 1\n",
       "3. 0.379397820936892\n",
       "4. 0.63907025592078\n",
       "5. 0.395603732714476\n",
       "6. 0.190106139228439\n",
       "7. 0.239582506204918\n",
       "8. 0.531385011631243\n",
       "9. 0.411138542132591\n",
       "10. 0.117237258200978\n",
       "11. 0.413361941356811\n",
       "12. 0.768779482226229\n",
       "13. 0.0818468518260747\n",
       "14. 0.427790189125849\n",
       "15. 0.368019312337357\n",
       "16. 0.449538159805168\n",
       "17. 0.592098774333887\n",
       "18. 0.439858816273138\n",
       "19. 0.425405524973033\n",
       "20. 0.224682088083356\n",
       "21. 0.583432913911837\n",
       "\n",
       "\n",
       "\n",
       "\n",
       "\n",
       "\n",
       "$in_cl\n",
       ":   $x\n",
       ":   1. 1.41218757890616\n",
       "2. 1.93793151085283\n",
       "3. -0.406724251871364\n",
       "4. 0.554922942702654\n",
       "5. -0.132312852276171\n",
       "6. -1.11895838106256\n",
       "7. &lt;NA&gt;\n",
       "8. 0.716497500177991\n",
       "9. &lt;NA&gt;\n",
       "10. -1.41218757890616\n",
       "11. 0\n",
       "12. 1.11895838106256\n",
       "13. -1.93793151085283\n",
       "14. -0.554922942702654\n",
       "15. -0.716497500177991\n",
       "16. 0.132312852276171\n",
       "17. 0.899434907667234\n",
       "18. 0.266994125404953\n",
       "19. -0.266994125404953\n",
       "20. -0.899434907667234\n",
       "21. 0.406724251871364\n",
       "\n",
       "\n",
       "\n",
       "$y\n",
       ":   1. 0.0357142857142857\n",
       "2. 0.037037037037037\n",
       "3. 0.0263157894736842\n",
       "4. 0.0294117647058824\n",
       "5. 0.027027027027027\n",
       "6. 0.0222222222222222\n",
       "7. &lt;NA&gt;\n",
       "8. 0.0294117647058824\n",
       "9. &lt;NA&gt;\n",
       "10. 0.02\n",
       "11. 0.027027027027027\n",
       "12. 0.0333333333333333\n",
       "13. 0.0185185185185185\n",
       "14. 0.0256410256410256\n",
       "15. 0.025\n",
       "16. 0.027027027027027\n",
       "17. 0.0294117647058824\n",
       "18. 0.0285714285714286\n",
       "19. 0.0263157894736842\n",
       "20. 0.0238095238095238\n",
       "21. 0.0285714285714286\n",
       "\n",
       "\n",
       "\n",
       "\n",
       "\n",
       "\n",
       "$out_cl\n",
       ":   $x\n",
       ":   1. -0.406724251871364\n",
       "2. -0.716497500177991\n",
       "3. -0.554922942702654\n",
       "4. 0.554922942702654\n",
       "5. 0.716497500177991\n",
       "6. 0\n",
       "7. &lt;NA&gt;\n",
       "8. -1.11895838106256\n",
       "9. &lt;NA&gt;\n",
       "10. 0.132312852276171\n",
       "11. 1.41218757890616\n",
       "12. 0.266994125404953\n",
       "13. -0.132312852276171\n",
       "14. -0.899434907667234\n",
       "15. 0.899434907667234\n",
       "16. -1.41218757890616\n",
       "17. 1.93793151085283\n",
       "18. -1.93793151085283\n",
       "19. 1.11895838106256\n",
       "20. -0.266994125404953\n",
       "21. 0.406724251871364\n",
       "\n",
       "\n",
       "\n",
       "$y\n",
       ":   1. 0.0238095238095238\n",
       "2. 0.0227272727272727\n",
       "3. 0.0227272727272727\n",
       "4. 0.032258064516129\n",
       "5. 0.0333333333333333\n",
       "6. 0.0303030303030303\n",
       "7. &lt;NA&gt;\n",
       "8. 0.0208333333333333\n",
       "9. &lt;NA&gt;\n",
       "10. 0.0303030303030303\n",
       "11. 0.0416666666666667\n",
       "12. 0.0303030303030303\n",
       "13. 0.0263157894736842\n",
       "14. 0.0212765957446809\n",
       "15. 0.0333333333333333\n",
       "16. 0.0178571428571429\n",
       "17. 0.05\n",
       "18. 0.0163934426229508\n",
       "19. 0.0357142857142857\n",
       "20. 0.0256410256410256\n",
       "21. 0.0303030303030303\n",
       "\n",
       "\n",
       "\n",
       "\n",
       "\n",
       "\n",
       "\n",
       "\n"
      ],
      "text/plain": [
       "$in_degree\n",
       "$in_degree$x\n",
       " [1]  1.1797611  1.9807524 -0.2410404 -0.1196481  0.4972006 -1.1797611\n",
       " [7] -0.9674216  0.0000000  0.6374842 -1.9807524  0.7916386  1.4652338\n",
       "[13] -1.4652338  0.1196481 -0.6374842 -0.4972006  0.9674216 -0.3661064\n",
       "[19]  0.2410404 -0.7916386  0.3661064\n",
       "\n",
       "$in_degree$y\n",
       " [1]  8 10  5  5  6  2  3  5  6  1  6  8  1  5  4  4  6  4  5  3  5\n",
       "\n",
       "\n",
       "$out_degree\n",
       "$out_degree$x\n",
       " [1]  0.2410404 -0.1196481 -0.7916386  0.3661064  0.6374842  0.4972006\n",
       " [7] -1.9807524 -1.1797611 -1.4652338  0.7916386  1.4652338  0.0000000\n",
       "[13] -0.6374842 -0.4972006  0.9674216 -0.3661064  1.9807524 -0.9674216\n",
       "[19]  1.1797611 -0.2410404  0.1196481\n",
       "\n",
       "$out_degree$y\n",
       " [1]  5  3  2  6  7  6  0  1  0  7 13  4  2  2  8  2 18  1  9  2  4\n",
       "\n",
       "\n",
       "$betweenness\n",
       "$betweenness$x\n",
       " [1]  0.6374842  0.9674216 -0.3661064  0.7916386  0.1196481 -0.1196481\n",
       " [7] -1.9807524 -0.7916386 -1.4652338 -1.1797611  1.4652338  0.2410404\n",
       "[13] -0.9674216  0.0000000  0.4972006 -0.4972006  1.9807524 -0.6374842\n",
       "[19]  0.3661064 -0.2410404  1.1797611\n",
       "\n",
       "$betweenness$y\n",
       " [1]  29.066667  33.483333   1.900000  31.666667  17.416667   3.733333\n",
       " [7]   0.000000   0.500000   0.000000   0.000000  58.450000  19.658333\n",
       "[13]   0.000000   5.583333  22.566667   1.000000 134.433333   0.700000\n",
       "[19]  21.883333   3.041667  33.916667\n",
       "\n",
       "\n",
       "$eigen\n",
       "$eigen$x\n",
       " [1]  1.4652338  1.9807524 -0.4972006  0.9674216 -0.3661064 -1.1797611\n",
       " [7] -0.7916386  0.4972006 -0.2410404 -1.4652338 -0.1196481  1.1797611\n",
       "[13] -1.9807524  0.1196481 -0.6374842  0.3661064  0.7916386  0.2410404\n",
       "[19]  0.0000000 -0.9674216  0.6374842\n",
       "\n",
       "$eigen$y\n",
       " [1] 0.92195552 1.00000000 0.37939782 0.63907026 0.39560373 0.19010614\n",
       " [7] 0.23958251 0.53138501 0.41113854 0.11723726 0.41336194 0.76877948\n",
       "[13] 0.08184685 0.42779019 0.36801931 0.44953816 0.59209877 0.43985882\n",
       "[19] 0.42540552 0.22468209 0.58343291\n",
       "\n",
       "\n",
       "$in_cl\n",
       "$in_cl$x\n",
       " [1]  1.4121876  1.9379315 -0.4067243  0.5549229 -0.1323129 -1.1189584\n",
       " [7]         NA  0.7164975         NA -1.4121876  0.0000000  1.1189584\n",
       "[13] -1.9379315 -0.5549229 -0.7164975  0.1323129  0.8994349  0.2669941\n",
       "[19] -0.2669941 -0.8994349  0.4067243\n",
       "\n",
       "$in_cl$y\n",
       " [1] 0.03571429 0.03703704 0.02631579 0.02941176 0.02702703 0.02222222\n",
       " [7]         NA 0.02941176         NA 0.02000000 0.02702703 0.03333333\n",
       "[13] 0.01851852 0.02564103 0.02500000 0.02702703 0.02941176 0.02857143\n",
       "[19] 0.02631579 0.02380952 0.02857143\n",
       "\n",
       "\n",
       "$out_cl\n",
       "$out_cl$x\n",
       " [1] -0.4067243 -0.7164975 -0.5549229  0.5549229  0.7164975  0.0000000\n",
       " [7]         NA -1.1189584         NA  0.1323129  1.4121876  0.2669941\n",
       "[13] -0.1323129 -0.8994349  0.8994349 -1.4121876  1.9379315 -1.9379315\n",
       "[19]  1.1189584 -0.2669941  0.4067243\n",
       "\n",
       "$out_cl$y\n",
       " [1] 0.02380952 0.02272727 0.02272727 0.03225806 0.03333333 0.03030303\n",
       " [7]         NA 0.02083333         NA 0.03030303 0.04166667 0.03030303\n",
       "[13] 0.02631579 0.02127660 0.03333333 0.01785714 0.05000000 0.01639344\n",
       "[19] 0.03571429 0.02564103 0.03030303\n",
       "\n"
      ]
     },
     "metadata": {},
     "output_type": "display_data"
    },
    {
     "data": {
      "image/png": "[encoded data removed]",
      "text/plain": [
       "Plot with title \"Normal Q-Q Plot\""
      ]
     },
     "metadata": {},
     "output_type": "display_data"
    }
   ],
   "source": [
    "apply(friendship_centrality_all[,-1], 2, shapiro.test)\n",
    "apply(friendship_centrality_all[,-1], 2, qqnorm)"
   ]
  },
  {
   "cell_type": "markdown",
   "metadata": {},
   "source": [
    "Not all metrics are normally distributed (betweenness and out_degree). \n",
    "So, better compute Spearman correlation coefficient"
   ]
  },
  {
   "cell_type": "code",
   "execution_count": 66,
   "metadata": {},
   "outputs": [
    {
     "data": {
      "text/html": [
       "<table>\n",
       "<thead><tr><th></th><th scope=col>in_degree</th><th scope=col>out_degree</th><th scope=col>betweenness</th><th scope=col>eigen</th><th scope=col>in_cl</th><th scope=col>out_cl</th></tr></thead>\n",
       "<tbody>\n",
       "\t<tr><th scope=row>in_degree</th><td>1.0000000  </td><td> 0.24469670</td><td>0.6912711  </td><td> 0.77868134</td><td> 0.82661913</td><td> 0.18265620</td></tr>\n",
       "\t<tr><th scope=row>out_degree</th><td>0.2446967  </td><td> 1.00000000</td><td>0.6248662  </td><td>-0.04344217</td><td>-0.02582419</td><td> 0.92737511</td></tr>\n",
       "\t<tr><th scope=row>betweenness</th><td>0.6912711  </td><td> 0.62486621</td><td>1.0000000  </td><td> 0.55901717</td><td> 0.53063441</td><td> 0.58977315</td></tr>\n",
       "\t<tr><th scope=row>eigen</th><td>0.7786813  </td><td>-0.04344217</td><td>0.5590172  </td><td> 1.00000000</td><td> 0.95859961</td><td>-0.13315883</td></tr>\n",
       "\t<tr><th scope=row>in_cl</th><td>0.8266191  </td><td>-0.02582419</td><td>0.5306344  </td><td> 0.95859961</td><td> 1.00000000</td><td>-0.09565991</td></tr>\n",
       "\t<tr><th scope=row>out_cl</th><td>0.1826562  </td><td> 0.92737511</td><td>0.5897732  </td><td>-0.13315883</td><td>-0.09565991</td><td> 1.00000000</td></tr>\n",
       "</tbody>\n",
       "</table>\n"
      ],
      "text/latex": [
       "\\begin{tabular}{r|llllll}\n",
       "  & in\\_degree & out\\_degree & betweenness & eigen & in\\_cl & out\\_cl\\\\\n",
       "\\hline\n",
       "\tin\\_degree & 1.0000000   &  0.24469670 & 0.6912711   &  0.77868134 &  0.82661913 &  0.18265620\\\\\n",
       "\tout\\_degree & 0.2446967   &  1.00000000 & 0.6248662   & -0.04344217 & -0.02582419 &  0.92737511\\\\\n",
       "\tbetweenness & 0.6912711   &  0.62486621 & 1.0000000   &  0.55901717 &  0.53063441 &  0.58977315\\\\\n",
       "\teigen & 0.7786813   & -0.04344217 & 0.5590172   &  1.00000000 &  0.95859961 & -0.13315883\\\\\n",
       "\tin\\_cl & 0.8266191   & -0.02582419 & 0.5306344   &  0.95859961 &  1.00000000 & -0.09565991\\\\\n",
       "\tout\\_cl & 0.1826562   &  0.92737511 & 0.5897732   & -0.13315883 & -0.09565991 &  1.00000000\\\\\n",
       "\\end{tabular}\n"
      ],
      "text/markdown": [
       "\n",
       "| <!--/--> | in_degree | out_degree | betweenness | eigen | in_cl | out_cl |\n",
       "|---|---|---|---|---|---|---|\n",
       "| in_degree | 1.0000000   |  0.24469670 | 0.6912711   |  0.77868134 |  0.82661913 |  0.18265620 |\n",
       "| out_degree | 0.2446967   |  1.00000000 | 0.6248662   | -0.04344217 | -0.02582419 |  0.92737511 |\n",
       "| betweenness | 0.6912711   |  0.62486621 | 1.0000000   |  0.55901717 |  0.53063441 |  0.58977315 |\n",
       "| eigen | 0.7786813   | -0.04344217 | 0.5590172   |  1.00000000 |  0.95859961 | -0.13315883 |\n",
       "| in_cl | 0.8266191   | -0.02582419 | 0.5306344   |  0.95859961 |  1.00000000 | -0.09565991 |\n",
       "| out_cl | 0.1826562   |  0.92737511 | 0.5897732   | -0.13315883 | -0.09565991 |  1.00000000 |\n",
       "\n"
      ],
      "text/plain": [
       "            in_degree out_degree  betweenness eigen       in_cl      \n",
       "in_degree   1.0000000  0.24469670 0.6912711    0.77868134  0.82661913\n",
       "out_degree  0.2446967  1.00000000 0.6248662   -0.04344217 -0.02582419\n",
       "betweenness 0.6912711  0.62486621 1.0000000    0.55901717  0.53063441\n",
       "eigen       0.7786813 -0.04344217 0.5590172    1.00000000  0.95859961\n",
       "in_cl       0.8266191 -0.02582419 0.5306344    0.95859961  1.00000000\n",
       "out_cl      0.1826562  0.92737511 0.5897732   -0.13315883 -0.09565991\n",
       "            out_cl     \n",
       "in_degree    0.18265620\n",
       "out_degree   0.92737511\n",
       "betweenness  0.58977315\n",
       "eigen       -0.13315883\n",
       "in_cl       -0.09565991\n",
       "out_cl       1.00000000"
      ]
     },
     "metadata": {},
     "output_type": "display_data"
    }
   ],
   "source": [
    "centrality_corr <- cor(friendship_centrality_all[,-1], \n",
    "                       use='complete.obs', # has to be set as we have a few NAs\n",
    "                       method = 'spearman')\n",
    "centrality_corr"
   ]
  },
  {
   "cell_type": "markdown",
   "metadata": {},
   "source": [
    "Not that easy to read and follow...\n",
    "We will use the corrpolot() function from the *corrplot* R package \n",
    "to visually represent the computed correlations table"
   ]
  },
  {
   "cell_type": "code",
   "execution_count": 69,
   "metadata": {},
   "outputs": [],
   "source": [
    "#install.packages('corrplot')\n",
    "library(corrplot)"
   ]
  },
  {
   "cell_type": "code",
   "execution_count": 70,
   "metadata": {},
   "outputs": [
    {
     "data": {
      "image/png": "[encoded data removed]",
      "text/plain": [
       "Plot with title \"\""
      ]
     },
     "metadata": {},
     "output_type": "display_data"
    }
   ],
   "source": [
    "corrplot(corr = centrality_corr, \n",
    "         type = \"upper\", \n",
    "         diag = FALSE,\n",
    "         addCoef.col = \"black\")"
   ]
  },
  {
   "cell_type": "markdown",
   "metadata": {},
   "source": [
    "Note:\n",
    "To examine the plotting options of the corrplot function\n",
    "check, for example, this page:\n",
    "https://rpubs.com/melike/corrplot"
   ]
  },
  {
   "cell_type": "markdown",
   "metadata": {},
   "source": [
    "Interpretation:\n",
    "In-degree and out-degree have low positive correlation (rho = 0.24),\n",
    "indicating that naming someone a friend is not that often reciprocated\n",
    "(e.g., naming many people as friends does not mean that the person will\n",
    "be recognised as a friend by many others)"
   ]
  },
  {
   "cell_type": "markdown",
   "metadata": {},
   "source": [
    "In-degree is highly positively correlated with in-closeness, eigenvector \n",
    "centrality (EC), and betweenness. This suggests that those who have been\n",
    "named by many others as friends have good network position that is often\n",
    "associated with having power and influence in the network. "
   ]
  },
  {
   "cell_type": "markdown",
   "metadata": {},
   "source": [
    "Out-degree is highly correlated with out-closeness, and to a lesser \n",
    "extent with betweeness. This implies that those who have named many alters\n",
    "as friends have higher chances to act as intermediaries in the network\n",
    "(betweenness) and can reach many others through outbound edges."
   ]
  },
  {
   "cell_type": "markdown",
   "metadata": {},
   "source": [
    "There is almost perfect positive correlation between in-closeness and\n",
    "eigenvector centrality. It suggests that those who are close to many others \n",
    "by being named a friend are also those who have well connected friends \n",
    "(eigenvector). Both metrics are also highly correlated with in-degree. "
   ]
  },
  {
   "cell_type": "markdown",
   "metadata": {},
   "source": [
    "##### TASK 6: \n",
    "\n",
    "Do the same kind of analysis - computation of centrality measures \n",
    "and interpretation of their correlations for the advice network."
   ]
  },
  {
   "cell_type": "code",
   "execution_count": null,
   "metadata": {},
   "outputs": [],
   "source": []
  }
 ],
 "metadata": {
  "kernelspec": {
   "display_name": "R",
   "language": "R",
   "name": "ir"
  },
  "language_info": {
   "codemirror_mode": "r",
   "file_extension": ".r",
   "mimetype": "text/x-r-source",
   "name": "R",
   "pygments_lexer": "r",
   "version": "3.6.1"
  }
 },
 "nbformat": 4,
 "nbformat_minor": 2
}
