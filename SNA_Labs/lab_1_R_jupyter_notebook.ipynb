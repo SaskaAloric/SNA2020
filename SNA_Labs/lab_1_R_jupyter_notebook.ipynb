{
 "cells": [
  {
   "cell_type": "markdown",
   "metadata": {},
   "source": [
    "## LAB 1 - Introductory Lab - notebook version"
   ]
  },
  {
   "cell_type": "markdown",
   "metadata": {},
   "source": [
    "This R script is partially based on the 'Introductory Lab' \n",
    "from the Social Network Analysis course at Stanford University\n",
    "(available at: https://sna.stanford.edu/lab.php?l=1)"
   ]
  },
  {
   "cell_type": "markdown",
   "metadata": {},
   "source": [
    "The objectives of this lab are to:\n",
    "- introduce the *igraph* R package          \n",
    "- load and manage network data\n",
    "- create and explore graph objects\n",
    "- generate network visualizations\n",
    "- export the network (graph) data for use in  \n",
    "  subsequent analysis"
   ]
  },
  {
   "cell_type": "markdown",
   "metadata": {},
   "source": [
    "#### 0. IGRAPH R PACKAGE"
   ]
  },
  {
   "cell_type": "markdown",
   "metadata": {},
   "source": [
    "In this and all subsequent labs, we will use the *igraph* R package, one of the most popular R packages for SNA.\n",
    "The official manual is available at: http://cran.r-project.org/web/packages/igraph/igraph.pdf\n",
    "also at: http://igraph.org/r/\n",
    "\n",
    "There is also an excellent tutorial for R and igraph beginners available at: http://kateto.net/networks-r-igraph\n",
    "It starts with introduction (reminder) of basic R constructs and then proceeds to cover igraph; it offers a detailed coverage of igraph functionalities in an easy to follow, step-by-step manner. \n",
    "\n",
    "\n",
    "If you haven't used the *igraph* package before, you'll have to install it first:\n",
    "```install.packages('igraph')```"
   ]
  },
  {
   "cell_type": "code",
   "execution_count": 1,
   "metadata": {},
   "outputs": [],
   "source": [
    "#install.packages(\"igraph\")"
   ]
  },
  {
   "cell_type": "code",
   "execution_count": 1,
   "metadata": {},
   "outputs": [
    {
     "data": {
      "text/html": [
       "5"
      ],
      "text/latex": [
       "5"
      ],
      "text/markdown": [
       "5"
      ],
      "text/plain": [
       "[1] 5"
      ]
     },
     "metadata": {},
     "output_type": "display_data"
    }
   ],
   "source": [
    "2+3"
   ]
  },
  {
   "cell_type": "code",
   "execution_count": null,
   "metadata": {},
   "outputs": [],
   "source": []
  },
  {
   "cell_type": "code",
   "execution_count": null,
   "metadata": {},
   "outputs": [],
   "source": []
  },
  {
   "cell_type": "markdown",
   "metadata": {},
   "source": [
    "This and the following labs use the current version of igraph which is 1.2.6. To check your version type:"
   ]
  },
  {
   "cell_type": "code",
   "execution_count": 2,
   "metadata": {},
   "outputs": [
    {
     "data": {
      "text/plain": [
       "[1] '1.2.6'"
      ]
     },
     "metadata": {},
     "output_type": "display_data"
    }
   ],
   "source": [
    "packageVersion('igraph')"
   ]
  },
  {
   "cell_type": "markdown",
   "metadata": {},
   "source": [
    "The installation is done only once, but you'll have to load the package each time you need to use it:"
   ]
  },
  {
   "cell_type": "code",
   "execution_count": 3,
   "metadata": {},
   "outputs": [
    {
     "name": "stderr",
     "output_type": "stream",
     "text": [
      "Warning message:\n",
      "\"package 'igraph' was built under R version 3.6.3\"\n",
      "Attaching package: 'igraph'\n",
      "\n",
      "The following objects are masked from 'package:stats':\n",
      "\n",
      "    decompose, spectrum\n",
      "\n",
      "The following object is masked from 'package:base':\n",
      "\n",
      "    union\n",
      "\n"
     ]
    }
   ],
   "source": [
    "library(igraph)"
   ]
  },
  {
   "cell_type": "markdown",
   "metadata": {},
   "source": [
    "Sometimes, different packages overlap in functionality and cause unexpected behavior when both are loaded simultaneously.\n",
    "If you ever want to remove an existing library, use the \"detach\" command: ```detach(package:igraph)```"
   ]
  },
  {
   "cell_type": "markdown",
   "metadata": {},
   "source": [
    "#### 1. LOADING NETWORK DATA"
   ]
  },
  {
   "cell_type": "markdown",
   "metadata": {},
   "source": [
    "We will use David Krackhardt's High-tech Managers Networks data set.\n",
    "The data were collected from 21 management personnel in a high-tech, machine manufacturing firm to assess the effects of a recent management intervention program.\n",
    "The data set and its description are available at: \n",
    "http://networkdata.ics.uci.edu/netdata/html/krackHighTech.html"
   ]
  },
  {
   "cell_type": "markdown",
   "metadata": {},
   "source": [
    "We will load edge lists for 3 networks with the same actors (nodes), but different kinds of ties among them:\n",
    "- advice ties - one actor (ego) tends to ask the other (alter) for advice\n",
    "- friendship ties - one actor (ego) has named the other actor (alter) as a friend\n",
    "- reports-to ties - one actor (ego) reports to the other one (alter)\n",
    "All three networks are directed."
   ]
  },
  {
   "cell_type": "markdown",
   "metadata": {},
   "source": [
    "These edge lists are stored in tabular format in **.txt** files.\n",
    "To read data from those files, we will use the ```read.table()``` function.\n",
    "read.table() is a common R function for loading data from files in which values are in tabular format. The function loads\n",
    "the table into a data frame object. By default, R assumes that the table has no header and the values are delimited by any white space; these settings are fine for our purposes here.\n",
    "\n",
    "One handy aspect of R is that you can read in data from a URL directly by referencing the URL in the read.table() function, as follows: "
   ]
  },
  {
   "cell_type": "code",
   "execution_count": 4,
   "metadata": {},
   "outputs": [],
   "source": [
    "advice_data_frame <- read.table('http://sna.stanford.edu/sna_R_labs/data/Krack-High-Tec-edgelist-Advice.txt')\n",
    "friendship_data_frame <- read.table('http://sna.stanford.edu/sna_R_labs/data/Krack-High-Tec-edgelist-Friendship.txt')\n",
    "reports_to_data_frame <- read.table('http://sna.stanford.edu/sna_R_labs/data/Krack-High-Tec-edgelist-ReportsTo.txt')"
   ]
  },
  {
   "cell_type": "code",
   "execution_count": 5,
   "metadata": {},
   "outputs": [],
   "source": [
    "# #If the files you want to work with are on your local machine, you can reference them by the path name:\n",
    "# advice_data_frame <- read.table('data/Krack-High-Tec-edgelist-Advice.txt')\n",
    "# friendship_data_frame <- read.table('data/Krack-High-Tec-edgelist-Friendship.txt')\n",
    "# reports_to_data_frame <- read.table('data/Krack-High-Tec-edgelist-ReportsTo.txt')"
   ]
  },
  {
   "cell_type": "code",
   "execution_count": 6,
   "metadata": {
    "scrolled": false
   },
   "outputs": [
    {
     "data": {
      "text/html": [
       "<table>\n",
       "<thead><tr><th scope=col>V1</th><th scope=col>V2</th><th scope=col>V3</th></tr></thead>\n",
       "<tbody>\n",
       "\t<tr><td>1 </td><td> 1</td><td>0 </td></tr>\n",
       "\t<tr><td>1 </td><td> 2</td><td>1 </td></tr>\n",
       "\t<tr><td>1 </td><td> 3</td><td>0 </td></tr>\n",
       "\t<tr><td>1 </td><td> 4</td><td>1 </td></tr>\n",
       "\t<tr><td>1 </td><td> 5</td><td>0 </td></tr>\n",
       "\t<tr><td>1 </td><td> 6</td><td>0 </td></tr>\n",
       "\t<tr><td>1 </td><td> 7</td><td>0 </td></tr>\n",
       "\t<tr><td>1 </td><td> 8</td><td>1 </td></tr>\n",
       "\t<tr><td>1 </td><td> 9</td><td>0 </td></tr>\n",
       "\t<tr><td>1 </td><td>10</td><td>0 </td></tr>\n",
       "</tbody>\n",
       "</table>\n"
      ],
      "text/latex": [
       "\\begin{tabular}{r|lll}\n",
       " V1 & V2 & V3\\\\\n",
       "\\hline\n",
       "\t 1  &  1 & 0 \\\\\n",
       "\t 1  &  2 & 1 \\\\\n",
       "\t 1  &  3 & 0 \\\\\n",
       "\t 1  &  4 & 1 \\\\\n",
       "\t 1  &  5 & 0 \\\\\n",
       "\t 1  &  6 & 0 \\\\\n",
       "\t 1  &  7 & 0 \\\\\n",
       "\t 1  &  8 & 1 \\\\\n",
       "\t 1  &  9 & 0 \\\\\n",
       "\t 1  & 10 & 0 \\\\\n",
       "\\end{tabular}\n"
      ],
      "text/markdown": [
       "\n",
       "| V1 | V2 | V3 |\n",
       "|---|---|---|\n",
       "| 1  |  1 | 0  |\n",
       "| 1  |  2 | 1  |\n",
       "| 1  |  3 | 0  |\n",
       "| 1  |  4 | 1  |\n",
       "| 1  |  5 | 0  |\n",
       "| 1  |  6 | 0  |\n",
       "| 1  |  7 | 0  |\n",
       "| 1  |  8 | 1  |\n",
       "| 1  |  9 | 0  |\n",
       "| 1  | 10 | 0  |\n",
       "\n"
      ],
      "text/plain": [
       "   V1 V2 V3\n",
       "1  1   1 0 \n",
       "2  1   2 1 \n",
       "3  1   3 0 \n",
       "4  1   4 1 \n",
       "5  1   5 0 \n",
       "6  1   6 0 \n",
       "7  1   7 0 \n",
       "8  1   8 1 \n",
       "9  1   9 0 \n",
       "10 1  10 0 "
      ]
     },
     "metadata": {},
     "output_type": "display_data"
    },
    {
     "data": {
      "text/html": [
       "<table>\n",
       "<thead><tr><th scope=col>V1</th><th scope=col>V2</th><th scope=col>V3</th></tr></thead>\n",
       "<tbody>\n",
       "\t<tr><td>1 </td><td> 1</td><td>0 </td></tr>\n",
       "\t<tr><td>1 </td><td> 2</td><td>1 </td></tr>\n",
       "\t<tr><td>1 </td><td> 3</td><td>0 </td></tr>\n",
       "\t<tr><td>1 </td><td> 4</td><td>1 </td></tr>\n",
       "\t<tr><td>1 </td><td> 5</td><td>0 </td></tr>\n",
       "\t<tr><td>1 </td><td> 6</td><td>0 </td></tr>\n",
       "\t<tr><td>1 </td><td> 7</td><td>0 </td></tr>\n",
       "\t<tr><td>1 </td><td> 8</td><td>1 </td></tr>\n",
       "\t<tr><td>1 </td><td> 9</td><td>0 </td></tr>\n",
       "\t<tr><td>1 </td><td>10</td><td>0 </td></tr>\n",
       "</tbody>\n",
       "</table>\n"
      ],
      "text/latex": [
       "\\begin{tabular}{r|lll}\n",
       " V1 & V2 & V3\\\\\n",
       "\\hline\n",
       "\t 1  &  1 & 0 \\\\\n",
       "\t 1  &  2 & 1 \\\\\n",
       "\t 1  &  3 & 0 \\\\\n",
       "\t 1  &  4 & 1 \\\\\n",
       "\t 1  &  5 & 0 \\\\\n",
       "\t 1  &  6 & 0 \\\\\n",
       "\t 1  &  7 & 0 \\\\\n",
       "\t 1  &  8 & 1 \\\\\n",
       "\t 1  &  9 & 0 \\\\\n",
       "\t 1  & 10 & 0 \\\\\n",
       "\\end{tabular}\n"
      ],
      "text/markdown": [
       "\n",
       "| V1 | V2 | V3 |\n",
       "|---|---|---|\n",
       "| 1  |  1 | 0  |\n",
       "| 1  |  2 | 1  |\n",
       "| 1  |  3 | 0  |\n",
       "| 1  |  4 | 1  |\n",
       "| 1  |  5 | 0  |\n",
       "| 1  |  6 | 0  |\n",
       "| 1  |  7 | 0  |\n",
       "| 1  |  8 | 1  |\n",
       "| 1  |  9 | 0  |\n",
       "| 1  | 10 | 0  |\n",
       "\n"
      ],
      "text/plain": [
       "   V1 V2 V3\n",
       "1  1   1 0 \n",
       "2  1   2 1 \n",
       "3  1   3 0 \n",
       "4  1   4 1 \n",
       "5  1   5 0 \n",
       "6  1   6 0 \n",
       "7  1   7 0 \n",
       "8  1   8 1 \n",
       "9  1   9 0 \n",
       "10 1  10 0 "
      ]
     },
     "metadata": {},
     "output_type": "display_data"
    },
    {
     "data": {
      "text/html": [
       "<table>\n",
       "<thead><tr><th scope=col>V1</th><th scope=col>V2</th><th scope=col>V3</th></tr></thead>\n",
       "<tbody>\n",
       "\t<tr><td>1 </td><td> 1</td><td>0 </td></tr>\n",
       "\t<tr><td>1 </td><td> 2</td><td>1 </td></tr>\n",
       "\t<tr><td>1 </td><td> 3</td><td>0 </td></tr>\n",
       "\t<tr><td>1 </td><td> 4</td><td>0 </td></tr>\n",
       "\t<tr><td>1 </td><td> 5</td><td>0 </td></tr>\n",
       "\t<tr><td>1 </td><td> 6</td><td>0 </td></tr>\n",
       "\t<tr><td>1 </td><td> 7</td><td>0 </td></tr>\n",
       "\t<tr><td>1 </td><td> 8</td><td>0 </td></tr>\n",
       "\t<tr><td>1 </td><td> 9</td><td>0 </td></tr>\n",
       "\t<tr><td>1 </td><td>10</td><td>0 </td></tr>\n",
       "</tbody>\n",
       "</table>\n"
      ],
      "text/latex": [
       "\\begin{tabular}{r|lll}\n",
       " V1 & V2 & V3\\\\\n",
       "\\hline\n",
       "\t 1  &  1 & 0 \\\\\n",
       "\t 1  &  2 & 1 \\\\\n",
       "\t 1  &  3 & 0 \\\\\n",
       "\t 1  &  4 & 0 \\\\\n",
       "\t 1  &  5 & 0 \\\\\n",
       "\t 1  &  6 & 0 \\\\\n",
       "\t 1  &  7 & 0 \\\\\n",
       "\t 1  &  8 & 0 \\\\\n",
       "\t 1  &  9 & 0 \\\\\n",
       "\t 1  & 10 & 0 \\\\\n",
       "\\end{tabular}\n"
      ],
      "text/markdown": [
       "\n",
       "| V1 | V2 | V3 |\n",
       "|---|---|---|\n",
       "| 1  |  1 | 0  |\n",
       "| 1  |  2 | 1  |\n",
       "| 1  |  3 | 0  |\n",
       "| 1  |  4 | 0  |\n",
       "| 1  |  5 | 0  |\n",
       "| 1  |  6 | 0  |\n",
       "| 1  |  7 | 0  |\n",
       "| 1  |  8 | 0  |\n",
       "| 1  |  9 | 0  |\n",
       "| 1  | 10 | 0  |\n",
       "\n"
      ],
      "text/plain": [
       "   V1 V2 V3\n",
       "1  1   1 0 \n",
       "2  1   2 1 \n",
       "3  1   3 0 \n",
       "4  1   4 0 \n",
       "5  1   5 0 \n",
       "6  1   6 0 \n",
       "7  1   7 0 \n",
       "8  1   8 0 \n",
       "9  1   9 0 \n",
       "10 1  10 0 "
      ]
     },
     "metadata": {},
     "output_type": "display_data"
    }
   ],
   "source": [
    "# Let's see what these data frames look like\n",
    "head(advice_data_frame, n=10)\n",
    "head(friendship_data_frame, 10)\n",
    "head(reports_to_data_frame, 10)"
   ]
  },
  {
   "cell_type": "markdown",
   "metadata": {},
   "source": [
    "We can also examine the structure of the data frame:"
   ]
  },
  {
   "cell_type": "code",
   "execution_count": 7,
   "metadata": {},
   "outputs": [
    {
     "name": "stdout",
     "output_type": "stream",
     "text": [
      "'data.frame':\t441 obs. of  3 variables:\n",
      " $ V1: int  1 1 1 1 1 1 1 1 1 1 ...\n",
      " $ V2: int  1 2 3 4 5 6 7 8 9 10 ...\n",
      " $ V3: int  0 1 0 1 0 0 0 1 0 0 ...\n"
     ]
    }
   ],
   "source": [
    "str(advice_data_frame)"
   ]
  },
  {
   "cell_type": "markdown",
   "metadata": {},
   "source": [
    "For convenience, we can assign more meaningful column names \n",
    "to our newly imported data frames:"
   ]
  },
  {
   "cell_type": "code",
   "execution_count": 8,
   "metadata": {
    "scrolled": true
   },
   "outputs": [
    {
     "data": {
      "text/html": [
       "<table>\n",
       "<thead><tr><th scope=col>ego</th><th scope=col>alter</th><th scope=col>advice_tie</th></tr></thead>\n",
       "<tbody>\n",
       "\t<tr><td>1</td><td>1</td><td>0</td></tr>\n",
       "\t<tr><td>1</td><td>2</td><td>1</td></tr>\n",
       "\t<tr><td>1</td><td>3</td><td>0</td></tr>\n",
       "\t<tr><td>1</td><td>4</td><td>1</td></tr>\n",
       "\t<tr><td>1</td><td>5</td><td>0</td></tr>\n",
       "\t<tr><td>1</td><td>6</td><td>0</td></tr>\n",
       "</tbody>\n",
       "</table>\n"
      ],
      "text/latex": [
       "\\begin{tabular}{r|lll}\n",
       " ego & alter & advice\\_tie\\\\\n",
       "\\hline\n",
       "\t 1 & 1 & 0\\\\\n",
       "\t 1 & 2 & 1\\\\\n",
       "\t 1 & 3 & 0\\\\\n",
       "\t 1 & 4 & 1\\\\\n",
       "\t 1 & 5 & 0\\\\\n",
       "\t 1 & 6 & 0\\\\\n",
       "\\end{tabular}\n"
      ],
      "text/markdown": [
       "\n",
       "| ego | alter | advice_tie |\n",
       "|---|---|---|\n",
       "| 1 | 1 | 0 |\n",
       "| 1 | 2 | 1 |\n",
       "| 1 | 3 | 0 |\n",
       "| 1 | 4 | 1 |\n",
       "| 1 | 5 | 0 |\n",
       "| 1 | 6 | 0 |\n",
       "\n"
      ],
      "text/plain": [
       "  ego alter advice_tie\n",
       "1 1   1     0         \n",
       "2 1   2     1         \n",
       "3 1   3     0         \n",
       "4 1   4     1         \n",
       "5 1   5     0         \n",
       "6 1   6     0         "
      ]
     },
     "metadata": {},
     "output_type": "display_data"
    }
   ],
   "source": [
    "colnames(advice_data_frame) <- c('ego', 'alter', 'advice_tie')\n",
    "head(advice_data_frame)"
   ]
  },
  {
   "cell_type": "code",
   "execution_count": 9,
   "metadata": {
    "scrolled": true
   },
   "outputs": [
    {
     "data": {
      "text/html": [
       "<table>\n",
       "<thead><tr><th scope=col>ego</th><th scope=col>alter</th><th scope=col>friendship_tie</th></tr></thead>\n",
       "<tbody>\n",
       "\t<tr><td>1</td><td>1</td><td>0</td></tr>\n",
       "\t<tr><td>1</td><td>2</td><td>1</td></tr>\n",
       "\t<tr><td>1</td><td>3</td><td>0</td></tr>\n",
       "\t<tr><td>1</td><td>4</td><td>1</td></tr>\n",
       "\t<tr><td>1</td><td>5</td><td>0</td></tr>\n",
       "\t<tr><td>1</td><td>6</td><td>0</td></tr>\n",
       "</tbody>\n",
       "</table>\n"
      ],
      "text/latex": [
       "\\begin{tabular}{r|lll}\n",
       " ego & alter & friendship\\_tie\\\\\n",
       "\\hline\n",
       "\t 1 & 1 & 0\\\\\n",
       "\t 1 & 2 & 1\\\\\n",
       "\t 1 & 3 & 0\\\\\n",
       "\t 1 & 4 & 1\\\\\n",
       "\t 1 & 5 & 0\\\\\n",
       "\t 1 & 6 & 0\\\\\n",
       "\\end{tabular}\n"
      ],
      "text/markdown": [
       "\n",
       "| ego | alter | friendship_tie |\n",
       "|---|---|---|\n",
       "| 1 | 1 | 0 |\n",
       "| 1 | 2 | 1 |\n",
       "| 1 | 3 | 0 |\n",
       "| 1 | 4 | 1 |\n",
       "| 1 | 5 | 0 |\n",
       "| 1 | 6 | 0 |\n",
       "\n"
      ],
      "text/plain": [
       "  ego alter friendship_tie\n",
       "1 1   1     0             \n",
       "2 1   2     1             \n",
       "3 1   3     0             \n",
       "4 1   4     1             \n",
       "5 1   5     0             \n",
       "6 1   6     0             "
      ]
     },
     "metadata": {},
     "output_type": "display_data"
    }
   ],
   "source": [
    "colnames(friendship_data_frame) <- c('ego', 'alter', 'friendship_tie')\n",
    "head(friendship_data_frame)"
   ]
  },
  {
   "cell_type": "code",
   "execution_count": 10,
   "metadata": {},
   "outputs": [
    {
     "data": {
      "text/html": [
       "<table>\n",
       "<thead><tr><th scope=col>ego</th><th scope=col>alter</th><th scope=col>reports_to_tie</th></tr></thead>\n",
       "<tbody>\n",
       "\t<tr><td>1</td><td>1</td><td>0</td></tr>\n",
       "\t<tr><td>1</td><td>2</td><td>1</td></tr>\n",
       "\t<tr><td>1</td><td>3</td><td>0</td></tr>\n",
       "\t<tr><td>1</td><td>4</td><td>0</td></tr>\n",
       "\t<tr><td>1</td><td>5</td><td>0</td></tr>\n",
       "\t<tr><td>1</td><td>6</td><td>0</td></tr>\n",
       "</tbody>\n",
       "</table>\n"
      ],
      "text/latex": [
       "\\begin{tabular}{r|lll}\n",
       " ego & alter & reports\\_to\\_tie\\\\\n",
       "\\hline\n",
       "\t 1 & 1 & 0\\\\\n",
       "\t 1 & 2 & 1\\\\\n",
       "\t 1 & 3 & 0\\\\\n",
       "\t 1 & 4 & 0\\\\\n",
       "\t 1 & 5 & 0\\\\\n",
       "\t 1 & 6 & 0\\\\\n",
       "\\end{tabular}\n"
      ],
      "text/markdown": [
       "\n",
       "| ego | alter | reports_to_tie |\n",
       "|---|---|---|\n",
       "| 1 | 1 | 0 |\n",
       "| 1 | 2 | 1 |\n",
       "| 1 | 3 | 0 |\n",
       "| 1 | 4 | 0 |\n",
       "| 1 | 5 | 0 |\n",
       "| 1 | 6 | 0 |\n",
       "\n"
      ],
      "text/plain": [
       "  ego alter reports_to_tie\n",
       "1 1   1     0             \n",
       "2 1   2     1             \n",
       "3 1   3     0             \n",
       "4 1   4     0             \n",
       "5 1   5     0             \n",
       "6 1   6     0             "
      ]
     },
     "metadata": {},
     "output_type": "display_data"
    }
   ],
   "source": [
    "colnames(reports_to_data_frame) <- c('ego', 'alter', 'reports_to_tie')\n",
    "head(reports_to_data_frame)"
   ]
  },
  {
   "cell_type": "markdown",
   "metadata": {},
   "source": [
    "Let's  take a look at the unique values of each column:"
   ]
  },
  {
   "cell_type": "code",
   "execution_count": 11,
   "metadata": {
    "scrolled": true
   },
   "outputs": [
    {
     "data": {
      "text/html": [
       "<dl>\n",
       "\t<dt>$ego</dt>\n",
       "\t\t<dd><ol class=list-inline>\n",
       "\t<li>1</li>\n",
       "\t<li>2</li>\n",
       "\t<li>3</li>\n",
       "\t<li>4</li>\n",
       "\t<li>5</li>\n",
       "\t<li>6</li>\n",
       "\t<li>7</li>\n",
       "\t<li>8</li>\n",
       "\t<li>9</li>\n",
       "\t<li>10</li>\n",
       "\t<li>11</li>\n",
       "\t<li>12</li>\n",
       "\t<li>13</li>\n",
       "\t<li>14</li>\n",
       "\t<li>15</li>\n",
       "\t<li>16</li>\n",
       "\t<li>17</li>\n",
       "\t<li>18</li>\n",
       "\t<li>19</li>\n",
       "\t<li>20</li>\n",
       "\t<li>21</li>\n",
       "</ol>\n",
       "</dd>\n",
       "\t<dt>$alter</dt>\n",
       "\t\t<dd><ol class=list-inline>\n",
       "\t<li>1</li>\n",
       "\t<li>2</li>\n",
       "\t<li>3</li>\n",
       "\t<li>4</li>\n",
       "\t<li>5</li>\n",
       "\t<li>6</li>\n",
       "\t<li>7</li>\n",
       "\t<li>8</li>\n",
       "\t<li>9</li>\n",
       "\t<li>10</li>\n",
       "\t<li>11</li>\n",
       "\t<li>12</li>\n",
       "\t<li>13</li>\n",
       "\t<li>14</li>\n",
       "\t<li>15</li>\n",
       "\t<li>16</li>\n",
       "\t<li>17</li>\n",
       "\t<li>18</li>\n",
       "\t<li>19</li>\n",
       "\t<li>20</li>\n",
       "\t<li>21</li>\n",
       "</ol>\n",
       "</dd>\n",
       "\t<dt>$advice_tie</dt>\n",
       "\t\t<dd><ol class=list-inline>\n",
       "\t<li>0</li>\n",
       "\t<li>1</li>\n",
       "</ol>\n",
       "</dd>\n",
       "</dl>\n"
      ],
      "text/latex": [
       "\\begin{description}\n",
       "\\item[\\$ego] \\begin{enumerate*}\n",
       "\\item 1\n",
       "\\item 2\n",
       "\\item 3\n",
       "\\item 4\n",
       "\\item 5\n",
       "\\item 6\n",
       "\\item 7\n",
       "\\item 8\n",
       "\\item 9\n",
       "\\item 10\n",
       "\\item 11\n",
       "\\item 12\n",
       "\\item 13\n",
       "\\item 14\n",
       "\\item 15\n",
       "\\item 16\n",
       "\\item 17\n",
       "\\item 18\n",
       "\\item 19\n",
       "\\item 20\n",
       "\\item 21\n",
       "\\end{enumerate*}\n",
       "\n",
       "\\item[\\$alter] \\begin{enumerate*}\n",
       "\\item 1\n",
       "\\item 2\n",
       "\\item 3\n",
       "\\item 4\n",
       "\\item 5\n",
       "\\item 6\n",
       "\\item 7\n",
       "\\item 8\n",
       "\\item 9\n",
       "\\item 10\n",
       "\\item 11\n",
       "\\item 12\n",
       "\\item 13\n",
       "\\item 14\n",
       "\\item 15\n",
       "\\item 16\n",
       "\\item 17\n",
       "\\item 18\n",
       "\\item 19\n",
       "\\item 20\n",
       "\\item 21\n",
       "\\end{enumerate*}\n",
       "\n",
       "\\item[\\$advice\\_tie] \\begin{enumerate*}\n",
       "\\item 0\n",
       "\\item 1\n",
       "\\end{enumerate*}\n",
       "\n",
       "\\end{description}\n"
      ],
      "text/markdown": [
       "$ego\n",
       ":   1. 1\n",
       "2. 2\n",
       "3. 3\n",
       "4. 4\n",
       "5. 5\n",
       "6. 6\n",
       "7. 7\n",
       "8. 8\n",
       "9. 9\n",
       "10. 10\n",
       "11. 11\n",
       "12. 12\n",
       "13. 13\n",
       "14. 14\n",
       "15. 15\n",
       "16. 16\n",
       "17. 17\n",
       "18. 18\n",
       "19. 19\n",
       "20. 20\n",
       "21. 21\n",
       "\n",
       "\n",
       "\n",
       "$alter\n",
       ":   1. 1\n",
       "2. 2\n",
       "3. 3\n",
       "4. 4\n",
       "5. 5\n",
       "6. 6\n",
       "7. 7\n",
       "8. 8\n",
       "9. 9\n",
       "10. 10\n",
       "11. 11\n",
       "12. 12\n",
       "13. 13\n",
       "14. 14\n",
       "15. 15\n",
       "16. 16\n",
       "17. 17\n",
       "18. 18\n",
       "19. 19\n",
       "20. 20\n",
       "21. 21\n",
       "\n",
       "\n",
       "\n",
       "$advice_tie\n",
       ":   1. 0\n",
       "2. 1\n",
       "\n",
       "\n",
       "\n",
       "\n",
       "\n"
      ],
      "text/plain": [
       "$ego\n",
       " [1]  1  2  3  4  5  6  7  8  9 10 11 12 13 14 15 16 17 18 19 20 21\n",
       "\n",
       "$alter\n",
       " [1]  1  2  3  4  5  6  7  8  9 10 11 12 13 14 15 16 17 18 19 20 21\n",
       "\n",
       "$advice_tie\n",
       "[1] 0 1\n"
      ]
     },
     "metadata": {},
     "output_type": "display_data"
    }
   ],
   "source": [
    "apply(advice_data_frame, 2, unique) "
   ]
  },
  {
   "cell_type": "markdown",
   "metadata": {},
   "source": [
    "Note that some actor pairs are not connected at all. Let's check if / how many such cases we have:"
   ]
  },
  {
   "cell_type": "code",
   "execution_count": 12,
   "metadata": {
    "scrolled": true
   },
   "outputs": [
    {
     "data": {
      "text/html": [
       "251"
      ],
      "text/latex": [
       "251"
      ],
      "text/markdown": [
       "251"
      ],
      "text/plain": [
       "[1] 251"
      ]
     },
     "metadata": {},
     "output_type": "display_data"
    },
    {
     "data": {
      "text/html": [
       "339"
      ],
      "text/latex": [
       "339"
      ],
      "text/markdown": [
       "339"
      ],
      "text/plain": [
       "[1] 339"
      ]
     },
     "metadata": {},
     "output_type": "display_data"
    },
    {
     "data": {
      "text/html": [
       "421"
      ],
      "text/latex": [
       "421"
      ],
      "text/markdown": [
       "421"
      ],
      "text/plain": [
       "[1] 421"
      ]
     },
     "metadata": {},
     "output_type": "display_data"
    }
   ],
   "source": [
    "sum(advice_data_frame$advice_tie == 0)\n",
    "sum(friendship_data_frame$friendship_tie == 0)\n",
    "sum(reports_to_data_frame$reports_to_tie == 0)"
   ]
  },
  {
   "cell_type": "markdown",
   "metadata": {},
   "source": [
    "Reduce to non-zero edges so that each data frame contains only\n",
    "actual ties between actors"
   ]
  },
  {
   "cell_type": "code",
   "execution_count": 13,
   "metadata": {},
   "outputs": [],
   "source": [
    "advice_nonzero_edges <- subset(advice_data_frame, advice_tie > 0)\n",
    "friend_nonzero_edges <- subset(friendship_data_frame, friendship_tie > 0) \n",
    "reports_nonzero_edges <- subset(reports_to_data_frame, reports_to_tie > 0)"
   ]
  },
  {
   "cell_type": "markdown",
   "metadata": {},
   "source": [
    "Since the values in the weight column are now all equal to 1\n",
    "this column is no longer informative and thus could be removed"
   ]
  },
  {
   "cell_type": "code",
   "execution_count": 14,
   "metadata": {},
   "outputs": [],
   "source": [
    "advice_nonzero_edges <- advice_nonzero_edges[,-3]\n",
    "friend_nonzero_edges <- friend_nonzero_edges[,-3]\n",
    "reports_nonzero_edges <- reports_nonzero_edges[,-3]"
   ]
  },
  {
   "cell_type": "markdown",
   "metadata": {},
   "source": [
    "The attribute data for this lab are in a comma-separated-value\n",
    "(CSV) file. read.csv() loads a CSV file into a data frame object.\n",
    "We can load csv file from a URL:"
   ]
  },
  {
   "cell_type": "code",
   "execution_count": 15,
   "metadata": {},
   "outputs": [],
   "source": [
    "attributes <- read.csv('http://sna.stanford.edu/sna_R_labs/data/Krack-High-Tec-Attributes.csv')"
   ]
  },
  {
   "cell_type": "code",
   "execution_count": 16,
   "metadata": {},
   "outputs": [],
   "source": [
    "# Or we can read from a local file:\n",
    "# attributes <- read.csv('data/Krack-High-Tec-Attributes.csv')"
   ]
  },
  {
   "cell_type": "markdown",
   "metadata": {},
   "source": [
    "Check the structure and content of the attributes data frame"
   ]
  },
  {
   "cell_type": "code",
   "execution_count": 17,
   "metadata": {},
   "outputs": [
    {
     "name": "stdout",
     "output_type": "stream",
     "text": [
      "'data.frame':\t21 obs. of  4 variables:\n",
      " $ AGE   : int  33 42 40 33 32 59 55 34 62 37 ...\n",
      " $ TENURE: num  9.33 19.58 12.75 7.5 3.33 ...\n",
      " $ LEVEL : int  3 2 3 3 3 3 1 3 3 3 ...\n",
      " $ DEPT  : int  4 4 2 4 2 1 0 1 2 3 ...\n"
     ]
    }
   ],
   "source": [
    "str(attributes)"
   ]
  },
  {
   "cell_type": "markdown",
   "metadata": {},
   "source": [
    "The attributes set includes: \n",
    "- the actors' age (in years), \n",
    "- tenure or length of service (in years), \n",
    "- level in the corporate hierarchy; this is coded as follows: \n",
    "  1=CEO, 2 = Vice President, 3 = manager), \n",
    "- department, which is coded 1,2,3,4 with the CEO in department 0 (ie not in any department)"
   ]
  },
  {
   "cell_type": "code",
   "execution_count": 18,
   "metadata": {
    "scrolled": true
   },
   "outputs": [
    {
     "data": {
      "text/plain": [
       "      AGE            TENURE           LEVEL            DEPT     \n",
       " Min.   :27.00   Min.   : 0.250   Min.   :1.000   Min.   :0.00  \n",
       " 1st Qu.:33.00   1st Qu.: 7.500   1st Qu.:3.000   1st Qu.:1.00  \n",
       " Median :37.00   Median : 9.333   Median :3.000   Median :2.00  \n",
       " Mean   :39.71   Mean   :11.746   Mean   :2.714   Mean   :2.19  \n",
       " 3rd Qu.:43.00   3rd Qu.:12.500   3rd Qu.:3.000   3rd Qu.:3.00  \n",
       " Max.   :62.00   Max.   :30.000   Max.   :3.000   Max.   :4.00  "
      ]
     },
     "metadata": {},
     "output_type": "display_data"
    }
   ],
   "source": [
    "summary(attributes)"
   ]
  },
  {
   "cell_type": "markdown",
   "metadata": {},
   "source": [
    "Note that the summaries for the attributes LEVEL and DEPT do not\n",
    "have much sense, as these are, in essence, factor variables, but\n",
    "we'll deal with this later."
   ]
  },
  {
   "cell_type": "markdown",
   "metadata": {},
   "source": [
    "A few notes regarding loading data from other data storage formats:\n",
    "1) To read an excel file into R, use, for example, ```readxl``` package\n",
    "\n",
    "2) With the 'foreign' package you can read a few other custom\n",
    "data types, such as SPSS or SAS files\n",
    "\n",
    "3) When data files are part of an R package you can read them as \n",
    "follows:\n",
    "```data(kracknets, package = \"NetData\")```\n",
    "This is good to know as R packages often come with a number \n",
    "of data sets that can be used for practicing. "
   ]
  },
  {
   "cell_type": "markdown",
   "metadata": {},
   "source": [
    "#### 2. CREATING YOUR FIRST SOCIAL GRAPH"
   ]
  },
  {
   "cell_type": "markdown",
   "metadata": {},
   "source": [
    "Now we can import our data into a graph object using igraph. \n",
    "Coercing the data into a graph object is what allows us to \n",
    "perform network analysis."
   ]
  },
  {
   "cell_type": "code",
   "execution_count": 19,
   "metadata": {},
   "outputs": [
    {
     "name": "stdout",
     "output_type": "stream",
     "text": [
      "IGRAPH 64835e3 DN-- 21 190 -- \n",
      "+ attr: name (v/c)\n"
     ]
    }
   ],
   "source": [
    "advice_net <- graph_from_data_frame(advice_nonzero_edges) \n",
    "summary(advice_net)"
   ]
  },
  {
   "cell_type": "markdown",
   "metadata": {},
   "source": [
    "By default, ```graph_from_data_frame()``` treats the first two columns \n",
    "of a data frame as an edge list and any remaining columns as \n",
    "edge attributes. Thus, the 190 edges appearing in the ```summary()```\n",
    "output refer to the 190 pairs of vertices that are joined by \n",
    "the advice tie. "
   ]
  },
  {
   "cell_type": "markdown",
   "metadata": {},
   "source": [
    "To view the adjacency matrix of the graph:"
   ]
  },
  {
   "cell_type": "code",
   "execution_count": 20,
   "metadata": {
    "scrolled": false
   },
   "outputs": [
    {
     "name": "stderr",
     "output_type": "stream",
     "text": [
      "   [[ suppressing 21 column names '1', '2', '3' ... ]]\n"
     ]
    },
    {
     "data": {
      "text/plain": [
       "21 x 21 sparse Matrix of class \"dgCMatrix\"\n",
       "                                            \n",
       "1  . 1 . 1 . . . 1 . . . . . . . 1 . 1 . . 1\n",
       "2  . . . . . 1 1 . . . . . . . . . . . . . 1\n",
       "3  1 1 . 1 . 1 1 1 1 1 1 1 . 1 . . 1 1 . 1 1\n",
       "4  1 1 . . . 1 . 1 . 1 1 1 . . . 1 1 1 . 1 1\n",
       "5  1 1 . . . 1 1 1 . 1 1 . 1 1 . 1 1 1 1 1 1\n",
       "6  . . . . . . . . . . . . . . . . . . . . 1\n",
       "7  . 1 . . . 1 . . . . 1 1 . 1 . . 1 1 . . 1\n",
       "8  . 1 . 1 . 1 1 . . 1 1 . . . . . . 1 . . 1\n",
       "9  1 1 . . . 1 1 1 . 1 1 1 . 1 . 1 1 1 . . 1\n",
       "10 1 1 1 1 1 . . 1 . . 1 . 1 . 1 1 1 1 1 1 .\n",
       "11 1 1 . . . . 1 . . . . . . . . . . . . . .\n",
       "12 . . . . . . 1 . . . . . . . . . . . . . 1\n",
       "13 1 1 . . 1 . . . 1 . . . . 1 . . . 1 . . .\n",
       "14 . 1 . . . . 1 . . . . . . . . . . 1 . . 1\n",
       "15 1 1 1 1 1 1 1 1 1 1 1 1 1 1 . 1 1 1 1 1 1\n",
       "16 1 1 . . . . . . . 1 . . . . . . . 1 . . .\n",
       "17 1 1 . 1 . . 1 . . . . . . . . . . . . . 1\n",
       "18 1 1 1 1 1 . 1 1 1 1 1 . 1 1 1 1 . . 1 1 1\n",
       "19 1 1 1 . 1 . 1 . . 1 1 . . 1 1 . . 1 . 1 .\n",
       "20 1 1 . . . 1 . 1 . . 1 1 . 1 1 1 1 1 . . 1\n",
       "21 . 1 1 1 . 1 1 1 . . . 1 . 1 . . 1 1 . 1 ."
      ]
     },
     "metadata": {},
     "output_type": "display_data"
    }
   ],
   "source": [
    "as_adjacency_matrix(advice_net)"
   ]
  },
  {
   "cell_type": "markdown",
   "metadata": {},
   "source": [
    "Note that vertices have the 'name' attribute.\n",
    "\n",
    "We can access it as follows:"
   ]
  },
  {
   "cell_type": "code",
   "execution_count": 21,
   "metadata": {},
   "outputs": [
    {
     "data": {
      "text/html": [
       "<ol class=list-inline>\n",
       "\t<li>'1'</li>\n",
       "\t<li>'2'</li>\n",
       "\t<li>'3'</li>\n",
       "\t<li>'4'</li>\n",
       "\t<li>'5'</li>\n",
       "\t<li>'6'</li>\n",
       "\t<li>'7'</li>\n",
       "\t<li>'8'</li>\n",
       "\t<li>'9'</li>\n",
       "\t<li>'10'</li>\n",
       "\t<li>'11'</li>\n",
       "\t<li>'12'</li>\n",
       "\t<li>'13'</li>\n",
       "\t<li>'14'</li>\n",
       "\t<li>'15'</li>\n",
       "\t<li>'16'</li>\n",
       "\t<li>'17'</li>\n",
       "\t<li>'18'</li>\n",
       "\t<li>'19'</li>\n",
       "\t<li>'20'</li>\n",
       "\t<li>'21'</li>\n",
       "</ol>\n"
      ],
      "text/latex": [
       "\\begin{enumerate*}\n",
       "\\item '1'\n",
       "\\item '2'\n",
       "\\item '3'\n",
       "\\item '4'\n",
       "\\item '5'\n",
       "\\item '6'\n",
       "\\item '7'\n",
       "\\item '8'\n",
       "\\item '9'\n",
       "\\item '10'\n",
       "\\item '11'\n",
       "\\item '12'\n",
       "\\item '13'\n",
       "\\item '14'\n",
       "\\item '15'\n",
       "\\item '16'\n",
       "\\item '17'\n",
       "\\item '18'\n",
       "\\item '19'\n",
       "\\item '20'\n",
       "\\item '21'\n",
       "\\end{enumerate*}\n"
      ],
      "text/markdown": [
       "1. '1'\n",
       "2. '2'\n",
       "3. '3'\n",
       "4. '4'\n",
       "5. '5'\n",
       "6. '6'\n",
       "7. '7'\n",
       "8. '8'\n",
       "9. '9'\n",
       "10. '10'\n",
       "11. '11'\n",
       "12. '12'\n",
       "13. '13'\n",
       "14. '14'\n",
       "15. '15'\n",
       "16. '16'\n",
       "17. '17'\n",
       "18. '18'\n",
       "19. '19'\n",
       "20. '20'\n",
       "21. '21'\n",
       "\n",
       "\n"
      ],
      "text/plain": [
       " [1] \"1\"  \"2\"  \"3\"  \"4\"  \"5\"  \"6\"  \"7\"  \"8\"  \"9\"  \"10\" \"11\" \"12\" \"13\" \"14\" \"15\"\n",
       "[16] \"16\" \"17\" \"18\" \"19\" \"20\" \"21\""
      ]
     },
     "metadata": {},
     "output_type": "display_data"
    }
   ],
   "source": [
    "V(advice_net)$name"
   ]
  },
  {
   "cell_type": "markdown",
   "metadata": {},
   "source": [
    "where 'V' represents the set of nodes (vertices) of the graph whose name is given in the brackets\n",
    "\n",
    "Alternatively, we can do the same as:"
   ]
  },
  {
   "cell_type": "code",
   "execution_count": 22,
   "metadata": {},
   "outputs": [
    {
     "data": {
      "text/html": [
       "<ol class=list-inline>\n",
       "\t<li>'1'</li>\n",
       "\t<li>'2'</li>\n",
       "\t<li>'3'</li>\n",
       "\t<li>'4'</li>\n",
       "\t<li>'5'</li>\n",
       "\t<li>'6'</li>\n",
       "\t<li>'7'</li>\n",
       "\t<li>'8'</li>\n",
       "\t<li>'9'</li>\n",
       "\t<li>'10'</li>\n",
       "\t<li>'11'</li>\n",
       "\t<li>'12'</li>\n",
       "\t<li>'13'</li>\n",
       "\t<li>'14'</li>\n",
       "\t<li>'15'</li>\n",
       "\t<li>'16'</li>\n",
       "\t<li>'17'</li>\n",
       "\t<li>'18'</li>\n",
       "\t<li>'19'</li>\n",
       "\t<li>'20'</li>\n",
       "\t<li>'21'</li>\n",
       "</ol>\n"
      ],
      "text/latex": [
       "\\begin{enumerate*}\n",
       "\\item '1'\n",
       "\\item '2'\n",
       "\\item '3'\n",
       "\\item '4'\n",
       "\\item '5'\n",
       "\\item '6'\n",
       "\\item '7'\n",
       "\\item '8'\n",
       "\\item '9'\n",
       "\\item '10'\n",
       "\\item '11'\n",
       "\\item '12'\n",
       "\\item '13'\n",
       "\\item '14'\n",
       "\\item '15'\n",
       "\\item '16'\n",
       "\\item '17'\n",
       "\\item '18'\n",
       "\\item '19'\n",
       "\\item '20'\n",
       "\\item '21'\n",
       "\\end{enumerate*}\n"
      ],
      "text/markdown": [
       "1. '1'\n",
       "2. '2'\n",
       "3. '3'\n",
       "4. '4'\n",
       "5. '5'\n",
       "6. '6'\n",
       "7. '7'\n",
       "8. '8'\n",
       "9. '9'\n",
       "10. '10'\n",
       "11. '11'\n",
       "12. '12'\n",
       "13. '13'\n",
       "14. '14'\n",
       "15. '15'\n",
       "16. '16'\n",
       "17. '17'\n",
       "18. '18'\n",
       "19. '19'\n",
       "20. '20'\n",
       "21. '21'\n",
       "\n",
       "\n"
      ],
      "text/plain": [
       " [1] \"1\"  \"2\"  \"3\"  \"4\"  \"5\"  \"6\"  \"7\"  \"8\"  \"9\"  \"10\" \"11\" \"12\" \"13\" \"14\" \"15\"\n",
       "[16] \"16\" \"17\" \"18\" \"19\" \"20\" \"21\""
      ]
     },
     "metadata": {},
     "output_type": "display_data"
    }
   ],
   "source": [
    "vertex_attr(advice_net, 'name')"
   ]
  },
  {
   "cell_type": "markdown",
   "metadata": {},
   "source": [
    "For later operations, it would be more convenient if the 'name' \n",
    "attribute is of integer type. Let's change the type."
   ]
  },
  {
   "cell_type": "markdown",
   "metadata": {},
   "source": [
    "For some reason, this will not work:\n",
    "```{r}\n",
    "V(advice_net)$name <- as.integer(V(advice_net)$name)\n",
    "```\n",
    "So, we have to remove the attribute and add it again, as integer."
   ]
  },
  {
   "cell_type": "code",
   "execution_count": 23,
   "metadata": {
    "scrolled": false
   },
   "outputs": [
    {
     "data": {
      "text/html": [
       "<ol class=list-inline>\n",
       "\t<li>1</li>\n",
       "\t<li>2</li>\n",
       "\t<li>3</li>\n",
       "\t<li>4</li>\n",
       "\t<li>5</li>\n",
       "\t<li>6</li>\n",
       "\t<li>7</li>\n",
       "\t<li>8</li>\n",
       "\t<li>9</li>\n",
       "\t<li>10</li>\n",
       "\t<li>11</li>\n",
       "\t<li>12</li>\n",
       "\t<li>13</li>\n",
       "\t<li>14</li>\n",
       "\t<li>15</li>\n",
       "\t<li>16</li>\n",
       "\t<li>17</li>\n",
       "\t<li>18</li>\n",
       "\t<li>19</li>\n",
       "\t<li>20</li>\n",
       "\t<li>21</li>\n",
       "</ol>\n"
      ],
      "text/latex": [
       "\\begin{enumerate*}\n",
       "\\item 1\n",
       "\\item 2\n",
       "\\item 3\n",
       "\\item 4\n",
       "\\item 5\n",
       "\\item 6\n",
       "\\item 7\n",
       "\\item 8\n",
       "\\item 9\n",
       "\\item 10\n",
       "\\item 11\n",
       "\\item 12\n",
       "\\item 13\n",
       "\\item 14\n",
       "\\item 15\n",
       "\\item 16\n",
       "\\item 17\n",
       "\\item 18\n",
       "\\item 19\n",
       "\\item 20\n",
       "\\item 21\n",
       "\\end{enumerate*}\n"
      ],
      "text/markdown": [
       "1. 1\n",
       "2. 2\n",
       "3. 3\n",
       "4. 4\n",
       "5. 5\n",
       "6. 6\n",
       "7. 7\n",
       "8. 8\n",
       "9. 9\n",
       "10. 10\n",
       "11. 11\n",
       "12. 12\n",
       "13. 13\n",
       "14. 14\n",
       "15. 15\n",
       "16. 16\n",
       "17. 17\n",
       "18. 18\n",
       "19. 19\n",
       "20. 20\n",
       "21. 21\n",
       "\n",
       "\n"
      ],
      "text/plain": [
       " [1]  1  2  3  4  5  6  7  8  9 10 11 12 13 14 15 16 17 18 19 20 21"
      ]
     },
     "metadata": {},
     "output_type": "display_data"
    }
   ],
   "source": [
    "advice_net <- delete_vertex_attr(advice_net, 'name')\n",
    "V(advice_net)$name <- 1:vcount(advice_net)\n",
    "V(advice_net)$name"
   ]
  },
  {
   "cell_type": "markdown",
   "metadata": {},
   "source": [
    "Since we have node attributes, we can include them in the graph \n",
    "when creating the graph object. This can be done by specifying \n",
    "the 'vertices' parameter of the ```graph_from_data_frame()``` f."
   ]
  },
  {
   "cell_type": "code",
   "execution_count": 24,
   "metadata": {},
   "outputs": [],
   "source": [
    "?graph_from_data_frame "
   ]
  },
  {
   "cell_type": "markdown",
   "metadata": {},
   "source": [
    "To make our 'attributes' data frame consistent with the function's\n",
    "requirements, we need to extend it with a column that represents\n",
    "the nodes' 'names' (ie. values to be used for the node 'name' \n",
    "attribute in the graph). These names have to match the nodes' \n",
    "names in the edge list (ie. values of the 'ego' and 'alter' columns\n",
    "in the advice_nonzero_edges data frame). Since in our case nodes' \n",
    "names are simply the nodes' ordinal numbers, the new node_name \n",
    "column in the 'attributes' data frame will simply be:"
   ]
  },
  {
   "cell_type": "code",
   "execution_count": 25,
   "metadata": {},
   "outputs": [],
   "source": [
    "attributes$node_name <- 1:nrow(attributes)"
   ]
  },
  {
   "cell_type": "markdown",
   "metadata": {},
   "source": [
    "Next, we need to reorder the columns, since the column with the node\n",
    "name has to be the first one:"
   ]
  },
  {
   "cell_type": "code",
   "execution_count": 26,
   "metadata": {},
   "outputs": [
    {
     "name": "stdout",
     "output_type": "stream",
     "text": [
      "'data.frame':\t21 obs. of  5 variables:\n",
      " $ AGE      : int  33 42 40 33 32 59 55 34 62 37 ...\n",
      " $ TENURE   : num  9.33 19.58 12.75 7.5 3.33 ...\n",
      " $ LEVEL    : int  3 2 3 3 3 3 1 3 3 3 ...\n",
      " $ DEPT     : int  4 4 2 4 2 1 0 1 2 3 ...\n",
      " $ node_name: int  1 2 3 4 5 6 7 8 9 10 ...\n"
     ]
    }
   ],
   "source": [
    "str(attributes)\n",
    "attributes <- attributes[,c(5,1:4)]"
   ]
  },
  {
   "cell_type": "markdown",
   "metadata": {},
   "source": [
    "Now, create the graph. "
   ]
  },
  {
   "cell_type": "code",
   "execution_count": 27,
   "metadata": {},
   "outputs": [],
   "source": [
    "advice_net <- graph_from_data_frame(d = advice_nonzero_edges, \n",
    "                                       vertices = attributes) "
   ]
  },
  {
   "cell_type": "code",
   "execution_count": 28,
   "metadata": {},
   "outputs": [
    {
     "name": "stdout",
     "output_type": "stream",
     "text": [
      "IGRAPH 656431e DN-- 21 190 -- \n",
      "+ attr: name (v/c), AGE (v/n), TENURE (v/n), LEVEL (v/n), DEPT (v/n)\n"
     ]
    }
   ],
   "source": [
    "summary(advice_net)"
   ]
  },
  {
   "cell_type": "markdown",
   "metadata": {},
   "source": [
    "Note that we now have 'age,' 'tenure,' 'level', and 'dept'\n",
    "listed alongside 'name' as vertex attributes."
   ]
  },
  {
   "cell_type": "markdown",
   "metadata": {},
   "source": [
    "Since the 'name' attribute is again given as character\n",
    "we'll replace its values with the corresponding integer\n",
    "values:"
   ]
  },
  {
   "cell_type": "code",
   "execution_count": 29,
   "metadata": {},
   "outputs": [],
   "source": [
    "advice_net <- delete_vertex_attr(advice_net, 'name')\n",
    "V(advice_net)$name <- 1:vcount(advice_net)"
   ]
  },
  {
   "cell_type": "markdown",
   "metadata": {},
   "source": [
    "Examine, for example, the actors' AGE attribute"
   ]
  },
  {
   "cell_type": "code",
   "execution_count": 30,
   "metadata": {},
   "outputs": [
    {
     "data": {
      "text/html": [
       "<ol class=list-inline>\n",
       "\t<li>33</li>\n",
       "\t<li>42</li>\n",
       "\t<li>40</li>\n",
       "\t<li>33</li>\n",
       "\t<li>32</li>\n",
       "\t<li>59</li>\n",
       "\t<li>55</li>\n",
       "\t<li>34</li>\n",
       "\t<li>62</li>\n",
       "\t<li>37</li>\n",
       "\t<li>46</li>\n",
       "\t<li>34</li>\n",
       "\t<li>48</li>\n",
       "\t<li>43</li>\n",
       "\t<li>40</li>\n",
       "\t<li>27</li>\n",
       "\t<li>30</li>\n",
       "\t<li>33</li>\n",
       "\t<li>32</li>\n",
       "\t<li>38</li>\n",
       "\t<li>36</li>\n",
       "</ol>\n"
      ],
      "text/latex": [
       "\\begin{enumerate*}\n",
       "\\item 33\n",
       "\\item 42\n",
       "\\item 40\n",
       "\\item 33\n",
       "\\item 32\n",
       "\\item 59\n",
       "\\item 55\n",
       "\\item 34\n",
       "\\item 62\n",
       "\\item 37\n",
       "\\item 46\n",
       "\\item 34\n",
       "\\item 48\n",
       "\\item 43\n",
       "\\item 40\n",
       "\\item 27\n",
       "\\item 30\n",
       "\\item 33\n",
       "\\item 32\n",
       "\\item 38\n",
       "\\item 36\n",
       "\\end{enumerate*}\n"
      ],
      "text/markdown": [
       "1. 33\n",
       "2. 42\n",
       "3. 40\n",
       "4. 33\n",
       "5. 32\n",
       "6. 59\n",
       "7. 55\n",
       "8. 34\n",
       "9. 62\n",
       "10. 37\n",
       "11. 46\n",
       "12. 34\n",
       "13. 48\n",
       "14. 43\n",
       "15. 40\n",
       "16. 27\n",
       "17. 30\n",
       "18. 33\n",
       "19. 32\n",
       "20. 38\n",
       "21. 36\n",
       "\n",
       "\n"
      ],
      "text/plain": [
       " [1] 33 42 40 33 32 59 55 34 62 37 46 34 48 43 40 27 30 33 32 38 36"
      ]
     },
     "metadata": {},
     "output_type": "display_data"
    }
   ],
   "source": [
    "vertex_attr(advice_net, 'AGE')"
   ]
  },
  {
   "cell_type": "code",
   "execution_count": 31,
   "metadata": {},
   "outputs": [
    {
     "data": {
      "text/html": [
       "<ol class=list-inline>\n",
       "\t<li>33</li>\n",
       "\t<li>42</li>\n",
       "\t<li>40</li>\n",
       "\t<li>33</li>\n",
       "\t<li>32</li>\n",
       "\t<li>59</li>\n",
       "\t<li>55</li>\n",
       "\t<li>34</li>\n",
       "\t<li>62</li>\n",
       "\t<li>37</li>\n",
       "\t<li>46</li>\n",
       "\t<li>34</li>\n",
       "\t<li>48</li>\n",
       "\t<li>43</li>\n",
       "\t<li>40</li>\n",
       "\t<li>27</li>\n",
       "\t<li>30</li>\n",
       "\t<li>33</li>\n",
       "\t<li>32</li>\n",
       "\t<li>38</li>\n",
       "\t<li>36</li>\n",
       "</ol>\n"
      ],
      "text/latex": [
       "\\begin{enumerate*}\n",
       "\\item 33\n",
       "\\item 42\n",
       "\\item 40\n",
       "\\item 33\n",
       "\\item 32\n",
       "\\item 59\n",
       "\\item 55\n",
       "\\item 34\n",
       "\\item 62\n",
       "\\item 37\n",
       "\\item 46\n",
       "\\item 34\n",
       "\\item 48\n",
       "\\item 43\n",
       "\\item 40\n",
       "\\item 27\n",
       "\\item 30\n",
       "\\item 33\n",
       "\\item 32\n",
       "\\item 38\n",
       "\\item 36\n",
       "\\end{enumerate*}\n"
      ],
      "text/markdown": [
       "1. 33\n",
       "2. 42\n",
       "3. 40\n",
       "4. 33\n",
       "5. 32\n",
       "6. 59\n",
       "7. 55\n",
       "8. 34\n",
       "9. 62\n",
       "10. 37\n",
       "11. 46\n",
       "12. 34\n",
       "13. 48\n",
       "14. 43\n",
       "15. 40\n",
       "16. 27\n",
       "17. 30\n",
       "18. 33\n",
       "19. 32\n",
       "20. 38\n",
       "21. 36\n",
       "\n",
       "\n"
      ],
      "text/plain": [
       " [1] 33 42 40 33 32 59 55 34 62 37 46 34 48 43 40 27 30 33 32 38 36"
      ]
     },
     "metadata": {},
     "output_type": "display_data"
    }
   ],
   "source": [
    "# or\n",
    "V(advice_net)$AGE"
   ]
  },
  {
   "cell_type": "markdown",
   "metadata": {},
   "source": [
    "We can use attribute values to select a subset of nodes\n",
    "of the network. For example, to select nodes representing \n",
    "those who are above 40 years of age:"
   ]
  },
  {
   "cell_type": "code",
   "execution_count": 32,
   "metadata": {},
   "outputs": [
    {
     "data": {
      "text/plain": [
       "+ 7/21 vertices, named, from 656431e:\n",
       "[1] 2  6  7  9  11 13 14"
      ]
     },
     "metadata": {},
     "output_type": "display_data"
    }
   ],
   "source": [
    "V(advice_net)[V(advice_net)$AGE > 40]"
   ]
  },
  {
   "cell_type": "markdown",
   "metadata": {},
   "source": [
    "To create a new graph out of the selected nodes:"
   ]
  },
  {
   "cell_type": "code",
   "execution_count": 33,
   "metadata": {
    "scrolled": true
   },
   "outputs": [
    {
     "name": "stdout",
     "output_type": "stream",
     "text": [
      "IGRAPH 658d21c DN-- 7 18 -- \n",
      "+ attr: AGE (v/n), TENURE (v/n), LEVEL (v/n), DEPT (v/n), name (v/n)\n"
     ]
    },
    {
     "data": {
      "text/plain": [
       "   Min. 1st Qu.  Median    Mean 3rd Qu.    Max. \n",
       "  42.00   44.50   48.00   50.71   57.00   62.00 "
      ]
     },
     "metadata": {},
     "output_type": "display_data"
    }
   ],
   "source": [
    "advice_over40 <- induced_subgraph(advice_net, \n",
    "                                  V(advice_net)[V(advice_net)$AGE > 40])\n",
    "summary(advice_over40)\n",
    "summary(V(advice_over40)$AGE)"
   ]
  },
  {
   "cell_type": "markdown",
   "metadata": {},
   "source": [
    "We can also get attribute values for a subset of nodes.\n",
    "For example, to get the tenure of only those who are \n",
    "above 40 years of age:"
   ]
  },
  {
   "cell_type": "code",
   "execution_count": 34,
   "metadata": {},
   "outputs": [
    {
     "data": {
      "text/html": [
       "<ol class=list-inline>\n",
       "\t<li>19.583</li>\n",
       "\t<li>28</li>\n",
       "\t<li>30</li>\n",
       "\t<li>5.417</li>\n",
       "\t<li>27</li>\n",
       "\t<li>0.25</li>\n",
       "\t<li>10.417</li>\n",
       "</ol>\n"
      ],
      "text/latex": [
       "\\begin{enumerate*}\n",
       "\\item 19.583\n",
       "\\item 28\n",
       "\\item 30\n",
       "\\item 5.417\n",
       "\\item 27\n",
       "\\item 0.25\n",
       "\\item 10.417\n",
       "\\end{enumerate*}\n"
      ],
      "text/markdown": [
       "1. 19.583\n",
       "2. 28\n",
       "3. 30\n",
       "4. 5.417\n",
       "5. 27\n",
       "6. 0.25\n",
       "7. 10.417\n",
       "\n",
       "\n"
      ],
      "text/plain": [
       "[1] 19.583 28.000 30.000  5.417 27.000  0.250 10.417"
      ]
     },
     "metadata": {},
     "output_type": "display_data"
    }
   ],
   "source": [
    "vertex_attr(advice_net, 'TENURE', V(advice_net)[V(advice_net)$AGE > 40])"
   ]
  },
  {
   "cell_type": "code",
   "execution_count": 35,
   "metadata": {},
   "outputs": [
    {
     "data": {
      "text/html": [
       "<ol class=list-inline>\n",
       "\t<li>19.583</li>\n",
       "\t<li>28</li>\n",
       "\t<li>30</li>\n",
       "\t<li>5.417</li>\n",
       "\t<li>27</li>\n",
       "\t<li>0.25</li>\n",
       "\t<li>10.417</li>\n",
       "</ol>\n"
      ],
      "text/latex": [
       "\\begin{enumerate*}\n",
       "\\item 19.583\n",
       "\\item 28\n",
       "\\item 30\n",
       "\\item 5.417\n",
       "\\item 27\n",
       "\\item 0.25\n",
       "\\item 10.417\n",
       "\\end{enumerate*}\n"
      ],
      "text/markdown": [
       "1. 19.583\n",
       "2. 28\n",
       "3. 30\n",
       "4. 5.417\n",
       "5. 27\n",
       "6. 0.25\n",
       "7. 10.417\n",
       "\n",
       "\n"
      ],
      "text/plain": [
       "[1] 19.583 28.000 30.000  5.417 27.000  0.250 10.417"
      ]
     },
     "metadata": {},
     "output_type": "display_data"
    }
   ],
   "source": [
    "# or\n",
    "V(advice_net)$TENURE[V(advice_net)$AGE > 40]"
   ]
  },
  {
   "cell_type": "markdown",
   "metadata": {},
   "source": [
    "Or, we can get the age of employees in the largest department:"
   ]
  },
  {
   "cell_type": "code",
   "execution_count": 36,
   "metadata": {},
   "outputs": [
    {
     "data": {
      "text/plain": [
       "\n",
       "0 1 2 3 4 \n",
       "1 5 8 3 4 "
      ]
     },
     "metadata": {},
     "output_type": "display_data"
    },
    {
     "data": {
      "text/html": [
       "<ol class=list-inline>\n",
       "\t<li>40</li>\n",
       "\t<li>32</li>\n",
       "\t<li>62</li>\n",
       "\t<li>48</li>\n",
       "\t<li>43</li>\n",
       "\t<li>40</li>\n",
       "\t<li>32</li>\n",
       "\t<li>38</li>\n",
       "</ol>\n"
      ],
      "text/latex": [
       "\\begin{enumerate*}\n",
       "\\item 40\n",
       "\\item 32\n",
       "\\item 62\n",
       "\\item 48\n",
       "\\item 43\n",
       "\\item 40\n",
       "\\item 32\n",
       "\\item 38\n",
       "\\end{enumerate*}\n"
      ],
      "text/markdown": [
       "1. 40\n",
       "2. 32\n",
       "3. 62\n",
       "4. 48\n",
       "5. 43\n",
       "6. 40\n",
       "7. 32\n",
       "8. 38\n",
       "\n",
       "\n"
      ],
      "text/plain": [
       "[1] 40 32 62 48 43 40 32 38"
      ]
     },
     "metadata": {},
     "output_type": "display_data"
    }
   ],
   "source": [
    "table(V(advice_net)$DEPT)\n",
    "V(advice_net)$AGE[V(advice_net)$DEPT == 2]"
   ]
  },
  {
   "cell_type": "markdown",
   "metadata": {},
   "source": [
    "#### 3. CREATING MORE GRAPHS"
   ]
  },
  {
   "cell_type": "markdown",
   "metadata": {},
   "source": [
    "Now, we'll create networks for the other two tie types"
   ]
  },
  {
   "cell_type": "code",
   "execution_count": 37,
   "metadata": {},
   "outputs": [
    {
     "name": "stdout",
     "output_type": "stream",
     "text": [
      "IGRAPH 65aeea7 DN-- 21 102 -- \n",
      "+ attr: name (v/c), AGE (v/n), TENURE (v/n), LEVEL (v/n), DEPT (v/n)\n"
     ]
    }
   ],
   "source": [
    "# friendship network\n",
    "friendship_net <- graph_from_data_frame(friend_nonzero_edges,\n",
    "                                        vertices = attributes)\n",
    "summary(friendship_net)"
   ]
  },
  {
   "cell_type": "markdown",
   "metadata": {},
   "source": [
    "Note that the 'name' attribute is again given as character\n",
    "we'll replace it with the corresponding integer values:"
   ]
  },
  {
   "cell_type": "code",
   "execution_count": 38,
   "metadata": {},
   "outputs": [],
   "source": [
    "friendship_net <- delete_vertex_attr(friendship_net, 'name')\n",
    "V(friendship_net)$name <- 1:vcount(friendship_net)"
   ]
  },
  {
   "cell_type": "code",
   "execution_count": 39,
   "metadata": {},
   "outputs": [
    {
     "name": "stdout",
     "output_type": "stream",
     "text": [
      "IGRAPH 65c4389 DN-- 21 20 -- \n",
      "+ attr: name (v/c), AGE (v/n), TENURE (v/n), LEVEL (v/n), DEPT (v/n)\n"
     ]
    }
   ],
   "source": [
    "# reports-to network\n",
    "reports_to_net <- graph_from_data_frame(reports_nonzero_edges,\n",
    "                                        vertices = attributes)\n",
    "summary(reports_to_net)\n",
    "reports_to_net <- delete_vertex_attr(reports_to_net, 'name')\n",
    "V(reports_to_net)$name <- 1:vcount(reports_to_net)"
   ]
  },
  {
   "cell_type": "markdown",
   "metadata": {},
   "source": [
    "If you would like to symmetrize the network, making all asymmetric\n",
    "(directed) ties symmetric (undirected), use the as.undirected() function\n",
    "(check the documentation for the 'mode' parameter).\n",
    "For example, we can make a friendship network by assuming that if one\n",
    "person considers another for a friend, the other would automatically reciprocate "
   ]
  },
  {
   "cell_type": "code",
   "execution_count": 40,
   "metadata": {},
   "outputs": [
    {
     "name": "stdout",
     "output_type": "stream",
     "text": [
      "IGRAPH 65cbad9 UN-- 21 79 -- \n",
      "+ attr: AGE (v/n), TENURE (v/n), LEVEL (v/n), DEPT (v/n), name (v/n)\n"
     ]
    }
   ],
   "source": [
    "friend_undirect <- as.undirected(friendship_net, mode='collapse')\n",
    "summary(friend_undirect)"
   ]
  },
  {
   "cell_type": "markdown",
   "metadata": {},
   "source": [
    "#### 4. VISUALIZING NETWORKS"
   ]
  },
  {
   "cell_type": "markdown",
   "metadata": {},
   "source": [
    "The igraph package allows us to use R's plot() function to generate \n",
    "custom visualizations of our networks."
   ]
  },
  {
   "cell_type": "markdown",
   "metadata": {},
   "source": [
    "For a full list of igraph plotting parameters see Section 4.1\n",
    "of the Network visualization in R tutorial:\n",
    "http://kateto.net/network-visualization"
   ]
  },
  {
   "cell_type": "markdown",
   "metadata": {},
   "source": [
    "R only lets us look at one plot at a time. To be able to compare\n",
    "multiple networks, that is, their plots, you may want to save \n",
    "each plot in a separate PDF or image file. The code below shows \n",
    "how to do that. Alternatively, to just create a plot, execute \n",
    "the code between the pdf() / jpeg() function and dev.off()."
   ]
  },
  {
   "cell_type": "markdown",
   "metadata": {},
   "source": [
    "Assure that you are in the \"SNA_Labs\" subdirectory:"
   ]
  },
  {
   "cell_type": "code",
   "execution_count": 42,
   "metadata": {},
   "outputs": [
    {
     "data": {
      "text/html": [
       "'C:/Users/Korisnik/Desktop/social network analysis RDN/SNA 2020/SNA2020-main/SNA_Labs'"
      ],
      "text/latex": [
       "'C:/Users/Korisnik/Desktop/social network analysis RDN/SNA 2020/SNA2020-main/SNA\\_Labs'"
      ],
      "text/markdown": [
       "'C:/Users/Korisnik/Desktop/social network analysis RDN/SNA 2020/SNA2020-main/SNA_Labs'"
      ],
      "text/plain": [
       "[1] \"C:/Users/Korisnik/Desktop/social network analysis RDN/SNA 2020/SNA2020-main/SNA_Labs\""
      ]
     },
     "metadata": {},
     "output_type": "display_data"
    }
   ],
   "source": [
    "getwd()\n",
    "# setwd('SNA_Labs') # Run this line only if getwd() output tells you the subdirectory is not SNA_Labs"
   ]
  },
  {
   "cell_type": "markdown",
   "metadata": {},
   "source": [
    "First, let's look at the advice network"
   ]
  },
  {
   "cell_type": "code",
   "execution_count": 43,
   "metadata": {},
   "outputs": [
    {
     "data": {
      "text/html": [
       "<strong>png:</strong> 2"
      ],
      "text/latex": [
       "\\textbf{png:} 2"
      ],
      "text/markdown": [
       "**png:** 2"
      ],
      "text/plain": [
       "png \n",
       "  2 "
      ]
     },
     "metadata": {},
     "output_type": "display_data"
    }
   ],
   "source": [
    "pdf(\"graphs/1.1_Krackhardt_Advice.pdf\")\n",
    "plot(advice_net,\n",
    "     edge.arrow.size=.3,\n",
    "     main=\"High-tech Managers Advice Network\")\n",
    "dev.off()"
   ]
  },
  {
   "cell_type": "code",
   "execution_count": 44,
   "metadata": {},
   "outputs": [
    {
     "data": {
      "image/png": "[encoded data removed]",
      "text/plain": [
       "Plot with title \"High-tech Managers Advice Network\""
      ]
     },
     "metadata": {},
     "output_type": "display_data"
    }
   ],
   "source": [
    "# To only see the plot (without saving):\n",
    "plot(advice_net,\n",
    "     edge.arrow.size=.3,\n",
    "     main=\"High-tech Managers Advice Network\")"
   ]
  },
  {
   "cell_type": "markdown",
   "metadata": {},
   "source": [
    "Check the documentation of the pdf() function to see\n",
    "how you can customise the generated PDF document\n",
    "(e.g. by setting font, paper size, title, etc)"
   ]
  },
  {
   "cell_type": "markdown",
   "metadata": {},
   "source": [
    "Next, the friendship network"
   ]
  },
  {
   "cell_type": "code",
   "execution_count": 45,
   "metadata": {},
   "outputs": [
    {
     "data": {
      "text/html": [
       "<strong>png:</strong> 2"
      ],
      "text/latex": [
       "\\textbf{png:} 2"
      ],
      "text/markdown": [
       "**png:** 2"
      ],
      "text/plain": [
       "png \n",
       "  2 "
      ]
     },
     "metadata": {},
     "output_type": "display_data"
    }
   ],
   "source": [
    "jpeg(\"graphs/1.2_Krackhardt_Friendship.jpg\")\n",
    "plot(friendship_net,\n",
    "     edge.arrow.size=.3,\n",
    "     main=\"High-tech Managers Friendship Network\")\n",
    "dev.off()"
   ]
  },
  {
   "cell_type": "code",
   "execution_count": 46,
   "metadata": {},
   "outputs": [
    {
     "data": {
      "image/png": "[encoded data removed]",
      "text/plain": [
       "Plot with title \"High-tech Managers Friendship Network\""
      ]
     },
     "metadata": {},
     "output_type": "display_data"
    }
   ],
   "source": [
    "# To view the plot without saving it:\n",
    "plot(friendship_net,\n",
    "     edge.arrow.size=.3,\n",
    "     main=\"High-tech Managers Friendship Network\")"
   ]
  },
  {
   "cell_type": "markdown",
   "metadata": {},
   "source": [
    "Check the documentation of the jpeg() function to see\n",
    "how you can customise the image dimension, quality, .."
   ]
  },
  {
   "cell_type": "markdown",
   "metadata": {},
   "source": [
    "Finally, the reports-to network"
   ]
  },
  {
   "cell_type": "code",
   "execution_count": 47,
   "metadata": {},
   "outputs": [
    {
     "data": {
      "text/html": [
       "<strong>png:</strong> 2"
      ],
      "text/latex": [
       "\\textbf{png:} 2"
      ],
      "text/markdown": [
       "**png:** 2"
      ],
      "text/plain": [
       "png \n",
       "  2 "
      ]
     },
     "metadata": {},
     "output_type": "display_data"
    }
   ],
   "source": [
    "jpeg(\"graphs/1.3_Krackhardt_Reports.jpg\")\n",
    "plot(reports_to_net,\n",
    "     edge.arrow.size=.3,\n",
    "     main=\"High-tech Managers Reports-to Network\")\n",
    "dev.off()"
   ]
  },
  {
   "cell_type": "code",
   "execution_count": 48,
   "metadata": {
    "scrolled": false
   },
   "outputs": [
    {
     "data": {
      "image/png": "[encoded data removed]",
      "text/plain": [
       "Plot with title \"High-tech Managers Reports-to Network\""
      ]
     },
     "metadata": {},
     "output_type": "display_data"
    }
   ],
   "source": [
    "# View without saving plot:\n",
    "plot(reports_to_net,\n",
    "     edge.arrow.size=.3,\n",
    "     main=\"High-tech Managers Reports-to Network\")"
   ]
  },
  {
   "cell_type": "markdown",
   "metadata": {},
   "source": [
    "We can optimize the layout by applying a layout \n",
    "algorithm to the specific set of ties we care about. \n",
    "The above graphs were plotted using the Fruchterman-Rheingold\n",
    "algorithm (the default one). Other options are described in \n",
    "the igraph help page for ```layout_```:"
   ]
  },
  {
   "cell_type": "code",
   "execution_count": 49,
   "metadata": {},
   "outputs": [],
   "source": [
    "?layout_"
   ]
  },
  {
   "cell_type": "markdown",
   "metadata": {},
   "source": [
    "Now we'll use the layout generated for the Reports-to network\n",
    "to plot the friendship ties. The idea is to try to (visually) \n",
    "explore how well friendship relations go along the official \n",
    "organisational structure (reflected in the reports_to relation)."
   ]
  },
  {
   "cell_type": "code",
   "execution_count": 50,
   "metadata": {
    "scrolled": false
   },
   "outputs": [
    {
     "data": {
      "image/png": "[encoded data removed]",
      "text/plain": [
       "Plot with title \"High-tech Managers Friendship Network\""
      ]
     },
     "metadata": {},
     "output_type": "display_data"
    }
   ],
   "source": [
    "reports_to_layout <- layout_nicely(reports_to_net)\n",
    "plot(friendship_net, \n",
    "     layout=reports_to_layout,\n",
    "     edge.arrow.size=.3,\n",
    "     main=\"High-tech Managers Friendship Network\")"
   ]
  },
  {
   "cell_type": "markdown",
   "metadata": {},
   "source": [
    "Now let's color-code vertices by department \n",
    "Check the possible values for the 'DEPT' attribute"
   ]
  },
  {
   "cell_type": "code",
   "execution_count": 51,
   "metadata": {},
   "outputs": [
    {
     "data": {
      "text/html": [
       "<ol class=list-inline>\n",
       "\t<li>4</li>\n",
       "\t<li>2</li>\n",
       "\t<li>1</li>\n",
       "\t<li>0</li>\n",
       "\t<li>3</li>\n",
       "</ol>\n"
      ],
      "text/latex": [
       "\\begin{enumerate*}\n",
       "\\item 4\n",
       "\\item 2\n",
       "\\item 1\n",
       "\\item 0\n",
       "\\item 3\n",
       "\\end{enumerate*}\n"
      ],
      "text/markdown": [
       "1. 4\n",
       "2. 2\n",
       "3. 1\n",
       "4. 0\n",
       "5. 3\n",
       "\n",
       "\n"
      ],
      "text/plain": [
       "[1] 4 2 1 0 3"
      ]
     },
     "metadata": {},
     "output_type": "display_data"
    }
   ],
   "source": [
    "unique(V(friendship_net)$DEPT)"
   ]
  },
  {
   "cell_type": "markdown",
   "metadata": {},
   "source": [
    "Initiate the vector of node colors:"
   ]
  },
  {
   "cell_type": "code",
   "execution_count": 52,
   "metadata": {},
   "outputs": [],
   "source": [
    "dept_vertex_colors <- V(friendship_net)$DEPT + 1"
   ]
  },
  {
   "cell_type": "markdown",
   "metadata": {},
   "source": [
    "Select a color palette using the ColorBrewer (http://colorbrewer2.org) "
   ]
  },
  {
   "cell_type": "code",
   "execution_count": 53,
   "metadata": {},
   "outputs": [],
   "source": [
    "colors <- c('#8dd3c7','#ffffb3','#bebada','#fb8072','#80b1d3')"
   ]
  },
  {
   "cell_type": "markdown",
   "metadata": {},
   "source": [
    "Associate department numbers with colors from the 'colors' palette\n"
   ]
  },
  {
   "cell_type": "code",
   "execution_count": 54,
   "metadata": {},
   "outputs": [],
   "source": [
    "dept_vertex_colors <- sapply(dept_vertex_colors, function(x) colors[x])"
   ]
  },
  {
   "cell_type": "code",
   "execution_count": 55,
   "metadata": {},
   "outputs": [
    {
     "data": {
      "image/png": "[encoded data removed]",
      "text/plain": [
       "Plot with title \"Friendship network\n",
       "(node color denotes department)\""
      ]
     },
     "metadata": {},
     "output_type": "display_data"
    }
   ],
   "source": [
    "plot(friendship_net, \n",
    "    layout=reports_to_layout, \n",
    "    vertex.color=dept_vertex_colors, # setting node color\n",
    "    vertex.label=V(friendship_net)$LEVEL, # using organisational level as the vertex label\n",
    "    edge.arrow.size=.3,\n",
    "    main=\"Friendship network\\n(node color denotes department)\")"
   ]
  },
  {
   "cell_type": "markdown",
   "metadata": {},
   "source": [
    "Now let's make the vertex size proportional to the actors' tenure:"
   ]
  },
  {
   "cell_type": "code",
   "execution_count": 56,
   "metadata": {},
   "outputs": [
    {
     "data": {
      "text/plain": [
       "   Min. 1st Qu.  Median    Mean 3rd Qu.    Max. \n",
       "  0.250   7.500   9.333  11.746  12.500  30.000 "
      ]
     },
     "metadata": {},
     "output_type": "display_data"
    }
   ],
   "source": [
    "tenure_vertex_sizes <- V(friendship_net)$TENURE\n",
    "summary(tenure_vertex_sizes)"
   ]
  },
  {
   "cell_type": "markdown",
   "metadata": {},
   "source": [
    "There is a large difference between the min and max values, which will not  \n",
    "'translate' well into visual depiction of the graph. So, we will somewhat\n",
    "'smooth' the difference\n",
    "Some ideas how this \"smoothing\" can be done, are given in this post:\n",
    "https://towardsdatascience.com/transforming-skewed-data-73da4c2d0d16"
   ]
  },
  {
   "cell_type": "code",
   "execution_count": 57,
   "metadata": {},
   "outputs": [
    {
     "data": {
      "text/plain": [
       "   Min. 1st Qu.  Median    Mean 3rd Qu.    Max. \n",
       "  1.785  17.121  18.683  18.728  20.822  27.472 "
      ]
     },
     "metadata": {},
     "output_type": "display_data"
    }
   ],
   "source": [
    "tenure_vertex_sizes <- log(tenure_vertex_sizes + 1) * 8\n",
    "summary(tenure_vertex_sizes)"
   ]
  },
  {
   "cell_type": "code",
   "execution_count": 58,
   "metadata": {},
   "outputs": [
    {
     "data": {
      "image/png": "[encoded data removed]",
      "text/plain": [
       "Plot with title \"Friendship network\n",
       "(node color denotes department, size denotes tenure)\""
      ]
     },
     "metadata": {},
     "output_type": "display_data"
    }
   ],
   "source": [
    "plot(friendship_net, \n",
    "     layout=reports_to_layout, \n",
    "     vertex.color=dept_vertex_colors, \n",
    "     vertex.label=V(friendship_net)$LEVEL,\n",
    "     edge.arrow.size=.3,\n",
    "     vertex.size=tenure_vertex_sizes, # setting the vertex size\n",
    "     main=\"Friendship network\\n(node color denotes department, size denotes tenure)\")"
   ]
  },
  {
   "cell_type": "markdown",
   "metadata": {},
   "source": [
    "We can also add visualization related attributes directly to a graph, \n",
    "that is, as attributes of the graph's vertices and edges. \n",
    "Since such attributes serve only for visualizing a graph, we will first \n",
    "replicate the graph, and add the visualisation attributes to the replicated one,\n",
    "thus avoiding to 'burden' the 'main' graph with visual details."
   ]
  },
  {
   "cell_type": "code",
   "execution_count": 59,
   "metadata": {},
   "outputs": [],
   "source": [
    "friendship_viz <- friendship_net\n",
    "E(friendship_viz)$arrow.size <- .3 \n",
    "E(friendship_viz)$color <- '#4496eb' # (a variant of) blue as the edge color\n",
    "V(friendship_viz)$size <- tenure_vertex_sizes\n",
    "V(friendship_viz)$color <- dept_vertex_colors \n",
    "V(friendship_viz)$frame <- '#3e3e8c' # dark blue as the color of the edge/frame of all vertices"
   ]
  },
  {
   "cell_type": "markdown",
   "metadata": {},
   "source": [
    "Since we have added the visualization related attributes\n",
    "to the graph object directly, we can visualize it without\n",
    "specifying any parameters to the plot() function"
   ]
  },
  {
   "cell_type": "code",
   "execution_count": 60,
   "metadata": {},
   "outputs": [
    {
     "data": {
      "image/png": "[encoded data removed]",
      "text/plain": [
       "Plot with title \"\""
      ]
     },
     "metadata": {},
     "output_type": "display_data"
    }
   ],
   "source": [
    "plot(friendship_viz, layout=reports_to_layout)"
   ]
  },
  {
   "cell_type": "markdown",
   "metadata": {},
   "source": [
    "#### Task 1"
   ]
  },
  {
   "cell_type": "markdown",
   "metadata": {},
   "source": [
    "Use network visualisations to explore the similarities and differences of \n",
    "the advice and reports-to networks. To do that, follow a procedure similar to  \n",
    "the one used above for comparing / contrasting friendship and reports-to networks. "
   ]
  },
  {
   "cell_type": "markdown",
   "metadata": {},
   "source": [
    "#### 5. EXPORT THE NETWORK"
   ]
  },
  {
   "cell_type": "code",
   "execution_count": 64,
   "metadata": {},
   "outputs": [],
   "source": [
    "output_dir <- \"output/lab1/\"\n",
    "if(file.exists(output_dir)==FALSE) \n",
    "    dir.create(file.path(getwd(), output_dir), recursive = TRUE)"
   ]
  },
  {
   "cell_type": "markdown",
   "metadata": {},
   "source": [
    "The write.graph() function exports a graph object in various\n",
    "formats readable by other programs. For example, a graph can be\n",
    "exported in the 'graphml' format and imported in Gephi for \n",
    "visualisation.\n"
   ]
  },
  {
   "cell_type": "code",
   "execution_count": 65,
   "metadata": {},
   "outputs": [],
   "source": [
    "write.graph(advice_net, file='output/lab1/krack_advice_net.graphml', format=\"graphml\")"
   ]
  },
  {
   "cell_type": "markdown",
   "metadata": {},
   "source": [
    "For a more general file type (e.g., importable to Excel),\n",
    "use the \"edgelist\" format. Note that this file format will keep\n",
    "neither node nor tie attributes; only the edges will be stored."
   ]
  },
  {
   "cell_type": "code",
   "execution_count": 66,
   "metadata": {},
   "outputs": [],
   "source": [
    "write.graph(advice_net, file='output/lab1/krack_advice.txt', format=\"edgelist\")"
   ]
  },
  {
   "cell_type": "markdown",
   "metadata": {},
   "source": [
    "We can also save graphs as RData files. This is the best option if we intend\n",
    "to further process graphs in R, since this format will keep all the specific\n",
    "characteristics of the graph objects that we have created."
   ]
  },
  {
   "cell_type": "code",
   "execution_count": 68,
   "metadata": {},
   "outputs": [],
   "source": [
    "saveRDS(advice_net, \"output/lab1/krack_advice.RData\")\n",
    "saveRDS(friendship_net, \"output/lab1/krack_friendship.RData\")\n",
    "saveRDS(reports_to_net, \"output/lab1/krack_reports_to.RData\")"
   ]
  },
  {
   "cell_type": "code",
   "execution_count": null,
   "metadata": {},
   "outputs": [],
   "source": []
  },
  {
   "cell_type": "code",
   "execution_count": null,
   "metadata": {},
   "outputs": [],
   "source": []
  }
 ],
 "metadata": {
  "kernelspec": {
   "display_name": "R",
   "language": "R",
   "name": "ir"
  },
  "language_info": {
   "codemirror_mode": "r",
   "file_extension": ".r",
   "mimetype": "text/x-r-source",
   "name": "R",
   "pygments_lexer": "r",
   "version": "3.6.1"
  }
 },
 "nbformat": 4,
 "nbformat_minor": 2
}
