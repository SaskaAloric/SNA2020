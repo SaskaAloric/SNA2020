{
 "cells": [
  {
   "cell_type": "markdown",
   "metadata": {},
   "source": [
    "## LAB 4"
   ]
  },
  {
   "cell_type": "markdown",
   "metadata": {},
   "source": [
    "*This R script is partially based on the 'LAB 3: Clusters, Factions and Cores' \n",
    "script from the Social Network Analysis course at Stanford  University\n",
    "(available at: https://sna.stanford.edu/lab.php?l=3)\n",
    "*"
   ]
  },
  {
   "cell_type": "markdown",
   "metadata": {},
   "source": [
    "The purpose of this lab is to introduce different \n",
    "community detection (clustering) methods that allow \n",
    "for identifying communities (groups, clusters) in a \n",
    "social network."
   ]
  },
  {
   "cell_type": "markdown",
   "metadata": {},
   "source": [
    "### 1. SET UP A SESSION"
   ]
  },
  {
   "cell_type": "markdown",
   "metadata": {},
   "source": [
    "#### 1.1 Load the required R packages"
   ]
  },
  {
   "cell_type": "markdown",
   "metadata": {},
   "source": [
    "For this lab, in addition to igraph, we'll use four new R packages:\n",
    "- cluster: a package for general purpose cluster-analysis with  \n",
    "  applications beyond the social-network context\n",
    "- factoextra: a package for seamless visualisation of clustering results\n",
    "  (and many other things)\n",
    "- proxy: we'll use it to compute cosine similarity - a similarity measure \n",
    "  required in the clustering process\n",
    "- animation: used, not surprisingly, for producing animations\n",
    "- NetData: a package with all datasets used in the Stanford's SNA R labs\n",
    "\n",
    "To see what datasets are available in the package, check:\n",
    "  https://cran.r-project.org/web/packages/NetData/NetData.pdf"
   ]
  },
  {
   "cell_type": "markdown",
   "metadata": {},
   "source": [
    "Reminder: installation of packages is to be done just once; \n",
    "loading of packages has to be done in every session they are to be used"
   ]
  },
  {
   "cell_type": "code",
   "execution_count": 15,
   "metadata": {},
   "outputs": [],
   "source": [
    "#install.packages('proxy')\n",
    "\n",
    "# This didn't work for me, so I installed the package using the second code line\n",
    "# install.packages(\"animation\", \n",
    "#                  repos = \"http://cran.cnr.berkeley.edu/\",\n",
    "#                  dependencies = TRUE)\n",
    "\n",
    "#install.packages('animation')\n",
    "\n",
    "#install.packages(c('cluster', 'proxy', 'NetData', 'factoextra'))\n",
    "\n",
    "#install.packages('NetData')"
   ]
  },
  {
   "cell_type": "code",
   "execution_count": 16,
   "metadata": {},
   "outputs": [],
   "source": [
    "library(igraph)\n",
    "library(cluster)\n",
    "library(proxy)\n",
    "library(animation)\n",
    "library(NetData)"
   ]
  },
  {
   "cell_type": "markdown",
   "metadata": {},
   "source": [
    "#### 1.2 Set the seed to be used in random processes"
   ]
  },
  {
   "cell_type": "code",
   "execution_count": 17,
   "metadata": {},
   "outputs": [],
   "source": [
    "seed <- 612"
   ]
  },
  {
   "cell_type": "markdown",
   "metadata": {},
   "source": [
    "### 2. LOADING the DATA and CREATING GRAPHS"
   ]
  },
  {
   "cell_type": "markdown",
   "metadata": {},
   "source": [
    "We'll use a dataset from the NetData package:"
   ]
  },
  {
   "cell_type": "code",
   "execution_count": 18,
   "metadata": {},
   "outputs": [],
   "source": [
    "data(studentnets.M182, package = \"NetData\")"
   ]
  },
  {
   "cell_type": "markdown",
   "metadata": {},
   "source": [
    "Out of the 4 loaded data frames (df), we will use 3 dfs \n",
    "with data about 3 student networks:\n",
    "- friend_df: self-reported friendship ties\n",
    "  (2 = best friend, 1 = friend, 0 = not friend)\n",
    "- social_df: observed social interactions\n",
    "- task_df: observed task interactions\n",
    "\n",
    "Note that all 3 networks represent the same \n",
    "group of students, related via 3 different kinds \n",
    "of relationships"
   ]
  },
  {
   "cell_type": "code",
   "execution_count": 19,
   "metadata": {},
   "outputs": [
    {
     "name": "stdout",
     "output_type": "stream",
     "text": [
      "'data.frame':\t256 obs. of  3 variables:\n",
      " $ ego       : int  1 1 1 1 1 1 1 1 1 1 ...\n",
      " $ alter     : int  1 2 3 4 5 6 7 8 9 10 ...\n",
      " $ friend_tie: num  0 0 0 0 0 0 0 0 0 0 ...\n"
     ]
    },
    {
     "data": {
      "text/plain": [
       "\n",
       "  0   1   2 \n",
       "194  54   8 "
      ]
     },
     "metadata": {},
     "output_type": "display_data"
    }
   ],
   "source": [
    "str(friend_df)\n",
    "table(friend_df$friend_tie)"
   ]
  },
  {
   "cell_type": "markdown",
   "metadata": {},
   "source": [
    "All three dfs have the same structure:\n",
    "- the first column is the ego, \n",
    "- the second column is the alter, \n",
    "- the third column is an integer or a floating-point number\n",
    "  greater than or equal to zero representing the strength \n",
    "  of the association for the given two vertices (ego, alter).\n",
    "\n",
    "There is also the 4th df - m182_full_data_frame - that\n",
    "integrates data for the 3 abovementioned networks. "
   ]
  },
  {
   "cell_type": "code",
   "execution_count": 20,
   "metadata": {},
   "outputs": [
    {
     "name": "stdout",
     "output_type": "stream",
     "text": [
      "'data.frame':\t256 obs. of  5 variables:\n",
      " $ ego       : int  1 1 1 1 1 1 1 1 1 1 ...\n",
      " $ alter     : int  1 2 3 4 5 6 7 8 9 10 ...\n",
      " $ friend_tie: num  0 0 0 0 0 0 0 0 0 0 ...\n",
      " $ social_tie: num  0 0 0 0 1.2 0 0 0.15 2.85 6.45 ...\n",
      " $ task_tie  : num  0 0 0 0 0.3 0 0 0 0.3 0.3 ...\n"
     ]
    }
   ],
   "source": [
    "str(m182_full_data_frame)"
   ]
  },
  {
   "cell_type": "markdown",
   "metadata": {},
   "source": [
    "As we won't need it for this lab, we'll remove it:"
   ]
  },
  {
   "cell_type": "code",
   "execution_count": 21,
   "metadata": {},
   "outputs": [],
   "source": [
    "remove(m182_full_data_frame)"
   ]
  },
  {
   "cell_type": "markdown",
   "metadata": {},
   "source": [
    "Create graphs for the 3 different types of ties"
   ]
  },
  {
   "cell_type": "code",
   "execution_count": 22,
   "metadata": {},
   "outputs": [
    {
     "data": {
      "text/html": [
       "<table>\n",
       "<caption>A data.frame: 20 × 3</caption>\n",
       "<thead>\n",
       "\t<tr><th></th><th scope=col>ego</th><th scope=col>alter</th><th scope=col>friend_tie</th></tr>\n",
       "\t<tr><th></th><th scope=col>&lt;int&gt;</th><th scope=col>&lt;int&gt;</th><th scope=col>&lt;dbl&gt;</th></tr>\n",
       "</thead>\n",
       "<tbody>\n",
       "\t<tr><th scope=row>1</th><td>1</td><td> 1</td><td>0</td></tr>\n",
       "\t<tr><th scope=row>2</th><td>1</td><td> 2</td><td>0</td></tr>\n",
       "\t<tr><th scope=row>3</th><td>1</td><td> 3</td><td>0</td></tr>\n",
       "\t<tr><th scope=row>4</th><td>1</td><td> 4</td><td>0</td></tr>\n",
       "\t<tr><th scope=row>5</th><td>1</td><td> 5</td><td>0</td></tr>\n",
       "\t<tr><th scope=row>6</th><td>1</td><td> 6</td><td>0</td></tr>\n",
       "\t<tr><th scope=row>7</th><td>1</td><td> 7</td><td>0</td></tr>\n",
       "\t<tr><th scope=row>8</th><td>1</td><td> 8</td><td>0</td></tr>\n",
       "\t<tr><th scope=row>9</th><td>1</td><td> 9</td><td>0</td></tr>\n",
       "\t<tr><th scope=row>10</th><td>1</td><td>10</td><td>0</td></tr>\n",
       "\t<tr><th scope=row>11</th><td>1</td><td>11</td><td>0</td></tr>\n",
       "\t<tr><th scope=row>12</th><td>1</td><td>12</td><td>0</td></tr>\n",
       "\t<tr><th scope=row>13</th><td>1</td><td>13</td><td>0</td></tr>\n",
       "\t<tr><th scope=row>14</th><td>1</td><td>14</td><td>0</td></tr>\n",
       "\t<tr><th scope=row>15</th><td>1</td><td>15</td><td>0</td></tr>\n",
       "\t<tr><th scope=row>16</th><td>1</td><td>16</td><td>0</td></tr>\n",
       "\t<tr><th scope=row>17</th><td>2</td><td> 1</td><td>1</td></tr>\n",
       "\t<tr><th scope=row>18</th><td>2</td><td> 2</td><td>0</td></tr>\n",
       "\t<tr><th scope=row>19</th><td>2</td><td> 3</td><td>0</td></tr>\n",
       "\t<tr><th scope=row>20</th><td>2</td><td> 4</td><td>0</td></tr>\n",
       "</tbody>\n",
       "</table>\n"
      ],
      "text/latex": [
       "A data.frame: 20 × 3\n",
       "\\begin{tabular}{r|lll}\n",
       "  & ego & alter & friend\\_tie\\\\\n",
       "  & <int> & <int> & <dbl>\\\\\n",
       "\\hline\n",
       "\t1 & 1 &  1 & 0\\\\\n",
       "\t2 & 1 &  2 & 0\\\\\n",
       "\t3 & 1 &  3 & 0\\\\\n",
       "\t4 & 1 &  4 & 0\\\\\n",
       "\t5 & 1 &  5 & 0\\\\\n",
       "\t6 & 1 &  6 & 0\\\\\n",
       "\t7 & 1 &  7 & 0\\\\\n",
       "\t8 & 1 &  8 & 0\\\\\n",
       "\t9 & 1 &  9 & 0\\\\\n",
       "\t10 & 1 & 10 & 0\\\\\n",
       "\t11 & 1 & 11 & 0\\\\\n",
       "\t12 & 1 & 12 & 0\\\\\n",
       "\t13 & 1 & 13 & 0\\\\\n",
       "\t14 & 1 & 14 & 0\\\\\n",
       "\t15 & 1 & 15 & 0\\\\\n",
       "\t16 & 1 & 16 & 0\\\\\n",
       "\t17 & 2 &  1 & 1\\\\\n",
       "\t18 & 2 &  2 & 0\\\\\n",
       "\t19 & 2 &  3 & 0\\\\\n",
       "\t20 & 2 &  4 & 0\\\\\n",
       "\\end{tabular}\n"
      ],
      "text/markdown": [
       "\n",
       "A data.frame: 20 × 3\n",
       "\n",
       "| <!--/--> | ego &lt;int&gt; | alter &lt;int&gt; | friend_tie &lt;dbl&gt; |\n",
       "|---|---|---|---|\n",
       "| 1 | 1 |  1 | 0 |\n",
       "| 2 | 1 |  2 | 0 |\n",
       "| 3 | 1 |  3 | 0 |\n",
       "| 4 | 1 |  4 | 0 |\n",
       "| 5 | 1 |  5 | 0 |\n",
       "| 6 | 1 |  6 | 0 |\n",
       "| 7 | 1 |  7 | 0 |\n",
       "| 8 | 1 |  8 | 0 |\n",
       "| 9 | 1 |  9 | 0 |\n",
       "| 10 | 1 | 10 | 0 |\n",
       "| 11 | 1 | 11 | 0 |\n",
       "| 12 | 1 | 12 | 0 |\n",
       "| 13 | 1 | 13 | 0 |\n",
       "| 14 | 1 | 14 | 0 |\n",
       "| 15 | 1 | 15 | 0 |\n",
       "| 16 | 1 | 16 | 0 |\n",
       "| 17 | 2 |  1 | 1 |\n",
       "| 18 | 2 |  2 | 0 |\n",
       "| 19 | 2 |  3 | 0 |\n",
       "| 20 | 2 |  4 | 0 |\n",
       "\n"
      ],
      "text/plain": [
       "   ego alter friend_tie\n",
       "1  1    1    0         \n",
       "2  1    2    0         \n",
       "3  1    3    0         \n",
       "4  1    4    0         \n",
       "5  1    5    0         \n",
       "6  1    6    0         \n",
       "7  1    7    0         \n",
       "8  1    8    0         \n",
       "9  1    9    0         \n",
       "10 1   10    0         \n",
       "11 1   11    0         \n",
       "12 1   12    0         \n",
       "13 1   13    0         \n",
       "14 1   14    0         \n",
       "15 1   15    0         \n",
       "16 1   16    0         \n",
       "17 2    1    1         \n",
       "18 2    2    0         \n",
       "19 2    3    0         \n",
       "20 2    4    0         "
      ]
     },
     "metadata": {},
     "output_type": "display_data"
    }
   ],
   "source": [
    "#View(head(friend_df, 20))\n",
    "head(friend_df, 20)"
   ]
  },
  {
   "cell_type": "markdown",
   "metadata": {},
   "source": [
    "Notice many zeros (at least half tie values are zero); \n",
    "so, we'll first select only those rows of the df \n",
    "where ego and alter are connected through friend tie.\n",
    "If we do not do this, we would get a graph where all node \n",
    "pairs would be connected and we would have to rely on the \n",
    "connection (edge) weight to determine if a connection exists\n",
    "or not (0 - not connected, >0 - connected)"
   ]
  },
  {
   "cell_type": "code",
   "execution_count": 23,
   "metadata": {},
   "outputs": [],
   "source": [
    "friend_net_nonzero_edges <- subset(friend_df, friend_tie > 0)"
   ]
  },
  {
   "cell_type": "markdown",
   "metadata": {},
   "source": [
    "Now, create a network"
   ]
  },
  {
   "cell_type": "code",
   "execution_count": 24,
   "metadata": {},
   "outputs": [
    {
     "name": "stdout",
     "output_type": "stream",
     "text": [
      "IGRAPH 5878eb8 DN-- 14 62 -- \n",
      "+ attr: name (v/c), friend_tie (e/n)\n"
     ]
    },
    {
     "data": {
      "text/html": [
       "<style>\n",
       ".list-inline {list-style: none; margin:0; padding: 0}\n",
       ".list-inline>li {display: inline-block}\n",
       ".list-inline>li:not(:last-child)::after {content: \"\\00b7\"; padding: 0 .5ex}\n",
       "</style>\n",
       "<ol class=list-inline><li>'2'</li><li>'3'</li><li>'5'</li><li>'6'</li><li>'7'</li><li>'8'</li><li>'9'</li><li>'10'</li><li>'11'</li><li>'12'</li><li>'13'</li><li>'14'</li><li>'15'</li><li>'1'</li></ol>\n"
      ],
      "text/latex": [
       "\\begin{enumerate*}\n",
       "\\item '2'\n",
       "\\item '3'\n",
       "\\item '5'\n",
       "\\item '6'\n",
       "\\item '7'\n",
       "\\item '8'\n",
       "\\item '9'\n",
       "\\item '10'\n",
       "\\item '11'\n",
       "\\item '12'\n",
       "\\item '13'\n",
       "\\item '14'\n",
       "\\item '15'\n",
       "\\item '1'\n",
       "\\end{enumerate*}\n"
      ],
      "text/markdown": [
       "1. '2'\n",
       "2. '3'\n",
       "3. '5'\n",
       "4. '6'\n",
       "5. '7'\n",
       "6. '8'\n",
       "7. '9'\n",
       "8. '10'\n",
       "9. '11'\n",
       "10. '12'\n",
       "11. '13'\n",
       "12. '14'\n",
       "13. '15'\n",
       "14. '1'\n",
       "\n",
       "\n"
      ],
      "text/plain": [
       " [1] \"2\"  \"3\"  \"5\"  \"6\"  \"7\"  \"8\"  \"9\"  \"10\" \"11\" \"12\" \"13\" \"14\" \"15\" \"1\" "
      ]
     },
     "metadata": {},
     "output_type": "display_data"
    }
   ],
   "source": [
    "friend_net <- graph_from_data_frame(friend_net_nonzero_edges)\n",
    "summary(friend_net)\n",
    "V(friend_net)$name"
   ]
  },
  {
   "cell_type": "markdown",
   "metadata": {},
   "source": [
    "Note that 2 nodes are missing (4 and 16) - that is because\n",
    "those students didn't report friendship tie with any other student"
   ]
  },
  {
   "cell_type": "markdown",
   "metadata": {},
   "source": [
    "Do the same for the other two dfs"
   ]
  },
  {
   "cell_type": "code",
   "execution_count": 25,
   "metadata": {},
   "outputs": [
    {
     "data": {
      "text/html": [
       "<table>\n",
       "<caption>A data.frame: 20 × 3</caption>\n",
       "<thead>\n",
       "\t<tr><th></th><th scope=col>ego</th><th scope=col>alter</th><th scope=col>social_tie</th></tr>\n",
       "\t<tr><th></th><th scope=col>&lt;int&gt;</th><th scope=col>&lt;int&gt;</th><th scope=col>&lt;dbl&gt;</th></tr>\n",
       "</thead>\n",
       "<tbody>\n",
       "\t<tr><th scope=row>1</th><td>1</td><td> 1</td><td>0.00</td></tr>\n",
       "\t<tr><th scope=row>2</th><td>1</td><td> 2</td><td>0.00</td></tr>\n",
       "\t<tr><th scope=row>3</th><td>1</td><td> 3</td><td>0.00</td></tr>\n",
       "\t<tr><th scope=row>4</th><td>1</td><td> 4</td><td>0.00</td></tr>\n",
       "\t<tr><th scope=row>5</th><td>1</td><td> 5</td><td>1.20</td></tr>\n",
       "\t<tr><th scope=row>6</th><td>1</td><td> 6</td><td>0.00</td></tr>\n",
       "\t<tr><th scope=row>7</th><td>1</td><td> 7</td><td>0.00</td></tr>\n",
       "\t<tr><th scope=row>8</th><td>1</td><td> 8</td><td>0.15</td></tr>\n",
       "\t<tr><th scope=row>9</th><td>1</td><td> 9</td><td>2.85</td></tr>\n",
       "\t<tr><th scope=row>10</th><td>1</td><td>10</td><td>6.45</td></tr>\n",
       "\t<tr><th scope=row>11</th><td>1</td><td>11</td><td>0.30</td></tr>\n",
       "\t<tr><th scope=row>12</th><td>1</td><td>12</td><td>1.95</td></tr>\n",
       "\t<tr><th scope=row>13</th><td>1</td><td>13</td><td>0.60</td></tr>\n",
       "\t<tr><th scope=row>14</th><td>1</td><td>14</td><td>0.00</td></tr>\n",
       "\t<tr><th scope=row>15</th><td>1</td><td>15</td><td>5.10</td></tr>\n",
       "\t<tr><th scope=row>16</th><td>1</td><td>16</td><td>1.35</td></tr>\n",
       "\t<tr><th scope=row>17</th><td>2</td><td> 1</td><td>0.00</td></tr>\n",
       "\t<tr><th scope=row>18</th><td>2</td><td> 2</td><td>0.00</td></tr>\n",
       "\t<tr><th scope=row>19</th><td>2</td><td> 3</td><td>0.15</td></tr>\n",
       "\t<tr><th scope=row>20</th><td>2</td><td> 4</td><td>0.00</td></tr>\n",
       "</tbody>\n",
       "</table>\n"
      ],
      "text/latex": [
       "A data.frame: 20 × 3\n",
       "\\begin{tabular}{r|lll}\n",
       "  & ego & alter & social\\_tie\\\\\n",
       "  & <int> & <int> & <dbl>\\\\\n",
       "\\hline\n",
       "\t1 & 1 &  1 & 0.00\\\\\n",
       "\t2 & 1 &  2 & 0.00\\\\\n",
       "\t3 & 1 &  3 & 0.00\\\\\n",
       "\t4 & 1 &  4 & 0.00\\\\\n",
       "\t5 & 1 &  5 & 1.20\\\\\n",
       "\t6 & 1 &  6 & 0.00\\\\\n",
       "\t7 & 1 &  7 & 0.00\\\\\n",
       "\t8 & 1 &  8 & 0.15\\\\\n",
       "\t9 & 1 &  9 & 2.85\\\\\n",
       "\t10 & 1 & 10 & 6.45\\\\\n",
       "\t11 & 1 & 11 & 0.30\\\\\n",
       "\t12 & 1 & 12 & 1.95\\\\\n",
       "\t13 & 1 & 13 & 0.60\\\\\n",
       "\t14 & 1 & 14 & 0.00\\\\\n",
       "\t15 & 1 & 15 & 5.10\\\\\n",
       "\t16 & 1 & 16 & 1.35\\\\\n",
       "\t17 & 2 &  1 & 0.00\\\\\n",
       "\t18 & 2 &  2 & 0.00\\\\\n",
       "\t19 & 2 &  3 & 0.15\\\\\n",
       "\t20 & 2 &  4 & 0.00\\\\\n",
       "\\end{tabular}\n"
      ],
      "text/markdown": [
       "\n",
       "A data.frame: 20 × 3\n",
       "\n",
       "| <!--/--> | ego &lt;int&gt; | alter &lt;int&gt; | social_tie &lt;dbl&gt; |\n",
       "|---|---|---|---|\n",
       "| 1 | 1 |  1 | 0.00 |\n",
       "| 2 | 1 |  2 | 0.00 |\n",
       "| 3 | 1 |  3 | 0.00 |\n",
       "| 4 | 1 |  4 | 0.00 |\n",
       "| 5 | 1 |  5 | 1.20 |\n",
       "| 6 | 1 |  6 | 0.00 |\n",
       "| 7 | 1 |  7 | 0.00 |\n",
       "| 8 | 1 |  8 | 0.15 |\n",
       "| 9 | 1 |  9 | 2.85 |\n",
       "| 10 | 1 | 10 | 6.45 |\n",
       "| 11 | 1 | 11 | 0.30 |\n",
       "| 12 | 1 | 12 | 1.95 |\n",
       "| 13 | 1 | 13 | 0.60 |\n",
       "| 14 | 1 | 14 | 0.00 |\n",
       "| 15 | 1 | 15 | 5.10 |\n",
       "| 16 | 1 | 16 | 1.35 |\n",
       "| 17 | 2 |  1 | 0.00 |\n",
       "| 18 | 2 |  2 | 0.00 |\n",
       "| 19 | 2 |  3 | 0.15 |\n",
       "| 20 | 2 |  4 | 0.00 |\n",
       "\n"
      ],
      "text/plain": [
       "   ego alter social_tie\n",
       "1  1    1    0.00      \n",
       "2  1    2    0.00      \n",
       "3  1    3    0.00      \n",
       "4  1    4    0.00      \n",
       "5  1    5    1.20      \n",
       "6  1    6    0.00      \n",
       "7  1    7    0.00      \n",
       "8  1    8    0.15      \n",
       "9  1    9    2.85      \n",
       "10 1   10    6.45      \n",
       "11 1   11    0.30      \n",
       "12 1   12    1.95      \n",
       "13 1   13    0.60      \n",
       "14 1   14    0.00      \n",
       "15 1   15    5.10      \n",
       "16 1   16    1.35      \n",
       "17 2    1    0.00      \n",
       "18 2    2    0.00      \n",
       "19 2    3    0.15      \n",
       "20 2    4    0.00      "
      ]
     },
     "metadata": {},
     "output_type": "display_data"
    }
   ],
   "source": [
    "#View(head(social_df, 20))\n",
    "head(social_df, 20)"
   ]
  },
  {
   "cell_type": "markdown",
   "metadata": {},
   "source": [
    "Note: the weight in this network is the estimated number of \n",
    "social interactions per hour."
   ]
  },
  {
   "cell_type": "code",
   "execution_count": 26,
   "metadata": {},
   "outputs": [
    {
     "name": "stdout",
     "output_type": "stream",
     "text": [
      "IGRAPH 5ce2a10 DN-- 16 129 -- \n",
      "+ attr: name (v/c), social_tie (e/n)\n"
     ]
    },
    {
     "data": {
      "text/html": [
       "<style>\n",
       ".list-inline {list-style: none; margin:0; padding: 0}\n",
       ".list-inline>li {display: inline-block}\n",
       ".list-inline>li:not(:last-child)::after {content: \"\\00b7\"; padding: 0 .5ex}\n",
       "</style>\n",
       "<ol class=list-inline><li>'1'</li><li>'2'</li><li>'3'</li><li>'4'</li><li>'5'</li><li>'6'</li><li>'7'</li><li>'8'</li><li>'9'</li><li>'10'</li><li>'11'</li><li>'12'</li><li>'13'</li><li>'14'</li><li>'15'</li><li>'16'</li></ol>\n"
      ],
      "text/latex": [
       "\\begin{enumerate*}\n",
       "\\item '1'\n",
       "\\item '2'\n",
       "\\item '3'\n",
       "\\item '4'\n",
       "\\item '5'\n",
       "\\item '6'\n",
       "\\item '7'\n",
       "\\item '8'\n",
       "\\item '9'\n",
       "\\item '10'\n",
       "\\item '11'\n",
       "\\item '12'\n",
       "\\item '13'\n",
       "\\item '14'\n",
       "\\item '15'\n",
       "\\item '16'\n",
       "\\end{enumerate*}\n"
      ],
      "text/markdown": [
       "1. '1'\n",
       "2. '2'\n",
       "3. '3'\n",
       "4. '4'\n",
       "5. '5'\n",
       "6. '6'\n",
       "7. '7'\n",
       "8. '8'\n",
       "9. '9'\n",
       "10. '10'\n",
       "11. '11'\n",
       "12. '12'\n",
       "13. '13'\n",
       "14. '14'\n",
       "15. '15'\n",
       "16. '16'\n",
       "\n",
       "\n"
      ],
      "text/plain": [
       " [1] \"1\"  \"2\"  \"3\"  \"4\"  \"5\"  \"6\"  \"7\"  \"8\"  \"9\"  \"10\" \"11\" \"12\" \"13\" \"14\" \"15\"\n",
       "[16] \"16\""
      ]
     },
     "metadata": {},
     "output_type": "display_data"
    }
   ],
   "source": [
    "social_net <- graph_from_data_frame(subset(social_df, social_tie > 0))\n",
    "summary(social_net)\n",
    "V(social_net)$name # all students present"
   ]
  },
  {
   "cell_type": "code",
   "execution_count": 27,
   "metadata": {},
   "outputs": [
    {
     "data": {
      "text/html": [
       "<table>\n",
       "<caption>A data.frame: 20 × 3</caption>\n",
       "<thead>\n",
       "\t<tr><th></th><th scope=col>ego</th><th scope=col>alter</th><th scope=col>task_tie</th></tr>\n",
       "\t<tr><th></th><th scope=col>&lt;int&gt;</th><th scope=col>&lt;int&gt;</th><th scope=col>&lt;dbl&gt;</th></tr>\n",
       "</thead>\n",
       "<tbody>\n",
       "\t<tr><th scope=row>1</th><td>1</td><td> 1</td><td>0.00</td></tr>\n",
       "\t<tr><th scope=row>2</th><td>1</td><td> 2</td><td>0.00</td></tr>\n",
       "\t<tr><th scope=row>3</th><td>1</td><td> 3</td><td>0.00</td></tr>\n",
       "\t<tr><th scope=row>4</th><td>1</td><td> 4</td><td>0.00</td></tr>\n",
       "\t<tr><th scope=row>5</th><td>1</td><td> 5</td><td>0.30</td></tr>\n",
       "\t<tr><th scope=row>6</th><td>1</td><td> 6</td><td>0.00</td></tr>\n",
       "\t<tr><th scope=row>7</th><td>1</td><td> 7</td><td>0.00</td></tr>\n",
       "\t<tr><th scope=row>8</th><td>1</td><td> 8</td><td>0.00</td></tr>\n",
       "\t<tr><th scope=row>9</th><td>1</td><td> 9</td><td>0.30</td></tr>\n",
       "\t<tr><th scope=row>10</th><td>1</td><td>10</td><td>0.30</td></tr>\n",
       "\t<tr><th scope=row>11</th><td>1</td><td>11</td><td>0.00</td></tr>\n",
       "\t<tr><th scope=row>12</th><td>1</td><td>12</td><td>0.15</td></tr>\n",
       "\t<tr><th scope=row>13</th><td>1</td><td>13</td><td>0.00</td></tr>\n",
       "\t<tr><th scope=row>14</th><td>1</td><td>14</td><td>0.00</td></tr>\n",
       "\t<tr><th scope=row>15</th><td>1</td><td>15</td><td>0.15</td></tr>\n",
       "\t<tr><th scope=row>16</th><td>1</td><td>16</td><td>5.10</td></tr>\n",
       "\t<tr><th scope=row>17</th><td>2</td><td> 1</td><td>0.00</td></tr>\n",
       "\t<tr><th scope=row>18</th><td>2</td><td> 2</td><td>0.00</td></tr>\n",
       "\t<tr><th scope=row>19</th><td>2</td><td> 3</td><td>0.00</td></tr>\n",
       "\t<tr><th scope=row>20</th><td>2</td><td> 4</td><td>0.00</td></tr>\n",
       "</tbody>\n",
       "</table>\n"
      ],
      "text/latex": [
       "A data.frame: 20 × 3\n",
       "\\begin{tabular}{r|lll}\n",
       "  & ego & alter & task\\_tie\\\\\n",
       "  & <int> & <int> & <dbl>\\\\\n",
       "\\hline\n",
       "\t1 & 1 &  1 & 0.00\\\\\n",
       "\t2 & 1 &  2 & 0.00\\\\\n",
       "\t3 & 1 &  3 & 0.00\\\\\n",
       "\t4 & 1 &  4 & 0.00\\\\\n",
       "\t5 & 1 &  5 & 0.30\\\\\n",
       "\t6 & 1 &  6 & 0.00\\\\\n",
       "\t7 & 1 &  7 & 0.00\\\\\n",
       "\t8 & 1 &  8 & 0.00\\\\\n",
       "\t9 & 1 &  9 & 0.30\\\\\n",
       "\t10 & 1 & 10 & 0.30\\\\\n",
       "\t11 & 1 & 11 & 0.00\\\\\n",
       "\t12 & 1 & 12 & 0.15\\\\\n",
       "\t13 & 1 & 13 & 0.00\\\\\n",
       "\t14 & 1 & 14 & 0.00\\\\\n",
       "\t15 & 1 & 15 & 0.15\\\\\n",
       "\t16 & 1 & 16 & 5.10\\\\\n",
       "\t17 & 2 &  1 & 0.00\\\\\n",
       "\t18 & 2 &  2 & 0.00\\\\\n",
       "\t19 & 2 &  3 & 0.00\\\\\n",
       "\t20 & 2 &  4 & 0.00\\\\\n",
       "\\end{tabular}\n"
      ],
      "text/markdown": [
       "\n",
       "A data.frame: 20 × 3\n",
       "\n",
       "| <!--/--> | ego &lt;int&gt; | alter &lt;int&gt; | task_tie &lt;dbl&gt; |\n",
       "|---|---|---|---|\n",
       "| 1 | 1 |  1 | 0.00 |\n",
       "| 2 | 1 |  2 | 0.00 |\n",
       "| 3 | 1 |  3 | 0.00 |\n",
       "| 4 | 1 |  4 | 0.00 |\n",
       "| 5 | 1 |  5 | 0.30 |\n",
       "| 6 | 1 |  6 | 0.00 |\n",
       "| 7 | 1 |  7 | 0.00 |\n",
       "| 8 | 1 |  8 | 0.00 |\n",
       "| 9 | 1 |  9 | 0.30 |\n",
       "| 10 | 1 | 10 | 0.30 |\n",
       "| 11 | 1 | 11 | 0.00 |\n",
       "| 12 | 1 | 12 | 0.15 |\n",
       "| 13 | 1 | 13 | 0.00 |\n",
       "| 14 | 1 | 14 | 0.00 |\n",
       "| 15 | 1 | 15 | 0.15 |\n",
       "| 16 | 1 | 16 | 5.10 |\n",
       "| 17 | 2 |  1 | 0.00 |\n",
       "| 18 | 2 |  2 | 0.00 |\n",
       "| 19 | 2 |  3 | 0.00 |\n",
       "| 20 | 2 |  4 | 0.00 |\n",
       "\n"
      ],
      "text/plain": [
       "   ego alter task_tie\n",
       "1  1    1    0.00    \n",
       "2  1    2    0.00    \n",
       "3  1    3    0.00    \n",
       "4  1    4    0.00    \n",
       "5  1    5    0.30    \n",
       "6  1    6    0.00    \n",
       "7  1    7    0.00    \n",
       "8  1    8    0.00    \n",
       "9  1    9    0.30    \n",
       "10 1   10    0.30    \n",
       "11 1   11    0.00    \n",
       "12 1   12    0.15    \n",
       "13 1   13    0.00    \n",
       "14 1   14    0.00    \n",
       "15 1   15    0.15    \n",
       "16 1   16    5.10    \n",
       "17 2    1    0.00    \n",
       "18 2    2    0.00    \n",
       "19 2    3    0.00    \n",
       "20 2    4    0.00    "
      ]
     },
     "metadata": {},
     "output_type": "display_data"
    }
   ],
   "source": [
    "#View(head(task_df, 20))\n",
    "head(task_df, 20)"
   ]
  },
  {
   "cell_type": "markdown",
   "metadata": {},
   "source": [
    "Note: the weight in this network is the estimated number of \n",
    "task-related interactions per hour."
   ]
  },
  {
   "cell_type": "code",
   "execution_count": 28,
   "metadata": {},
   "outputs": [
    {
     "name": "stdout",
     "output_type": "stream",
     "text": [
      "IGRAPH 5e47c0f DN-- 16 88 -- \n",
      "+ attr: name (v/c), task_tie (e/n)\n"
     ]
    },
    {
     "data": {
      "text/html": [
       "<style>\n",
       ".list-inline {list-style: none; margin:0; padding: 0}\n",
       ".list-inline>li {display: inline-block}\n",
       ".list-inline>li:not(:last-child)::after {content: \"\\00b7\"; padding: 0 .5ex}\n",
       "</style>\n",
       "<ol class=list-inline><li>'1'</li><li>'2'</li><li>'3'</li><li>'4'</li><li>'5'</li><li>'6'</li><li>'7'</li><li>'8'</li><li>'9'</li><li>'10'</li><li>'11'</li><li>'12'</li><li>'13'</li><li>'14'</li><li>'15'</li><li>'16'</li></ol>\n"
      ],
      "text/latex": [
       "\\begin{enumerate*}\n",
       "\\item '1'\n",
       "\\item '2'\n",
       "\\item '3'\n",
       "\\item '4'\n",
       "\\item '5'\n",
       "\\item '6'\n",
       "\\item '7'\n",
       "\\item '8'\n",
       "\\item '9'\n",
       "\\item '10'\n",
       "\\item '11'\n",
       "\\item '12'\n",
       "\\item '13'\n",
       "\\item '14'\n",
       "\\item '15'\n",
       "\\item '16'\n",
       "\\end{enumerate*}\n"
      ],
      "text/markdown": [
       "1. '1'\n",
       "2. '2'\n",
       "3. '3'\n",
       "4. '4'\n",
       "5. '5'\n",
       "6. '6'\n",
       "7. '7'\n",
       "8. '8'\n",
       "9. '9'\n",
       "10. '10'\n",
       "11. '11'\n",
       "12. '12'\n",
       "13. '13'\n",
       "14. '14'\n",
       "15. '15'\n",
       "16. '16'\n",
       "\n",
       "\n"
      ],
      "text/plain": [
       " [1] \"1\"  \"2\"  \"3\"  \"4\"  \"5\"  \"6\"  \"7\"  \"8\"  \"9\"  \"10\" \"11\" \"12\" \"13\" \"14\" \"15\"\n",
       "[16] \"16\""
      ]
     },
     "metadata": {},
     "output_type": "display_data"
    }
   ],
   "source": [
    "task_net <- graph_from_data_frame(subset(task_df, task_tie > 0))\n",
    "summary(task_net)\n",
    "V(task_net)$name # all students present"
   ]
  },
  {
   "cell_type": "markdown",
   "metadata": {},
   "source": [
    "To get an idea of what the three student networks look like, \n",
    "let's create a function that will allow us to quickly plot graphs.\n",
    "The edge_weights argument will allow us to plot edge thickness \n",
    "proportional to the intensity of the ties between actor pairs"
   ]
  },
  {
   "cell_type": "code",
   "execution_count": 29,
   "metadata": {},
   "outputs": [],
   "source": [
    "plot_graph <- function(g, connection_type, edge_weights) {\n",
    "  set.seed(seed)\n",
    "  plot(g, \n",
    "       layout=layout_with_kk(g),\n",
    "       vertex.color='gold', \n",
    "       vertex.frame.color='steelblue4',\n",
    "       edge.arrow.size=.3,\n",
    "       #edge.arrow.size=.4*edge_weights,#when weights are very different, fixed arrow size will sometimes hide arrow, so this can fix that by making the arrow size related to the link width\n",
    "       edge.width=edge_weights,\n",
    "       edge.color='steelblue3', \n",
    "       main=paste(connection_type, \"network\"))\n",
    "}"
   ]
  },
  {
   "cell_type": "markdown",
   "metadata": {},
   "source": [
    "Use the function to plot the friendship network"
   ]
  },
  {
   "cell_type": "code",
   "execution_count": 30,
   "metadata": {},
   "outputs": [
    {
     "data": {
      "image/png": "[encoded data removed]",
      "text/plain": [
       "Plot with title \"Friendship network\""
      ]
     },
     "metadata": {
      "image/png": {
       "height": 420,
       "width": 420
      }
     },
     "output_type": "display_data"
    }
   ],
   "source": [
    "friend_tie_weights <- E(friend_net)$friend_tie * 1.35\n",
    "plot_graph(friend_net, 'Friendship', friend_tie_weights)"
   ]
  },
  {
   "cell_type": "markdown",
   "metadata": {},
   "source": [
    "Now, plot the social interactions network"
   ]
  },
  {
   "cell_type": "code",
   "execution_count": 31,
   "metadata": {},
   "outputs": [
    {
     "data": {
      "image/png": "[encoded data removed]",
      "text/plain": [
       "Plot with title \"Social interactions network\""
      ]
     },
     "metadata": {
      "image/png": {
       "height": 420,
       "width": 420
      }
     },
     "output_type": "display_data"
    }
   ],
   "source": [
    "plot_graph(social_net, 'Social interactions', \n",
    "           E(social_net)$social_tie * 0.5)"
   ]
  },
  {
   "cell_type": "markdown",
   "metadata": {},
   "source": [
    "And, the task interactions network"
   ]
  },
  {
   "cell_type": "code",
   "execution_count": 32,
   "metadata": {},
   "outputs": [
    {
     "data": {
      "image/png": "[encoded data removed]",
      "text/plain": [
       "Plot with title \"Task interactions network\""
      ]
     },
     "metadata": {
      "image/png": {
       "height": 420,
       "width": 420
      }
     },
     "output_type": "display_data"
    }
   ],
   "source": [
    "plot_graph(task_net, 'Task interactions', \n",
    "           E(task_net)$task_tie * 0.75)"
   ]
  },
  {
   "cell_type": "markdown",
   "metadata": {},
   "source": [
    "If curious about the weights of the thick edges, you can inspect\n",
    "those weights, for example, by viewing adjacency matrix"
   ]
  },
  {
   "cell_type": "code",
   "execution_count": 33,
   "metadata": {},
   "outputs": [
    {
     "name": "stderr",
     "output_type": "stream",
     "text": [
      "   [[ suppressing 16 column names '1', '2', '3' ... ]]\n",
      "\n"
     ]
    },
    {
     "data": {
      "text/plain": [
       "16 x 16 sparse Matrix of class \"dgCMatrix\"\n",
       "                                                                            \n",
       "1  .    .    .    .    0.30 .    .    .    0.30 0.30 .   0.15 .    .    0.15\n",
       "2  .    .    .    .    .    .    0.75 0.30 .    .    .   .    0.90 0.15 0.15\n",
       "3  .    .    .    .    0.15 0.60 .    .    .    .    0.3 .    .    .    .   \n",
       "4  .    .    .    .    .    .    .    .    .    0.15 .   .    .    .    .   \n",
       "5  0.30 .    0.15 .    .    0.75 .    .    .    .    2.1 .    0.15 .    .   \n",
       "6  .    .    0.75 .    0.45 .    .    .    .    0.15 0.3 .    .    .    .   \n",
       "7  .    1.20 .    .    .    .    .    0.15 .    .    .   .    0.30 .    .   \n",
       "8  .    0.45 .    .    .    .    0.30 .    .    .    .   .    0.75 0.15 .   \n",
       "9  0.15 .    .    .    .    .    .    .    .    0.30 .   2.70 .    .    0.15\n",
       "10 0.15 .    .    0.15 .    0.30 .    .    0.45 .    .   0.75 .    .    0.30\n",
       "11 .    .    0.15 .    1.80 0.45 .    .    .    .    .   .    .    .    .   \n",
       "12 .    .    .    .    .    .    .    .    2.40 0.45 .   .    .    .    0.75\n",
       "13 .    1.05 .    .    .    .    0.30 0.60 .    .    .   .    .    .    .   \n",
       "14 .    0.30 .    .    0.15 0.15 0.15 0.30 .    .    .   .    .    .    .   \n",
       "15 0.15 .    .    .    .    .    .    .    0.15 0.30 .   0.45 .    .    .   \n",
       "16 4.65 4.80 0.75 1.05 2.40 1.20 2.40 1.95 2.85 5.40 1.2 5.25 3.90 3.90 5.55\n",
       "       \n",
       "1  5.10\n",
       "2  4.80\n",
       "3  0.30\n",
       "4  0.90\n",
       "5  1.80\n",
       "6  0.90\n",
       "7  2.85\n",
       "8  2.40\n",
       "9  2.40\n",
       "10 5.40\n",
       "11 1.05\n",
       "12 4.50\n",
       "13 4.50\n",
       "14 3.15\n",
       "15 6.60\n",
       "16 .   "
      ]
     },
     "metadata": {},
     "output_type": "display_data"
    }
   ],
   "source": [
    "as_adjacency_matrix(task_net, attr = \"task_tie\")"
   ]
  },
  {
   "cell_type": "markdown",
   "metadata": {},
   "source": [
    "### 3. COMMUNITY DETECTION"
   ]
  },
  {
   "cell_type": "markdown",
   "metadata": {},
   "source": [
    "We'll use the friend network as the basis for our exploration of \n",
    "community detection methods. For clarity and simplicity, we'll \n",
    "set the network to undirected and assure it is connected. \n",
    "Note: a large portion of the current community detection algorithms\n",
    "work only with undirected graphs."
   ]
  },
  {
   "cell_type": "code",
   "execution_count": 34,
   "metadata": {},
   "outputs": [
    {
     "name": "stdout",
     "output_type": "stream",
     "text": [
      "IGRAPH 65f528d UN-- 14 42 -- \n",
      "+ attr: name (v/c), friend_tie (e/n)\n"
     ]
    }
   ],
   "source": [
    "friend_net_und <- as.undirected(friend_net, \n",
    "                                 mode='collapse',\n",
    "                                 edge.attr.comb=\"max\")\n",
    "summary(friend_net_und)"
   ]
  },
  {
   "cell_type": "markdown",
   "metadata": {},
   "source": [
    "Note that the number of edges has decreased (62->42) as reciprocated \n",
    "directed ties were consolidated into single undirected ties. We can check\n",
    "also tie weights:"
   ]
  },
  {
   "cell_type": "code",
   "execution_count": 35,
   "metadata": {},
   "outputs": [
    {
     "data": {
      "text/plain": [
       "\n",
       " 1  2 \n",
       "35  7 "
      ]
     },
     "metadata": {},
     "output_type": "display_data"
    }
   ],
   "source": [
    "table(E(friend_net_und)$friend_tie)"
   ]
  },
  {
   "cell_type": "code",
   "execution_count": 36,
   "metadata": {},
   "outputs": [
    {
     "data": {
      "image/png": "[encoded data removed]",
      "text/plain": [
       "Plot with title \"Friendship (undirected) network\""
      ]
     },
     "metadata": {
      "image/png": {
       "height": 420,
       "width": 420
      }
     },
     "output_type": "display_data"
    }
   ],
   "source": [
    "plot_graph(friend_net_und, \n",
    "           'Friendship (undirected)', \n",
    "           E(friend_net_und)$friend_tie)"
   ]
  },
  {
   "cell_type": "markdown",
   "metadata": {},
   "source": [
    "Check if it is connected "
   ]
  },
  {
   "cell_type": "code",
   "execution_count": 37,
   "metadata": {},
   "outputs": [
    {
     "data": {
      "text/html": [
       "TRUE"
      ],
      "text/latex": [
       "TRUE"
      ],
      "text/markdown": [
       "TRUE"
      ],
      "text/plain": [
       "[1] TRUE"
      ]
     },
     "metadata": {},
     "output_type": "display_data"
    }
   ],
   "source": [
    "is_connected(friend_net_und)"
   ]
  },
  {
   "cell_type": "markdown",
   "metadata": {},
   "source": [
    "it is connected"
   ]
  },
  {
   "cell_type": "markdown",
   "metadata": {},
   "source": [
    "There are many different ways to detect communities in a network. \n",
    "A common characteristic of a large majority, if not all, of them\n",
    "is their reliance on a measure called Modularity to estimate the\n",
    "quality of the detected community structure.\n",
    "Modularity measures the strength of division of a network into \n",
    "modules (clusters, communities). More precisely, it measures the\n",
    "density of links inside communities as compared to the density of \n",
    "links between communities. It takes values between -1 and 1.\n",
    "Networks with high modularity have dense connections between the \n",
    "nodes within modules (communities) but sparse connections between \n",
    "nodes in different modules."
   ]
  },
  {
   "cell_type": "markdown",
   "metadata": {},
   "source": [
    "Note: for more details about the modularity measure, listen / watch\n",
    "the explanation of modularity given in the (video) lecture: \n",
    "Network Analysis. Lecture 8. Network communities:\n",
    "https://www.youtube.com/watch?v=lU1QEUH0nNc around 1h 5min \n",
    "\n",
    "In this lab, we'll examine the following algorithms for \n",
    "community detection: \n",
    "- Edge-betweenness\n",
    "- Louvain (Multi-level optimization of modularity)\n",
    "- Walktrap\n",
    "- General clustering\n",
    "\n",
    "and compare their performance using the Modularity metric.\n",
    "\n",
    "For the sake of quantitative comparison of different community detection\n",
    "algorithms, we'll keep a list of modularity scores produced by the algorithms:"
   ]
  },
  {
   "cell_type": "code",
   "execution_count": 38,
   "metadata": {},
   "outputs": [],
   "source": [
    "modularity_scores <- list()"
   ]
  },
  {
   "cell_type": "markdown",
   "metadata": {},
   "source": [
    "#### 3A. COMMUNITY DETECTION: THE EDGE BETWEENNESS METHOD "
   ]
  },
  {
   "cell_type": "markdown",
   "metadata": {},
   "source": [
    "The edge-betweenness (EB) score of an edge measures the proportion of shortest \n",
    "paths between any pair of vertices in the graph that go through that edge. \n",
    "The EB community detection method is a hierarchical graph decomposition process \n",
    "where edges are removed in the decreasing order of their EB scores.\n",
    "The method is motivated by the assumption that edges connecting different \n",
    "communities are more likely to be part of multiple shortest paths, that is, have\n",
    "high EB score, simply because in many cases they are the only option to go \n",
    "from one community to another. "
   ]
  },
  {
   "cell_type": "code",
   "execution_count": 49,
   "metadata": {},
   "outputs": [],
   "source": [
    "?cluster_edge_betweenness"
   ]
  },
  {
   "cell_type": "code",
   "execution_count": 39,
   "metadata": {},
   "outputs": [
    {
     "data": {
      "text/plain": [
       "IGRAPH clustering edge betweenness, groups: 3, mod: 0.28\n",
       "+ groups:\n",
       "  $`1`\n",
       "  [1] \"2\"  \"7\"  \"8\"  \"13\" \"14\"\n",
       "  \n",
       "  $`2`\n",
       "  [1] \"3\"  \"5\"  \"6\"  \"11\"\n",
       "  \n",
       "  $`3`\n",
       "  [1] \"9\"  \"10\" \"12\" \"15\" \"1\" \n",
       "  "
      ]
     },
     "metadata": {},
     "output_type": "display_data"
    }
   ],
   "source": [
    "friend_comm_eb <- cluster_edge_betweenness(friend_net_und, directed = FALSE)\n",
    "friend_comm_eb"
   ]
  },
  {
   "cell_type": "markdown",
   "metadata": {},
   "source": [
    "we got 3 groups, with 5, 4, and 5 vertices"
   ]
  },
  {
   "cell_type": "markdown",
   "metadata": {},
   "source": [
    "We can plot the graph with color coded community membership to better\n",
    "estimate the partitioning"
   ]
  },
  {
   "cell_type": "code",
   "execution_count": 40,
   "metadata": {},
   "outputs": [
    {
     "data": {
      "image/png": "[encoded data removed]",
      "text/plain": [
       "Plot with title \"Communities detected in undirected friendship network\""
      ]
     },
     "metadata": {
      "image/png": {
       "height": 420,
       "width": 420
      }
     },
     "output_type": "display_data"
    }
   ],
   "source": [
    "plot(friend_comm_eb,  friend_net_und,\n",
    "     main=\"Communities detected in undirected friendship network\")"
   ]
  },
  {
   "cell_type": "markdown",
   "metadata": {},
   "source": [
    "We can also identify edges that connect two different communities; these\n",
    "are also referred to as bridges.\n",
    "The ```crossing()``` f. returns a logical vector, with one value for each \n",
    "edge, ordered according to the edge ids. The value is TRUE if the \n",
    "edge connects two different communities"
   ]
  },
  {
   "cell_type": "code",
   "execution_count": 41,
   "metadata": {},
   "outputs": [
    {
     "data": {
      "text/html": [
       "<style>\n",
       ".dl-inline {width: auto; margin:0; padding: 0}\n",
       ".dl-inline>dt, .dl-inline>dd {float: none; width: auto; display: inline-block}\n",
       ".dl-inline>dt::after {content: \":\\0020\"; padding-right: .5ex}\n",
       ".dl-inline>dt:not(:first-of-type) {padding-left: .5ex}\n",
       "</style><dl class=dl-inline><dt>3|5</dt><dd>FALSE</dd><dt>3|6</dt><dd>FALSE</dd><dt>5|6</dt><dd>FALSE</dd><dt>2|7</dt><dd>FALSE</dd><dt>6|7</dt><dd>TRUE</dd><dt>2|8</dt><dd>FALSE</dd><dt>5|8</dt><dd>TRUE</dd><dt>7|8</dt><dd>FALSE</dd><dt>3|9</dt><dd>TRUE</dd><dt>5|10</dt><dd>TRUE</dd><dt>6|10</dt><dd>TRUE</dd><dt>9|10</dt><dd>FALSE</dd><dt>3|11</dt><dd>FALSE</dd><dt>5|11</dt><dd>FALSE</dd><dt>6|11</dt><dd>FALSE</dd><dt>10|11</dt><dd>TRUE</dd><dt>6|12</dt><dd>TRUE</dd><dt>9|12</dt><dd>FALSE</dd><dt>10|12</dt><dd>FALSE</dd><dt>2|13</dt><dd>FALSE</dd><dt>7|13</dt><dd>FALSE</dd><dt>8|13</dt><dd>FALSE</dd><dt>2|14</dt><dd>FALSE</dd><dt>3|14</dt><dd>TRUE</dd><dt>7|14</dt><dd>FALSE</dd><dt>8|14</dt><dd>FALSE</dd><dt>12|14</dt><dd>TRUE</dd><dt>13|14</dt><dd>FALSE</dd><dt>3|15</dt><dd>TRUE</dd><dt>7|15</dt><dd>TRUE</dd><dt>8|15</dt><dd>TRUE</dd><dt>9|15</dt><dd>FALSE</dd><dt>10|15</dt><dd>FALSE</dd><dt>12|15</dt><dd>FALSE</dd><dt>2|1</dt><dd>TRUE</dd><dt>5|1</dt><dd>TRUE</dd><dt>6|1</dt><dd>TRUE</dd><dt>9|1</dt><dd>FALSE</dd><dt>10|1</dt><dd>FALSE</dd><dt>11|1</dt><dd>TRUE</dd><dt>12|1</dt><dd>FALSE</dd><dt>15|1</dt><dd>FALSE</dd></dl>\n"
      ],
      "text/latex": [
       "\\begin{description*}\n",
       "\\item[3\\textbackslash{}textbar\\{\\}5] FALSE\n",
       "\\item[3\\textbackslash{}textbar\\{\\}6] FALSE\n",
       "\\item[5\\textbackslash{}textbar\\{\\}6] FALSE\n",
       "\\item[2\\textbackslash{}textbar\\{\\}7] FALSE\n",
       "\\item[6\\textbackslash{}textbar\\{\\}7] TRUE\n",
       "\\item[2\\textbackslash{}textbar\\{\\}8] FALSE\n",
       "\\item[5\\textbackslash{}textbar\\{\\}8] TRUE\n",
       "\\item[7\\textbackslash{}textbar\\{\\}8] FALSE\n",
       "\\item[3\\textbackslash{}textbar\\{\\}9] TRUE\n",
       "\\item[5\\textbackslash{}textbar\\{\\}10] TRUE\n",
       "\\item[6\\textbackslash{}textbar\\{\\}10] TRUE\n",
       "\\item[9\\textbackslash{}textbar\\{\\}10] FALSE\n",
       "\\item[3\\textbackslash{}textbar\\{\\}11] FALSE\n",
       "\\item[5\\textbackslash{}textbar\\{\\}11] FALSE\n",
       "\\item[6\\textbackslash{}textbar\\{\\}11] FALSE\n",
       "\\item[10\\textbackslash{}textbar\\{\\}11] TRUE\n",
       "\\item[6\\textbackslash{}textbar\\{\\}12] TRUE\n",
       "\\item[9\\textbackslash{}textbar\\{\\}12] FALSE\n",
       "\\item[10\\textbackslash{}textbar\\{\\}12] FALSE\n",
       "\\item[2\\textbackslash{}textbar\\{\\}13] FALSE\n",
       "\\item[7\\textbackslash{}textbar\\{\\}13] FALSE\n",
       "\\item[8\\textbackslash{}textbar\\{\\}13] FALSE\n",
       "\\item[2\\textbackslash{}textbar\\{\\}14] FALSE\n",
       "\\item[3\\textbackslash{}textbar\\{\\}14] TRUE\n",
       "\\item[7\\textbackslash{}textbar\\{\\}14] FALSE\n",
       "\\item[8\\textbackslash{}textbar\\{\\}14] FALSE\n",
       "\\item[12\\textbackslash{}textbar\\{\\}14] TRUE\n",
       "\\item[13\\textbackslash{}textbar\\{\\}14] FALSE\n",
       "\\item[3\\textbackslash{}textbar\\{\\}15] TRUE\n",
       "\\item[7\\textbackslash{}textbar\\{\\}15] TRUE\n",
       "\\item[8\\textbackslash{}textbar\\{\\}15] TRUE\n",
       "\\item[9\\textbackslash{}textbar\\{\\}15] FALSE\n",
       "\\item[10\\textbackslash{}textbar\\{\\}15] FALSE\n",
       "\\item[12\\textbackslash{}textbar\\{\\}15] FALSE\n",
       "\\item[2\\textbackslash{}textbar\\{\\}1] TRUE\n",
       "\\item[5\\textbackslash{}textbar\\{\\}1] TRUE\n",
       "\\item[6\\textbackslash{}textbar\\{\\}1] TRUE\n",
       "\\item[9\\textbackslash{}textbar\\{\\}1] FALSE\n",
       "\\item[10\\textbackslash{}textbar\\{\\}1] FALSE\n",
       "\\item[11\\textbackslash{}textbar\\{\\}1] TRUE\n",
       "\\item[12\\textbackslash{}textbar\\{\\}1] FALSE\n",
       "\\item[15\\textbackslash{}textbar\\{\\}1] FALSE\n",
       "\\end{description*}\n"
      ],
      "text/markdown": [
       "3|5\n",
       ":   FALSE3|6\n",
       ":   FALSE5|6\n",
       ":   FALSE2|7\n",
       ":   FALSE6|7\n",
       ":   TRUE2|8\n",
       ":   FALSE5|8\n",
       ":   TRUE7|8\n",
       ":   FALSE3|9\n",
       ":   TRUE5|10\n",
       ":   TRUE6|10\n",
       ":   TRUE9|10\n",
       ":   FALSE3|11\n",
       ":   FALSE5|11\n",
       ":   FALSE6|11\n",
       ":   FALSE10|11\n",
       ":   TRUE6|12\n",
       ":   TRUE9|12\n",
       ":   FALSE10|12\n",
       ":   FALSE2|13\n",
       ":   FALSE7|13\n",
       ":   FALSE8|13\n",
       ":   FALSE2|14\n",
       ":   FALSE3|14\n",
       ":   TRUE7|14\n",
       ":   FALSE8|14\n",
       ":   FALSE12|14\n",
       ":   TRUE13|14\n",
       ":   FALSE3|15\n",
       ":   TRUE7|15\n",
       ":   TRUE8|15\n",
       ":   TRUE9|15\n",
       ":   FALSE10|15\n",
       ":   FALSE12|15\n",
       ":   FALSE2|1\n",
       ":   TRUE5|1\n",
       ":   TRUE6|1\n",
       ":   TRUE9|1\n",
       ":   FALSE10|1\n",
       ":   FALSE11|1\n",
       ":   TRUE12|1\n",
       ":   FALSE15|1\n",
       ":   FALSE\n",
       "\n"
      ],
      "text/plain": [
       "  3|5   3|6   5|6   2|7   6|7   2|8   5|8   7|8   3|9  5|10  6|10  9|10  3|11 \n",
       "FALSE FALSE FALSE FALSE  TRUE FALSE  TRUE FALSE  TRUE  TRUE  TRUE FALSE FALSE \n",
       " 5|11  6|11 10|11  6|12  9|12 10|12  2|13  7|13  8|13  2|14  3|14  7|14  8|14 \n",
       "FALSE FALSE  TRUE  TRUE FALSE FALSE FALSE FALSE FALSE FALSE  TRUE FALSE FALSE \n",
       "12|14 13|14  3|15  7|15  8|15  9|15 10|15 12|15   2|1   5|1   6|1   9|1  10|1 \n",
       " TRUE FALSE  TRUE  TRUE  TRUE FALSE FALSE FALSE  TRUE  TRUE  TRUE FALSE FALSE \n",
       " 11|1  12|1  15|1 \n",
       " TRUE FALSE FALSE "
      ]
     },
     "metadata": {},
     "output_type": "display_data"
    },
    {
     "data": {
      "text/html": [
       "<style>\n",
       ".dl-inline {width: auto; margin:0; padding: 0}\n",
       ".dl-inline>dt, .dl-inline>dd {float: none; width: auto; display: inline-block}\n",
       ".dl-inline>dt::after {content: \":\\0020\"; padding-right: .5ex}\n",
       ".dl-inline>dt:not(:first-of-type) {padding-left: .5ex}\n",
       "</style><dl class=dl-inline><dt>6|7</dt><dd>5</dd><dt>5|8</dt><dd>7</dd><dt>3|9</dt><dd>9</dd><dt>5|10</dt><dd>10</dd><dt>6|10</dt><dd>11</dd><dt>10|11</dt><dd>16</dd><dt>6|12</dt><dd>17</dd><dt>3|14</dt><dd>24</dd><dt>12|14</dt><dd>27</dd><dt>3|15</dt><dd>29</dd><dt>7|15</dt><dd>30</dd><dt>8|15</dt><dd>31</dd><dt>2|1</dt><dd>35</dd><dt>5|1</dt><dd>36</dd><dt>6|1</dt><dd>37</dd><dt>11|1</dt><dd>40</dd></dl>\n"
      ],
      "text/latex": [
       "\\begin{description*}\n",
       "\\item[6\\textbackslash{}textbar\\{\\}7] 5\n",
       "\\item[5\\textbackslash{}textbar\\{\\}8] 7\n",
       "\\item[3\\textbackslash{}textbar\\{\\}9] 9\n",
       "\\item[5\\textbackslash{}textbar\\{\\}10] 10\n",
       "\\item[6\\textbackslash{}textbar\\{\\}10] 11\n",
       "\\item[10\\textbackslash{}textbar\\{\\}11] 16\n",
       "\\item[6\\textbackslash{}textbar\\{\\}12] 17\n",
       "\\item[3\\textbackslash{}textbar\\{\\}14] 24\n",
       "\\item[12\\textbackslash{}textbar\\{\\}14] 27\n",
       "\\item[3\\textbackslash{}textbar\\{\\}15] 29\n",
       "\\item[7\\textbackslash{}textbar\\{\\}15] 30\n",
       "\\item[8\\textbackslash{}textbar\\{\\}15] 31\n",
       "\\item[2\\textbackslash{}textbar\\{\\}1] 35\n",
       "\\item[5\\textbackslash{}textbar\\{\\}1] 36\n",
       "\\item[6\\textbackslash{}textbar\\{\\}1] 37\n",
       "\\item[11\\textbackslash{}textbar\\{\\}1] 40\n",
       "\\end{description*}\n"
      ],
      "text/markdown": [
       "6|7\n",
       ":   55|8\n",
       ":   73|9\n",
       ":   95|10\n",
       ":   106|10\n",
       ":   1110|11\n",
       ":   166|12\n",
       ":   173|14\n",
       ":   2412|14\n",
       ":   273|15\n",
       ":   297|15\n",
       ":   308|15\n",
       ":   312|1\n",
       ":   355|1\n",
       ":   366|1\n",
       ":   3711|1\n",
       ":   40\n",
       "\n"
      ],
      "text/plain": [
       "  6|7   5|8   3|9  5|10  6|10 10|11  6|12  3|14 12|14  3|15  7|15  8|15   2|1 \n",
       "    5     7     9    10    11    16    17    24    27    29    30    31    35 \n",
       "  5|1   6|1  11|1 \n",
       "   36    37    40 "
      ]
     },
     "metadata": {},
     "output_type": "display_data"
    }
   ],
   "source": [
    "crossing(friend_comm_eb, friend_net_und)\n",
    "cross_community_edges <- \n",
    "  which(crossing(friend_comm_eb, friend_net_und)==TRUE)\n",
    "cross_community_edges"
   ]
  },
  {
   "cell_type": "markdown",
   "metadata": {},
   "source": [
    "We can establish a connection here with the concept of brokers that\n",
    "we discussed in the context of betweenness centrality: \n",
    "brokers are nodes with high betweenness centrality that often \n",
    "connect two or more communities.\n",
    "\n",
    "We can detect brokers by visualizing a network using:\n",
    "- node size to denote betweenness centrality, \n",
    "- node color to mark community membership, and\n",
    "- edge color to mark cross community edges"
   ]
  },
  {
   "cell_type": "code",
   "execution_count": 42,
   "metadata": {},
   "outputs": [],
   "source": [
    "edge_color <- rep('steelblue4', times=ecount(friend_net_und))\n",
    "edge_color[cross_community_edges] <- 'firebrick4'"
   ]
  },
  {
   "cell_type": "code",
   "execution_count": 43,
   "metadata": {},
   "outputs": [],
   "source": [
    "fnet_betweenness <- betweenness(friend_net_und, directed = FALSE)"
   ]
  },
  {
   "cell_type": "code",
   "execution_count": 44,
   "metadata": {},
   "outputs": [
    {
     "data": {
      "image/png": "[encoded data removed]",
      "text/plain": [
       "Plot with title \"Brokers in undirected friendship network\""
      ]
     },
     "metadata": {
      "image/png": {
       "height": 420,
       "width": 420
      }
     },
     "output_type": "display_data"
    }
   ],
   "source": [
    "fnet_copy <- friend_net_und\n",
    "E(fnet_copy)$color <- edge_color\n",
    "E(fnet_copy)$width <- 2\n",
    "V(fnet_copy)$color <- membership(friend_comm_eb) # nodes are colored based on the community membership\n",
    "V(fnet_copy)$size <- fnet_betweenness * 5\n",
    "V(fnet_copy)$label.cex <- fnet_betweenness * 0.25\n",
    "plot(fnet_copy, \n",
    "     layout=layout_nicely(fnet_copy),\n",
    "     main=\"Brokers in undirected friendship network\")"
   ]
  },
  {
   "cell_type": "markdown",
   "metadata": {},
   "source": [
    "We can observe, for example, that nodes 1 and 15 both have high betweenness centrality\n",
    "and are connecting the \"green community\" with the other two communities; thus, they \n",
    "could be considered brokers in this network."
   ]
  },
  {
   "cell_type": "markdown",
   "metadata": {},
   "source": [
    "If a network is large and visual representation does not allow for identifying brokers,\n",
    "the detection of brokers can be done computationally - in particular, we need to \n",
    "identify nodes connected by bridging edges and sort those nodes based on their \n",
    "betweenness value.\n",
    "First, find incident vertices of the graph bridges"
   ]
  },
  {
   "cell_type": "code",
   "execution_count": 55,
   "metadata": {},
   "outputs": [],
   "source": [
    "?ends"
   ]
  },
  {
   "cell_type": "code",
   "execution_count": 45,
   "metadata": {},
   "outputs": [],
   "source": [
    "bridge_ends <- ends(friend_net_und, cross_community_edges)"
   ]
  },
  {
   "cell_type": "markdown",
   "metadata": {},
   "source": [
    "Next, identify unique nodes at the bridge ends"
   ]
  },
  {
   "cell_type": "code",
   "execution_count": 46,
   "metadata": {},
   "outputs": [],
   "source": [
    "candidate_brokers <- unique(c(bridge_ends[,1], bridge_ends[,2]))"
   ]
  },
  {
   "cell_type": "markdown",
   "metadata": {},
   "source": [
    "Compute betweenness for the identified nodes (broker candidates)"
   ]
  },
  {
   "cell_type": "code",
   "execution_count": 47,
   "metadata": {},
   "outputs": [],
   "source": [
    "candidates_btwn <- betweenness(friend_net_und, v = candidate_brokers, directed = FALSE)"
   ]
  },
  {
   "cell_type": "markdown",
   "metadata": {},
   "source": [
    "Put together node ids and their betweenness in one df"
   ]
  },
  {
   "cell_type": "code",
   "execution_count": 48,
   "metadata": {},
   "outputs": [],
   "source": [
    "candidate_brokers_df <- data.frame(node = candidate_brokers, \n",
    "                                   betweenness = candidates_btwn)"
   ]
  },
  {
   "cell_type": "markdown",
   "metadata": {},
   "source": [
    "sort the data frame based on the betweenness value"
   ]
  },
  {
   "cell_type": "code",
   "execution_count": 49,
   "metadata": {},
   "outputs": [
    {
     "data": {
      "text/html": [
       "<table>\n",
       "<caption>A data.frame: 13 × 2</caption>\n",
       "<thead>\n",
       "\t<tr><th></th><th scope=col>node</th><th scope=col>betweenness</th></tr>\n",
       "\t<tr><th></th><th scope=col>&lt;chr&gt;</th><th scope=col>&lt;dbl&gt;</th></tr>\n",
       "</thead>\n",
       "<tbody>\n",
       "\t<tr><th scope=row>1</th><td>1 </td><td>7.816667</td></tr>\n",
       "\t<tr><th scope=row>15</th><td>15</td><td>6.550000</td></tr>\n",
       "\t<tr><th scope=row>14</th><td>14</td><td>6.066667</td></tr>\n",
       "\t<tr><th scope=row>3</th><td>3 </td><td>4.733333</td></tr>\n",
       "\t<tr><th scope=row>6</th><td>6 </td><td>4.733333</td></tr>\n",
       "\t<tr><th scope=row>8</th><td>8 </td><td>4.616667</td></tr>\n",
       "\t<tr><th scope=row>7</th><td>7 </td><td>4.400000</td></tr>\n",
       "\t<tr><th scope=row>5</th><td>5 </td><td>3.483333</td></tr>\n",
       "\t<tr><th scope=row>12</th><td>12</td><td>3.400000</td></tr>\n",
       "\t<tr><th scope=row>2</th><td>2 </td><td>2.783333</td></tr>\n",
       "\t<tr><th scope=row>10</th><td>10</td><td>2.366667</td></tr>\n",
       "\t<tr><th scope=row>9</th><td>9 </td><td>0.650000</td></tr>\n",
       "\t<tr><th scope=row>11</th><td>11</td><td>0.400000</td></tr>\n",
       "</tbody>\n",
       "</table>\n"
      ],
      "text/latex": [
       "A data.frame: 13 × 2\n",
       "\\begin{tabular}{r|ll}\n",
       "  & node & betweenness\\\\\n",
       "  & <chr> & <dbl>\\\\\n",
       "\\hline\n",
       "\t1 & 1  & 7.816667\\\\\n",
       "\t15 & 15 & 6.550000\\\\\n",
       "\t14 & 14 & 6.066667\\\\\n",
       "\t3 & 3  & 4.733333\\\\\n",
       "\t6 & 6  & 4.733333\\\\\n",
       "\t8 & 8  & 4.616667\\\\\n",
       "\t7 & 7  & 4.400000\\\\\n",
       "\t5 & 5  & 3.483333\\\\\n",
       "\t12 & 12 & 3.400000\\\\\n",
       "\t2 & 2  & 2.783333\\\\\n",
       "\t10 & 10 & 2.366667\\\\\n",
       "\t9 & 9  & 0.650000\\\\\n",
       "\t11 & 11 & 0.400000\\\\\n",
       "\\end{tabular}\n"
      ],
      "text/markdown": [
       "\n",
       "A data.frame: 13 × 2\n",
       "\n",
       "| <!--/--> | node &lt;chr&gt; | betweenness &lt;dbl&gt; |\n",
       "|---|---|---|\n",
       "| 1 | 1  | 7.816667 |\n",
       "| 15 | 15 | 6.550000 |\n",
       "| 14 | 14 | 6.066667 |\n",
       "| 3 | 3  | 4.733333 |\n",
       "| 6 | 6  | 4.733333 |\n",
       "| 8 | 8  | 4.616667 |\n",
       "| 7 | 7  | 4.400000 |\n",
       "| 5 | 5  | 3.483333 |\n",
       "| 12 | 12 | 3.400000 |\n",
       "| 2 | 2  | 2.783333 |\n",
       "| 10 | 10 | 2.366667 |\n",
       "| 9 | 9  | 0.650000 |\n",
       "| 11 | 11 | 0.400000 |\n",
       "\n"
      ],
      "text/plain": [
       "   node betweenness\n",
       "1  1    7.816667   \n",
       "15 15   6.550000   \n",
       "14 14   6.066667   \n",
       "3  3    4.733333   \n",
       "6  6    4.733333   \n",
       "8  8    4.616667   \n",
       "7  7    4.400000   \n",
       "5  5    3.483333   \n",
       "12 12   3.400000   \n",
       "2  2    2.783333   \n",
       "10 10   2.366667   \n",
       "9  9    0.650000   \n",
       "11 11   0.400000   "
      ]
     },
     "metadata": {},
     "output_type": "display_data"
    }
   ],
   "source": [
    "candidate_brokers_df[order(candidate_brokers_df$betweenness, decreasing = TRUE),]"
   ]
  },
  {
   "cell_type": "markdown",
   "metadata": {},
   "source": [
    "The obtained results correspond well to what we concluded based on the visual \n",
    "inspection of the graph. "
   ]
  },
  {
   "cell_type": "markdown",
   "metadata": {},
   "source": [
    "Note that all igraph's community detection functions return \n",
    "a 'communities' object that contains many useful data about the \n",
    "detected communities. So, it is worth checking the documentation\n",
    "for the communities object"
   ]
  },
  {
   "cell_type": "code",
   "execution_count": 61,
   "metadata": {},
   "outputs": [],
   "source": [
    "?communities"
   ]
  },
  {
   "cell_type": "markdown",
   "metadata": {},
   "source": [
    "This community detection process creates a hierarchical \n",
    "structure that can be visualized as a dendrogram.  \n",
    "Dendrogram is a tree-like structure or a hierarchical map that \n",
    "is typically used for visual representation of clustering results\n",
    "when some form of hierarchical clustering is applied. In this case,\n",
    "leaves are vertices and the root of the tree represents \n",
    "the whole graph; the tree structure indicates how the vertices are\n",
    "grouped into clusters (communities)"
   ]
  },
  {
   "cell_type": "code",
   "execution_count": 50,
   "metadata": {},
   "outputs": [
    {
     "data": {
      "image/png": "[encoded data removed]",
      "text/plain": [
       "plot without title"
      ]
     },
     "metadata": {
      "image/png": {
       "height": 420,
       "width": 420
      }
     },
     "output_type": "display_data"
    }
   ],
   "source": [
    "plot_dendrogram(friend_comm_eb)"
   ]
  },
  {
   "cell_type": "markdown",
   "metadata": {},
   "source": [
    "Modularity is used as the criterion for determining the number of \n",
    "communities based on the dendrogram structure; namely modularity \n",
    "scores of the partitions at each level of the dendrogram are \n",
    "compared and the partition that results in the highest modularity \n",
    "score is selected. \n",
    "Let's get the modularity of the best partition and store it in \n",
    "our modularity_scores list"
   ]
  },
  {
   "cell_type": "code",
   "execution_count": 51,
   "metadata": {},
   "outputs": [],
   "source": [
    "modularity_scores$EB <- modularity(friend_comm_eb)"
   ]
  },
  {
   "cell_type": "markdown",
   "metadata": {},
   "source": [
    "Function animate_edge_betweenness() produces an animation of the EB\n",
    "community detection process applied to the given graph (g). \n",
    "The function is defined in the 'SNA_custom_functions.R' script.\n",
    "To run it, you may need to install ImageMagick:\n",
    "http://www.imagemagick.org/script/binary-releases.php\n",
    "The result is a .gif file that will be saved under the name specified\n",
    "as the 2nd argument of the function."
   ]
  },
  {
   "cell_type": "code",
   "execution_count": 52,
   "metadata": {
    "scrolled": true
   },
   "outputs": [
    {
     "name": "stderr",
     "output_type": "stream",
     "text": [
      "Output at: friend_net_eb.gif\n",
      "\n"
     ]
    },
    {
     "data": {
      "text/html": [
       "TRUE"
      ],
      "text/latex": [
       "TRUE"
      ],
      "text/markdown": [
       "TRUE"
      ],
      "text/plain": [
       "[1] TRUE"
      ]
     },
     "metadata": {},
     "output_type": "display_data"
    }
   ],
   "source": [
    "#setwd(\"SNA_Labs\")\n",
    "source('SNA_custom_functions.R')\n",
    "animate_edge_betweenness(friend_net_und, 'friend_net_eb.gif')"
   ]
  },
  {
   "cell_type": "markdown",
   "metadata": {},
   "source": [
    "Here we will integrate the output .gif file in the notebook to be able to see it here (rather than in the local folder):\n",
    "<img src=\"friend_net_eb.gif\" width=\"500\" align=\"left\">"
   ]
  },
  {
   "cell_type": "markdown",
   "metadata": {},
   "source": [
    "#### 3B. COMMUNITY DETECTION: THE LOUVAINE METHOD "
   ]
  },
  {
   "cell_type": "markdown",
   "metadata": {},
   "source": [
    "The Louvaine community detection method is a hierarchical, bottom-up process, \n",
    "based on modularity. It brief, it works as follows:\n",
    "- Initially, each vertex is assigned to a community on its own. \n",
    "- In every step, vertices are re-assigned to communities as follows: \n",
    "  - Each community is considered as a vertex on its own;\n",
    "  - Each vertex is moved to the community with which it achieves the highest \n",
    "    contribution to modularity; \n",
    "  - When no vertices can be reassigned, so that the reassignment further \n",
    "    maximizes modularity, each community is considered a vertex, and the\n",
    "    process starts again with the merged communities (as new vertices). \n",
    "- The process stops when there is only a single vertex left or when the \n",
    "  modularity cannot be increased any more in a step.\n",
    "In a comprehensive comparative analysis of community detection algorithms \n",
    "(Lancichinetti & Fortunato, 2009), this algorith proved to be the second \n",
    "best algorithm (after InfoMap)."
   ]
  },
  {
   "cell_type": "code",
   "execution_count": null,
   "metadata": {},
   "outputs": [],
   "source": [
    "?cluster_louvain"
   ]
  },
  {
   "cell_type": "code",
   "execution_count": 53,
   "metadata": {},
   "outputs": [
    {
     "data": {
      "text/plain": [
       "IGRAPH clustering multi level, groups: 2, mod: 0.27\n",
       "+ groups:\n",
       "  $`1`\n",
       "  [1] \"3\"  \"5\"  \"6\"  \"9\"  \"10\" \"11\" \"12\" \"15\" \"1\" \n",
       "  \n",
       "  $`2`\n",
       "  [1] \"2\"  \"7\"  \"8\"  \"13\" \"14\"\n",
       "  "
      ]
     },
     "metadata": {},
     "output_type": "display_data"
    }
   ],
   "source": [
    "friend_comm_louvain <- cluster_louvain(friend_net_und)\n",
    "friend_comm_louvain"
   ]
  },
  {
   "cell_type": "markdown",
   "metadata": {},
   "source": [
    "now, we got two groups: one w/ 5, the other with 9 vertices"
   ]
  },
  {
   "cell_type": "code",
   "execution_count": 54,
   "metadata": {},
   "outputs": [
    {
     "data": {
      "image/png": "[encoded data removed]",
      "text/plain": [
       "Plot with title \"\""
      ]
     },
     "metadata": {
      "image/png": {
       "height": 420,
       "width": 420
      }
     },
     "output_type": "display_data"
    }
   ],
   "source": [
    "plot(friend_comm_louvain, friend_net_und)"
   ]
  },
  {
   "cell_type": "markdown",
   "metadata": {},
   "source": [
    "We can also plot the detected communities without shaded regions, using \n",
    "node color to mark community membership and edge color to differentiate \n",
    "edges within and between communities"
   ]
  },
  {
   "cell_type": "code",
   "execution_count": 55,
   "metadata": {},
   "outputs": [
    {
     "data": {
      "image/png": "[encoded data removed]",
      "text/plain": [
       "Plot with title \"Communities detected in undirected friendship network\n",
       " using Louvain method\""
      ]
     },
     "metadata": {
      "image/png": {
       "height": 420,
       "width": 420
      }
     },
     "output_type": "display_data"
    }
   ],
   "source": [
    "cross_community_edges <- which(crossing(friend_comm_louvain, friend_net_und))\n",
    "edge_colors <- rep('dodgerblue3', times=ecount(friend_net_und))\n",
    "edge_colors[cross_community_edges] <- 'firebrick4'\n",
    "plot(friend_net_und, \n",
    "     layout=layout_with_fr(friend_net_und),\n",
    "     vertex.color=membership(friend_comm_louvain),\n",
    "     edge.color = edge_colors,\n",
    "     main=\"Communities detected in undirected friendship network\\n using Louvain method\")"
   ]
  },
  {
   "cell_type": "markdown",
   "metadata": {},
   "source": [
    "Retrieve the modularity score and add it to the modularity_scores list"
   ]
  },
  {
   "cell_type": "code",
   "execution_count": 56,
   "metadata": {},
   "outputs": [],
   "source": [
    "modularity_scores$Louvain <- modularity(friend_comm_louvain)"
   ]
  },
  {
   "cell_type": "markdown",
   "metadata": {},
   "source": [
    "We can also examine the communities that would be obtained if edge weights are\n",
    "considered, that is, used by the Louvain algorithm"
   ]
  },
  {
   "cell_type": "code",
   "execution_count": 57,
   "metadata": {},
   "outputs": [
    {
     "data": {
      "text/plain": [
       "IGRAPH clustering multi level, groups: 3, mod: 0.33\n",
       "+ groups:\n",
       "  $`1`\n",
       "  [1] \"3\"  \"5\"  \"6\"  \"11\"\n",
       "  \n",
       "  $`2`\n",
       "  [1] \"9\"  \"10\" \"12\" \"15\" \"1\" \n",
       "  \n",
       "  $`3`\n",
       "  [1] \"2\"  \"7\"  \"8\"  \"13\" \"14\"\n",
       "  "
      ]
     },
     "metadata": {},
     "output_type": "display_data"
    }
   ],
   "source": [
    "friend_comm_Louvain_w <- cluster_louvain(friend_net_und,\n",
    "                                         weights = E(friend_net_und)$friend_tie)\n",
    "friend_comm_Louvain_w"
   ]
  },
  {
   "cell_type": "markdown",
   "metadata": {},
   "source": [
    "with weights considered, we get 3 communities"
   ]
  },
  {
   "cell_type": "markdown",
   "metadata": {},
   "source": [
    "Let's plot it"
   ]
  },
  {
   "cell_type": "code",
   "execution_count": 58,
   "metadata": {},
   "outputs": [],
   "source": [
    "cross_community_weighted <- crossing(friend_comm_Louvain_w, friend_net_und)\n",
    "cross_community_weighted <- as.integer(cross_community_weighted)\n",
    "edge_colors <- c('dodgerblue3', 'firebrick4')[cross_community_weighted + 1]"
   ]
  },
  {
   "cell_type": "code",
   "execution_count": 59,
   "metadata": {},
   "outputs": [
    {
     "data": {
      "image/png": "[encoded data removed]",
      "text/plain": [
       "Plot with title \"Communities detected in undirected weighted friendship network\n",
       " using Louvain method\""
      ]
     },
     "metadata": {
      "image/png": {
       "height": 420,
       "width": 420
      }
     },
     "output_type": "display_data"
    }
   ],
   "source": [
    "plot(friend_net_und, \n",
    "     layout = layout_with_fr(friend_net_und),\n",
    "     vertex.color = membership(friend_comm_Louvain_w), \n",
    "     edge.color = edge_colors,\n",
    "     edge.width = E(friend_net_und)$friend_tie * 1.5,\n",
    "     main=\"Communities detected in undirected weighted friendship network\\n using Louvain method\")"
   ]
  },
  {
   "cell_type": "markdown",
   "metadata": {},
   "source": [
    "Add modularity of the weighted result the modularity_scores list"
   ]
  },
  {
   "cell_type": "code",
   "execution_count": 60,
   "metadata": {},
   "outputs": [],
   "source": [
    "modularity_scores$Louvain_weighted <- modularity(friend_comm_Louvain_w)"
   ]
  },
  {
   "cell_type": "markdown",
   "metadata": {},
   "source": [
    "#### 3C. COMMUNITY DETECTION: WALKTRAP"
   ]
  },
  {
   "cell_type": "markdown",
   "metadata": {},
   "source": [
    "This algorithm detects communities in a bottom-up manner, through \n",
    "a series of short random walks through the graph. \n",
    "The idea is that the vertices encountered on any given random walk \n",
    "are more likely to be within a community than not, since there are \n",
    "typically only a few edges that lead outside a given community. \n",
    "\n",
    "In brief, the algorithm works as follows:\n",
    "Initially, it treats all nodes as communities of their own, then \n",
    "it iteratively merges them into larger communities, and these into \n",
    "still larger communities, and so on. In particular, in each iteration, \n",
    "walktrap runs short random walks and uses the results of these random walks \n",
    "to merge separate communities in a bottom-up manner. "
   ]
  },
  {
   "cell_type": "markdown",
   "metadata": {},
   "source": [
    "The Walktrap algorithm requires from the user to specify the length \n",
    "of random walks. Some researchers recommend walks of 4 or 5 steps, whereas\n",
    "others question the quality of thus obtained communities.\n",
    "A typical approach to estimating the quality of a particular graph \n",
    "partitioning (i.e. a particular way of splitting the graph into communities) \n",
    "is to compute the modularity score for the partitioning. The partitioning \n",
    "that maximizes the modularity score is considered the best; such result is\n",
    "often referred to as the “maximum modularity partition”."
   ]
  },
  {
   "cell_type": "markdown",
   "metadata": {},
   "source": [
    "Since the walktrap algorithm is based on random walks, we need to set \n",
    "the seed to be able to replicate the results"
   ]
  },
  {
   "cell_type": "code",
   "execution_count": 61,
   "metadata": {},
   "outputs": [
    {
     "data": {
      "text/plain": [
       "IGRAPH clustering walktrap, groups: 2, mod: 0.27\n",
       "+ groups:\n",
       "  $`1`\n",
       "  [1] \"2\"  \"7\"  \"8\"  \"13\" \"14\"\n",
       "  \n",
       "  $`2`\n",
       "  [1] \"3\"  \"5\"  \"6\"  \"9\"  \"10\" \"11\" \"12\" \"15\" \"1\" \n",
       "  "
      ]
     },
     "metadata": {},
     "output_type": "display_data"
    }
   ],
   "source": [
    "set.seed(seed)\n",
    "friend_comm_wt <- cluster_walktrap(friend_net_und, steps=4)\n",
    "friend_comm_wt"
   ]
  },
  {
   "cell_type": "markdown",
   "metadata": {},
   "source": [
    "we got two groups: one w/ 5, the other w/ 9 vertices"
   ]
  },
  {
   "cell_type": "markdown",
   "metadata": {},
   "source": [
    "Plot the community structure"
   ]
  },
  {
   "cell_type": "code",
   "execution_count": 62,
   "metadata": {},
   "outputs": [
    {
     "data": {
      "image/png": "[encoded data removed]",
      "text/plain": [
       "Plot with title \"\""
      ]
     },
     "metadata": {
      "image/png": {
       "height": 420,
       "width": 420
      }
     },
     "output_type": "display_data"
    }
   ],
   "source": [
    "plot(friend_comm_wt, friend_net_und)"
   ]
  },
  {
   "cell_type": "markdown",
   "metadata": {},
   "source": [
    "It seems that we got the same result as with the Louvain algorithm.\n",
    "Let's verify that:"
   ]
  },
  {
   "cell_type": "code",
   "execution_count": 63,
   "metadata": {},
   "outputs": [
    {
     "data": {
      "text/html": [
       "<dl>\n",
       "\t<dt>$`1`</dt>\n",
       "\t\t<dd><style>\n",
       ".list-inline {list-style: none; margin:0; padding: 0}\n",
       ".list-inline>li {display: inline-block}\n",
       ".list-inline>li:not(:last-child)::after {content: \"\\00b7\"; padding: 0 .5ex}\n",
       "</style>\n",
       "<ol class=list-inline><li>'3'</li><li>'5'</li><li>'6'</li><li>'9'</li><li>'10'</li><li>'11'</li><li>'12'</li><li>'15'</li><li>'1'</li></ol>\n",
       "</dd>\n",
       "\t<dt>$`2`</dt>\n",
       "\t\t<dd><style>\n",
       ".list-inline {list-style: none; margin:0; padding: 0}\n",
       ".list-inline>li {display: inline-block}\n",
       ".list-inline>li:not(:last-child)::after {content: \"\\00b7\"; padding: 0 .5ex}\n",
       "</style>\n",
       "<ol class=list-inline><li>'2'</li><li>'7'</li><li>'8'</li><li>'13'</li><li>'14'</li></ol>\n",
       "</dd>\n",
       "</dl>\n"
      ],
      "text/latex": [
       "\\begin{description}\n",
       "\\item[\\$`1`] \\begin{enumerate*}\n",
       "\\item '3'\n",
       "\\item '5'\n",
       "\\item '6'\n",
       "\\item '9'\n",
       "\\item '10'\n",
       "\\item '11'\n",
       "\\item '12'\n",
       "\\item '15'\n",
       "\\item '1'\n",
       "\\end{enumerate*}\n",
       "\n",
       "\\item[\\$`2`] \\begin{enumerate*}\n",
       "\\item '2'\n",
       "\\item '7'\n",
       "\\item '8'\n",
       "\\item '13'\n",
       "\\item '14'\n",
       "\\end{enumerate*}\n",
       "\n",
       "\\end{description}\n"
      ],
      "text/markdown": [
       "$`1`\n",
       ":   1. '3'\n",
       "2. '5'\n",
       "3. '6'\n",
       "4. '9'\n",
       "5. '10'\n",
       "6. '11'\n",
       "7. '12'\n",
       "8. '15'\n",
       "9. '1'\n",
       "\n",
       "\n",
       "\n",
       "$`2`\n",
       ":   1. '2'\n",
       "2. '7'\n",
       "3. '8'\n",
       "4. '13'\n",
       "5. '14'\n",
       "\n",
       "\n",
       "\n",
       "\n",
       "\n"
      ],
      "text/plain": [
       "$`1`\n",
       "[1] \"3\"  \"5\"  \"6\"  \"9\"  \"10\" \"11\" \"12\" \"15\" \"1\" \n",
       "\n",
       "$`2`\n",
       "[1] \"2\"  \"7\"  \"8\"  \"13\" \"14\"\n"
      ]
     },
     "metadata": {},
     "output_type": "display_data"
    },
    {
     "data": {
      "text/html": [
       "<dl>\n",
       "\t<dt>$`1`</dt>\n",
       "\t\t<dd><style>\n",
       ".list-inline {list-style: none; margin:0; padding: 0}\n",
       ".list-inline>li {display: inline-block}\n",
       ".list-inline>li:not(:last-child)::after {content: \"\\00b7\"; padding: 0 .5ex}\n",
       "</style>\n",
       "<ol class=list-inline><li>'2'</li><li>'7'</li><li>'8'</li><li>'13'</li><li>'14'</li></ol>\n",
       "</dd>\n",
       "\t<dt>$`2`</dt>\n",
       "\t\t<dd><style>\n",
       ".list-inline {list-style: none; margin:0; padding: 0}\n",
       ".list-inline>li {display: inline-block}\n",
       ".list-inline>li:not(:last-child)::after {content: \"\\00b7\"; padding: 0 .5ex}\n",
       "</style>\n",
       "<ol class=list-inline><li>'3'</li><li>'5'</li><li>'6'</li><li>'9'</li><li>'10'</li><li>'11'</li><li>'12'</li><li>'15'</li><li>'1'</li></ol>\n",
       "</dd>\n",
       "</dl>\n"
      ],
      "text/latex": [
       "\\begin{description}\n",
       "\\item[\\$`1`] \\begin{enumerate*}\n",
       "\\item '2'\n",
       "\\item '7'\n",
       "\\item '8'\n",
       "\\item '13'\n",
       "\\item '14'\n",
       "\\end{enumerate*}\n",
       "\n",
       "\\item[\\$`2`] \\begin{enumerate*}\n",
       "\\item '3'\n",
       "\\item '5'\n",
       "\\item '6'\n",
       "\\item '9'\n",
       "\\item '10'\n",
       "\\item '11'\n",
       "\\item '12'\n",
       "\\item '15'\n",
       "\\item '1'\n",
       "\\end{enumerate*}\n",
       "\n",
       "\\end{description}\n"
      ],
      "text/markdown": [
       "$`1`\n",
       ":   1. '2'\n",
       "2. '7'\n",
       "3. '8'\n",
       "4. '13'\n",
       "5. '14'\n",
       "\n",
       "\n",
       "\n",
       "$`2`\n",
       ":   1. '3'\n",
       "2. '5'\n",
       "3. '6'\n",
       "4. '9'\n",
       "5. '10'\n",
       "6. '11'\n",
       "7. '12'\n",
       "8. '15'\n",
       "9. '1'\n",
       "\n",
       "\n",
       "\n",
       "\n",
       "\n"
      ],
      "text/plain": [
       "$`1`\n",
       "[1] \"2\"  \"7\"  \"8\"  \"13\" \"14\"\n",
       "\n",
       "$`2`\n",
       "[1] \"3\"  \"5\"  \"6\"  \"9\"  \"10\" \"11\" \"12\" \"15\" \"1\" \n"
      ]
     },
     "metadata": {},
     "output_type": "display_data"
    }
   ],
   "source": [
    "communities(friend_comm_louvain)\n",
    "communities(friend_comm_wt)"
   ]
  },
  {
   "cell_type": "markdown",
   "metadata": {},
   "source": [
    "yes, they are equal\n"
   ]
  },
  {
   "cell_type": "markdown",
   "metadata": {},
   "source": [
    "Get the modularity score and add it to the modularity_scores list"
   ]
  },
  {
   "cell_type": "code",
   "execution_count": 64,
   "metadata": {},
   "outputs": [],
   "source": [
    "modularity_scores$WT_4steps <- modularity(friend_comm_wt)"
   ]
  },
  {
   "cell_type": "markdown",
   "metadata": {},
   "source": [
    "We used 4 as the number of random steps, since that number of steps \n",
    "was reported as giving good results in many examined cases (networks).\n",
    "If we want to more systematically determine the number of steps, we can\n",
    "choose a range of values for the number of steps, execute the algorithm\n",
    "for each value and eventually choose the one that results in the largest \n",
    "modularity value."
   ]
  },
  {
   "cell_type": "code",
   "execution_count": 65,
   "metadata": {},
   "outputs": [
    {
     "data": {
      "text/html": [
       "<dl>\n",
       "\t<dt>$`s=2`</dt>\n",
       "\t\t<dd>0.279761910438538</dd>\n",
       "\t<dt>$`s=3`</dt>\n",
       "\t\t<dd>0.279761910438538</dd>\n",
       "</dl>\n"
      ],
      "text/latex": [
       "\\begin{description}\n",
       "\\item[\\$`s=2`] 0.279761910438538\n",
       "\\item[\\$`s=3`] 0.279761910438538\n",
       "\\end{description}\n"
      ],
      "text/markdown": [
       "$`s=2`\n",
       ":   0.279761910438538\n",
       "$`s=3`\n",
       ":   0.279761910438538\n",
       "\n",
       "\n"
      ],
      "text/plain": [
       "$`s=2`\n",
       "[1] 0.2797619\n",
       "\n",
       "$`s=3`\n",
       "[1] 0.2797619\n"
      ]
     },
     "metadata": {},
     "output_type": "display_data"
    }
   ],
   "source": [
    "wt_modularity <- list()\n",
    "for (s in 2:8) {\n",
    "  set.seed(seed)\n",
    "  wt_result <- cluster_walktrap(friend_net_und, steps = s)\n",
    "  wt_modularity[[paste0('s=',s)]] <- modularity(wt_result)\n",
    "}\n",
    "max_wt_modularity <- max(unlist(wt_modularity))\n",
    "wt_modularity[wt_modularity == max_wt_modularity]"
   ]
  },
  {
   "cell_type": "markdown",
   "metadata": {},
   "source": [
    "We got the best score for 2 and 3 steps\n",
    "So, let's re-run the algorithm with, e.g., 3 steps"
   ]
  },
  {
   "cell_type": "code",
   "execution_count": 66,
   "metadata": {
    "scrolled": false
   },
   "outputs": [
    {
     "data": {
      "text/plain": [
       "IGRAPH clustering walktrap, groups: 3, mod: 0.28\n",
       "+ groups:\n",
       "  $`1`\n",
       "  [1] \"2\"  \"7\"  \"8\"  \"13\" \"14\"\n",
       "  \n",
       "  $`2`\n",
       "  [1] \"9\"  \"10\" \"12\" \"15\" \"1\" \n",
       "  \n",
       "  $`3`\n",
       "  [1] \"3\"  \"5\"  \"6\"  \"11\"\n",
       "  "
      ]
     },
     "metadata": {},
     "output_type": "display_data"
    },
    {
     "data": {
      "image/png": "[encoded data removed]",
      "text/plain": [
       "Plot with title \"\""
      ]
     },
     "metadata": {
      "image/png": {
       "height": 420,
       "width": 420
      }
     },
     "output_type": "display_data"
    }
   ],
   "source": [
    "set.seed(seed)\n",
    "friend_comm_wt_st3 <- cluster_walktrap(friend_net_und, steps=3)\n",
    "friend_comm_wt_st3\n",
    "plot(friend_comm_wt_st3, friend_net_und)"
   ]
  },
  {
   "cell_type": "markdown",
   "metadata": {},
   "source": [
    "Now, we have 3 communities, as we got with the edge betweenness algorithm."
   ]
  },
  {
   "cell_type": "markdown",
   "metadata": {},
   "source": [
    "Add the modularity score for this solution to our modularity_scores list"
   ]
  },
  {
   "cell_type": "code",
   "execution_count": 67,
   "metadata": {},
   "outputs": [],
   "source": [
    "modularity_scores$WT_3steps <- modularity(friend_comm_wt_st3)"
   ]
  },
  {
   "cell_type": "markdown",
   "metadata": {},
   "source": [
    "We can also apply the walktrap algorithm with edge weights included.\n",
    "To that end, we will repeat the above modularity-based process of finding \n",
    "the optimal number of steps in the random walk."
   ]
  },
  {
   "cell_type": "code",
   "execution_count": 68,
   "metadata": {},
   "outputs": [
    {
     "data": {
      "text/html": [
       "<dl>\n",
       "\t<dt>$`s=2`</dt>\n",
       "\t\t<dd>0.329237818717957</dd>\n",
       "\t<dt>$`s=3`</dt>\n",
       "\t\t<dd>0.329237818717957</dd>\n",
       "</dl>\n"
      ],
      "text/latex": [
       "\\begin{description}\n",
       "\\item[\\$`s=2`] 0.329237818717957\n",
       "\\item[\\$`s=3`] 0.329237818717957\n",
       "\\end{description}\n"
      ],
      "text/markdown": [
       "$`s=2`\n",
       ":   0.329237818717957\n",
       "$`s=3`\n",
       ":   0.329237818717957\n",
       "\n",
       "\n"
      ],
      "text/plain": [
       "$`s=2`\n",
       "[1] 0.3292378\n",
       "\n",
       "$`s=3`\n",
       "[1] 0.3292378\n"
      ]
     },
     "metadata": {},
     "output_type": "display_data"
    }
   ],
   "source": [
    "wt_weighted_modularity <- list()\n",
    "for (s in 2:8) {\n",
    "  set.seed(seed)\n",
    "  wt_weighted_result <- cluster_walktrap(friend_net_und, steps = s, \n",
    "                                         weights = E(friend_net_und)$friend_tie)\n",
    "  wt_weighted_modularity[[paste0('s=',s)]] <- modularity(wt_weighted_result)\n",
    "}\n",
    "max_mod_wt_weighted <- max(unlist(wt_weighted_modularity))\n",
    "wt_weighted_modularity[wt_weighted_modularity == max_mod_wt_weighted]"
   ]
  },
  {
   "cell_type": "markdown",
   "metadata": {},
   "source": [
    "Again, we got the best score for 2 and 3 steps\n",
    "Let's re-run the algorithm again with 3 steps"
   ]
  },
  {
   "cell_type": "code",
   "execution_count": 69,
   "metadata": {},
   "outputs": [
    {
     "data": {
      "text/plain": [
       "IGRAPH clustering walktrap, groups: 3, mod: 0.33\n",
       "+ groups:\n",
       "  $`1`\n",
       "  [1] \"2\"  \"7\"  \"8\"  \"13\" \"14\"\n",
       "  \n",
       "  $`2`\n",
       "  [1] \"9\"  \"10\" \"12\" \"15\" \"1\" \n",
       "  \n",
       "  $`3`\n",
       "  [1] \"3\"  \"5\"  \"6\"  \"11\"\n",
       "  "
      ]
     },
     "metadata": {},
     "output_type": "display_data"
    }
   ],
   "source": [
    "set.seed(seed)\n",
    "friend_comm_wt_weighted <- cluster_walktrap(friend_net_und, steps=3,\n",
    "                                            weights = E(friend_net_und)$friend_tie)\n",
    "friend_comm_wt_weighted"
   ]
  },
  {
   "cell_type": "markdown",
   "metadata": {},
   "source": [
    "Plot the result using a custom color scheme"
   ]
  },
  {
   "cell_type": "code",
   "execution_count": 70,
   "metadata": {},
   "outputs": [],
   "source": [
    "weighted_fr_layout <- layout_with_fr(friend_net_und, \n",
    "                                     weights = E(friend_net_und)$friend_tie)"
   ]
  },
  {
   "cell_type": "code",
   "execution_count": 71,
   "metadata": {},
   "outputs": [],
   "source": [
    "cross_community_edges <- crossing(friend_comm_wt_weighted, friend_net_und)\n",
    "edge_colors <- c('midnightblue', 'firebrick4')[cross_community_edges + 1]"
   ]
  },
  {
   "cell_type": "code",
   "execution_count": 72,
   "metadata": {},
   "outputs": [],
   "source": [
    "node_colors <- c('orangered2', 'limegreen', 'gold')[membership(friend_comm_wt_weighted)]"
   ]
  },
  {
   "cell_type": "code",
   "execution_count": 73,
   "metadata": {},
   "outputs": [
    {
     "data": {
      "image/png": "[encoded data removed]",
      "text/plain": [
       "Plot with title \"Communities detected in undirected weighted friendship network\n",
       " using Walktrap method\""
      ]
     },
     "metadata": {
      "image/png": {
       "height": 420,
       "width": 420
      }
     },
     "output_type": "display_data"
    }
   ],
   "source": [
    "plot(friend_net_und,\n",
    "     layout = weighted_fr_layout,\n",
    "     vertex.color = node_colors,\n",
    "     edge.width = E(friend_net_und)$friend_tie * 1.75,\n",
    "     edge.color = edge_colors,\n",
    "     main=\"Communities detected in undirected weighted friendship network\\n using Walktrap method\") "
   ]
  },
  {
   "cell_type": "markdown",
   "metadata": {},
   "source": [
    "Add the modularity score for this solution to our modularity_scores list"
   ]
  },
  {
   "cell_type": "code",
   "execution_count": 74,
   "metadata": {},
   "outputs": [],
   "source": [
    "modularity_scores$WT_weighted <- modularity(friend_comm_wt_weighted)"
   ]
  },
  {
   "cell_type": "markdown",
   "metadata": {},
   "source": [
    "#### 3D. AGGLOMERATIVE HIERARCHICAL CLUSTERING (UNDIRECTED, WEIGHTED GRAPH)"
   ]
  },
  {
   "cell_type": "markdown",
   "metadata": {},
   "source": [
    "We will now apply hierarchical clustering as a general clustering method, \n",
    "that is, a method that is not specifically designed for community \n",
    "detection in social networks but can be applied in various domains"
   ]
  },
  {
   "cell_type": "markdown",
   "metadata": {},
   "source": [
    "Step 1: get the adjacency matrix of the undirected friendship graph"
   ]
  },
  {
   "cell_type": "code",
   "execution_count": 75,
   "metadata": {},
   "outputs": [
    {
     "data": {
      "text/html": [
       "<table>\n",
       "<caption>A matrix: 14 × 14 of type dbl</caption>\n",
       "<thead>\n",
       "\t<tr><th></th><th scope=col>2</th><th scope=col>3</th><th scope=col>5</th><th scope=col>6</th><th scope=col>7</th><th scope=col>8</th><th scope=col>9</th><th scope=col>10</th><th scope=col>11</th><th scope=col>12</th><th scope=col>13</th><th scope=col>14</th><th scope=col>15</th><th scope=col>1</th></tr>\n",
       "</thead>\n",
       "<tbody>\n",
       "\t<tr><th scope=row>2</th><td>0</td><td>0</td><td>0</td><td>0</td><td>1</td><td>1</td><td>0</td><td>0</td><td>0</td><td>0</td><td>2</td><td>1</td><td>0</td><td>1</td></tr>\n",
       "\t<tr><th scope=row>3</th><td>0</td><td>0</td><td>1</td><td>2</td><td>0</td><td>0</td><td>1</td><td>0</td><td>1</td><td>0</td><td>0</td><td>1</td><td>1</td><td>0</td></tr>\n",
       "\t<tr><th scope=row>5</th><td>0</td><td>1</td><td>0</td><td>1</td><td>0</td><td>1</td><td>0</td><td>1</td><td>2</td><td>0</td><td>0</td><td>0</td><td>0</td><td>1</td></tr>\n",
       "\t<tr><th scope=row>6</th><td>0</td><td>2</td><td>1</td><td>0</td><td>1</td><td>0</td><td>0</td><td>1</td><td>1</td><td>1</td><td>0</td><td>0</td><td>0</td><td>1</td></tr>\n",
       "\t<tr><th scope=row>7</th><td>1</td><td>0</td><td>0</td><td>1</td><td>0</td><td>1</td><td>0</td><td>0</td><td>0</td><td>0</td><td>1</td><td>1</td><td>1</td><td>0</td></tr>\n",
       "\t<tr><th scope=row>8</th><td>1</td><td>0</td><td>1</td><td>0</td><td>1</td><td>0</td><td>0</td><td>0</td><td>0</td><td>0</td><td>1</td><td>1</td><td>1</td><td>0</td></tr>\n",
       "\t<tr><th scope=row>9</th><td>0</td><td>1</td><td>0</td><td>0</td><td>0</td><td>0</td><td>0</td><td>2</td><td>0</td><td>2</td><td>0</td><td>0</td><td>2</td><td>2</td></tr>\n",
       "\t<tr><th scope=row>10</th><td>0</td><td>0</td><td>1</td><td>1</td><td>0</td><td>0</td><td>2</td><td>0</td><td>1</td><td>1</td><td>0</td><td>0</td><td>1</td><td>1</td></tr>\n",
       "\t<tr><th scope=row>11</th><td>0</td><td>1</td><td>2</td><td>1</td><td>0</td><td>0</td><td>0</td><td>1</td><td>0</td><td>0</td><td>0</td><td>0</td><td>0</td><td>1</td></tr>\n",
       "\t<tr><th scope=row>12</th><td>0</td><td>0</td><td>0</td><td>1</td><td>0</td><td>0</td><td>2</td><td>1</td><td>0</td><td>0</td><td>0</td><td>1</td><td>1</td><td>1</td></tr>\n",
       "\t<tr><th scope=row>13</th><td>2</td><td>0</td><td>0</td><td>0</td><td>1</td><td>1</td><td>0</td><td>0</td><td>0</td><td>0</td><td>0</td><td>1</td><td>0</td><td>0</td></tr>\n",
       "\t<tr><th scope=row>14</th><td>1</td><td>1</td><td>0</td><td>0</td><td>1</td><td>1</td><td>0</td><td>0</td><td>0</td><td>1</td><td>1</td><td>0</td><td>0</td><td>0</td></tr>\n",
       "\t<tr><th scope=row>15</th><td>0</td><td>1</td><td>0</td><td>0</td><td>1</td><td>1</td><td>2</td><td>1</td><td>0</td><td>1</td><td>0</td><td>0</td><td>0</td><td>1</td></tr>\n",
       "\t<tr><th scope=row>1</th><td>1</td><td>0</td><td>1</td><td>1</td><td>0</td><td>0</td><td>2</td><td>1</td><td>1</td><td>1</td><td>0</td><td>0</td><td>1</td><td>0</td></tr>\n",
       "</tbody>\n",
       "</table>\n"
      ],
      "text/latex": [
       "A matrix: 14 × 14 of type dbl\n",
       "\\begin{tabular}{r|llllllllllllll}\n",
       "  & 2 & 3 & 5 & 6 & 7 & 8 & 9 & 10 & 11 & 12 & 13 & 14 & 15 & 1\\\\\n",
       "\\hline\n",
       "\t2 & 0 & 0 & 0 & 0 & 1 & 1 & 0 & 0 & 0 & 0 & 2 & 1 & 0 & 1\\\\\n",
       "\t3 & 0 & 0 & 1 & 2 & 0 & 0 & 1 & 0 & 1 & 0 & 0 & 1 & 1 & 0\\\\\n",
       "\t5 & 0 & 1 & 0 & 1 & 0 & 1 & 0 & 1 & 2 & 0 & 0 & 0 & 0 & 1\\\\\n",
       "\t6 & 0 & 2 & 1 & 0 & 1 & 0 & 0 & 1 & 1 & 1 & 0 & 0 & 0 & 1\\\\\n",
       "\t7 & 1 & 0 & 0 & 1 & 0 & 1 & 0 & 0 & 0 & 0 & 1 & 1 & 1 & 0\\\\\n",
       "\t8 & 1 & 0 & 1 & 0 & 1 & 0 & 0 & 0 & 0 & 0 & 1 & 1 & 1 & 0\\\\\n",
       "\t9 & 0 & 1 & 0 & 0 & 0 & 0 & 0 & 2 & 0 & 2 & 0 & 0 & 2 & 2\\\\\n",
       "\t10 & 0 & 0 & 1 & 1 & 0 & 0 & 2 & 0 & 1 & 1 & 0 & 0 & 1 & 1\\\\\n",
       "\t11 & 0 & 1 & 2 & 1 & 0 & 0 & 0 & 1 & 0 & 0 & 0 & 0 & 0 & 1\\\\\n",
       "\t12 & 0 & 0 & 0 & 1 & 0 & 0 & 2 & 1 & 0 & 0 & 0 & 1 & 1 & 1\\\\\n",
       "\t13 & 2 & 0 & 0 & 0 & 1 & 1 & 0 & 0 & 0 & 0 & 0 & 1 & 0 & 0\\\\\n",
       "\t14 & 1 & 1 & 0 & 0 & 1 & 1 & 0 & 0 & 0 & 1 & 1 & 0 & 0 & 0\\\\\n",
       "\t15 & 0 & 1 & 0 & 0 & 1 & 1 & 2 & 1 & 0 & 1 & 0 & 0 & 0 & 1\\\\\n",
       "\t1 & 1 & 0 & 1 & 1 & 0 & 0 & 2 & 1 & 1 & 1 & 0 & 0 & 1 & 0\\\\\n",
       "\\end{tabular}\n"
      ],
      "text/markdown": [
       "\n",
       "A matrix: 14 × 14 of type dbl\n",
       "\n",
       "| <!--/--> | 2 | 3 | 5 | 6 | 7 | 8 | 9 | 10 | 11 | 12 | 13 | 14 | 15 | 1 |\n",
       "|---|---|---|---|---|---|---|---|---|---|---|---|---|---|---|\n",
       "| 2 | 0 | 0 | 0 | 0 | 1 | 1 | 0 | 0 | 0 | 0 | 2 | 1 | 0 | 1 |\n",
       "| 3 | 0 | 0 | 1 | 2 | 0 | 0 | 1 | 0 | 1 | 0 | 0 | 1 | 1 | 0 |\n",
       "| 5 | 0 | 1 | 0 | 1 | 0 | 1 | 0 | 1 | 2 | 0 | 0 | 0 | 0 | 1 |\n",
       "| 6 | 0 | 2 | 1 | 0 | 1 | 0 | 0 | 1 | 1 | 1 | 0 | 0 | 0 | 1 |\n",
       "| 7 | 1 | 0 | 0 | 1 | 0 | 1 | 0 | 0 | 0 | 0 | 1 | 1 | 1 | 0 |\n",
       "| 8 | 1 | 0 | 1 | 0 | 1 | 0 | 0 | 0 | 0 | 0 | 1 | 1 | 1 | 0 |\n",
       "| 9 | 0 | 1 | 0 | 0 | 0 | 0 | 0 | 2 | 0 | 2 | 0 | 0 | 2 | 2 |\n",
       "| 10 | 0 | 0 | 1 | 1 | 0 | 0 | 2 | 0 | 1 | 1 | 0 | 0 | 1 | 1 |\n",
       "| 11 | 0 | 1 | 2 | 1 | 0 | 0 | 0 | 1 | 0 | 0 | 0 | 0 | 0 | 1 |\n",
       "| 12 | 0 | 0 | 0 | 1 | 0 | 0 | 2 | 1 | 0 | 0 | 0 | 1 | 1 | 1 |\n",
       "| 13 | 2 | 0 | 0 | 0 | 1 | 1 | 0 | 0 | 0 | 0 | 0 | 1 | 0 | 0 |\n",
       "| 14 | 1 | 1 | 0 | 0 | 1 | 1 | 0 | 0 | 0 | 1 | 1 | 0 | 0 | 0 |\n",
       "| 15 | 0 | 1 | 0 | 0 | 1 | 1 | 2 | 1 | 0 | 1 | 0 | 0 | 0 | 1 |\n",
       "| 1 | 1 | 0 | 1 | 1 | 0 | 0 | 2 | 1 | 1 | 1 | 0 | 0 | 1 | 0 |\n",
       "\n"
      ],
      "text/plain": [
       "   2 3 5 6 7 8 9 10 11 12 13 14 15 1\n",
       "2  0 0 0 0 1 1 0 0  0  0  2  1  0  1\n",
       "3  0 0 1 2 0 0 1 0  1  0  0  1  1  0\n",
       "5  0 1 0 1 0 1 0 1  2  0  0  0  0  1\n",
       "6  0 2 1 0 1 0 0 1  1  1  0  0  0  1\n",
       "7  1 0 0 1 0 1 0 0  0  0  1  1  1  0\n",
       "8  1 0 1 0 1 0 0 0  0  0  1  1  1  0\n",
       "9  0 1 0 0 0 0 0 2  0  2  0  0  2  2\n",
       "10 0 0 1 1 0 0 2 0  1  1  0  0  1  1\n",
       "11 0 1 2 1 0 0 0 1  0  0  0  0  0  1\n",
       "12 0 0 0 1 0 0 2 1  0  0  0  1  1  1\n",
       "13 2 0 0 0 1 1 0 0  0  0  0  1  0  0\n",
       "14 1 1 0 0 1 1 0 0  0  1  1  0  0  0\n",
       "15 0 1 0 0 1 1 2 1  0  1  0  0  0  1\n",
       "1  1 0 1 1 0 0 2 1  1  1  0  0  1  0"
      ]
     },
     "metadata": {},
     "output_type": "display_data"
    }
   ],
   "source": [
    "friend_und_adj_mat <- as_adjacency_matrix(friend_net_und, \n",
    "                                         attr = 'friend_tie',\n",
    "                                         sparse=FALSE)\n",
    "friend_und_adj_mat"
   ]
  },
  {
   "cell_type": "markdown",
   "metadata": {},
   "source": [
    "Step 2: compute cosine similarity between rows of the adjacency matrix\n",
    "\n",
    "Note: cosine similarity is a frequently used measure for estimating \n",
    "similarity of numeric vectors. Other typically used similarity / distance\n",
    "measures include: Euclidean distance, Manhattan distance, and \n",
    "Pearson correlation coefficient."
   ]
  },
  {
   "cell_type": "markdown",
   "metadata": {},
   "source": [
    "To compute cosine similarity, we will use the simil() function\n",
    "from the *proxy* R package:"
   ]
  },
  {
   "cell_type": "code",
   "execution_count": 76,
   "metadata": {},
   "outputs": [],
   "source": [
    "friend_und_cos_sim <- simil(friend_und_adj_mat, method = \"cosine\")"
   ]
  },
  {
   "cell_type": "markdown",
   "metadata": {},
   "source": [
    "set 1 on the diagonal as that is the maximum Cosine similarity value"
   ]
  },
  {
   "cell_type": "code",
   "execution_count": 77,
   "metadata": {},
   "outputs": [
    {
     "data": {
      "text/html": [
       "<table>\n",
       "<caption>A matrix: 14 × 14 of type dbl</caption>\n",
       "<thead>\n",
       "\t<tr><th></th><th scope=col>2</th><th scope=col>3</th><th scope=col>5</th><th scope=col>6</th><th scope=col>7</th><th scope=col>8</th><th scope=col>9</th><th scope=col>10</th><th scope=col>11</th><th scope=col>12</th><th scope=col>13</th><th scope=col>14</th><th scope=col>15</th><th scope=col>1</th></tr>\n",
       "</thead>\n",
       "<tbody>\n",
       "\t<tr><th scope=row>2</th><td>1.0000000</td><td>0.1178511</td><td>0.2357023</td><td>0.2236068</td><td>0.5773503</td><td>0.5773503</td><td>0.1714986</td><td>0.1118034</td><td>0.1250000</td><td>0.2357023</td><td>0.4008919</td><td>0.5773503</td><td>0.3354102</td><td>0.0000000</td></tr>\n",
       "\t<tr><th scope=row>3</th><td>0.1178511</td><td>1.0000000</td><td>0.4444444</td><td>0.2108185</td><td>0.5443311</td><td>0.4082483</td><td>0.1616904</td><td>0.7378648</td><td>0.4714045</td><td>0.6666667</td><td>0.1259882</td><td>0.0000000</td><td>0.2108185</td><td>0.7035265</td></tr>\n",
       "\t<tr><th scope=row>5</th><td>0.2357023</td><td>0.4444444</td><td>1.0000000</td><td>0.6324555</td><td>0.2721655</td><td>0.0000000</td><td>0.4042260</td><td>0.4216370</td><td>0.4714045</td><td>0.3333333</td><td>0.1259882</td><td>0.2721655</td><td>0.4216370</td><td>0.4020151</td></tr>\n",
       "\t<tr><th scope=row>6</th><td>0.2236068</td><td>0.2108185</td><td>0.6324555</td><td>1.0000000</td><td>0.0000000</td><td>0.2581989</td><td>0.6135720</td><td>0.4000000</td><td>0.6708204</td><td>0.2108185</td><td>0.1195229</td><td>0.5163978</td><td>0.6000000</td><td>0.3813850</td></tr>\n",
       "\t<tr><th scope=row>7</th><td>0.5773503</td><td>0.5443311</td><td>0.2721655</td><td>0.0000000</td><td>1.0000000</td><td>0.6666667</td><td>0.1980295</td><td>0.2581989</td><td>0.1443376</td><td>0.4082483</td><td>0.6172134</td><td>0.5000000</td><td>0.1290994</td><td>0.3692745</td></tr>\n",
       "\t<tr><th scope=row>8</th><td>0.5773503</td><td>0.4082483</td><td>0.0000000</td><td>0.2581989</td><td>0.6666667</td><td>1.0000000</td><td>0.1980295</td><td>0.2581989</td><td>0.2886751</td><td>0.2721655</td><td>0.6172134</td><td>0.5000000</td><td>0.1290994</td><td>0.3692745</td></tr>\n",
       "\t<tr><th scope=row>9</th><td>0.1714986</td><td>0.1616904</td><td>0.4042260</td><td>0.6135720</td><td>0.1980295</td><td>0.1980295</td><td>1.0000000</td><td>0.4601790</td><td>0.4287465</td><td>0.4850713</td><td>0.0000000</td><td>0.2970443</td><td>0.5368755</td><td>0.4387635</td></tr>\n",
       "\t<tr><th scope=row>10</th><td>0.1118034</td><td>0.7378648</td><td>0.4216370</td><td>0.4000000</td><td>0.2581989</td><td>0.2581989</td><td>0.4601790</td><td>1.0000000</td><td>0.4472136</td><td>0.7378648</td><td>0.0000000</td><td>0.1290994</td><td>0.6000000</td><td>0.8581163</td></tr>\n",
       "\t<tr><th scope=row>11</th><td>0.1250000</td><td>0.4714045</td><td>0.4714045</td><td>0.6708204</td><td>0.1443376</td><td>0.2886751</td><td>0.4287465</td><td>0.4472136</td><td>1.0000000</td><td>0.3535534</td><td>0.0000000</td><td>0.1443376</td><td>0.3354102</td><td>0.4264014</td></tr>\n",
       "\t<tr><th scope=row>12</th><td>0.2357023</td><td>0.6666667</td><td>0.3333333</td><td>0.2108185</td><td>0.4082483</td><td>0.2721655</td><td>0.4850713</td><td>0.7378648</td><td>0.3535534</td><td>1.0000000</td><td>0.1259882</td><td>0.0000000</td><td>0.6324555</td><td>0.7035265</td></tr>\n",
       "\t<tr><th scope=row>13</th><td>0.4008919</td><td>0.1259882</td><td>0.1259882</td><td>0.1195229</td><td>0.6172134</td><td>0.6172134</td><td>0.0000000</td><td>0.0000000</td><td>0.0000000</td><td>0.1259882</td><td>1.0000000</td><td>0.6172134</td><td>0.2390457</td><td>0.2279212</td></tr>\n",
       "\t<tr><th scope=row>14</th><td>0.5773503</td><td>0.0000000</td><td>0.2721655</td><td>0.5163978</td><td>0.5000000</td><td>0.5000000</td><td>0.2970443</td><td>0.1290994</td><td>0.1443376</td><td>0.0000000</td><td>0.6172134</td><td>1.0000000</td><td>0.5163978</td><td>0.2461830</td></tr>\n",
       "\t<tr><th scope=row>15</th><td>0.3354102</td><td>0.2108185</td><td>0.4216370</td><td>0.6000000</td><td>0.1290994</td><td>0.1290994</td><td>0.5368755</td><td>0.6000000</td><td>0.3354102</td><td>0.6324555</td><td>0.2390457</td><td>0.5163978</td><td>1.0000000</td><td>0.5720776</td></tr>\n",
       "\t<tr><th scope=row>1</th><td>0.0000000</td><td>0.7035265</td><td>0.4020151</td><td>0.3813850</td><td>0.3692745</td><td>0.3692745</td><td>0.4387635</td><td>0.8581163</td><td>0.4264014</td><td>0.7035265</td><td>0.2279212</td><td>0.2461830</td><td>0.5720776</td><td>1.0000000</td></tr>\n",
       "</tbody>\n",
       "</table>\n"
      ],
      "text/latex": [
       "A matrix: 14 × 14 of type dbl\n",
       "\\begin{tabular}{r|llllllllllllll}\n",
       "  & 2 & 3 & 5 & 6 & 7 & 8 & 9 & 10 & 11 & 12 & 13 & 14 & 15 & 1\\\\\n",
       "\\hline\n",
       "\t2 & 1.0000000 & 0.1178511 & 0.2357023 & 0.2236068 & 0.5773503 & 0.5773503 & 0.1714986 & 0.1118034 & 0.1250000 & 0.2357023 & 0.4008919 & 0.5773503 & 0.3354102 & 0.0000000\\\\\n",
       "\t3 & 0.1178511 & 1.0000000 & 0.4444444 & 0.2108185 & 0.5443311 & 0.4082483 & 0.1616904 & 0.7378648 & 0.4714045 & 0.6666667 & 0.1259882 & 0.0000000 & 0.2108185 & 0.7035265\\\\\n",
       "\t5 & 0.2357023 & 0.4444444 & 1.0000000 & 0.6324555 & 0.2721655 & 0.0000000 & 0.4042260 & 0.4216370 & 0.4714045 & 0.3333333 & 0.1259882 & 0.2721655 & 0.4216370 & 0.4020151\\\\\n",
       "\t6 & 0.2236068 & 0.2108185 & 0.6324555 & 1.0000000 & 0.0000000 & 0.2581989 & 0.6135720 & 0.4000000 & 0.6708204 & 0.2108185 & 0.1195229 & 0.5163978 & 0.6000000 & 0.3813850\\\\\n",
       "\t7 & 0.5773503 & 0.5443311 & 0.2721655 & 0.0000000 & 1.0000000 & 0.6666667 & 0.1980295 & 0.2581989 & 0.1443376 & 0.4082483 & 0.6172134 & 0.5000000 & 0.1290994 & 0.3692745\\\\\n",
       "\t8 & 0.5773503 & 0.4082483 & 0.0000000 & 0.2581989 & 0.6666667 & 1.0000000 & 0.1980295 & 0.2581989 & 0.2886751 & 0.2721655 & 0.6172134 & 0.5000000 & 0.1290994 & 0.3692745\\\\\n",
       "\t9 & 0.1714986 & 0.1616904 & 0.4042260 & 0.6135720 & 0.1980295 & 0.1980295 & 1.0000000 & 0.4601790 & 0.4287465 & 0.4850713 & 0.0000000 & 0.2970443 & 0.5368755 & 0.4387635\\\\\n",
       "\t10 & 0.1118034 & 0.7378648 & 0.4216370 & 0.4000000 & 0.2581989 & 0.2581989 & 0.4601790 & 1.0000000 & 0.4472136 & 0.7378648 & 0.0000000 & 0.1290994 & 0.6000000 & 0.8581163\\\\\n",
       "\t11 & 0.1250000 & 0.4714045 & 0.4714045 & 0.6708204 & 0.1443376 & 0.2886751 & 0.4287465 & 0.4472136 & 1.0000000 & 0.3535534 & 0.0000000 & 0.1443376 & 0.3354102 & 0.4264014\\\\\n",
       "\t12 & 0.2357023 & 0.6666667 & 0.3333333 & 0.2108185 & 0.4082483 & 0.2721655 & 0.4850713 & 0.7378648 & 0.3535534 & 1.0000000 & 0.1259882 & 0.0000000 & 0.6324555 & 0.7035265\\\\\n",
       "\t13 & 0.4008919 & 0.1259882 & 0.1259882 & 0.1195229 & 0.6172134 & 0.6172134 & 0.0000000 & 0.0000000 & 0.0000000 & 0.1259882 & 1.0000000 & 0.6172134 & 0.2390457 & 0.2279212\\\\\n",
       "\t14 & 0.5773503 & 0.0000000 & 0.2721655 & 0.5163978 & 0.5000000 & 0.5000000 & 0.2970443 & 0.1290994 & 0.1443376 & 0.0000000 & 0.6172134 & 1.0000000 & 0.5163978 & 0.2461830\\\\\n",
       "\t15 & 0.3354102 & 0.2108185 & 0.4216370 & 0.6000000 & 0.1290994 & 0.1290994 & 0.5368755 & 0.6000000 & 0.3354102 & 0.6324555 & 0.2390457 & 0.5163978 & 1.0000000 & 0.5720776\\\\\n",
       "\t1 & 0.0000000 & 0.7035265 & 0.4020151 & 0.3813850 & 0.3692745 & 0.3692745 & 0.4387635 & 0.8581163 & 0.4264014 & 0.7035265 & 0.2279212 & 0.2461830 & 0.5720776 & 1.0000000\\\\\n",
       "\\end{tabular}\n"
      ],
      "text/markdown": [
       "\n",
       "A matrix: 14 × 14 of type dbl\n",
       "\n",
       "| <!--/--> | 2 | 3 | 5 | 6 | 7 | 8 | 9 | 10 | 11 | 12 | 13 | 14 | 15 | 1 |\n",
       "|---|---|---|---|---|---|---|---|---|---|---|---|---|---|---|\n",
       "| 2 | 1.0000000 | 0.1178511 | 0.2357023 | 0.2236068 | 0.5773503 | 0.5773503 | 0.1714986 | 0.1118034 | 0.1250000 | 0.2357023 | 0.4008919 | 0.5773503 | 0.3354102 | 0.0000000 |\n",
       "| 3 | 0.1178511 | 1.0000000 | 0.4444444 | 0.2108185 | 0.5443311 | 0.4082483 | 0.1616904 | 0.7378648 | 0.4714045 | 0.6666667 | 0.1259882 | 0.0000000 | 0.2108185 | 0.7035265 |\n",
       "| 5 | 0.2357023 | 0.4444444 | 1.0000000 | 0.6324555 | 0.2721655 | 0.0000000 | 0.4042260 | 0.4216370 | 0.4714045 | 0.3333333 | 0.1259882 | 0.2721655 | 0.4216370 | 0.4020151 |\n",
       "| 6 | 0.2236068 | 0.2108185 | 0.6324555 | 1.0000000 | 0.0000000 | 0.2581989 | 0.6135720 | 0.4000000 | 0.6708204 | 0.2108185 | 0.1195229 | 0.5163978 | 0.6000000 | 0.3813850 |\n",
       "| 7 | 0.5773503 | 0.5443311 | 0.2721655 | 0.0000000 | 1.0000000 | 0.6666667 | 0.1980295 | 0.2581989 | 0.1443376 | 0.4082483 | 0.6172134 | 0.5000000 | 0.1290994 | 0.3692745 |\n",
       "| 8 | 0.5773503 | 0.4082483 | 0.0000000 | 0.2581989 | 0.6666667 | 1.0000000 | 0.1980295 | 0.2581989 | 0.2886751 | 0.2721655 | 0.6172134 | 0.5000000 | 0.1290994 | 0.3692745 |\n",
       "| 9 | 0.1714986 | 0.1616904 | 0.4042260 | 0.6135720 | 0.1980295 | 0.1980295 | 1.0000000 | 0.4601790 | 0.4287465 | 0.4850713 | 0.0000000 | 0.2970443 | 0.5368755 | 0.4387635 |\n",
       "| 10 | 0.1118034 | 0.7378648 | 0.4216370 | 0.4000000 | 0.2581989 | 0.2581989 | 0.4601790 | 1.0000000 | 0.4472136 | 0.7378648 | 0.0000000 | 0.1290994 | 0.6000000 | 0.8581163 |\n",
       "| 11 | 0.1250000 | 0.4714045 | 0.4714045 | 0.6708204 | 0.1443376 | 0.2886751 | 0.4287465 | 0.4472136 | 1.0000000 | 0.3535534 | 0.0000000 | 0.1443376 | 0.3354102 | 0.4264014 |\n",
       "| 12 | 0.2357023 | 0.6666667 | 0.3333333 | 0.2108185 | 0.4082483 | 0.2721655 | 0.4850713 | 0.7378648 | 0.3535534 | 1.0000000 | 0.1259882 | 0.0000000 | 0.6324555 | 0.7035265 |\n",
       "| 13 | 0.4008919 | 0.1259882 | 0.1259882 | 0.1195229 | 0.6172134 | 0.6172134 | 0.0000000 | 0.0000000 | 0.0000000 | 0.1259882 | 1.0000000 | 0.6172134 | 0.2390457 | 0.2279212 |\n",
       "| 14 | 0.5773503 | 0.0000000 | 0.2721655 | 0.5163978 | 0.5000000 | 0.5000000 | 0.2970443 | 0.1290994 | 0.1443376 | 0.0000000 | 0.6172134 | 1.0000000 | 0.5163978 | 0.2461830 |\n",
       "| 15 | 0.3354102 | 0.2108185 | 0.4216370 | 0.6000000 | 0.1290994 | 0.1290994 | 0.5368755 | 0.6000000 | 0.3354102 | 0.6324555 | 0.2390457 | 0.5163978 | 1.0000000 | 0.5720776 |\n",
       "| 1 | 0.0000000 | 0.7035265 | 0.4020151 | 0.3813850 | 0.3692745 | 0.3692745 | 0.4387635 | 0.8581163 | 0.4264014 | 0.7035265 | 0.2279212 | 0.2461830 | 0.5720776 | 1.0000000 |\n",
       "\n"
      ],
      "text/plain": [
       "   2         3         5         6         7         8         9        \n",
       "2  1.0000000 0.1178511 0.2357023 0.2236068 0.5773503 0.5773503 0.1714986\n",
       "3  0.1178511 1.0000000 0.4444444 0.2108185 0.5443311 0.4082483 0.1616904\n",
       "5  0.2357023 0.4444444 1.0000000 0.6324555 0.2721655 0.0000000 0.4042260\n",
       "6  0.2236068 0.2108185 0.6324555 1.0000000 0.0000000 0.2581989 0.6135720\n",
       "7  0.5773503 0.5443311 0.2721655 0.0000000 1.0000000 0.6666667 0.1980295\n",
       "8  0.5773503 0.4082483 0.0000000 0.2581989 0.6666667 1.0000000 0.1980295\n",
       "9  0.1714986 0.1616904 0.4042260 0.6135720 0.1980295 0.1980295 1.0000000\n",
       "10 0.1118034 0.7378648 0.4216370 0.4000000 0.2581989 0.2581989 0.4601790\n",
       "11 0.1250000 0.4714045 0.4714045 0.6708204 0.1443376 0.2886751 0.4287465\n",
       "12 0.2357023 0.6666667 0.3333333 0.2108185 0.4082483 0.2721655 0.4850713\n",
       "13 0.4008919 0.1259882 0.1259882 0.1195229 0.6172134 0.6172134 0.0000000\n",
       "14 0.5773503 0.0000000 0.2721655 0.5163978 0.5000000 0.5000000 0.2970443\n",
       "15 0.3354102 0.2108185 0.4216370 0.6000000 0.1290994 0.1290994 0.5368755\n",
       "1  0.0000000 0.7035265 0.4020151 0.3813850 0.3692745 0.3692745 0.4387635\n",
       "   10        11        12        13        14        15        1        \n",
       "2  0.1118034 0.1250000 0.2357023 0.4008919 0.5773503 0.3354102 0.0000000\n",
       "3  0.7378648 0.4714045 0.6666667 0.1259882 0.0000000 0.2108185 0.7035265\n",
       "5  0.4216370 0.4714045 0.3333333 0.1259882 0.2721655 0.4216370 0.4020151\n",
       "6  0.4000000 0.6708204 0.2108185 0.1195229 0.5163978 0.6000000 0.3813850\n",
       "7  0.2581989 0.1443376 0.4082483 0.6172134 0.5000000 0.1290994 0.3692745\n",
       "8  0.2581989 0.2886751 0.2721655 0.6172134 0.5000000 0.1290994 0.3692745\n",
       "9  0.4601790 0.4287465 0.4850713 0.0000000 0.2970443 0.5368755 0.4387635\n",
       "10 1.0000000 0.4472136 0.7378648 0.0000000 0.1290994 0.6000000 0.8581163\n",
       "11 0.4472136 1.0000000 0.3535534 0.0000000 0.1443376 0.3354102 0.4264014\n",
       "12 0.7378648 0.3535534 1.0000000 0.1259882 0.0000000 0.6324555 0.7035265\n",
       "13 0.0000000 0.0000000 0.1259882 1.0000000 0.6172134 0.2390457 0.2279212\n",
       "14 0.1290994 0.1443376 0.0000000 0.6172134 1.0000000 0.5163978 0.2461830\n",
       "15 0.6000000 0.3354102 0.6324555 0.2390457 0.5163978 1.0000000 0.5720776\n",
       "1  0.8581163 0.4264014 0.7035265 0.2279212 0.2461830 0.5720776 1.0000000"
      ]
     },
     "metadata": {},
     "output_type": "display_data"
    }
   ],
   "source": [
    "friend_und_sim_mat <- as.matrix(friend_und_cos_sim, diag=1)\n",
    "#View(friend_und_sim_mat)\n",
    "friend_und_sim_mat"
   ]
  },
  {
   "cell_type": "markdown",
   "metadata": {},
   "source": [
    "We can use corrplot to get an idea about the grouping of nodes\n",
    "(based on the similarity of their network connections) "
   ]
  },
  {
   "cell_type": "code",
   "execution_count": 78,
   "metadata": {},
   "outputs": [
    {
     "name": "stderr",
     "output_type": "stream",
     "text": [
      "corrplot 0.84 loaded\n",
      "\n"
     ]
    },
    {
     "data": {
      "image/png": "[encoded data removed]",
      "text/plain": [
       "Plot with title \"\""
      ]
     },
     "metadata": {
      "image/png": {
       "height": 420,
       "width": 420
      }
     },
     "output_type": "display_data"
    }
   ],
   "source": [
    "library(corrplot)\n",
    "corrplot(friend_und_sim_mat, is.corr = FALSE, type = 'upper', \n",
    "         diag = FALSE, order = 'hclust')"
   ]
  },
  {
   "cell_type": "markdown",
   "metadata": {},
   "source": [
    "Step 3: create distance matrix, required by the clustering function"
   ]
  },
  {
   "cell_type": "code",
   "execution_count": 79,
   "metadata": {},
   "outputs": [],
   "source": [
    "friend_und_dist_mat <- 1-friend_und_sim_mat"
   ]
  },
  {
   "cell_type": "markdown",
   "metadata": {},
   "source": [
    "Step 4: do the clustering using the hclust function"
   ]
  },
  {
   "cell_type": "code",
   "execution_count": 92,
   "metadata": {},
   "outputs": [],
   "source": [
    "?hclust"
   ]
  },
  {
   "cell_type": "markdown",
   "metadata": {},
   "source": [
    "The function offers different linkage methods, among which 'ward.D2' \n",
    "and 'complete' linkage are often used"
   ]
  },
  {
   "cell_type": "code",
   "execution_count": 80,
   "metadata": {},
   "outputs": [],
   "source": [
    "friend_und_hc <- hclust(as.dist(friend_und_dist_mat), \n",
    "                        method = \"ward.D2\")"
   ]
  },
  {
   "cell_type": "markdown",
   "metadata": {},
   "source": [
    "Step 5: plot dendrogram"
   ]
  },
  {
   "cell_type": "code",
   "execution_count": 84,
   "metadata": {},
   "outputs": [],
   "source": [
    "#install.packages('factoextra')"
   ]
  },
  {
   "cell_type": "code",
   "execution_count": 86,
   "metadata": {},
   "outputs": [
    {
     "data": {
      "image/png": "[encoded data removed]",
      "text/plain": [
       "plot without title"
      ]
     },
     "metadata": {
      "image/png": {
       "height": 420,
       "width": 420
      }
     },
     "output_type": "display_data"
    }
   ],
   "source": [
    "library(factoextra)\n",
    "fviz_dend(friend_und_hc)"
   ]
  },
  {
   "cell_type": "markdown",
   "metadata": {},
   "source": [
    "Note: previous step (plotting using function ```fviz_dend```) might not work properly on R version 3.6. It is not an essential step, and you can continue without this visualisation, but for full reproduction of figures, R version 4.0 everything should work smoothly."
   ]
  },
  {
   "cell_type": "markdown",
   "metadata": {},
   "source": [
    "Step 6: Choose the best number of clusters by examining the structure \n",
    "of the dendrogram and using modularity to choose between the candidate \n",
    "solutions.\n",
    "\n",
    "2 clusters:"
   ]
  },
  {
   "cell_type": "code",
   "execution_count": 87,
   "metadata": {},
   "outputs": [
    {
     "data": {
      "text/html": [
       "0.269557823129252"
      ],
      "text/latex": [
       "0.269557823129252"
      ],
      "text/markdown": [
       "0.269557823129252"
      ],
      "text/plain": [
       "[1] 0.2695578"
      ]
     },
     "metadata": {},
     "output_type": "display_data"
    }
   ],
   "source": [
    "modularity(friend_net_und, cutree(friend_und_hc, k = 2))"
   ]
  },
  {
   "cell_type": "markdown",
   "metadata": {},
   "source": [
    "3 clusters:"
   ]
  },
  {
   "cell_type": "code",
   "execution_count": 88,
   "metadata": {},
   "outputs": [
    {
     "data": {
      "text/html": [
       "0.0705782312925169"
      ],
      "text/latex": [
       "0.0705782312925169"
      ],
      "text/markdown": [
       "0.0705782312925169"
      ],
      "text/plain": [
       "[1] 0.07057823"
      ]
     },
     "metadata": {},
     "output_type": "display_data"
    }
   ],
   "source": [
    "modularity(friend_net_und, cutree(friend_und_hc, k = 3))"
   ]
  },
  {
   "cell_type": "markdown",
   "metadata": {},
   "source": [
    "Based on the modularity scores, 2 clusters is far better option.\n",
    "Color the clusters to better visualise them"
   ]
  },
  {
   "cell_type": "code",
   "execution_count": 89,
   "metadata": {},
   "outputs": [
    {
     "data": {
      "image/png": "[encoded data removed]",
      "text/plain": [
       "plot without title"
      ]
     },
     "metadata": {
      "image/png": {
       "height": 420,
       "width": 420
      }
     },
     "output_type": "display_data"
    }
   ],
   "source": [
    "fviz_dend(friend_und_hc, k=2)"
   ]
  },
  {
   "cell_type": "markdown",
   "metadata": {},
   "source": [
    "Step 7: get cluster assignments by cutting the dendrogram into 2 clusters"
   ]
  },
  {
   "cell_type": "code",
   "execution_count": 90,
   "metadata": {},
   "outputs": [],
   "source": [
    "friend_und_clust <- cutree(friend_und_hc, k = 2)"
   ]
  },
  {
   "cell_type": "markdown",
   "metadata": {},
   "source": [
    "Plot graph with clusters"
   ]
  },
  {
   "cell_type": "code",
   "execution_count": 91,
   "metadata": {},
   "outputs": [
    {
     "data": {
      "image/png": "[encoded data removed]",
      "text/plain": [
       "Plot with title \"Communities detected in undirected friendship network\n",
       " using Agglomerative Hierarchical clustering\""
      ]
     },
     "metadata": {
      "image/png": {
       "height": 420,
       "width": 420
      }
     },
     "output_type": "display_data"
    }
   ],
   "source": [
    "plot(friend_net_und, \n",
    "     vertex.color=c('gold', 'plum')[friend_und_clust], \n",
    "     layout = layout_with_fr(friend_net_und),\n",
    "     edge.color = 'midnightblue',\n",
    "     edge.width = E(friend_net_und)$friend_tie * 1.75,\n",
    "     main=\"Communities detected in undirected friendship network\\n using Agglomerative Hierarchical clustering\")"
   ]
  },
  {
   "cell_type": "markdown",
   "metadata": {},
   "source": [
    "Add modularity to the modularity_scores list"
   ]
  },
  {
   "cell_type": "code",
   "execution_count": 92,
   "metadata": {},
   "outputs": [],
   "source": [
    "modularity_scores$HC <- modularity(friend_net_und, friend_und_clust)"
   ]
  },
  {
   "cell_type": "markdown",
   "metadata": {},
   "source": [
    "#### 3E. AGGLOMERATIVE HIERARCHICAL CLUSTERING (DIRECTED, WEIGHTED GRAPH)"
   ]
  },
  {
   "cell_type": "markdown",
   "metadata": {},
   "source": [
    "We will now apply hierarchical clustering but using directed\n",
    "(and weighted) friendship graph"
   ]
  },
  {
   "cell_type": "markdown",
   "metadata": {},
   "source": [
    "Step 1: get the graph's adjacency matrix"
   ]
  },
  {
   "cell_type": "code",
   "execution_count": 93,
   "metadata": {},
   "outputs": [
    {
     "data": {
      "text/html": [
       "<table>\n",
       "<caption>A matrix: 14 × 14 of type dbl</caption>\n",
       "<thead>\n",
       "\t<tr><th></th><th scope=col>2</th><th scope=col>3</th><th scope=col>5</th><th scope=col>6</th><th scope=col>7</th><th scope=col>8</th><th scope=col>9</th><th scope=col>10</th><th scope=col>11</th><th scope=col>12</th><th scope=col>13</th><th scope=col>14</th><th scope=col>15</th><th scope=col>1</th></tr>\n",
       "</thead>\n",
       "<tbody>\n",
       "\t<tr><th scope=row>2</th><td>0</td><td>0</td><td>0</td><td>0</td><td>1</td><td>1</td><td>0</td><td>0</td><td>0</td><td>0</td><td>2</td><td>1</td><td>0</td><td>1</td></tr>\n",
       "\t<tr><th scope=row>3</th><td>0</td><td>0</td><td>1</td><td>1</td><td>0</td><td>0</td><td>0</td><td>0</td><td>1</td><td>0</td><td>0</td><td>1</td><td>1</td><td>0</td></tr>\n",
       "\t<tr><th scope=row>5</th><td>0</td><td>1</td><td>0</td><td>1</td><td>0</td><td>1</td><td>0</td><td>1</td><td>2</td><td>0</td><td>0</td><td>0</td><td>0</td><td>1</td></tr>\n",
       "\t<tr><th scope=row>6</th><td>0</td><td>2</td><td>1</td><td>0</td><td>1</td><td>0</td><td>0</td><td>1</td><td>1</td><td>1</td><td>0</td><td>0</td><td>0</td><td>1</td></tr>\n",
       "\t<tr><th scope=row>7</th><td>1</td><td>0</td><td>0</td><td>0</td><td>0</td><td>1</td><td>0</td><td>0</td><td>0</td><td>0</td><td>1</td><td>1</td><td>0</td><td>0</td></tr>\n",
       "\t<tr><th scope=row>8</th><td>1</td><td>0</td><td>1</td><td>0</td><td>1</td><td>0</td><td>0</td><td>0</td><td>0</td><td>0</td><td>1</td><td>1</td><td>1</td><td>0</td></tr>\n",
       "\t<tr><th scope=row>9</th><td>0</td><td>1</td><td>0</td><td>0</td><td>0</td><td>0</td><td>0</td><td>2</td><td>0</td><td>2</td><td>0</td><td>0</td><td>2</td><td>2</td></tr>\n",
       "\t<tr><th scope=row>10</th><td>0</td><td>0</td><td>0</td><td>0</td><td>0</td><td>0</td><td>1</td><td>0</td><td>0</td><td>1</td><td>0</td><td>0</td><td>1</td><td>1</td></tr>\n",
       "\t<tr><th scope=row>11</th><td>0</td><td>1</td><td>1</td><td>1</td><td>0</td><td>0</td><td>0</td><td>1</td><td>0</td><td>0</td><td>0</td><td>0</td><td>0</td><td>1</td></tr>\n",
       "\t<tr><th scope=row>12</th><td>0</td><td>0</td><td>0</td><td>0</td><td>0</td><td>0</td><td>1</td><td>0</td><td>0</td><td>0</td><td>0</td><td>0</td><td>1</td><td>1</td></tr>\n",
       "\t<tr><th scope=row>13</th><td>2</td><td>0</td><td>0</td><td>0</td><td>1</td><td>1</td><td>0</td><td>0</td><td>0</td><td>0</td><td>0</td><td>1</td><td>0</td><td>0</td></tr>\n",
       "\t<tr><th scope=row>14</th><td>1</td><td>1</td><td>0</td><td>0</td><td>0</td><td>1</td><td>0</td><td>0</td><td>0</td><td>1</td><td>0</td><td>0</td><td>0</td><td>0</td></tr>\n",
       "\t<tr><th scope=row>15</th><td>0</td><td>0</td><td>0</td><td>0</td><td>1</td><td>0</td><td>1</td><td>0</td><td>0</td><td>1</td><td>0</td><td>0</td><td>0</td><td>1</td></tr>\n",
       "\t<tr><th scope=row>1</th><td>0</td><td>0</td><td>0</td><td>0</td><td>0</td><td>0</td><td>0</td><td>0</td><td>0</td><td>0</td><td>0</td><td>0</td><td>0</td><td>0</td></tr>\n",
       "</tbody>\n",
       "</table>\n"
      ],
      "text/latex": [
       "A matrix: 14 × 14 of type dbl\n",
       "\\begin{tabular}{r|llllllllllllll}\n",
       "  & 2 & 3 & 5 & 6 & 7 & 8 & 9 & 10 & 11 & 12 & 13 & 14 & 15 & 1\\\\\n",
       "\\hline\n",
       "\t2 & 0 & 0 & 0 & 0 & 1 & 1 & 0 & 0 & 0 & 0 & 2 & 1 & 0 & 1\\\\\n",
       "\t3 & 0 & 0 & 1 & 1 & 0 & 0 & 0 & 0 & 1 & 0 & 0 & 1 & 1 & 0\\\\\n",
       "\t5 & 0 & 1 & 0 & 1 & 0 & 1 & 0 & 1 & 2 & 0 & 0 & 0 & 0 & 1\\\\\n",
       "\t6 & 0 & 2 & 1 & 0 & 1 & 0 & 0 & 1 & 1 & 1 & 0 & 0 & 0 & 1\\\\\n",
       "\t7 & 1 & 0 & 0 & 0 & 0 & 1 & 0 & 0 & 0 & 0 & 1 & 1 & 0 & 0\\\\\n",
       "\t8 & 1 & 0 & 1 & 0 & 1 & 0 & 0 & 0 & 0 & 0 & 1 & 1 & 1 & 0\\\\\n",
       "\t9 & 0 & 1 & 0 & 0 & 0 & 0 & 0 & 2 & 0 & 2 & 0 & 0 & 2 & 2\\\\\n",
       "\t10 & 0 & 0 & 0 & 0 & 0 & 0 & 1 & 0 & 0 & 1 & 0 & 0 & 1 & 1\\\\\n",
       "\t11 & 0 & 1 & 1 & 1 & 0 & 0 & 0 & 1 & 0 & 0 & 0 & 0 & 0 & 1\\\\\n",
       "\t12 & 0 & 0 & 0 & 0 & 0 & 0 & 1 & 0 & 0 & 0 & 0 & 0 & 1 & 1\\\\\n",
       "\t13 & 2 & 0 & 0 & 0 & 1 & 1 & 0 & 0 & 0 & 0 & 0 & 1 & 0 & 0\\\\\n",
       "\t14 & 1 & 1 & 0 & 0 & 0 & 1 & 0 & 0 & 0 & 1 & 0 & 0 & 0 & 0\\\\\n",
       "\t15 & 0 & 0 & 0 & 0 & 1 & 0 & 1 & 0 & 0 & 1 & 0 & 0 & 0 & 1\\\\\n",
       "\t1 & 0 & 0 & 0 & 0 & 0 & 0 & 0 & 0 & 0 & 0 & 0 & 0 & 0 & 0\\\\\n",
       "\\end{tabular}\n"
      ],
      "text/markdown": [
       "\n",
       "A matrix: 14 × 14 of type dbl\n",
       "\n",
       "| <!--/--> | 2 | 3 | 5 | 6 | 7 | 8 | 9 | 10 | 11 | 12 | 13 | 14 | 15 | 1 |\n",
       "|---|---|---|---|---|---|---|---|---|---|---|---|---|---|---|\n",
       "| 2 | 0 | 0 | 0 | 0 | 1 | 1 | 0 | 0 | 0 | 0 | 2 | 1 | 0 | 1 |\n",
       "| 3 | 0 | 0 | 1 | 1 | 0 | 0 | 0 | 0 | 1 | 0 | 0 | 1 | 1 | 0 |\n",
       "| 5 | 0 | 1 | 0 | 1 | 0 | 1 | 0 | 1 | 2 | 0 | 0 | 0 | 0 | 1 |\n",
       "| 6 | 0 | 2 | 1 | 0 | 1 | 0 | 0 | 1 | 1 | 1 | 0 | 0 | 0 | 1 |\n",
       "| 7 | 1 | 0 | 0 | 0 | 0 | 1 | 0 | 0 | 0 | 0 | 1 | 1 | 0 | 0 |\n",
       "| 8 | 1 | 0 | 1 | 0 | 1 | 0 | 0 | 0 | 0 | 0 | 1 | 1 | 1 | 0 |\n",
       "| 9 | 0 | 1 | 0 | 0 | 0 | 0 | 0 | 2 | 0 | 2 | 0 | 0 | 2 | 2 |\n",
       "| 10 | 0 | 0 | 0 | 0 | 0 | 0 | 1 | 0 | 0 | 1 | 0 | 0 | 1 | 1 |\n",
       "| 11 | 0 | 1 | 1 | 1 | 0 | 0 | 0 | 1 | 0 | 0 | 0 | 0 | 0 | 1 |\n",
       "| 12 | 0 | 0 | 0 | 0 | 0 | 0 | 1 | 0 | 0 | 0 | 0 | 0 | 1 | 1 |\n",
       "| 13 | 2 | 0 | 0 | 0 | 1 | 1 | 0 | 0 | 0 | 0 | 0 | 1 | 0 | 0 |\n",
       "| 14 | 1 | 1 | 0 | 0 | 0 | 1 | 0 | 0 | 0 | 1 | 0 | 0 | 0 | 0 |\n",
       "| 15 | 0 | 0 | 0 | 0 | 1 | 0 | 1 | 0 | 0 | 1 | 0 | 0 | 0 | 1 |\n",
       "| 1 | 0 | 0 | 0 | 0 | 0 | 0 | 0 | 0 | 0 | 0 | 0 | 0 | 0 | 0 |\n",
       "\n"
      ],
      "text/plain": [
       "   2 3 5 6 7 8 9 10 11 12 13 14 15 1\n",
       "2  0 0 0 0 1 1 0 0  0  0  2  1  0  1\n",
       "3  0 0 1 1 0 0 0 0  1  0  0  1  1  0\n",
       "5  0 1 0 1 0 1 0 1  2  0  0  0  0  1\n",
       "6  0 2 1 0 1 0 0 1  1  1  0  0  0  1\n",
       "7  1 0 0 0 0 1 0 0  0  0  1  1  0  0\n",
       "8  1 0 1 0 1 0 0 0  0  0  1  1  1  0\n",
       "9  0 1 0 0 0 0 0 2  0  2  0  0  2  2\n",
       "10 0 0 0 0 0 0 1 0  0  1  0  0  1  1\n",
       "11 0 1 1 1 0 0 0 1  0  0  0  0  0  1\n",
       "12 0 0 0 0 0 0 1 0  0  0  0  0  1  1\n",
       "13 2 0 0 0 1 1 0 0  0  0  0  1  0  0\n",
       "14 1 1 0 0 0 1 0 0  0  1  0  0  0  0\n",
       "15 0 0 0 0 1 0 1 0  0  1  0  0  0  1\n",
       "1  0 0 0 0 0 0 0 0  0  0  0  0  0  0"
      ]
     },
     "metadata": {},
     "output_type": "display_data"
    }
   ],
   "source": [
    "friend_net_adj_mat = as_adjacency_matrix(friend_net, \n",
    "                                         sparse=FALSE, \n",
    "                                         attr = 'friend_tie')\n",
    "friend_net_adj_mat"
   ]
  },
  {
   "cell_type": "markdown",
   "metadata": {},
   "source": [
    "Step 2: compute cosine similarity between nodes based on\n",
    "both incoming and outgoing connections\n",
    "Note: since simil() f. computes similarity between vectors \n",
    "in rows of the given matrix, to compute:\n",
    "- similarity based on outgoing connections, we can use the matrix \n",
    "  directly (as is) \n",
    "- similarity based on incoming connections, we need to transpose \n",
    "  the adj. matrix before using it as input for the simil f. "
   ]
  },
  {
   "cell_type": "code",
   "execution_count": 94,
   "metadata": {},
   "outputs": [],
   "source": [
    "friend_net_out_sim <- as.matrix(simil(friend_net_adj_mat, method = 'cosine'), diag=1)\n",
    "friend_net_in_sim <- as.matrix(simil(t(friend_net_adj_mat), method = 'cosine'), diag=1)"
   ]
  },
  {
   "cell_type": "markdown",
   "metadata": {},
   "source": [
    "Combine the two similarity matrices by averaging them\n",
    "(other options - sum, prod, min, max - are also possible)"
   ]
  },
  {
   "cell_type": "code",
   "execution_count": 95,
   "metadata": {},
   "outputs": [],
   "source": [
    "friend_net_sim_mat <- (friend_net_in_sim + friend_net_out_sim)/2"
   ]
  },
  {
   "cell_type": "markdown",
   "metadata": {},
   "source": [
    "Step 3: create distance matrix, required by the clustering function"
   ]
  },
  {
   "cell_type": "code",
   "execution_count": 96,
   "metadata": {},
   "outputs": [],
   "source": [
    "friend_net_dist_mat <- 1 - friend_net_sim_mat"
   ]
  },
  {
   "cell_type": "markdown",
   "metadata": {},
   "source": [
    "Step 4: use the hclust f. to do the clustering"
   ]
  },
  {
   "cell_type": "code",
   "execution_count": 97,
   "metadata": {},
   "outputs": [],
   "source": [
    "friend_net_hc <- hclust(as.dist(friend_net_dist_mat), method = \"ward.D2\")"
   ]
  },
  {
   "cell_type": "markdown",
   "metadata": {},
   "source": [
    "Step 5: plot the dendrogram"
   ]
  },
  {
   "cell_type": "code",
   "execution_count": 98,
   "metadata": {},
   "outputs": [
    {
     "data": {
      "image/png": "[encoded data removed]",
      "text/plain": [
       "plot without title"
      ]
     },
     "metadata": {
      "image/png": {
       "height": 420,
       "width": 420
      }
     },
     "output_type": "display_data"
    }
   ],
   "source": [
    "fviz_dend(friend_net_hc)"
   ]
  },
  {
   "cell_type": "markdown",
   "metadata": {},
   "source": [
    "Step 6: Choose the best number of clusters by examining the structure \n",
    "of the dendrogram and modularity of the candidate solutions \n",
    "Note: the modularity() function will disregard the direction of edges\n",
    "\n",
    "2 clusters:"
   ]
  },
  {
   "cell_type": "code",
   "execution_count": 99,
   "metadata": {},
   "outputs": [
    {
     "data": {
      "text/html": [
       "0.317247658688866"
      ],
      "text/latex": [
       "0.317247658688866"
      ],
      "text/markdown": [
       "0.317247658688866"
      ],
      "text/plain": [
       "[1] 0.3172477"
      ]
     },
     "metadata": {},
     "output_type": "display_data"
    }
   ],
   "source": [
    "modularity(friend_net, cutree(friend_net_hc, k = 2))"
   ]
  },
  {
   "cell_type": "markdown",
   "metadata": {},
   "source": [
    "3 clusters:"
   ]
  },
  {
   "cell_type": "code",
   "execution_count": 100,
   "metadata": {},
   "outputs": [
    {
     "data": {
      "text/html": [
       "0.374739854318418"
      ],
      "text/latex": [
       "0.374739854318418"
      ],
      "text/markdown": [
       "0.374739854318418"
      ],
      "text/plain": [
       "[1] 0.3747399"
      ]
     },
     "metadata": {},
     "output_type": "display_data"
    }
   ],
   "source": [
    "modularity(friend_net, cutree(friend_net_hc, k = 3))"
   ]
  },
  {
   "cell_type": "markdown",
   "metadata": {},
   "source": [
    "Based on the modularity scores, 3 clusters is the better option. \n",
    "Use colors to visualise clusters"
   ]
  },
  {
   "cell_type": "code",
   "execution_count": 101,
   "metadata": {},
   "outputs": [
    {
     "data": {
      "image/png": "[encoded data removed]",
      "text/plain": [
       "plot without title"
      ]
     },
     "metadata": {
      "image/png": {
       "height": 420,
       "width": 420
      }
     },
     "output_type": "display_data"
    }
   ],
   "source": [
    "fviz_dend(friend_net_hc, k = 3)"
   ]
  },
  {
   "cell_type": "markdown",
   "metadata": {},
   "source": [
    "Step 7: get cluster assignments by cutting the dendrogram into 3 clusters"
   ]
  },
  {
   "cell_type": "code",
   "execution_count": 102,
   "metadata": {},
   "outputs": [],
   "source": [
    "friend_net_clust = cutree(friend_net_hc, k = 3)"
   ]
  },
  {
   "cell_type": "markdown",
   "metadata": {},
   "source": [
    "Plot graph with clusters"
   ]
  },
  {
   "cell_type": "code",
   "execution_count": 103,
   "metadata": {},
   "outputs": [
    {
     "data": {
      "image/png": "[encoded data removed]",
      "text/plain": [
       "Plot with title \"Communities detected in directed weighted friendship network\n",
       " using Agglomerative Hierarchical clustering\""
      ]
     },
     "metadata": {
      "image/png": {
       "height": 420,
       "width": 420
      }
     },
     "output_type": "display_data"
    }
   ],
   "source": [
    "plot(friend_net, \n",
    "     vertex.color=c('gold', 'steelblue2', 'plum')[friend_net_clust], \n",
    "     edge.width = E(friend_net)$friend_tie * 1.75,\n",
    "     edge.color = 'midnightblue',\n",
    "     edge.arrow.size = 0.3,\n",
    "     main=\"Communities detected in directed weighted friendship network\\n using Agglomerative Hierarchical clustering\")"
   ]
  },
  {
   "cell_type": "markdown",
   "metadata": {},
   "source": [
    "Add modularity to the modularity_scores list"
   ]
  },
  {
   "cell_type": "code",
   "execution_count": 104,
   "metadata": {},
   "outputs": [],
   "source": [
    "modularity_scores$HC_weighted <- modularity(friend_net, friend_net_clust)"
   ]
  },
  {
   "cell_type": "markdown",
   "metadata": {},
   "source": [
    "#### 3F. EDGE BETWEENNESS (EB) APPLIED TO DIRECTED GRAPHS "
   ]
  },
  {
   "cell_type": "markdown",
   "metadata": {},
   "source": [
    "The EB community detection method is one of few that can be applied to directed graphs\n",
    "(though the implementation is far from perfect as you'll see in the warning messages).\n",
    "It also allows for the inclusion of edge weights. Here, it is important to note that\n",
    "\"edges are interpreted as distances, not as connection strengths\""
   ]
  },
  {
   "cell_type": "code",
   "execution_count": 105,
   "metadata": {},
   "outputs": [],
   "source": [
    "?cluster_edge_betweenness"
   ]
  },
  {
   "cell_type": "code",
   "execution_count": 106,
   "metadata": {},
   "outputs": [
    {
     "name": "stderr",
     "output_type": "stream",
     "text": [
      "Warning message in cluster_edge_betweenness(friend_net, directed = TRUE, weights = 1/E(friend_net)$friend_tie):\n",
      "\"At community.c:460 :Membership vector will be selected based on the lowest modularity score.\"\n",
      "Warning message in cluster_edge_betweenness(friend_net, directed = TRUE, weights = 1/E(friend_net)$friend_tie):\n",
      "\"At community.c:467 :Modularity calculation with weighted edge betweenness community detection might not make sense -- modularity treats edge weights as similarities while edge betwenness treats them as distances\"\n"
     ]
    },
    {
     "data": {
      "text/plain": [
       "IGRAPH clustering edge betweenness, groups: 2, mod: 0.31\n",
       "+ groups:\n",
       "  $`1`\n",
       "  [1] \"2\"  \"7\"  \"8\"  \"13\" \"14\"\n",
       "  \n",
       "  $`2`\n",
       "  [1] \"3\"  \"5\"  \"6\"  \"9\"  \"10\" \"11\" \"12\" \"15\" \"1\" \n",
       "  "
      ]
     },
     "metadata": {},
     "output_type": "display_data"
    }
   ],
   "source": [
    "friend_dir_eb <- cluster_edge_betweenness(friend_net, \n",
    "                                           directed = TRUE,\n",
    "                                           weights = 1/E(friend_net)$friend_tie)\n",
    "friend_dir_eb"
   ]
  },
  {
   "cell_type": "code",
   "execution_count": 107,
   "metadata": {},
   "outputs": [
    {
     "data": {
      "image/png": "[encoded data removed]",
      "text/plain": [
       "Plot with title \"Communities detected in directed weighted friendship network\n",
       " using EB method\""
      ]
     },
     "metadata": {
      "image/png": {
       "height": 420,
       "width": 420
      }
     },
     "output_type": "display_data"
    }
   ],
   "source": [
    "cross_community_edges <- crossing(friend_dir_eb, friend_net)\n",
    "edge_colors <- c('midnightblue', 'firebrick4')[cross_community_edges + 1]\n",
    "plot(friend_net, \n",
    "     layout=layout_with_fr(friend_net),\n",
    "     vertex.color=membership(friend_dir_eb),\n",
    "     edge.color = edge_colors,\n",
    "     edge.arrow.size = 0.3,\n",
    "     main=\"Communities detected in directed weighted friendship network\\n using EB method\")"
   ]
  },
  {
   "cell_type": "code",
   "execution_count": 108,
   "metadata": {},
   "outputs": [],
   "source": [
    "modularity_scores$EB_dir_wt <- modularity(friend_dir_eb)"
   ]
  },
  {
   "cell_type": "markdown",
   "metadata": {},
   "source": [
    "#### 3G. COMPARE THE PERFORMANCE OF THE USED COMMUNITY DETECTION ALGORITHMS "
   ]
  },
  {
   "cell_type": "markdown",
   "metadata": {},
   "source": [
    "Let's examine the collected modularity scores:"
   ]
  },
  {
   "cell_type": "code",
   "execution_count": 109,
   "metadata": {},
   "outputs": [
    {
     "data": {
      "text/html": [
       "<dl>\n",
       "\t<dt>$EB</dt>\n",
       "\t\t<dd>0.279761904761905</dd>\n",
       "\t<dt>$Louvain</dt>\n",
       "\t\t<dd>0.269557823129252</dd>\n",
       "\t<dt>$Louvain_weighted</dt>\n",
       "\t\t<dd>0.32923781757601</dd>\n",
       "\t<dt>$WT_4steps</dt>\n",
       "\t\t<dd>0.26955783367157</dd>\n",
       "\t<dt>$WT_3steps</dt>\n",
       "\t\t<dd>0.279761910438538</dd>\n",
       "\t<dt>$WT_weighted</dt>\n",
       "\t\t<dd>0.329237818717957</dd>\n",
       "\t<dt>$HC</dt>\n",
       "\t\t<dd>0.269557823129252</dd>\n",
       "\t<dt>$HC_weighted</dt>\n",
       "\t\t<dd>0.374739854318418</dd>\n",
       "\t<dt>$EB_dir_wt</dt>\n",
       "\t\t<dd>0.311385255648038</dd>\n",
       "</dl>\n"
      ],
      "text/latex": [
       "\\begin{description}\n",
       "\\item[\\$EB] 0.279761904761905\n",
       "\\item[\\$Louvain] 0.269557823129252\n",
       "\\item[\\$Louvain\\_weighted] 0.32923781757601\n",
       "\\item[\\$WT\\_4steps] 0.26955783367157\n",
       "\\item[\\$WT\\_3steps] 0.279761910438538\n",
       "\\item[\\$WT\\_weighted] 0.329237818717957\n",
       "\\item[\\$HC] 0.269557823129252\n",
       "\\item[\\$HC\\_weighted] 0.374739854318418\n",
       "\\item[\\$EB\\_dir\\_wt] 0.311385255648038\n",
       "\\end{description}\n"
      ],
      "text/markdown": [
       "$EB\n",
       ":   0.279761904761905\n",
       "$Louvain\n",
       ":   0.269557823129252\n",
       "$Louvain_weighted\n",
       ":   0.32923781757601\n",
       "$WT_4steps\n",
       ":   0.26955783367157\n",
       "$WT_3steps\n",
       ":   0.279761910438538\n",
       "$WT_weighted\n",
       ":   0.329237818717957\n",
       "$HC\n",
       ":   0.269557823129252\n",
       "$HC_weighted\n",
       ":   0.374739854318418\n",
       "$EB_dir_wt\n",
       ":   0.311385255648038\n",
       "\n",
       "\n"
      ],
      "text/plain": [
       "$EB\n",
       "[1] 0.2797619\n",
       "\n",
       "$Louvain\n",
       "[1] 0.2695578\n",
       "\n",
       "$Louvain_weighted\n",
       "[1] 0.3292378\n",
       "\n",
       "$WT_4steps\n",
       "[1] 0.2695578\n",
       "\n",
       "$WT_3steps\n",
       "[1] 0.2797619\n",
       "\n",
       "$WT_weighted\n",
       "[1] 0.3292378\n",
       "\n",
       "$HC\n",
       "[1] 0.2695578\n",
       "\n",
       "$HC_weighted\n",
       "[1] 0.3747399\n",
       "\n",
       "$EB_dir_wt\n",
       "[1] 0.3113853\n"
      ]
     },
     "metadata": {},
     "output_type": "display_data"
    }
   ],
   "source": [
    "modularity_scores"
   ]
  },
  {
   "cell_type": "markdown",
   "metadata": {},
   "source": [
    "Based on the modularity scores, for the undirected graph, the best solutions \n",
    "are those generated by the Louvain and Walktrap algorithms"
   ]
  },
  {
   "cell_type": "code",
   "execution_count": 110,
   "metadata": {},
   "outputs": [
    {
     "data": {
      "text/plain": [
       "IGRAPH clustering multi level, groups: 3, mod: 0.33\n",
       "+ groups:\n",
       "  $`1`\n",
       "  [1] \"3\"  \"5\"  \"6\"  \"11\"\n",
       "  \n",
       "  $`2`\n",
       "  [1] \"9\"  \"10\" \"12\" \"15\" \"1\" \n",
       "  \n",
       "  $`3`\n",
       "  [1] \"2\"  \"7\"  \"8\"  \"13\" \"14\"\n",
       "  "
      ]
     },
     "metadata": {},
     "output_type": "display_data"
    },
    {
     "data": {
      "text/plain": [
       "IGRAPH clustering walktrap, groups: 3, mod: 0.33\n",
       "+ groups:\n",
       "  $`1`\n",
       "  [1] \"2\"  \"7\"  \"8\"  \"13\" \"14\"\n",
       "  \n",
       "  $`2`\n",
       "  [1] \"9\"  \"10\" \"12\" \"15\" \"1\" \n",
       "  \n",
       "  $`3`\n",
       "  [1] \"3\"  \"5\"  \"6\"  \"11\"\n",
       "  "
      ]
     },
     "metadata": {},
     "output_type": "display_data"
    }
   ],
   "source": [
    "friend_comm_Louvain_w\n",
    "friend_comm_wt_weighted"
   ]
  },
  {
   "cell_type": "markdown",
   "metadata": {},
   "source": [
    "For directed graph, the best result was obtained with the hierarchical clustering"
   ]
  },
  {
   "cell_type": "code",
   "execution_count": 111,
   "metadata": {},
   "outputs": [
    {
     "data": {
      "text/html": [
       "<style>\n",
       ".dl-inline {width: auto; margin:0; padding: 0}\n",
       ".dl-inline>dt, .dl-inline>dd {float: none; width: auto; display: inline-block}\n",
       ".dl-inline>dt::after {content: \":\\0020\"; padding-right: .5ex}\n",
       ".dl-inline>dt:not(:first-of-type) {padding-left: .5ex}\n",
       "</style><dl class=dl-inline><dt>2</dt><dd>1</dd><dt>3</dt><dd>2</dd><dt>5</dt><dd>2</dd><dt>6</dt><dd>2</dd><dt>7</dt><dd>1</dd><dt>8</dt><dd>1</dd><dt>9</dt><dd>3</dd><dt>10</dt><dd>3</dd><dt>11</dt><dd>2</dd><dt>12</dt><dd>3</dd><dt>13</dt><dd>1</dd><dt>14</dt><dd>1</dd><dt>15</dt><dd>3</dd><dt>1</dt><dd>3</dd></dl>\n"
      ],
      "text/latex": [
       "\\begin{description*}\n",
       "\\item[2] 1\n",
       "\\item[3] 2\n",
       "\\item[5] 2\n",
       "\\item[6] 2\n",
       "\\item[7] 1\n",
       "\\item[8] 1\n",
       "\\item[9] 3\n",
       "\\item[10] 3\n",
       "\\item[11] 2\n",
       "\\item[12] 3\n",
       "\\item[13] 1\n",
       "\\item[14] 1\n",
       "\\item[15] 3\n",
       "\\item[1] 3\n",
       "\\end{description*}\n"
      ],
      "text/markdown": [
       "2\n",
       ":   13\n",
       ":   25\n",
       ":   26\n",
       ":   27\n",
       ":   18\n",
       ":   19\n",
       ":   310\n",
       ":   311\n",
       ":   212\n",
       ":   313\n",
       ":   114\n",
       ":   115\n",
       ":   31\n",
       ":   3\n",
       "\n"
      ],
      "text/plain": [
       " 2  3  5  6  7  8  9 10 11 12 13 14 15  1 \n",
       " 1  2  2  2  1  1  3  3  2  3  1  1  3  3 "
      ]
     },
     "metadata": {},
     "output_type": "display_data"
    }
   ],
   "source": [
    "friend_net_clust"
   ]
  },
  {
   "cell_type": "markdown",
   "metadata": {},
   "source": [
    "as all three algorithms lead to the same communities, we can assume that it is the\n",
    "the best community structure for the given (friendship) network"
   ]
  },
  {
   "cell_type": "markdown",
   "metadata": {},
   "source": [
    "### TASK: \n",
    "identify communities - using the above examined community detection algorithms - \n",
    "in at least one of the other two networks: social_net and task_net.\n"
   ]
  },
  {
   "cell_type": "code",
   "execution_count": null,
   "metadata": {},
   "outputs": [],
   "source": []
  }
 ],
 "metadata": {
  "kernelspec": {
   "display_name": "R",
   "language": "R",
   "name": "ir"
  },
  "language_info": {
   "codemirror_mode": "r",
   "file_extension": ".r",
   "mimetype": "text/x-r-source",
   "name": "R",
   "pygments_lexer": "r",
   "version": "4.0.3"
  }
 },
 "nbformat": 4,
 "nbformat_minor": 2
}
