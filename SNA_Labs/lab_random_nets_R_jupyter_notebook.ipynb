{
 "cells": [
  {
   "cell_type": "markdown",
   "metadata": {},
   "source": [
    "## Random networks"
   ]
  },
  {
   "cell_type": "markdown",
   "metadata": {},
   "source": [
    "This notebook contains additional material about random graphs. The aim is to introduce a few simple random realisations of graphs that can serve as null model for comparison against measures of the network observed in the data."
   ]
  },
  {
   "cell_type": "markdown",
   "metadata": {},
   "source": [
    "We will use previously introduced libraries: *igraph* (to generate and analyze networks) and *ggplot2* (to visualize results)."
   ]
  },
  {
   "cell_type": "code",
   "execution_count": 2,
   "metadata": {},
   "outputs": [],
   "source": [
    "library(igraph)\n",
    "library(ggplot2)"
   ]
  },
  {
   "cell_type": "markdown",
   "metadata": {},
   "source": [
    "Set the seed to make sure the results below are reproducible:"
   ]
  },
  {
   "cell_type": "code",
   "execution_count": 3,
   "metadata": {},
   "outputs": [],
   "source": [
    "seed <- 612"
   ]
  },
  {
   "cell_type": "markdown",
   "metadata": {},
   "source": [
    "To illustrate the usefulness of random networks, we will focus on a single previously analyzed network - friendship network. We first load it and remind ourselves of its size using ```summary```:"
   ]
  },
  {
   "cell_type": "code",
   "execution_count": 4,
   "metadata": {},
   "outputs": [],
   "source": [
    "data_dir = \"output/lab1/\""
   ]
  },
  {
   "cell_type": "code",
   "execution_count": 5,
   "metadata": {},
   "outputs": [
    {
     "name": "stdout",
     "output_type": "stream",
     "text": [
      "IGRAPH 6f85218 DN-- 21 102 -- \n",
      "+ attr: AGE (v/n), TENURE (v/n), LEVEL (v/n), DEPT (v/n), name (v/n)\n"
     ]
    }
   ],
   "source": [
    "krack_friendship <- readRDS(paste0(data_dir, \"krack_friendship.RData\"))\n",
    "summary(krack_friendship)"
   ]
  },
  {
   "cell_type": "markdown",
   "metadata": {},
   "source": [
    "Discussed ideas can be applied to directed networks as well, but it is more illustrative and clear if we work with undirected networks first, so let's create an undirected friendship network:"
   ]
  },
  {
   "cell_type": "code",
   "execution_count": 6,
   "metadata": {},
   "outputs": [
    {
     "name": "stdout",
     "output_type": "stream",
     "text": [
      "IGRAPH fc2f4d3 UN-- 21 79 -- \n",
      "+ attr: AGE (v/n), TENURE (v/n), LEVEL (v/n), DEPT (v/n), name (v/n)\n"
     ]
    }
   ],
   "source": [
    "krack_friendship_undirect <- as.undirected(krack_friendship, \n",
    "                                           mode = \"collapse\") #try also with mode = 'mutual' that will create even less links\n",
    "summary(krack_friendship_undirect)"
   ]
  },
  {
   "cell_type": "markdown",
   "metadata": {},
   "source": [
    "As noted in our previous analysis, this reduces the number of links (as links from A to B and from B to A will be collapsed into a single undirected link between A and B)."
   ]
  },
  {
   "cell_type": "markdown",
   "metadata": {},
   "source": [
    "We will plot networks a few times below, so let's make a simple plotting function for those purposes: "
   ]
  },
  {
   "cell_type": "code",
   "execution_count": 7,
   "metadata": {},
   "outputs": [],
   "source": [
    "plot_graph <- function(g, title) {\n",
    "  plot(g, \n",
    "       layout=layout_nicely(g),\n",
    "       vertex.size = 1.5 * degree(g),\n",
    "       vertex.label.cex\t= 0.15 * degree(g),\n",
    "       main=title)\n",
    "}"
   ]
  },
  {
   "cell_type": "markdown",
   "metadata": {},
   "source": [
    "Let's try the function and plot the undirected friendship network:"
   ]
  },
  {
   "cell_type": "code",
   "execution_count": 8,
   "metadata": {
    "scrolled": false
   },
   "outputs": [
    {
     "data": {
      "image/png": "[encoded data removed]",
      "text/plain": [
       "Plot with title \"Friendship network\""
      ]
     },
     "metadata": {
      "image/png": {
       "height": 420,
       "width": 420
      }
     },
     "output_type": "display_data"
    }
   ],
   "source": [
    "plot_graph(krack_friendship_undirect,'Friendship network')"
   ]
  },
  {
   "cell_type": "markdown",
   "metadata": {},
   "source": [
    "No surprises here, we've seen this network previously. Now, we want to see how this network compares to a randomly generated network. "
   ]
  },
  {
   "cell_type": "markdown",
   "metadata": {},
   "source": [
    "### Random graphs with the preserved average degree"
   ]
  },
  {
   "cell_type": "markdown",
   "metadata": {},
   "source": [
    "*igraph* has a few network generative functions and among them Erdos Renyi random graphs that we will use first. \n",
    "As usual, you can first inspect documentation of the function:"
   ]
  },
  {
   "cell_type": "code",
   "execution_count": null,
   "metadata": {},
   "outputs": [],
   "source": [
    "?erdos.renyi.game"
   ]
  },
  {
   "cell_type": "markdown",
   "metadata": {},
   "source": [
    "Besides the number of nodes, the key arguments are either the exact number of links we expect (in which case besides the number of links, we should pass the argument *type = 'gnm'* to the function) or the probability that the link is created between two randomly samples nodes (in which case besides probability, we pass arg *type = 'gnp'*). Let's try first 'gnm' type of random network:"
   ]
  },
  {
   "cell_type": "code",
   "execution_count": 9,
   "metadata": {},
   "outputs": [
    {
     "name": "stdout",
     "output_type": "stream",
     "text": [
      "IGRAPH 13c8ceb U--- 21 79 -- Erdos renyi (gnm) graph\n",
      "+ attr: name (g/c), type (g/c), loops (g/l), m (g/n)\n"
     ]
    }
   ],
   "source": [
    "random_net_gnm = erdos.renyi.game(vcount(krack_friendship_undirect), ecount(krack_friendship_undirect),type='gnm')\n",
    "summary(random_net_gnm)"
   ]
  },
  {
   "cell_type": "markdown",
   "metadata": {},
   "source": [
    "As we wanted, it has the same number of nodes and edges as the friendship network (that we enforced passing vcount and ecount values as arguments of the ```erdos.renyi.game``` function. Let's plot it to see if we can observe some differences:"
   ]
  },
  {
   "cell_type": "code",
   "execution_count": 10,
   "metadata": {
    "scrolled": false
   },
   "outputs": [
    {
     "data": {
      "image/png": "[encoded data removed]",
      "text/plain": [
       "Plot with title \"Random network GNM type\""
      ]
     },
     "metadata": {
      "image/png": {
       "height": 420,
       "width": 420
      }
     },
     "output_type": "display_data"
    }
   ],
   "source": [
    "plot_graph(random_net_gnm,'Random network GNM type')"
   ]
  },
  {
   "cell_type": "markdown",
   "metadata": {},
   "source": [
    "Already visually we can note that the node with the most neighbours changed, and its number of neighbours is different than max degree before (compare the largest node circles above and here).\n",
    "\n",
    "We can repeat the process and create a few more realisation of this network:"
   ]
  },
  {
   "cell_type": "code",
   "execution_count": 11,
   "metadata": {},
   "outputs": [
    {
     "data": {
      "image/png": "[encoded data removed]",
      "text/plain": [
       "Plot with title \"Random network GNM type\""
      ]
     },
     "metadata": {
      "image/png": {
       "height": 420,
       "width": 420
      }
     },
     "output_type": "display_data"
    }
   ],
   "source": [
    "set.seed(seed)\n",
    "random_net_gnm = erdos.renyi.game(vcount(krack_friendship_undirect), ecount(krack_friendship_undirect),type='gnm')\n",
    "plot_graph(random_net_gnm,'Random network GNM type')"
   ]
  },
  {
   "cell_type": "markdown",
   "metadata": {},
   "source": [
    "Note: even after a few reruns, we see that a node that has only 2 friends (that exist in our original network) occurs rarely in the random realisations."
   ]
  },
  {
   "cell_type": "markdown",
   "metadata": {},
   "source": [
    "The average degree is exactly the same between *krack_friendship_undirect* and *random_net_gnm* networks (by construction), but other summary statistics such as median, standard deviation, etc, are not (check this out for yourselves):"
   ]
  },
  {
   "cell_type": "code",
   "execution_count": 12,
   "metadata": {},
   "outputs": [
    {
     "data": {
      "text/html": [
       "7.52380952380952"
      ],
      "text/latex": [
       "7.52380952380952"
      ],
      "text/markdown": [
       "7.52380952380952"
      ],
      "text/plain": [
       "[1] 7.52381"
      ]
     },
     "metadata": {},
     "output_type": "display_data"
    }
   ],
   "source": [
    "mean(degree(krack_friendship_undirect))\n",
    "#sd(degree(krack_friendship_undirect))"
   ]
  },
  {
   "cell_type": "code",
   "execution_count": 13,
   "metadata": {},
   "outputs": [
    {
     "data": {
      "text/html": [
       "7.52380952380952"
      ],
      "text/latex": [
       "7.52380952380952"
      ],
      "text/markdown": [
       "7.52380952380952"
      ],
      "text/plain": [
       "[1] 7.52381"
      ]
     },
     "metadata": {},
     "output_type": "display_data"
    }
   ],
   "source": [
    "mean(degree(random_net_gnm))\n",
    "#sd(degree(random_net_gnm))"
   ]
  },
  {
   "cell_type": "markdown",
   "metadata": {},
   "source": [
    "Another possible random network realisation assumes that we relax requirement on the number of links. Instead of requiring a network with exactly N nodes and L links, we create a random network whose expected value of links is L, but in any single random network realisation, it can be slightly above or below L. We can do this using the 'gnp' option of ```erdos.renyi.game``` and using parameter p, or probability that there is a link between two nodes whose value is the density of the original graph:"
   ]
  },
  {
   "cell_type": "code",
   "execution_count": 14,
   "metadata": {},
   "outputs": [],
   "source": [
    "n = vcount(krack_friendship_undirect)\n",
    "l = ecount(krack_friendship_undirect)\n",
    "p = l/(0.5*n*(n-1)) "
   ]
  },
  {
   "cell_type": "markdown",
   "metadata": {},
   "source": [
    "Let's create this new random network and visualize it:"
   ]
  },
  {
   "cell_type": "code",
   "execution_count": 15,
   "metadata": {
    "scrolled": false
   },
   "outputs": [
    {
     "name": "stdout",
     "output_type": "stream",
     "text": [
      "IGRAPH 3878cb8 U--- 21 75 -- Erdos renyi (gnp) graph\n",
      "+ attr: name (g/c), type (g/c), loops (g/l), p (g/n)\n"
     ]
    },
    {
     "data": {
      "image/png": "[encoded data removed]",
      "text/plain": [
       "Plot with title \"Random network GNP type\""
      ]
     },
     "metadata": {
      "image/png": {
       "height": 420,
       "width": 420
      }
     },
     "output_type": "display_data"
    }
   ],
   "source": [
    "set.seed(seed)\n",
    "random_net_gnp = erdos.renyi.game(n, p, type='gnp')\n",
    "summary(random_net_gnp)\n",
    "plot_graph(random_net_gnp,'Random network GNP type')"
   ]
  },
  {
   "cell_type": "markdown",
   "metadata": {},
   "source": [
    "Running the previous block of code several times (comment seed command), you can note the variability in the number of links and visually note graph differences. Now, as the number of links is often smaller than in the original graph, there are situations where some nodes have only two connections (the situation we've observed in the original network), but still, nodes with most connections have fewer connections than the most popular node in the original network.\n",
    "\n",
    "Let's have a look at the degree distributions. We first create a dataframe containing the data, and then we plot the distributions using histograms as before."
   ]
  },
  {
   "cell_type": "code",
   "execution_count": 16,
   "metadata": {
    "scrolled": false
   },
   "outputs": [
    {
     "data": {
      "text/html": [
       "<table>\n",
       "<caption>A data.frame: 6 × 2</caption>\n",
       "<thead>\n",
       "\t<tr><th></th><th scope=col>network_type</th><th scope=col>degree_values</th></tr>\n",
       "\t<tr><th></th><th scope=col>&lt;chr&gt;</th><th scope=col>&lt;dbl&gt;</th></tr>\n",
       "</thead>\n",
       "<tbody>\n",
       "\t<tr><th scope=row>1</th><td>friendship</td><td> 9</td></tr>\n",
       "\t<tr><th scope=row>2</th><td>friendship</td><td>10</td></tr>\n",
       "\t<tr><th scope=row>3</th><td>friendship</td><td> 6</td></tr>\n",
       "\t<tr><th scope=row>4</th><td>friendship</td><td> 7</td></tr>\n",
       "\t<tr><th scope=row>5</th><td>friendship</td><td>10</td></tr>\n",
       "\t<tr><th scope=row>6</th><td>friendship</td><td> 7</td></tr>\n",
       "</tbody>\n",
       "</table>\n"
      ],
      "text/latex": [
       "A data.frame: 6 × 2\n",
       "\\begin{tabular}{r|ll}\n",
       "  & network\\_type & degree\\_values\\\\\n",
       "  & <chr> & <dbl>\\\\\n",
       "\\hline\n",
       "\t1 & friendship &  9\\\\\n",
       "\t2 & friendship & 10\\\\\n",
       "\t3 & friendship &  6\\\\\n",
       "\t4 & friendship &  7\\\\\n",
       "\t5 & friendship & 10\\\\\n",
       "\t6 & friendship &  7\\\\\n",
       "\\end{tabular}\n"
      ],
      "text/markdown": [
       "\n",
       "A data.frame: 6 × 2\n",
       "\n",
       "| <!--/--> | network_type &lt;chr&gt; | degree_values &lt;dbl&gt; |\n",
       "|---|---|---|\n",
       "| 1 | friendship |  9 |\n",
       "| 2 | friendship | 10 |\n",
       "| 3 | friendship |  6 |\n",
       "| 4 | friendship |  7 |\n",
       "| 5 | friendship | 10 |\n",
       "| 6 | friendship |  7 |\n",
       "\n"
      ],
      "text/plain": [
       "  network_type degree_values\n",
       "1 friendship    9           \n",
       "2 friendship   10           \n",
       "3 friendship    6           \n",
       "4 friendship    7           \n",
       "5 friendship   10           \n",
       "6 friendship    7           "
      ]
     },
     "metadata": {},
     "output_type": "display_data"
    }
   ],
   "source": [
    "network_data <- data.frame(\n",
    "  network_type = c( rep(\"friendship\", n), rep(\"random_gnm\", n), rep(\"random_gnp\", n) ),\n",
    "  degree_values = c( degree(krack_friendship_undirect), degree(random_net_gnm), degree(random_net_gnp) )\n",
    ")\n",
    "head(network_data)"
   ]
  },
  {
   "cell_type": "markdown",
   "metadata": {},
   "source": [
    "Similarly to the codes in previous labs, we now proceed to plot a histogram where we display degree distributions for all networks."
   ]
  },
  {
   "cell_type": "code",
   "execution_count": 17,
   "metadata": {
    "scrolled": false
   },
   "outputs": [
    {
     "data": {
      "image/png": "[encoded data removed]",
      "text/plain": [
       "plot without title"
      ]
     },
     "metadata": {
      "image/png": {
       "height": 420,
       "width": 420
      }
     },
     "output_type": "display_data"
    }
   ],
   "source": [
    "max_degree <- max(network_data$degree_values)\n",
    "min_degree <- min(network_data$degree_values)\n",
    "\n",
    "ggplot(network_data, \n",
    "       mapping = aes(x = degree_values, fill = network_type)) +\n",
    "  geom_histogram(binwidth = 1, \n",
    "                 position = position_identity(),\n",
    "                 #position = position_dodge(),\n",
    "                 alpha=0.5) +\n",
    "  scale_x_continuous(breaks = seq(min_degree,max_degree,2)) +\n",
    "  theme_minimal() +\n",
    "  labs(x = \"Degree value\", title = \"Degree distributions for the Friendship network and random controls\")"
   ]
  },
  {
   "cell_type": "markdown",
   "metadata": {},
   "source": [
    "In this plot we have a confirmation of our previous observation - original friendship network has nodes with the greater and fewer degree."
   ]
  },
  {
   "cell_type": "markdown",
   "metadata": {},
   "source": [
    "Similarly, we can calculate clustering coefficient (using ```transitivity``` function) of each node and look at histograms those values."
   ]
  },
  {
   "cell_type": "code",
   "execution_count": 18,
   "metadata": {},
   "outputs": [
    {
     "data": {
      "text/html": [
       "<table>\n",
       "<caption>A data.frame: 6 × 3</caption>\n",
       "<thead>\n",
       "\t<tr><th></th><th scope=col>network_type</th><th scope=col>degree_values</th><th scope=col>clustering_values</th></tr>\n",
       "\t<tr><th></th><th scope=col>&lt;chr&gt;</th><th scope=col>&lt;dbl&gt;</th><th scope=col>&lt;dbl&gt;</th></tr>\n",
       "</thead>\n",
       "<tbody>\n",
       "\t<tr><th scope=row>58</th><td>random_gnp</td><td> 6</td><td>0.2000000</td></tr>\n",
       "\t<tr><th scope=row>59</th><td>random_gnp</td><td> 9</td><td>0.2500000</td></tr>\n",
       "\t<tr><th scope=row>60</th><td>random_gnp</td><td> 9</td><td>0.3888889</td></tr>\n",
       "\t<tr><th scope=row>61</th><td>random_gnp</td><td>12</td><td>0.3181818</td></tr>\n",
       "\t<tr><th scope=row>62</th><td>random_gnp</td><td> 7</td><td>0.4285714</td></tr>\n",
       "\t<tr><th scope=row>63</th><td>random_gnp</td><td> 9</td><td>0.3888889</td></tr>\n",
       "</tbody>\n",
       "</table>\n"
      ],
      "text/latex": [
       "A data.frame: 6 × 3\n",
       "\\begin{tabular}{r|lll}\n",
       "  & network\\_type & degree\\_values & clustering\\_values\\\\\n",
       "  & <chr> & <dbl> & <dbl>\\\\\n",
       "\\hline\n",
       "\t58 & random\\_gnp &  6 & 0.2000000\\\\\n",
       "\t59 & random\\_gnp &  9 & 0.2500000\\\\\n",
       "\t60 & random\\_gnp &  9 & 0.3888889\\\\\n",
       "\t61 & random\\_gnp & 12 & 0.3181818\\\\\n",
       "\t62 & random\\_gnp &  7 & 0.4285714\\\\\n",
       "\t63 & random\\_gnp &  9 & 0.3888889\\\\\n",
       "\\end{tabular}\n"
      ],
      "text/markdown": [
       "\n",
       "A data.frame: 6 × 3\n",
       "\n",
       "| <!--/--> | network_type &lt;chr&gt; | degree_values &lt;dbl&gt; | clustering_values &lt;dbl&gt; |\n",
       "|---|---|---|---|\n",
       "| 58 | random_gnp |  6 | 0.2000000 |\n",
       "| 59 | random_gnp |  9 | 0.2500000 |\n",
       "| 60 | random_gnp |  9 | 0.3888889 |\n",
       "| 61 | random_gnp | 12 | 0.3181818 |\n",
       "| 62 | random_gnp |  7 | 0.4285714 |\n",
       "| 63 | random_gnp |  9 | 0.3888889 |\n",
       "\n"
      ],
      "text/plain": [
       "   network_type degree_values clustering_values\n",
       "58 random_gnp    6            0.2000000        \n",
       "59 random_gnp    9            0.2500000        \n",
       "60 random_gnp    9            0.3888889        \n",
       "61 random_gnp   12            0.3181818        \n",
       "62 random_gnp    7            0.4285714        \n",
       "63 random_gnp    9            0.3888889        "
      ]
     },
     "metadata": {},
     "output_type": "display_data"
    }
   ],
   "source": [
    "network_data$clustering_values = c( transitivity(krack_friendship_undirect,type='local'), \n",
    "                                   transitivity(random_net_gnm,type='local'), \n",
    "                                   transitivity(random_net_gnp,type='local'))\n",
    "tail(network_data)"
   ]
  },
  {
   "cell_type": "markdown",
   "metadata": {},
   "source": [
    "And this we can also plot using histograms to compare among three random variations:"
   ]
  },
  {
   "cell_type": "code",
   "execution_count": 19,
   "metadata": {
    "scrolled": false
   },
   "outputs": [
    {
     "data": {
      "image/png": "[encoded data removed]",
      "text/plain": [
       "plot without title"
      ]
     },
     "metadata": {
      "image/png": {
       "height": 420,
       "width": 420
      }
     },
     "output_type": "display_data"
    }
   ],
   "source": [
    "ggplot(network_data, \n",
    "       mapping = aes(x = clustering_values, fill = network_type)) +\n",
    "  geom_histogram(binwidth = 0.05, \n",
    "                 position = position_identity(), \n",
    "                 alpha=0.5) +\n",
    "  theme_minimal()"
   ]
  },
  {
   "cell_type": "markdown",
   "metadata": {},
   "source": [
    "We observe that in the real friendship network there is a node with maximal clustering coefficient and that in general, clustering coefficient in the real friendship network is higher than in its random realisations. Let's see if that is visible in the summary statistics such as mean:"
   ]
  },
  {
   "cell_type": "code",
   "execution_count": 20,
   "metadata": {},
   "outputs": [
    {
     "data": {
      "text/html": [
       "0.566051035798935"
      ],
      "text/latex": [
       "0.566051035798935"
      ],
      "text/markdown": [
       "0.566051035798935"
      ],
      "text/plain": [
       "[1] 0.566051"
      ]
     },
     "metadata": {},
     "output_type": "display_data"
    }
   ],
   "source": [
    "mean(transitivity(krack_friendship_undirect,type='local'))"
   ]
  },
  {
   "cell_type": "code",
   "execution_count": 21,
   "metadata": {},
   "outputs": [
    {
     "data": {
      "text/html": [
       "0.390297533154676"
      ],
      "text/latex": [
       "0.390297533154676"
      ],
      "text/markdown": [
       "0.390297533154676"
      ],
      "text/plain": [
       "[1] 0.3902975"
      ]
     },
     "metadata": {},
     "output_type": "display_data"
    }
   ],
   "source": [
    "mean(transitivity(random_net_gnm,type='local'))"
   ]
  },
  {
   "cell_type": "code",
   "execution_count": 22,
   "metadata": {},
   "outputs": [
    {
     "data": {
      "text/html": [
       "0.344176458462173"
      ],
      "text/latex": [
       "0.344176458462173"
      ],
      "text/markdown": [
       "0.344176458462173"
      ],
      "text/plain": [
       "[1] 0.3441765"
      ]
     },
     "metadata": {},
     "output_type": "display_data"
    }
   ],
   "source": [
    "mean(transitivity(random_net_gnp,type='local'))"
   ]
  },
  {
   "cell_type": "markdown",
   "metadata": {},
   "source": [
    "We see that mean local transitivity is higher in real than in the two random networks. Maybe, that is due to just this random realisation we've created and we analyse?\n",
    "\n",
    "To check if that is the case, we can repeat the previous process multiple times and see if we can obtain the clustering coefficient observed in the friendship network.\n",
    "1. we create a random network\n",
    "2. calculate local transitivity for every node\n",
    "3. calculate the mean value within the network\n",
    "4. repeat 1-3"
   ]
  },
  {
   "cell_type": "markdown",
   "metadata": {},
   "source": [
    "We will write this as a function to make it easily applicable for the different network (and easily adaptable if you choose to investigate other properties besides clustering coefficient):"
   ]
  },
  {
   "cell_type": "code",
   "execution_count": 23,
   "metadata": {},
   "outputs": [],
   "source": [
    "transitivity_random_graphs <- function(g, number_repetitions) {\n",
    "    n = vcount(g)\n",
    "    l = ecount(g)\n",
    "    p = l/(0.5*n*(n-1)) \n",
    "    \n",
    "    random_data = array(0,dim=number_repetitions) #empty array to store data from random realisation calculations\n",
    "    \n",
    "    for (i in 1:number_repetitions) {\n",
    "        \n",
    "        # choose one of random network realisation types:\n",
    "        random_net = erdos.renyi.game(n, l,type='gnm')\n",
    "        #random_net = erdos.renyi.game(n, p,type='gnp')\n",
    "        \n",
    "        # here we store mean transitivity data for every generated network, you can calculate any other random network value by changing this line (eg. sd of degrees, mean shortest path,...)\n",
    "        random_data[i] = mean(transitivity(random_net,type='local'))\n",
    "    }\n",
    "    return(random_data)\n",
    "}"
   ]
  },
  {
   "cell_type": "markdown",
   "metadata": {},
   "source": [
    "Let's run this function and calculate local transitivity for 100 different random networks. We will store the function return value in variable *random_clustering*:"
   ]
  },
  {
   "cell_type": "code",
   "execution_count": 24,
   "metadata": {},
   "outputs": [],
   "source": [
    "set.seed(seed)\n",
    "random_clustering = transitivity_random_graphs(krack_friendship_undirect,100)"
   ]
  },
  {
   "cell_type": "markdown",
   "metadata": {},
   "source": [
    "Now, we compare the mean local transitivity found in the friendship network to different mean local transitivities found in the random networks:"
   ]
  },
  {
   "cell_type": "code",
   "execution_count": 25,
   "metadata": {},
   "outputs": [
    {
     "data": {
      "image/png": "[encoded data removed]",
      "text/plain": [
       "Plot with title \"Histogram of random_clustering\""
      ]
     },
     "metadata": {
      "image/png": {
       "height": 420,
       "width": 420
      }
     },
     "output_type": "display_data"
    }
   ],
   "source": [
    "hist(random_clustering,xlim = (0:1))\n",
    "abline(v= mean(transitivity(krack_friendship_undirect,type='local')), col=\"red\")"
   ]
  },
  {
   "cell_type": "markdown",
   "metadata": {},
   "source": [
    "We see that the mean local transitivity is higher in friendship network than in any of the 100 random realisations of networks with the same number of links and nodes (it's similar when L is not fixed but when 'gnp' random nets are used - try!)."
   ]
  },
  {
   "cell_type": "markdown",
   "metadata": {},
   "source": [
    "### Random graphs with preserved degree sequence"
   ]
  },
  {
   "cell_type": "markdown",
   "metadata": {},
   "source": [
    "What if we don't preserve only the average degree in a network but the full sequence of node degrees?"
   ]
  },
  {
   "cell_type": "markdown",
   "metadata": {},
   "source": [
    "This way we take into account node variability (e.g. not everyone is equally friendly) but we still aim to investigate if other network properties (such as other node's centrality measures or transitivity, or paths) are special in our observed network compared to random controls.\n",
    "\n",
    "To create a random graph that preserves degree sequence, we use another built-in functions ```sample_degseq```:"
   ]
  },
  {
   "cell_type": "code",
   "execution_count": 26,
   "metadata": {},
   "outputs": [],
   "source": [
    "?sample_degseq"
   ]
  },
  {
   "cell_type": "code",
   "execution_count": 27,
   "metadata": {},
   "outputs": [
    {
     "name": "stdout",
     "output_type": "stream",
     "text": [
      "IGRAPH 4f57472 U--- 21 79 -- Degree sequence random graph\n",
      "+ attr: name (g/c), method (g/c)\n"
     ]
    }
   ],
   "source": [
    "set.seed(seed)\n",
    "rewired_net = sample_degseq(degree(krack_friendship_undirect), method=\"vl\")\n",
    "summary(rewired_net)"
   ]
  },
  {
   "cell_type": "markdown",
   "metadata": {},
   "source": [
    "As we fixed the degrees for each node, the total number of edges matches the original network. Let's see how this network looks like:"
   ]
  },
  {
   "cell_type": "code",
   "execution_count": 28,
   "metadata": {
    "scrolled": false
   },
   "outputs": [
    {
     "data": {
      "image/png": "[encoded data removed]",
      "text/plain": [
       "Plot with title \"Rewired network preserving degree sequence\""
      ]
     },
     "metadata": {
      "image/png": {
       "height": 420,
       "width": 420
      }
     },
     "output_type": "display_data"
    }
   ],
   "source": [
    "plot_graph(rewired_net,'Rewired network preserving degree sequence')"
   ]
  },
  {
   "cell_type": "markdown",
   "metadata": {},
   "source": [
    "As we preserved degree sequence, all node sizes match the original network plot, but some edges are rewired (can you find some?)."
   ]
  },
  {
   "cell_type": "markdown",
   "metadata": {},
   "source": [
    "For this network, we can calculate degree and local transitivity and compare them to previously discussed networks. We add these values in their own data frame:"
   ]
  },
  {
   "cell_type": "code",
   "execution_count": 29,
   "metadata": {
    "scrolled": false
   },
   "outputs": [
    {
     "data": {
      "text/html": [
       "<table>\n",
       "<caption>A data.frame: 6 × 3</caption>\n",
       "<thead>\n",
       "\t<tr><th></th><th scope=col>network_type</th><th scope=col>degree_values</th><th scope=col>clustering_values</th></tr>\n",
       "\t<tr><th></th><th scope=col>&lt;chr&gt;</th><th scope=col>&lt;dbl&gt;</th><th scope=col>&lt;dbl&gt;</th></tr>\n",
       "</thead>\n",
       "<tbody>\n",
       "\t<tr><th scope=row>1</th><td>rewired_degseq_preserved</td><td> 9</td><td>0.5833333</td></tr>\n",
       "\t<tr><th scope=row>2</th><td>rewired_degseq_preserved</td><td>10</td><td>0.5333333</td></tr>\n",
       "\t<tr><th scope=row>3</th><td>rewired_degseq_preserved</td><td> 6</td><td>0.4666667</td></tr>\n",
       "\t<tr><th scope=row>4</th><td>rewired_degseq_preserved</td><td> 7</td><td>0.6190476</td></tr>\n",
       "\t<tr><th scope=row>5</th><td>rewired_degseq_preserved</td><td>10</td><td>0.5777778</td></tr>\n",
       "\t<tr><th scope=row>6</th><td>rewired_degseq_preserved</td><td> 7</td><td>0.5238095</td></tr>\n",
       "</tbody>\n",
       "</table>\n"
      ],
      "text/latex": [
       "A data.frame: 6 × 3\n",
       "\\begin{tabular}{r|lll}\n",
       "  & network\\_type & degree\\_values & clustering\\_values\\\\\n",
       "  & <chr> & <dbl> & <dbl>\\\\\n",
       "\\hline\n",
       "\t1 & rewired\\_degseq\\_preserved &  9 & 0.5833333\\\\\n",
       "\t2 & rewired\\_degseq\\_preserved & 10 & 0.5333333\\\\\n",
       "\t3 & rewired\\_degseq\\_preserved &  6 & 0.4666667\\\\\n",
       "\t4 & rewired\\_degseq\\_preserved &  7 & 0.6190476\\\\\n",
       "\t5 & rewired\\_degseq\\_preserved & 10 & 0.5777778\\\\\n",
       "\t6 & rewired\\_degseq\\_preserved &  7 & 0.5238095\\\\\n",
       "\\end{tabular}\n"
      ],
      "text/markdown": [
       "\n",
       "A data.frame: 6 × 3\n",
       "\n",
       "| <!--/--> | network_type &lt;chr&gt; | degree_values &lt;dbl&gt; | clustering_values &lt;dbl&gt; |\n",
       "|---|---|---|---|\n",
       "| 1 | rewired_degseq_preserved |  9 | 0.5833333 |\n",
       "| 2 | rewired_degseq_preserved | 10 | 0.5333333 |\n",
       "| 3 | rewired_degseq_preserved |  6 | 0.4666667 |\n",
       "| 4 | rewired_degseq_preserved |  7 | 0.6190476 |\n",
       "| 5 | rewired_degseq_preserved | 10 | 0.5777778 |\n",
       "| 6 | rewired_degseq_preserved |  7 | 0.5238095 |\n",
       "\n"
      ],
      "text/plain": [
       "  network_type             degree_values clustering_values\n",
       "1 rewired_degseq_preserved  9            0.5833333        \n",
       "2 rewired_degseq_preserved 10            0.5333333        \n",
       "3 rewired_degseq_preserved  6            0.4666667        \n",
       "4 rewired_degseq_preserved  7            0.6190476        \n",
       "5 rewired_degseq_preserved 10            0.5777778        \n",
       "6 rewired_degseq_preserved  7            0.5238095        "
      ]
     },
     "metadata": {},
     "output_type": "display_data"
    }
   ],
   "source": [
    "rewired_data <- data.frame(\n",
    "    network_type = c( rep(\"rewired_degseq_preserved\", n)),\n",
    "    degree_values = c(degree(rewired_net)),\n",
    "    clustering_values = c(transitivity(rewired_net,type='local'))\n",
    ")\n",
    "head(rewired_data)"
   ]
  },
  {
   "cell_type": "markdown",
   "metadata": {},
   "source": [
    "And add this dataframe as extra rows to the *network_data* that already contains data for previously discussed networks:"
   ]
  },
  {
   "cell_type": "code",
   "execution_count": 30,
   "metadata": {},
   "outputs": [
    {
     "data": {
      "text/html": [
       "<table>\n",
       "<caption>A data.frame: 6 × 3</caption>\n",
       "<thead>\n",
       "\t<tr><th></th><th scope=col>network_type</th><th scope=col>degree_values</th><th scope=col>clustering_values</th></tr>\n",
       "\t<tr><th></th><th scope=col>&lt;chr&gt;</th><th scope=col>&lt;dbl&gt;</th><th scope=col>&lt;dbl&gt;</th></tr>\n",
       "</thead>\n",
       "<tbody>\n",
       "\t<tr><th scope=row>79</th><td>rewired_degseq_preserved</td><td> 5</td><td>0.6000000</td></tr>\n",
       "\t<tr><th scope=row>80</th><td>rewired_degseq_preserved</td><td>18</td><td>0.3267974</td></tr>\n",
       "\t<tr><th scope=row>81</th><td>rewired_degseq_preserved</td><td> 4</td><td>0.6666667</td></tr>\n",
       "\t<tr><th scope=row>82</th><td>rewired_degseq_preserved</td><td>10</td><td>0.4000000</td></tr>\n",
       "\t<tr><th scope=row>83</th><td>rewired_degseq_preserved</td><td> 5</td><td>0.6000000</td></tr>\n",
       "\t<tr><th scope=row>84</th><td>rewired_degseq_preserved</td><td> 6</td><td>0.4666667</td></tr>\n",
       "</tbody>\n",
       "</table>\n"
      ],
      "text/latex": [
       "A data.frame: 6 × 3\n",
       "\\begin{tabular}{r|lll}\n",
       "  & network\\_type & degree\\_values & clustering\\_values\\\\\n",
       "  & <chr> & <dbl> & <dbl>\\\\\n",
       "\\hline\n",
       "\t79 & rewired\\_degseq\\_preserved &  5 & 0.6000000\\\\\n",
       "\t80 & rewired\\_degseq\\_preserved & 18 & 0.3267974\\\\\n",
       "\t81 & rewired\\_degseq\\_preserved &  4 & 0.6666667\\\\\n",
       "\t82 & rewired\\_degseq\\_preserved & 10 & 0.4000000\\\\\n",
       "\t83 & rewired\\_degseq\\_preserved &  5 & 0.6000000\\\\\n",
       "\t84 & rewired\\_degseq\\_preserved &  6 & 0.4666667\\\\\n",
       "\\end{tabular}\n"
      ],
      "text/markdown": [
       "\n",
       "A data.frame: 6 × 3\n",
       "\n",
       "| <!--/--> | network_type &lt;chr&gt; | degree_values &lt;dbl&gt; | clustering_values &lt;dbl&gt; |\n",
       "|---|---|---|---|\n",
       "| 79 | rewired_degseq_preserved |  5 | 0.6000000 |\n",
       "| 80 | rewired_degseq_preserved | 18 | 0.3267974 |\n",
       "| 81 | rewired_degseq_preserved |  4 | 0.6666667 |\n",
       "| 82 | rewired_degseq_preserved | 10 | 0.4000000 |\n",
       "| 83 | rewired_degseq_preserved |  5 | 0.6000000 |\n",
       "| 84 | rewired_degseq_preserved |  6 | 0.4666667 |\n",
       "\n"
      ],
      "text/plain": [
       "   network_type             degree_values clustering_values\n",
       "79 rewired_degseq_preserved  5            0.6000000        \n",
       "80 rewired_degseq_preserved 18            0.3267974        \n",
       "81 rewired_degseq_preserved  4            0.6666667        \n",
       "82 rewired_degseq_preserved 10            0.4000000        \n",
       "83 rewired_degseq_preserved  5            0.6000000        \n",
       "84 rewired_degseq_preserved  6            0.4666667        "
      ]
     },
     "metadata": {},
     "output_type": "display_data"
    }
   ],
   "source": [
    "network_data <- rbind(network_data,rewired_data)\n",
    "tail(network_data)"
   ]
  },
  {
   "cell_type": "markdown",
   "metadata": {},
   "source": [
    "We can plot degree distributions:"
   ]
  },
  {
   "cell_type": "code",
   "execution_count": 31,
   "metadata": {},
   "outputs": [
    {
     "data": {
      "image/png": "[encoded data removed]",
      "text/plain": [
       "plot without title"
      ]
     },
     "metadata": {
      "image/png": {
       "height": 420,
       "width": 420
      }
     },
     "output_type": "display_data"
    }
   ],
   "source": [
    "max_degree <- max(network_data$degree_values)\n",
    "min_degree <- min(network_data$degree_values)\n",
    "\n",
    "ggplot(network_data, \n",
    "       mapping = aes(x = degree_values, fill = network_type)) +\n",
    "  geom_histogram(binwidth = 1, \n",
    "                 position = position_identity(), \n",
    "                 #position = position_dodge(),\n",
    "                 alpha=0.5) +\n",
    "  scale_x_continuous(breaks = seq(min_degree,max_degree,2)) +\n",
    "  theme_minimal()"
   ]
  },
  {
   "cell_type": "markdown",
   "metadata": {},
   "source": [
    "But as expected, that doesn't reveal anything special as degree sequence is preserved, so the plots of rewired network and original network fully overlap. Let's see if the situation is the same when we plot the clustering coefficient:"
   ]
  },
  {
   "cell_type": "code",
   "execution_count": 32,
   "metadata": {},
   "outputs": [
    {
     "data": {
      "image/png": "[encoded data removed]",
      "text/plain": [
       "plot without title"
      ]
     },
     "metadata": {
      "image/png": {
       "height": 420,
       "width": 420
      }
     },
     "output_type": "display_data"
    }
   ],
   "source": [
    "ggplot(network_data, \n",
    "       mapping = aes(x = clustering_values, fill = network_type)) +\n",
    "  geom_histogram(binwidth = 0.05, \n",
    "                 position = position_identity(), \n",
    "                 #position = position_dodge(),\n",
    "                 alpha=0.5) +\n",
    "  theme_minimal()"
   ]
  },
  {
   "cell_type": "markdown",
   "metadata": {},
   "source": [
    "Now, we see that local transitivities in the rewired network are more similar to those in the original friendship network, but there is still some variability. Let's repeat the process multiple times and see if transitivity can be explained by local variability in degrees:"
   ]
  },
  {
   "cell_type": "code",
   "execution_count": 33,
   "metadata": {},
   "outputs": [],
   "source": [
    "set.seed(seed)\n",
    "number_repetitions = 100\n",
    "degseq = degree(krack_friendship_undirect)\n",
    "\n",
    "random_clustering_rewired = array(0,dim=number_repetitions)\n",
    "for (i in 1:number_repetitions) {\n",
    "    rewired_net = sample_degseq(degseq, method=\"vl\")\n",
    "    random_clustering_rewired[i] = mean(transitivity(rewired_net,type='local'))\n",
    "}"
   ]
  },
  {
   "cell_type": "code",
   "execution_count": 34,
   "metadata": {},
   "outputs": [
    {
     "data": {
      "image/png": "[encoded data removed]",
      "text/plain": [
       "Plot with title \"Histogram of random_clustering_rewired\""
      ]
     },
     "metadata": {
      "image/png": {
       "height": 420,
       "width": 420
      }
     },
     "output_type": "display_data"
    }
   ],
   "source": [
    "hist(random_clustering_rewired,xlim = (0:1))\n",
    "abline(v= mean(transitivity(krack_friendship_undirect,type='local')), col=\"red\")"
   ]
  },
  {
   "cell_type": "code",
   "execution_count": 35,
   "metadata": {},
   "outputs": [
    {
     "data": {
      "text/html": [
       "74"
      ],
      "text/latex": [
       "74"
      ],
      "text/markdown": [
       "74"
      ],
      "text/plain": [
       "[1] 74"
      ]
     },
     "metadata": {},
     "output_type": "display_data"
    }
   ],
   "source": [
    "sum(random_clustering_rewired < mean(transitivity(krack_friendship_undirect,type='local')))"
   ]
  },
  {
   "cell_type": "markdown",
   "metadata": {},
   "source": [
    "We see that more than 70 networks have mean local transitivity than the friendship network. Still it seems that the friendship network's transitivity value is quite probable within the configurational model."
   ]
  },
  {
   "cell_type": "markdown",
   "metadata": {},
   "source": [
    "#### TASK\n",
    "If interested in this topic, you might want to explore properties such as the mean shortest path in friendship (or some other) network and compare with different random networks you can create."
   ]
  },
  {
   "cell_type": "code",
   "execution_count": null,
   "metadata": {},
   "outputs": [],
   "source": []
  }
 ],
 "metadata": {
  "kernelspec": {
   "display_name": "R",
   "language": "R",
   "name": "ir"
  },
  "language_info": {
   "codemirror_mode": "r",
   "file_extension": ".r",
   "mimetype": "text/x-r-source",
   "name": "R",
   "pygments_lexer": "r",
   "version": "4.0.3"
  }
 },
 "nbformat": 4,
 "nbformat_minor": 2
}
